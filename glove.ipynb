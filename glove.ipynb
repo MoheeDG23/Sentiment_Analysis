{
  "nbformat": 4,
  "nbformat_minor": 0,
  "metadata": {
    "colab": {
      "name": "glove.ipynb",
      "provenance": [],
      "collapsed_sections": []
    },
    "kernelspec": {
      "name": "python3",
      "display_name": "Python 3"
    },
    "language_info": {
      "name": "python"
    }
  },
  "cells": [
    {
      "cell_type": "markdown",
      "metadata": {
        "id": "qTZNq4F6P-ud"
      },
      "source": [
        "# Importing Dataset"
      ]
    },
    {
      "cell_type": "code",
      "metadata": {
        "id": "avhgFke8ehEi"
      },
      "source": [
        "import keras\n",
        "\n",
        "from keras.datasets import imdb\n",
        "\n",
        "from keras.layers import LSTM, Activation, Dropout, Dense, Input\n",
        "from keras.layers.embeddings import Embedding\n",
        "\n",
        "from keras.models import Model\n",
        "from keras.preprocessing.text import Tokenizer\n",
        "from keras.preprocessing.sequence import pad_sequences\n",
        "\n",
        "from sklearn.preprocessing import LabelBinarizer\n",
        "from sklearn.model_selection import train_test_split\n",
        "\n",
        "import pandas as pd\n",
        "import numpy as np\n",
        "import string\n",
        "import matplotlib.pyplot as plt\n",
        "import re"
      ],
      "execution_count": 2,
      "outputs": []
    },
    {
      "cell_type": "code",
      "metadata": {
        "colab": {
          "base_uri": "https://localhost:8080/"
        },
        "id": "4NGhYtyUe2cq",
        "outputId": "075b53bb-c112-411d-a4be-7f9262fa7103"
      },
      "source": [
        "from google.colab import drive\n",
        "drive.mount(\"/content/drive\")"
      ],
      "execution_count": 3,
      "outputs": [
        {
          "output_type": "stream",
          "text": [
            "Mounted at /content/drive\n"
          ],
          "name": "stdout"
        }
      ]
    },
    {
      "cell_type": "code",
      "metadata": {
        "id": "29Ak2QQ9ejcj"
      },
      "source": [
        "def load_data():\n",
        "    data_df = pd.read_excel('/content/drive/My Drive/dataset/dataset.xlsx', engine='openpyxl')\n",
        "    data_df.to_csv('output_reviews_top.csv')\n",
        "    return data_df\n",
        "data = load_data()\n",
        "# data = pd.read_excel('/content/drive/My Drive/dataset/dataset.xlsx', engine='openpyxl')\n",
        "\n",
        "data['Text'] = data['Text'].str.lower()\n",
        "top_data_df = pd.read_csv('output_reviews_top.csv')"
      ],
      "execution_count": 4,
      "outputs": []
    },
    {
      "cell_type": "code",
      "metadata": {
        "colab": {
          "base_uri": "https://localhost:8080/"
        },
        "id": "PmiU6T5ozyzw",
        "outputId": "8afe1ff6-756f-477d-d2d0-a3fddd94cd21"
      },
      "source": [
        "print(\"Number of rows per star rating:\")\n",
        "print(top_data_df['Sentiment'].value_counts())"
      ],
      "execution_count": 5,
      "outputs": [
        {
          "output_type": "stream",
          "text": [
            "Number of rows per star rating:\n",
            "NEG    1000\n",
            "POS     999\n",
            "Name: Sentiment, dtype: int64\n"
          ],
          "name": "stdout"
        }
      ]
    },
    {
      "cell_type": "code",
      "metadata": {
        "colab": {
          "base_uri": "https://localhost:8080/",
          "height": 295
        },
        "id": "uZz_vgWRzy1_",
        "outputId": "28b68e4b-b937-4b1e-ccbc-12b1a1a35d1e"
      },
      "source": [
        "# Function to map stars to sentiment\n",
        "def map_sentiment(sentiment):\n",
        "    if sentiment == 'NEG':\n",
        "        return -1\n",
        "    else:\n",
        "        return 1\n",
        "# Mapping stars to sentiment into three categories\n",
        "top_data_df['Sentiment_value'] = [map_sentiment(x) for x in top_data_df['Sentiment']]\n",
        "# Plotting the sentiment distribution\n",
        "plt.figure()\n",
        "pd.value_counts(top_data_df['Sentiment_value']).plot.bar(title=\"Sentiment distribution in df\")\n",
        "plt.xlabel(\"Sentiment\")\n",
        "plt.ylabel(\"No. of rows in df\")\n",
        "plt.show()\n",
        "\n"
      ],
      "execution_count": 6,
      "outputs": [
        {
          "output_type": "display_data",
          "data": {
            "image/png": "[encoded data removed]",
            "text/plain": [
              "<Figure size 432x288 with 1 Axes>"
            ]
          },
          "metadata": {
            "tags": [],
            "needs_background": "light"
          }
        }
      ]
    },
    {
      "cell_type": "markdown",
      "metadata": {
        "id": "j9oSckMR0Rzh"
      },
      "source": [
        "\n",
        "## Selecting equal number of positive and negative reviews for training:\n"
      ]
    },
    {
      "cell_type": "code",
      "metadata": {
        "id": "ay1qAjdJ0Xwo"
      },
      "source": [
        "# Function to retrieve top few number of each category\n",
        "def get_top_data(top_n):\n",
        "    top_data_df_positive = top_data_df[top_data_df['Sentiment_value'] == 1].head(top_n)\n",
        "    top_data_df_negative = top_data_df[top_data_df['Sentiment_value'] == -1].head(top_n)\n",
        "    top_data_df_small = pd.concat([top_data_df_positive, top_data_df_negative])\n",
        "    return top_data_df_small"
      ],
      "execution_count": 7,
      "outputs": []
    },
    {
      "cell_type": "code",
      "metadata": {
        "colab": {
          "base_uri": "https://localhost:8080/"
        },
        "id": "cXFzcSQs0ZMX",
        "outputId": "17bc3772-3824-43f8-faa5-723281358b42"
      },
      "source": [
        "top_data_df_small = get_top_data(999)\n",
        "print(\"After segregating and taking equal number of rows for each sentiment:\")\n",
        "print(top_data_df_small['Sentiment_value'].value_counts())"
      ],
      "execution_count": 8,
      "outputs": [
        {
          "output_type": "stream",
          "text": [
            "After segregating and taking equal number of rows for each sentiment:\n",
            " 1    999\n",
            "-1    999\n",
            "Name: Sentiment_value, dtype: int64\n"
          ],
          "name": "stdout"
        }
      ]
    },
    {
      "cell_type": "code",
      "metadata": {
        "colab": {
          "base_uri": "https://localhost:8080/",
          "height": 359
        },
        "id": "Jz4F7rDz0cUQ",
        "outputId": "a2adae6b-efe4-4c53-d564-6b8f0f656a46"
      },
      "source": [
        "top_data_df_small.head(10)"
      ],
      "execution_count": 9,
      "outputs": [
        {
          "output_type": "execute_result",
          "data": {
            "text/html": [
              "<div>\n",
              "<style scoped>\n",
              "    .dataframe tbody tr th:only-of-type {\n",
              "        vertical-align: middle;\n",
              "    }\n",
              "\n",
              "    .dataframe tbody tr th {\n",
              "        vertical-align: top;\n",
              "    }\n",
              "\n",
              "    .dataframe thead th {\n",
              "        text-align: right;\n",
              "    }\n",
              "</style>\n",
              "<table border=\"1\" class=\"dataframe\">\n",
              "  <thead>\n",
              "    <tr style=\"text-align: right;\">\n",
              "      <th></th>\n",
              "      <th>Unnamed: 0</th>\n",
              "      <th>URL</th>\n",
              "      <th>Text</th>\n",
              "      <th>Sentiment</th>\n",
              "      <th>Sentiment_value</th>\n",
              "    </tr>\n",
              "  </thead>\n",
              "  <tbody>\n",
              "    <tr>\n",
              "      <th>0</th>\n",
              "      <td>0</td>\n",
              "      <td>http://www.imdb.com/title/tt0210075/usercomments</td>\n",
              "      <td>Girlfight follows a project dwelling New York ...</td>\n",
              "      <td>POS</td>\n",
              "      <td>1</td>\n",
              "    </tr>\n",
              "    <tr>\n",
              "      <th>1</th>\n",
              "      <td>1</td>\n",
              "      <td>http://www.imdb.com/title/tt0337640/usercomments</td>\n",
              "      <td>Hollywood North is an euphemism from the movie...</td>\n",
              "      <td>POS</td>\n",
              "      <td>1</td>\n",
              "    </tr>\n",
              "    <tr>\n",
              "      <th>2</th>\n",
              "      <td>2</td>\n",
              "      <td>http://www.imdb.com/title/tt0303549/usercomments</td>\n",
              "      <td>That '70s Show is definitely the funniest show...</td>\n",
              "      <td>POS</td>\n",
              "      <td>1</td>\n",
              "    </tr>\n",
              "    <tr>\n",
              "      <th>3</th>\n",
              "      <td>3</td>\n",
              "      <td>http://www.imdb.com/title/tt0716825/usercomments</td>\n",
              "      <td>9/10- 30 minutes of pure holiday terror. Okay,...</td>\n",
              "      <td>POS</td>\n",
              "      <td>1</td>\n",
              "    </tr>\n",
              "    <tr>\n",
              "      <th>4</th>\n",
              "      <td>4</td>\n",
              "      <td>http://www.imdb.com/title/tt0182225/usercomments</td>\n",
              "      <td>A series of random, seemingly insignificant th...</td>\n",
              "      <td>POS</td>\n",
              "      <td>1</td>\n",
              "    </tr>\n",
              "    <tr>\n",
              "      <th>5</th>\n",
              "      <td>5</td>\n",
              "      <td>http://www.imdb.com/title/tt0347779/usercomments</td>\n",
              "      <td>A very good adaptation of the novel by amrita ...</td>\n",
              "      <td>POS</td>\n",
              "      <td>1</td>\n",
              "    </tr>\n",
              "    <tr>\n",
              "      <th>6</th>\n",
              "      <td>6</td>\n",
              "      <td>http://www.imdb.com/title/tt0095655/usercomments</td>\n",
              "      <td>Ah, Moonwalker, I'm a huge Michael Jackson fan...</td>\n",
              "      <td>POS</td>\n",
              "      <td>1</td>\n",
              "    </tr>\n",
              "    <tr>\n",
              "      <th>7</th>\n",
              "      <td>7</td>\n",
              "      <td>http://www.imdb.com/title/tt0298131/usercomments</td>\n",
              "      <td>Although the beginning of the movie in New Yor...</td>\n",
              "      <td>POS</td>\n",
              "      <td>1</td>\n",
              "    </tr>\n",
              "    <tr>\n",
              "      <th>8</th>\n",
              "      <td>8</td>\n",
              "      <td>http://www.imdb.com/title/tt0088915/usercomments</td>\n",
              "      <td>As many reviewers here have noted, the film ve...</td>\n",
              "      <td>POS</td>\n",
              "      <td>1</td>\n",
              "    </tr>\n",
              "    <tr>\n",
              "      <th>9</th>\n",
              "      <td>9</td>\n",
              "      <td>http://www.imdb.com/title/tt0828154/usercomments</td>\n",
              "      <td>Bear in mind, any film (let alone documentary)...</td>\n",
              "      <td>POS</td>\n",
              "      <td>1</td>\n",
              "    </tr>\n",
              "  </tbody>\n",
              "</table>\n",
              "</div>"
            ],
            "text/plain": [
              "   Unnamed: 0  ... Sentiment_value\n",
              "0           0  ...               1\n",
              "1           1  ...               1\n",
              "2           2  ...               1\n",
              "3           3  ...               1\n",
              "4           4  ...               1\n",
              "5           5  ...               1\n",
              "6           6  ...               1\n",
              "7           7  ...               1\n",
              "8           8  ...               1\n",
              "9           9  ...               1\n",
              "\n",
              "[10 rows x 5 columns]"
            ]
          },
          "metadata": {
            "tags": []
          },
          "execution_count": 9
        }
      ]
    },
    {
      "cell_type": "markdown",
      "metadata": {
        "id": "lSzCu4dAQMeB"
      },
      "source": [
        "# Dataset cleaning and analysing"
      ]
    },
    {
      "cell_type": "code",
      "metadata": {
        "id": "tJx-rX2rfI3u"
      },
      "source": [
        "stopwords = [ \"a\", \"about\", \"above\", \"after\", \"again\", \"against\", \"all\", \"am\", \"an\", \"and\", \"any\", \"are\", \"as\", \"at\", \"be\", \"because\", \n",
        "             \"been\", \"before\", \"being\", \"below\", \"between\", \"both\", \"but\", \"by\", \"could\", \"did\", \"do\", \"does\", \"doing\", \"down\", \"during\",\n",
        "             \"each\", \"few\", \"for\", \"from\", \"further\", \"had\", \"has\", \"have\", \"having\", \"he\", \"he'd\", \"he'll\", \"he's\", \"her\", \"here\", \n",
        "             \"here's\", \"hers\", \"herself\", \"him\", \"himself\", \"his\", \"how\", \"how's\", \"i\", \"i'd\", \"i'll\", \"i'm\", \"i've\", \"if\", \"in\", \"into\",\n",
        "             \"is\", \"it\", \"it's\", \"its\", \"itself\", \"let's\", \"me\", \"more\", \"most\", \"my\", \"myself\", \"nor\", \"of\", \"on\", \"once\", \"only\", \"or\",\n",
        "             \"other\", \"ought\", \"our\", \"ours\", \"ourselves\", \"out\", \"over\", \"own\", \"same\", \"she\", \"she'd\", \"she'll\", \"she's\", \"should\", \n",
        "             \"so\", \"some\", \"such\", \"than\", \"that\", \"that's\", \"the\", \"their\", \"theirs\", \"them\", \"themselves\", \"then\", \"there\", \"there's\",\n",
        "             \"these\", \"they\", \"they'd\", \"they'll\", \"they're\", \"they've\", \"this\", \"those\", \"through\", \"to\", \"too\", \"under\", \"until\", \"up\",\n",
        "             \"very\", \"was\", \"we\", \"we'd\", \"we'll\", \"we're\", \"we've\", \"were\", \"what\", \"what's\", \"when\", \"when's\", \"where\", \"where's\",\n",
        "             \"which\", \"while\", \"who\", \"who's\", \"whom\", \"why\", \"why's\", \"with\", \"would\", \"you\", \"you'd\", \"you'll\", \"you're\", \"you've\",\n",
        "             \"your\", \"yours\", \"yourself\", \"yourselves\" ]"
      ],
      "execution_count": 10,
      "outputs": []
    },
    {
      "cell_type": "code",
      "metadata": {
        "id": "VL5fXA9cfMwX"
      },
      "source": [
        "def remove_stopwords(data):\n",
        "  data['review without stopwords'] = data['Text'].apply(lambda x : ' '.join([word for word in x.split() if word not in (stopwords)]))\n",
        "  return data\n",
        "\n",
        "def remove_tags(string):\n",
        "    result = re.sub('<.*?>','',string)\n",
        "    return result\n",
        "    \n",
        "data_without_stopwords = remove_stopwords(data)\n",
        "data_without_stopwords['clean_review']= data_without_stopwords['review without stopwords'].apply(lambda cw : remove_tags(cw))\n",
        "data_without_stopwords['clean_review'] = data_without_stopwords['clean_review'].str.replace('[{}]'.format(string.punctuation), ' ')"
      ],
      "execution_count": 11,
      "outputs": []
    },
    {
      "cell_type": "code",
      "metadata": {
        "colab": {
          "base_uri": "https://localhost:8080/",
          "height": 204
        },
        "id": "oudl0eDWftJd",
        "outputId": "7789add0-ca49-40b1-b2fb-42a06f1d9d87"
      },
      "source": [
        "data_without_stopwords.head()"
      ],
      "execution_count": 12,
      "outputs": [
        {
          "output_type": "execute_result",
          "data": {
            "text/html": [
              "<div>\n",
              "<style scoped>\n",
              "    .dataframe tbody tr th:only-of-type {\n",
              "        vertical-align: middle;\n",
              "    }\n",
              "\n",
              "    .dataframe tbody tr th {\n",
              "        vertical-align: top;\n",
              "    }\n",
              "\n",
              "    .dataframe thead th {\n",
              "        text-align: right;\n",
              "    }\n",
              "</style>\n",
              "<table border=\"1\" class=\"dataframe\">\n",
              "  <thead>\n",
              "    <tr style=\"text-align: right;\">\n",
              "      <th></th>\n",
              "      <th>URL</th>\n",
              "      <th>Text</th>\n",
              "      <th>Sentiment</th>\n",
              "      <th>review without stopwords</th>\n",
              "      <th>clean_review</th>\n",
              "    </tr>\n",
              "  </thead>\n",
              "  <tbody>\n",
              "    <tr>\n",
              "      <th>0</th>\n",
              "      <td>http://www.imdb.com/title/tt0210075/usercomments</td>\n",
              "      <td>girlfight follows a project dwelling new york ...</td>\n",
              "      <td>POS</td>\n",
              "      <td>girlfight follows project dwelling new york hi...</td>\n",
              "      <td>girlfight follows project dwelling new york hi...</td>\n",
              "    </tr>\n",
              "    <tr>\n",
              "      <th>1</th>\n",
              "      <td>http://www.imdb.com/title/tt0337640/usercomments</td>\n",
              "      <td>hollywood north is an euphemism from the movie...</td>\n",
              "      <td>POS</td>\n",
              "      <td>hollywood north euphemism movie industry went ...</td>\n",
              "      <td>hollywood north euphemism movie industry went ...</td>\n",
              "    </tr>\n",
              "    <tr>\n",
              "      <th>2</th>\n",
              "      <td>http://www.imdb.com/title/tt0303549/usercomments</td>\n",
              "      <td>that '70s show is definitely the funniest show...</td>\n",
              "      <td>POS</td>\n",
              "      <td>'70s show definitely funniest show currently t...</td>\n",
              "      <td>70s show definitely funniest show currently t...</td>\n",
              "    </tr>\n",
              "    <tr>\n",
              "      <th>3</th>\n",
              "      <td>http://www.imdb.com/title/tt0716825/usercomments</td>\n",
              "      <td>9/10- 30 minutes of pure holiday terror. okay,...</td>\n",
              "      <td>POS</td>\n",
              "      <td>9/10- 30 minutes pure holiday terror. okay, no...</td>\n",
              "      <td>9 10  30 minutes pure holiday terror  okay  no...</td>\n",
              "    </tr>\n",
              "    <tr>\n",
              "      <th>4</th>\n",
              "      <td>http://www.imdb.com/title/tt0182225/usercomments</td>\n",
              "      <td>a series of random, seemingly insignificant th...</td>\n",
              "      <td>POS</td>\n",
              "      <td>series random, seemingly insignificant thefts ...</td>\n",
              "      <td>series random  seemingly insignificant thefts ...</td>\n",
              "    </tr>\n",
              "  </tbody>\n",
              "</table>\n",
              "</div>"
            ],
            "text/plain": [
              "                                                URL  ...                                       clean_review\n",
              "0  http://www.imdb.com/title/tt0210075/usercomments  ...  girlfight follows project dwelling new york hi...\n",
              "1  http://www.imdb.com/title/tt0337640/usercomments  ...  hollywood north euphemism movie industry went ...\n",
              "2  http://www.imdb.com/title/tt0303549/usercomments  ...   70s show definitely funniest show currently t...\n",
              "3  http://www.imdb.com/title/tt0716825/usercomments  ...  9 10  30 minutes pure holiday terror  okay  no...\n",
              "4  http://www.imdb.com/title/tt0182225/usercomments  ...  series random  seemingly insignificant thefts ...\n",
              "\n",
              "[5 rows x 5 columns]"
            ]
          },
          "metadata": {
            "tags": []
          },
          "execution_count": 12
        }
      ]
    },
    {
      "cell_type": "code",
      "metadata": {
        "id": "RZah_hsvfZKP"
      },
      "source": [
        "reviews_list = []\n",
        "for i in range(len(data_without_stopwords['clean_review'])):\n",
        "  reviews_list.append(data_without_stopwords['clean_review'][i])\n",
        " \n",
        "sentiment = data_without_stopwords['Sentiment']"
      ],
      "execution_count": 13,
      "outputs": []
    },
    {
      "cell_type": "code",
      "metadata": {
        "id": "6OlKdW-TR6ZU"
      },
      "source": [
        "y = np.array(list(map(lambda x: 1 if x==\"POS\" else 0, sentiment)))"
      ],
      "execution_count": 14,
      "outputs": []
    },
    {
      "cell_type": "markdown",
      "metadata": {
        "id": "Crg7mwhnR_Wz"
      },
      "source": [
        "### Data split"
      ]
    },
    {
      "cell_type": "code",
      "metadata": {
        "id": "S9B2LohAgl4k"
      },
      "source": [
        "X_train, X_test,Y_train, Y_test = train_test_split(reviews_list, y, test_size=0.2, random_state = 45)"
      ],
      "execution_count": 15,
      "outputs": []
    },
    {
      "cell_type": "markdown",
      "metadata": {
        "id": "jpEOD86bSB_Y"
      },
      "source": [
        "### Data Tokenization"
      ]
    },
    {
      "cell_type": "code",
      "metadata": {
        "id": "8IeQmFRwgqI8"
      },
      "source": [
        "tokenizer = Tokenizer(num_words=5000)\n",
        "tokenizer.fit_on_texts(X_train)\n",
        "\n",
        "words_to_index = tokenizer.word_index\n",
        "#type(words_to_index)"
      ],
      "execution_count": 16,
      "outputs": []
    },
    {
      "cell_type": "markdown",
      "metadata": {
        "id": "isPi5LYDSXGr"
      },
      "source": [
        "# Making Global Vector Map"
      ]
    },
    {
      "cell_type": "code",
      "metadata": {
        "id": "wYrnkzA-g2if"
      },
      "source": [
        "def read_glove_vector(glove_vec):\n",
        "  with open(glove_vec, 'r', encoding='UTF-8') as f:\n",
        "    words = set()\n",
        "    word_to_vec_map = {}\n",
        "    for line in f:\n",
        "      w_line = line.split()\n",
        "      curr_word = w_line[0]\n",
        "      word_to_vec_map[curr_word] = np.array(w_line[1:], dtype=np.float64)\n",
        "  return word_to_vec_map"
      ],
      "execution_count": 17,
      "outputs": []
    },
    {
      "cell_type": "markdown",
      "metadata": {
        "id": "LlwtMOkouiKZ"
      },
      "source": [
        "Download and mount the file glove.6B.50d.txt\n",
        "\n",
        "https://www.kaggle.com/watts2/glove6b50dtxt\n",
        " \n",
        "https://nlp.stanford.edu/projects/glove/\n"
      ]
    },
    {
      "cell_type": "code",
      "metadata": {
        "id": "dwnyzSlwu6Eb"
      },
      "source": [
        "# !unzip '/content/drive/My Drive/dataset/glove.6B.50d.txt.zip' -d '/content/drive/My Drive/dataset/'"
      ],
      "execution_count": 18,
      "outputs": []
    },
    {
      "cell_type": "code",
      "metadata": {
        "id": "Av9P7mU_g9kB"
      },
      "source": [
        "word_to_vec_map = read_glove_vector('/content/drive/My Drive/dataset/glove.6B.50d.txt')\n",
        "maxLen = 150"
      ],
      "execution_count": 19,
      "outputs": []
    },
    {
      "cell_type": "code",
      "metadata": {
        "id": "_uLsjb2pz2BX"
      },
      "source": [
        "vocab_len = len(words_to_index)\n",
        "embed_vector_len = word_to_vec_map['moon'].shape[0]\n",
        "\n",
        "emb_matrix = np.zeros((vocab_len, embed_vector_len))\n",
        "\n",
        "for word, index in words_to_index.items():\n",
        "  embedding_vector = word_to_vec_map.get(word)\n",
        "  if embedding_vector is not None:\n",
        "    emb_matrix[index - 1, :] = embedding_vector\n",
        "\n",
        "embedding_layer = Embedding(input_dim=vocab_len, output_dim=embed_vector_len, input_length=maxLen, weights = [emb_matrix], trainable=False)"
      ],
      "execution_count": 20,
      "outputs": []
    },
    {
      "cell_type": "markdown",
      "metadata": {
        "id": "u4EykN1tUECO"
      },
      "source": [
        "### Defining Model"
      ]
    },
    {
      "cell_type": "code",
      "metadata": {
        "id": "uwEC4-pH1i5g"
      },
      "source": [
        "X_train_indices = tokenizer.texts_to_sequences(X_train)\n",
        "X_train_indices = pad_sequences(X_train_indices, maxlen=maxLen, padding='post')"
      ],
      "execution_count": 21,
      "outputs": []
    },
    {
      "cell_type": "code",
      "metadata": {
        "id": "7aEkYD8B8HZS"
      },
      "source": [
        "X_test_indices = tokenizer.texts_to_sequences(X_test)\n",
        "X_test_indices = pad_sequences(X_test_indices, maxlen=maxLen, padding='post')"
      ],
      "execution_count": 22,
      "outputs": []
    },
    {
      "cell_type": "code",
      "metadata": {
        "id": "8G1BRSsla1RY"
      },
      "source": [
        "## Helper Functions\n",
        "\n",
        "from sklearn.metrics import accuracy_score, confusion_matrix, classification_report\n",
        "from sklearn.metrics import precision_score\n",
        "from sklearn.metrics import recall_score\n",
        "from sklearn.metrics import accuracy_score\n",
        "import pickle\n",
        "\n",
        "def generate_report(pred_list, custom_model, model_name,y_test):\n",
        "  print(f'Confusion Matrix:\\n{confusion_matrix(y_test,pred_list)}')\n",
        "  print(f'\\nClassification Report:\\n{classification_report(y_test,pred_list)}')\n",
        "  acc = accuracy_score(y_test, pred_list) * 100\n",
        "  print(f'Accuracy: {acc}%')\n",
        "  prec = precision_score(y_test, pred_list, average='macro') * 100\n",
        "  print(f'Precision: {prec}%')\n",
        "  rec = recall_score(y_test, pred_list, average='macro') * 100\n",
        "  print(f'Recall: {rec}%')\n",
        "  pickle.dump(custom_model, open(model_name + '.sav', 'wb'))\n",
        "  print(model_name + ' trained Model Saved')\n",
        "  return acc, prec, rec"
      ],
      "execution_count": 23,
      "outputs": []
    },
    {
      "cell_type": "markdown",
      "metadata": {
        "id": "nPn-gx6sdAF5"
      },
      "source": [
        "\n",
        "## Bernoulli Naïve Bayes (BNB)\n"
      ]
    },
    {
      "cell_type": "code",
      "metadata": {
        "id": "SUbqypskU70P"
      },
      "source": [
        "from sklearn.naive_bayes import BernoulliNB\n",
        "classifier = BernoulliNB()\n",
        "classifier.fit(X_train_indices,Y_train)\n",
        "BNBpred=classifier.predict(X_test_indices)"
      ],
      "execution_count": 24,
      "outputs": []
    },
    {
      "cell_type": "code",
      "metadata": {
        "colab": {
          "base_uri": "https://localhost:8080/"
        },
        "id": "3-rpC8BnU728",
        "outputId": "54b1716b-e9e0-4038-a0b9-235cae1267a4"
      },
      "source": [
        "bnb_metrics = [None, None, None]\n",
        "bnb_metrics[0], bnb_metrics[1], bnb_metrics[2] = generate_report(BNBpred, classifier, 'BernoulliNB_model',Y_test)"
      ],
      "execution_count": 25,
      "outputs": [
        {
          "output_type": "stream",
          "text": [
            "Confusion Matrix:\n",
            "[[ 96  91]\n",
            " [109 104]]\n",
            "\n",
            "Classification Report:\n",
            "              precision    recall  f1-score   support\n",
            "\n",
            "           0       0.47      0.51      0.49       187\n",
            "           1       0.53      0.49      0.51       213\n",
            "\n",
            "    accuracy                           0.50       400\n",
            "   macro avg       0.50      0.50      0.50       400\n",
            "weighted avg       0.50      0.50      0.50       400\n",
            "\n",
            "Accuracy: 50.0%\n",
            "Precision: 50.081300813008134%\n",
            "Recall: 50.08159473776706%\n",
            "BernoulliNB_model trained Model Saved\n"
          ],
          "name": "stdout"
        }
      ]
    },
    {
      "cell_type": "markdown",
      "metadata": {
        "id": "BaYTqlCOdYpH"
      },
      "source": [
        "\n",
        "## Multinomial Naïve Bayes (MNB)\n"
      ]
    },
    {
      "cell_type": "code",
      "metadata": {
        "id": "tCUGwgh7U75x"
      },
      "source": [
        "from sklearn.naive_bayes import MultinomialNB"
      ],
      "execution_count": 26,
      "outputs": []
    },
    {
      "cell_type": "code",
      "metadata": {
        "id": "1AGHc8g5U78u"
      },
      "source": [
        "classifier = MultinomialNB()\n",
        "\n",
        "#train the model\n",
        "classifier.fit(X_train_indices,Y_train)\n",
        "MNBpred=classifier.predict(X_test_indices)"
      ],
      "execution_count": 27,
      "outputs": []
    },
    {
      "cell_type": "code",
      "metadata": {
        "colab": {
          "base_uri": "https://localhost:8080/"
        },
        "id": "sng-giaDU7_s",
        "outputId": "7dbf9b04-7a4f-40dd-bdb7-f00e1f4a469d"
      },
      "source": [
        "mnb_metrics = [None, None, None]\n",
        "mnb_metrics[0], mnb_metrics[1], mnb_metrics[2] = generate_report(MNBpred, classifier, 'MultinomialNB_model',Y_test)\n",
        "\n"
      ],
      "execution_count": 28,
      "outputs": [
        {
          "output_type": "stream",
          "text": [
            "Confusion Matrix:\n",
            "[[ 83 104]\n",
            " [ 92 121]]\n",
            "\n",
            "Classification Report:\n",
            "              precision    recall  f1-score   support\n",
            "\n",
            "           0       0.47      0.44      0.46       187\n",
            "           1       0.54      0.57      0.55       213\n",
            "\n",
            "    accuracy                           0.51       400\n",
            "   macro avg       0.51      0.51      0.51       400\n",
            "weighted avg       0.51      0.51      0.51       400\n",
            "\n",
            "Accuracy: 51.0%\n",
            "Precision: 50.60317460317461%\n",
            "Recall: 50.59626923752856%\n",
            "MultinomialNB_model trained Model Saved\n"
          ],
          "name": "stdout"
        }
      ]
    },
    {
      "cell_type": "markdown",
      "metadata": {
        "id": "cmF4bU7heeaV"
      },
      "source": [
        "\n",
        "## Maximum Entropy (ME)\n"
      ]
    },
    {
      "cell_type": "code",
      "metadata": {
        "id": "frXdHU6zU8C_"
      },
      "source": [
        "from sklearn.linear_model import LogisticRegression"
      ],
      "execution_count": 29,
      "outputs": []
    },
    {
      "cell_type": "code",
      "metadata": {
        "colab": {
          "base_uri": "https://localhost:8080/"
        },
        "id": "T5n3mcScU8GO",
        "outputId": "bd8adeaa-a3aa-47af-9a1e-0704038ee5e3"
      },
      "source": [
        "classifier = LogisticRegression()\n",
        "\n",
        "# Train the Model\n",
        "classifier.fit(X_train_indices,Y_train)   \n",
        "LRpred = classifier.predict(X_test_indices)\n",
        "\n",
        "lr_metrics = [None, None, None]\n",
        "lr_metrics[0], lr_metrics[1], lr_metrics[2] = generate_report(LRpred, classifier, 'LinearRegression_model',Y_test)\n",
        "\n"
      ],
      "execution_count": 30,
      "outputs": [
        {
          "output_type": "stream",
          "text": [
            "Confusion Matrix:\n",
            "[[ 94  93]\n",
            " [ 96 117]]\n",
            "\n",
            "Classification Report:\n",
            "              precision    recall  f1-score   support\n",
            "\n",
            "           0       0.49      0.50      0.50       187\n",
            "           1       0.56      0.55      0.55       213\n",
            "\n",
            "    accuracy                           0.53       400\n",
            "   macro avg       0.53      0.53      0.53       400\n",
            "weighted avg       0.53      0.53      0.53       400\n",
            "\n",
            "Accuracy: 52.75%\n",
            "Precision: 52.59398496240601%\n",
            "Recall: 52.59847857196655%\n",
            "LinearRegression_model trained Model Saved\n"
          ],
          "name": "stdout"
        }
      ]
    },
    {
      "cell_type": "markdown",
      "metadata": {
        "id": "Ac6kN1cgfEdM"
      },
      "source": [
        "\n",
        "## Decision Tree (DE)\n"
      ]
    },
    {
      "cell_type": "code",
      "metadata": {
        "id": "P0jNbtqyU8I-"
      },
      "source": [
        "from sklearn.tree import DecisionTreeClassifier\n",
        "from sklearn.model_selection import cross_val_score\n"
      ],
      "execution_count": 31,
      "outputs": []
    },
    {
      "cell_type": "code",
      "metadata": {
        "colab": {
          "base_uri": "https://localhost:8080/"
        },
        "id": "cX3junW9fLRk",
        "outputId": "7ff4d8ae-a489-40dc-92e0-6abd391c9a62"
      },
      "source": [
        "dt_clf = DecisionTreeClassifier()\n",
        "\n",
        "# Train the Model\n",
        "dt_clf.fit(X_train_indices,Y_train)   \n",
        "dt_pred = dt_clf.predict(X_test_indices)\n",
        "\n",
        "dt_metrics = [None, None, None]\n",
        "dt_metrics[0], dt_metrics[1], dt_metrics[2] = generate_report(dt_pred, dt_clf, 'DecisionTree_model',Y_test)\n",
        "\n"
      ],
      "execution_count": 32,
      "outputs": [
        {
          "output_type": "stream",
          "text": [
            "Confusion Matrix:\n",
            "[[ 94  93]\n",
            " [ 97 116]]\n",
            "\n",
            "Classification Report:\n",
            "              precision    recall  f1-score   support\n",
            "\n",
            "           0       0.49      0.50      0.50       187\n",
            "           1       0.56      0.54      0.55       213\n",
            "\n",
            "    accuracy                           0.53       400\n",
            "   macro avg       0.52      0.52      0.52       400\n",
            "weighted avg       0.53      0.53      0.53       400\n",
            "\n",
            "Accuracy: 52.5%\n",
            "Precision: 52.35852601518074%\n",
            "Recall: 52.36373678792901%\n",
            "DecisionTree_model trained Model Saved\n"
          ],
          "name": "stdout"
        }
      ]
    },
    {
      "cell_type": "markdown",
      "metadata": {
        "id": "Vp4DydoOfkYg"
      },
      "source": [
        "## Support Vector Machine (SVM)\n"
      ]
    },
    {
      "cell_type": "code",
      "metadata": {
        "id": "psMhtltUfLT4"
      },
      "source": [
        "from sklearn.svm import SVC\n",
        "from sklearn import svm\n"
      ],
      "execution_count": 33,
      "outputs": []
    },
    {
      "cell_type": "code",
      "metadata": {
        "id": "gRteWC42fLWf",
        "colab": {
          "base_uri": "https://localhost:8080/"
        },
        "outputId": "0bbe8a31-7dd5-4a7e-eb46-46be575c7902"
      },
      "source": [
        "%%time\n",
        "SVMclassifier = svm.SVC(kernel='rbf')\n",
        "SVMclassifier.fit(X_train_indices,Y_train)\n",
        "SVMpred = SVMclassifier.predict(X_test_indices)"
      ],
      "execution_count": 34,
      "outputs": [
        {
          "output_type": "stream",
          "text": [
            "CPU times: user 831 ms, sys: 17.2 ms, total: 848 ms\n",
            "Wall time: 856 ms\n"
          ],
          "name": "stdout"
        }
      ]
    },
    {
      "cell_type": "code",
      "metadata": {
        "id": "wNw4h6frfrAM",
        "colab": {
          "base_uri": "https://localhost:8080/"
        },
        "outputId": "5593ae7e-7c80-4e16-c16a-ea0fc8b9b07c"
      },
      "source": [
        "svm_metrics = [None, None, None]\n",
        "svm_metrics[0], svm_metrics[1], svm_metrics[2] = generate_report(SVMpred, SVMclassifier, 'SVM_model',Y_test)"
      ],
      "execution_count": 35,
      "outputs": [
        {
          "output_type": "stream",
          "text": [
            "Confusion Matrix:\n",
            "[[123  64]\n",
            " [113 100]]\n",
            "\n",
            "Classification Report:\n",
            "              precision    recall  f1-score   support\n",
            "\n",
            "           0       0.52      0.66      0.58       187\n",
            "           1       0.61      0.47      0.53       213\n",
            "\n",
            "    accuracy                           0.56       400\n",
            "   macro avg       0.57      0.56      0.56       400\n",
            "weighted avg       0.57      0.56      0.55       400\n",
            "\n",
            "Accuracy: 55.75%\n",
            "Precision: 56.54712691194709%\n",
            "Recall: 56.36187893851523%\n",
            "SVM_model trained Model Saved\n"
          ],
          "name": "stdout"
        }
      ]
    },
    {
      "cell_type": "markdown",
      "metadata": {
        "id": "eaAgPvxNrzsn"
      },
      "source": [
        "\n",
        "## Results comparision plots and tables\n"
      ]
    },
    {
      "cell_type": "code",
      "metadata": {
        "id": "sFbcz-faTFhb",
        "colab": {
          "base_uri": "https://localhost:8080/"
        },
        "outputId": "a61110a8-db6e-41eb-e824-7e0dd2d5f6b6"
      },
      "source": [
        "from tabulate import tabulate\n",
        "table = [['Model Name', 'Accuracy', 'Precision', 'Recall'], \n",
        "         ['Multinomial Naïve Bayes', mnb_metrics[0], mnb_metrics[1], mnb_metrics[2]], \n",
        "         ['Bernoulli Naïve Bayes', bnb_metrics[0], bnb_metrics[1], bnb_metrics[2]],\n",
        "         ['Support Vector Machine', svm_metrics[0], svm_metrics[1], svm_metrics[2]],\n",
        "         ['Maximum Entropy', lr_metrics[0], lr_metrics[1], lr_metrics[2]],\n",
        "         ['Decision Tree', dt_metrics[0], dt_metrics[1], dt_metrics[2]]]\n",
        "\n",
        "print(tabulate(table, headers='firstrow', tablefmt='fancy_grid'))"
      ],
      "execution_count": 36,
      "outputs": [
        {
          "output_type": "stream",
          "text": [
            "╒═════════════════════════╤════════════╤═════════════╤══════════╕\n",
            "│ Model Name              │   Accuracy │   Precision │   Recall │\n",
            "╞═════════════════════════╪════════════╪═════════════╪══════════╡\n",
            "│ Multinomial Naïve Bayes │      51    │     50.6032 │  50.5963 │\n",
            "├─────────────────────────┼────────────┼─────────────┼──────────┤\n",
            "│ Bernoulli Naïve Bayes   │      50    │     50.0813 │  50.0816 │\n",
            "├─────────────────────────┼────────────┼─────────────┼──────────┤\n",
            "│ Support Vector Machine  │      55.75 │     56.5471 │  56.3619 │\n",
            "├─────────────────────────┼────────────┼─────────────┼──────────┤\n",
            "│ Maximum Entropy         │      52.75 │     52.594  │  52.5985 │\n",
            "├─────────────────────────┼────────────┼─────────────┼──────────┤\n",
            "│ Decision Tree           │      52.5  │     52.3585 │  52.3637 │\n",
            "╘═════════════════════════╧════════════╧═════════════╧══════════╛\n"
          ],
          "name": "stdout"
        }
      ]
    },
    {
      "cell_type": "code",
      "metadata": {
        "id": "v_Mvrk61rb2V",
        "colab": {
          "base_uri": "https://localhost:8080/",
          "height": 346
        },
        "outputId": "fcc11290-b720-4b87-8690-73ae5ae21e0c"
      },
      "source": [
        "  \n",
        "N = 5\n",
        "ind = np.arange(N) \n",
        "width = 0.25\n",
        "  \n",
        "acc = [mnb_metrics[0], bnb_metrics[0], svm_metrics[0], lr_metrics[0], dt_metrics[0]]\n",
        "bar1 = plt.bar(ind, acc, width)\n",
        "  \n",
        "prec = [mnb_metrics[1], bnb_metrics[1], svm_metrics[1], lr_metrics[1], dt_metrics[1]]\n",
        "bar2 = plt.bar(ind+width, prec, width)\n",
        "  \n",
        "recall = [mnb_metrics[2], bnb_metrics[2], svm_metrics[2], lr_metrics[2], dt_metrics[2]]\n",
        "bar3 = plt.bar(ind+width*2, recall, width)\n",
        "  \n",
        "# plt.xlabel(\"Dates\")\n",
        "plt.ylabel(\"Percentage\")\n",
        "plt.title(\"Comparison\")\n",
        "  \n",
        "plt.xticks(ind+width,['Multinomial NB','Bernoulli NB','SVM','Logistic Regression', 'Decision Tree'])\n",
        "plt.xticks(rotation = 45)\n",
        "plt.legend( (bar1, bar2, bar3), ('Accuracy', 'Precision', 'Recall'), bbox_to_anchor = (1.05, 0.6))\n",
        "plt.show()\n",
        "\n"
      ],
      "execution_count": 37,
      "outputs": [
        {
          "output_type": "display_data",
          "data": {
            "image/png": "[encoded data removed]",
            "text/plain": [
              "<Figure size 432x288 with 1 Axes>"
            ]
          },
          "metadata": {
            "tags": [],
            "needs_background": "light"
          }
        }
      ]
    },
    {
      "cell_type": "code",
      "metadata": {
        "colab": {
          "base_uri": "https://localhost:8080/",
          "height": 346
        },
        "id": "R1VQAq8K_voi",
        "outputId": "9babb4e9-1549-44b8-e6c0-c37864196145"
      },
      "source": [
        "import matplotlib.pyplot as plt\n",
        "models = ['Multinomial NB','Bernoulli NB','SVM','Logistic Regression', 'Decision Tree']\n",
        "recall = [mnb_metrics[2], bnb_metrics[2], svm_metrics[2], lr_metrics[2], dt_metrics[2]]\n",
        "precision = [mnb_metrics[1], bnb_metrics[1], svm_metrics[1], lr_metrics[1], dt_metrics[1]]\n",
        "line_chart1 = plt.plot(models, recall, 'o-g')\n",
        "line_chart2 = plt.plot(models, precision, 'o-y')\n",
        "plt.title('Recall vs Precision')\n",
        "plt.ylabel('Score')\n",
        "plt.xticks(rotation = 45)\n",
        "plt.legend(['Recall', 'Precision'], bbox_to_anchor = (1.3, 0.6))\n",
        "plt.show()"
      ],
      "execution_count": 38,
      "outputs": [
        {
          "output_type": "display_data",
          "data": {
            "image/png": "[encoded data removed]",
            "text/plain": [
              "<Figure size 432x288 with 1 Axes>"
            ]
          },
          "metadata": {
            "tags": [],
            "needs_background": "light"
          }
        }
      ]
    }
  ]
}