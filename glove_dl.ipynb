{
  "nbformat": 4,
  "nbformat_minor": 0,
  "metadata": {
    "colab": {
      "name": "glove_dl.ipynb",
      "provenance": [],
      "collapsed_sections": [
        "iq9qOwg5KdaH",
        "oXitblIcv8QT",
        "rdEiP82M8dt4",
        "UlnGravi5miL"
      ]
    },
    "kernelspec": {
      "name": "python3",
      "display_name": "Python 3"
    },
    "language_info": {
      "name": "python"
    }
  },
  "cells": [
    {
      "cell_type": "code",
      "metadata": {
        "id": "Avd7lq5pA_QY"
      },
      "source": [
        "import numpy as np \n",
        "import pandas as pd\n",
        "import os\n",
        "\n",
        "from sklearn.feature_extraction.text import CountVectorizer\n",
        "from sklearn.metrics import confusion_matrix, accuracy_score\n",
        "from sklearn.model_selection import train_test_split\n",
        "\n",
        "from keras.preprocessing.text import Tokenizer\n",
        "from keras.preprocessing.sequence import pad_sequences\n",
        "from keras.initializers import Constant\n",
        "from keras.models import Model\n",
        "from keras.layers import *\n",
        "from keras.utils.np_utils import to_categorical\n",
        "import re\n",
        "\n",
        "import matplotlib.pyplot as plt\n",
        "%matplotlib inline"
      ],
      "execution_count": null,
      "outputs": []
    },
    {
      "cell_type": "code",
      "metadata": {
        "colab": {
          "base_uri": "https://localhost:8080/"
        },
        "id": "N0_MOZTzBhnJ",
        "outputId": "994ed89e-09f4-4dee-d5d1-13d7c2315477"
      },
      "source": [
        "from google.colab import drive\n",
        "drive.mount(\"/content/drive\")"
      ],
      "execution_count": null,
      "outputs": [
        {
          "output_type": "stream",
          "text": [
            "Drive already mounted at /content/drive; to attempt to forcibly remount, call drive.mount(\"/content/drive\", force_remount=True).\n"
          ],
          "name": "stdout"
        }
      ]
    },
    {
      "cell_type": "code",
      "metadata": {
        "colab": {
          "base_uri": "https://localhost:8080/"
        },
        "id": "niVz-N9ewqao",
        "outputId": "7cade392-1781-4d99-9a84-e500bf6c7688"
      },
      "source": [
        "!ls '/content/drive/My Drive/dataset/'"
      ],
      "execution_count": null,
      "outputs": [
        {
          "output_type": "stream",
          "text": [
            "archive.zip  assignment3  assignment5  dataset.xlsx  glove.6B.50d.txt\n"
          ],
          "name": "stdout"
        }
      ]
    },
    {
      "cell_type": "code",
      "metadata": {
        "colab": {
          "base_uri": "https://localhost:8080/",
          "height": 199
        },
        "id": "f7PsRh9OBf2B",
        "outputId": "282dcd5c-395e-4746-8687-a00c1818dc69"
      },
      "source": [
        "df = pd.read_excel('/content/drive/My Drive/dataset/dataset.xlsx', engine='openpyxl')\n",
        "df.head()"
      ],
      "execution_count": null,
      "outputs": [
        {
          "output_type": "execute_result",
          "data": {
            "text/html": [
              "<div>\n",
              "<style scoped>\n",
              "    .dataframe tbody tr th:only-of-type {\n",
              "        vertical-align: middle;\n",
              "    }\n",
              "\n",
              "    .dataframe tbody tr th {\n",
              "        vertical-align: top;\n",
              "    }\n",
              "\n",
              "    .dataframe thead th {\n",
              "        text-align: right;\n",
              "    }\n",
              "</style>\n",
              "<table border=\"1\" class=\"dataframe\">\n",
              "  <thead>\n",
              "    <tr style=\"text-align: right;\">\n",
              "      <th></th>\n",
              "      <th>URL</th>\n",
              "      <th>Text</th>\n",
              "      <th>Sentiment</th>\n",
              "    </tr>\n",
              "  </thead>\n",
              "  <tbody>\n",
              "    <tr>\n",
              "      <th>0</th>\n",
              "      <td>http://www.imdb.com/title/tt0210075/usercomments</td>\n",
              "      <td>Girlfight follows a project dwelling New York ...</td>\n",
              "      <td>POS</td>\n",
              "    </tr>\n",
              "    <tr>\n",
              "      <th>1</th>\n",
              "      <td>http://www.imdb.com/title/tt0337640/usercomments</td>\n",
              "      <td>Hollywood North is an euphemism from the movie...</td>\n",
              "      <td>POS</td>\n",
              "    </tr>\n",
              "    <tr>\n",
              "      <th>2</th>\n",
              "      <td>http://www.imdb.com/title/tt0303549/usercomments</td>\n",
              "      <td>That '70s Show is definitely the funniest show...</td>\n",
              "      <td>POS</td>\n",
              "    </tr>\n",
              "    <tr>\n",
              "      <th>3</th>\n",
              "      <td>http://www.imdb.com/title/tt0716825/usercomments</td>\n",
              "      <td>9/10- 30 minutes of pure holiday terror. Okay,...</td>\n",
              "      <td>POS</td>\n",
              "    </tr>\n",
              "    <tr>\n",
              "      <th>4</th>\n",
              "      <td>http://www.imdb.com/title/tt0182225/usercomments</td>\n",
              "      <td>A series of random, seemingly insignificant th...</td>\n",
              "      <td>POS</td>\n",
              "    </tr>\n",
              "  </tbody>\n",
              "</table>\n",
              "</div>"
            ],
            "text/plain": [
              "                                                URL  ... Sentiment\n",
              "0  http://www.imdb.com/title/tt0210075/usercomments  ...       POS\n",
              "1  http://www.imdb.com/title/tt0337640/usercomments  ...       POS\n",
              "2  http://www.imdb.com/title/tt0303549/usercomments  ...       POS\n",
              "3  http://www.imdb.com/title/tt0716825/usercomments  ...       POS\n",
              "4  http://www.imdb.com/title/tt0182225/usercomments  ...       POS\n",
              "\n",
              "[5 rows x 3 columns]"
            ]
          },
          "metadata": {
            "tags": []
          },
          "execution_count": 4
        }
      ]
    },
    {
      "cell_type": "code",
      "metadata": {
        "colab": {
          "base_uri": "https://localhost:8080/"
        },
        "id": "e0gc5y8ACeNb",
        "outputId": "404bd603-5768-4f17-e692-b305121f293a"
      },
      "source": [
        "type(df)"
      ],
      "execution_count": null,
      "outputs": [
        {
          "output_type": "execute_result",
          "data": {
            "text/plain": [
              "pandas.core.frame.DataFrame"
            ]
          },
          "metadata": {
            "tags": []
          },
          "execution_count": 5
        }
      ]
    },
    {
      "cell_type": "code",
      "metadata": {
        "colab": {
          "base_uri": "https://localhost:8080/",
          "height": 217
        },
        "id": "pSfkgl-JCpCw",
        "outputId": "3d44ce8a-9d96-48a8-8a55-e5eed216bad3"
      },
      "source": [
        "pd.set_option('display.max_colwidth', -1)\n",
        "df.head(1)"
      ],
      "execution_count": null,
      "outputs": [
        {
          "output_type": "stream",
          "text": [
            "/usr/local/lib/python3.7/dist-packages/ipykernel_launcher.py:1: FutureWarning: Passing a negative integer is deprecated in version 1.0 and will not be supported in future version. Instead, use None to not limit the column width.\n",
            "  \"\"\"Entry point for launching an IPython kernel.\n"
          ],
          "name": "stderr"
        },
        {
          "output_type": "execute_result",
          "data": {
            "text/html": [
              "<div>\n",
              "<style scoped>\n",
              "    .dataframe tbody tr th:only-of-type {\n",
              "        vertical-align: middle;\n",
              "    }\n",
              "\n",
              "    .dataframe tbody tr th {\n",
              "        vertical-align: top;\n",
              "    }\n",
              "\n",
              "    .dataframe thead th {\n",
              "        text-align: right;\n",
              "    }\n",
              "</style>\n",
              "<table border=\"1\" class=\"dataframe\">\n",
              "  <thead>\n",
              "    <tr style=\"text-align: right;\">\n",
              "      <th></th>\n",
              "      <th>URL</th>\n",
              "      <th>Text</th>\n",
              "      <th>Sentiment</th>\n",
              "    </tr>\n",
              "  </thead>\n",
              "  <tbody>\n",
              "    <tr>\n",
              "      <th>0</th>\n",
              "      <td>http://www.imdb.com/title/tt0210075/usercomments</td>\n",
              "      <td>Girlfight follows a project dwelling New York high school girl from a sense of futility into the world of amateur boxing where she finds self esteem, purpose, and much more. Although the film is not about boxing, boxing is all about the film. So much so you can almost smell the sweat. Technically and artistically a good shoot with an sense of honesty and reality about it, Girlfight is no chick flick and no Rocky. It is, rather, a very human drama which even viewers who don't know boxing will be able to connect with.Girlfight follows a project dwelling New York high school girl from a sense of futility into the world of amateur boxing where she finds self esteem, purpose, and much more.</td>\n",
              "      <td>POS</td>\n",
              "    </tr>\n",
              "  </tbody>\n",
              "</table>\n",
              "</div>"
            ],
            "text/plain": [
              "                                                URL  ... Sentiment\n",
              "0  http://www.imdb.com/title/tt0210075/usercomments  ...  POS     \n",
              "\n",
              "[1 rows x 3 columns]"
            ]
          },
          "metadata": {
            "tags": []
          },
          "execution_count": 6
        }
      ]
    },
    {
      "cell_type": "markdown",
      "metadata": {
        "id": "LlZZtuNADUHb"
      },
      "source": [
        "### Removing urls from the reviews:"
      ]
    },
    {
      "cell_type": "code",
      "metadata": {
        "id": "Njh7xslSCuhw"
      },
      "source": [
        "def clean_str(in_str):\n",
        "    in_str = str(in_str)\n",
        "    # replace urls with 'url'\n",
        "    in_str = re.sub(r\"(https?:\\/\\/(?:www\\.|(?!www))[a-zA-Z0-9][a-zA-Z0-9-]+[a-zA-Z0-9]\\.[^\\s]{2,}|www\\.[a-zA-Z0-9][a-zA-Z0-9-]+[a-zA-Z0-9]\\.[^\\s]{2,}|https?:\\/\\/(?:www\\.|(?!www))[a-zA-Z0-9]\\.[^\\s]{2,}|www\\.[a-zA-Z0-9]\\.[^\\s]{2,})\", \"url\", in_str)\n",
        "    in_str = re.sub(r'([^\\s\\w]|_)+', '', in_str)\n",
        "    return in_str.strip().lower()"
      ],
      "execution_count": null,
      "outputs": []
    },
    {
      "cell_type": "code",
      "metadata": {
        "id": "ghh5NpzJC2m8"
      },
      "source": [
        "df['text'] = df['Text'].apply(clean_str)"
      ],
      "execution_count": null,
      "outputs": []
    },
    {
      "cell_type": "code",
      "metadata": {
        "colab": {
          "base_uri": "https://localhost:8080/",
          "height": 282
        },
        "id": "UZZZ-AYeC62k",
        "outputId": "212768b9-362d-42fe-8fe0-8e32795f693d"
      },
      "source": [
        "df.head(1)"
      ],
      "execution_count": null,
      "outputs": [
        {
          "output_type": "execute_result",
          "data": {
            "text/html": [
              "<div>\n",
              "<style scoped>\n",
              "    .dataframe tbody tr th:only-of-type {\n",
              "        vertical-align: middle;\n",
              "    }\n",
              "\n",
              "    .dataframe tbody tr th {\n",
              "        vertical-align: top;\n",
              "    }\n",
              "\n",
              "    .dataframe thead th {\n",
              "        text-align: right;\n",
              "    }\n",
              "</style>\n",
              "<table border=\"1\" class=\"dataframe\">\n",
              "  <thead>\n",
              "    <tr style=\"text-align: right;\">\n",
              "      <th></th>\n",
              "      <th>URL</th>\n",
              "      <th>Text</th>\n",
              "      <th>Sentiment</th>\n",
              "      <th>text</th>\n",
              "    </tr>\n",
              "  </thead>\n",
              "  <tbody>\n",
              "    <tr>\n",
              "      <th>0</th>\n",
              "      <td>http://www.imdb.com/title/tt0210075/usercomments</td>\n",
              "      <td>Girlfight follows a project dwelling New York high school girl from a sense of futility into the world of amateur boxing where she finds self esteem, purpose, and much more. Although the film is not about boxing, boxing is all about the film. So much so you can almost smell the sweat. Technically and artistically a good shoot with an sense of honesty and reality about it, Girlfight is no chick flick and no Rocky. It is, rather, a very human drama which even viewers who don't know boxing will be able to connect with.Girlfight follows a project dwelling New York high school girl from a sense of futility into the world of amateur boxing where she finds self esteem, purpose, and much more.</td>\n",
              "      <td>POS</td>\n",
              "      <td>girlfight follows a project dwelling new york high school girl from a sense of futility into the world of amateur boxing where she finds self esteem purpose and much more although the film is not about boxing boxing is all about the film so much so you can almost smell the sweat technically and artistically a good shoot with an sense of honesty and reality about it girlfight is no chick flick and no rocky it is rather a very human drama which even viewers who dont know boxing will be able to connect withgirlfight follows a project dwelling new york high school girl from a sense of futility into the world of amateur boxing where she finds self esteem purpose and much more</td>\n",
              "    </tr>\n",
              "  </tbody>\n",
              "</table>\n",
              "</div>"
            ],
            "text/plain": [
              "                                                URL  ...                                                                                                                                                                                                                                                                                                                                                                                                                                                                                                                                                                                                                                                                                                     text\n",
              "0  http://www.imdb.com/title/tt0210075/usercomments  ...  girlfight follows a project dwelling new york high school girl from a sense of futility into the world of amateur boxing where she finds self esteem purpose and much more although the film is not about boxing boxing is all about the film so much so you can almost smell the sweat technically and artistically a good shoot with an sense of honesty and reality about it girlfight is no chick flick and no rocky it is rather a very human drama which even viewers who dont know boxing will be able to connect withgirlfight follows a project dwelling new york high school girl from a sense of futility into the world of amateur boxing where she finds self esteem purpose and much more\n",
              "\n",
              "[1 rows x 4 columns]"
            ]
          },
          "metadata": {
            "tags": []
          },
          "execution_count": 9
        }
      ]
    },
    {
      "cell_type": "code",
      "metadata": {
        "colab": {
          "base_uri": "https://localhost:8080/"
        },
        "id": "NVvS8MNcDDeC",
        "outputId": "a6220e70-2421-4329-a4d1-3d95a4b04aab"
      },
      "source": [
        "df.Sentiment.value_counts()"
      ],
      "execution_count": null,
      "outputs": [
        {
          "output_type": "execute_result",
          "data": {
            "text/plain": [
              "NEG    1000\n",
              "POS    999 \n",
              "Name: Sentiment, dtype: int64"
            ]
          },
          "metadata": {
            "tags": []
          },
          "execution_count": 10
        }
      ]
    },
    {
      "cell_type": "code",
      "metadata": {
        "id": "nQFQncTwDQYD"
      },
      "source": [
        "df_0 = df[df['Sentiment'] == 'POS'].sample(frac=1)\n",
        "df_1 = df[df['Sentiment'] == 'NEG'].sample(frac=1)\n",
        "\n",
        "# we want a balanced set for training against - there are 7072 `0` examples\n",
        "sample_size = 999\n",
        "\n",
        "data = pd.concat([df_0.head(sample_size), df_1.head(sample_size)]).sample(frac=1)"
      ],
      "execution_count": null,
      "outputs": []
    },
    {
      "cell_type": "code",
      "metadata": {
        "colab": {
          "base_uri": "https://localhost:8080/"
        },
        "id": "rCcLl4CvELgf",
        "outputId": "0f86f31d-e640-4fe7-cf76-1dbbd8140114"
      },
      "source": [
        "data.Sentiment.value_counts()"
      ],
      "execution_count": null,
      "outputs": [
        {
          "output_type": "execute_result",
          "data": {
            "text/plain": [
              "POS    999\n",
              "NEG    999\n",
              "Name: Sentiment, dtype: int64"
            ]
          },
          "metadata": {
            "tags": []
          },
          "execution_count": 12
        }
      ]
    },
    {
      "cell_type": "code",
      "metadata": {
        "colab": {
          "base_uri": "https://localhost:8080/"
        },
        "id": "YEh3aT-gEIYN",
        "outputId": "10bf5a59-dd15-4834-be78-ef30a8d9f550"
      },
      "source": [
        "data['l'] = data['text'].apply(lambda x: len(str(x).split(' ')))\n",
        "print(\"mean length of sentence: \" + str(data.l.mean()))\n",
        "print(\"max length of sentence: \" + str(data.l.max()))\n",
        "print(\"std dev length of sentence: \" + str(data.l.std()))"
      ],
      "execution_count": null,
      "outputs": [
        {
          "output_type": "stream",
          "text": [
            "mean length of sentence: 258.6126126126126\n",
            "max length of sentence: 1843\n",
            "std dev length of sentence: 180.55756320777132\n"
          ],
          "name": "stdout"
        }
      ]
    },
    {
      "cell_type": "code",
      "metadata": {
        "id": "ooMx0mseETo0"
      },
      "source": [
        "sequence_length = 260 # On an average each review has around 260 words"
      ],
      "execution_count": null,
      "outputs": []
    },
    {
      "cell_type": "code",
      "metadata": {
        "colab": {
          "base_uri": "https://localhost:8080/"
        },
        "id": "XDgTGc6EEWzM",
        "outputId": "79c80436-4dd5-467a-c459-7348f1812c5b"
      },
      "source": [
        "max_features = 25000 # this is the number of words we care about\n",
        "\n",
        "tokenizer = Tokenizer(num_words=max_features, split=' ', oov_token='<unw>')\n",
        "tokenizer.fit_on_texts(df['text'].values)\n",
        "\n",
        "# this takes our sentences and replaces each word with an integer\n",
        "X = tokenizer.texts_to_sequences(df['text'].values)\n",
        "\n",
        "# we then pad the sequences so they're all the same length (sequence_length)\n",
        "X = pad_sequences(X, sequence_length)\n",
        "\n",
        "y = pd.get_dummies(df['Sentiment']).values\n",
        "\n",
        "X_train, X_test, y_train, y_test = train_test_split(X, y, test_size=0.3)\n",
        "\n",
        "print(\"test set size \" + str(len(X_test)))"
      ],
      "execution_count": null,
      "outputs": [
        {
          "output_type": "stream",
          "text": [
            "test set size 600\n"
          ],
          "name": "stdout"
        }
      ]
    },
    {
      "cell_type": "markdown",
      "metadata": {
        "id": "q217EP_wlcCE"
      },
      "source": [
        "### Glove embedding:"
      ]
    },
    {
      "cell_type": "code",
      "metadata": {
        "colab": {
          "base_uri": "https://localhost:8080/"
        },
        "id": "sgaRSIJywBrd",
        "outputId": "d60b1df5-a759-439b-c2b4-a9836049d878"
      },
      "source": [
        "embeddings_index = {}\n",
        "f = open('/content/drive/My Drive/dataset/glove.6B.50d.txt')\n",
        "for line in f:\n",
        "    values = line.split()\n",
        "    word = values[0]\n",
        "    coefs = np.asarray(values[1:], dtype='float32')\n",
        "    embeddings_index[word] = coefs\n",
        "f.close()\n",
        "print('Found %s word vectors.' % len(embeddings_index))"
      ],
      "execution_count": null,
      "outputs": [
        {
          "output_type": "stream",
          "text": [
            "Found 400000 word vectors.\n"
          ],
          "name": "stdout"
        }
      ]
    },
    {
      "cell_type": "code",
      "metadata": {
        "colab": {
          "base_uri": "https://localhost:8080/"
        },
        "id": "O7VJU6P1xXLm",
        "outputId": "ec59c714-72ba-4040-950a-b3177c90e6a8"
      },
      "source": [
        "word_index = tokenizer.word_index\n",
        "print('Found %s unique tokens.' % len(word_index))"
      ],
      "execution_count": null,
      "outputs": [
        {
          "output_type": "stream",
          "text": [
            "Found 34724 unique tokens.\n"
          ],
          "name": "stdout"
        }
      ]
    },
    {
      "cell_type": "code",
      "metadata": {
        "colab": {
          "base_uri": "https://localhost:8080/"
        },
        "id": "B-uq4bw5yDCi",
        "outputId": "2523fe09-732f-4f4a-f3d3-53d0019d16fe"
      },
      "source": [
        "num_words = min(max_features, len(word_index)) + 1\n",
        "print(num_words)\n",
        "non_exist_word_count=0\n",
        "embedding_dim = 50 #Can try 50/100/200\n",
        "\n",
        "# first create a matrix of zeros, this is our embedding matrix\n",
        "embedding_matrix = np.zeros((num_words, embedding_dim))\n",
        "\n",
        "# for each word in our tokenizer lets try to find that work in our w2v model\n",
        "for word, i in word_index.items():\n",
        "    if i > max_features:\n",
        "        continue\n",
        "    embedding_vector = embeddings_index.get(word)\n",
        "    if embedding_vector is not None:\n",
        "        # we found the word - add that words vector to the matrix\n",
        "        embedding_matrix[i] = embedding_vector\n",
        "    else:\n",
        "        non_exist_word_count=non_exist_word_count+1     \n",
        "        # doesn't exist, assign a random vector\n",
        "        embedding_matrix[i] = np.random.randn(embedding_dim)\n",
        "print('Count for non exist words in dict :',non_exist_word_count)"
      ],
      "execution_count": null,
      "outputs": [
        {
          "output_type": "stream",
          "text": [
            "25001\n",
            "Count for non exist words in dict : 5489\n"
          ],
          "name": "stdout"
        }
      ]
    },
    {
      "cell_type": "markdown",
      "metadata": {
        "id": "rdEiP82M8dt4"
      },
      "source": [
        "### CNN"
      ]
    },
    {
      "cell_type": "code",
      "metadata": {
        "id": "bUYGjVOeybH6"
      },
      "source": [
        "from tensorflow.python.keras import regularizers\n",
        "\n",
        "num_filters = 50\n",
        "inputs_2 = Input(shape=(sequence_length,), dtype='int32')\n",
        "embedding_layer_2 = Embedding(num_words,\n",
        "                            embedding_dim,\n",
        "                            embeddings_initializer=Constant(embedding_matrix),\n",
        "                            input_length=sequence_length,\n",
        "                            trainable=False)(inputs_2)\n",
        "reshape_2 = Reshape((sequence_length, embedding_dim, 1))(embedding_layer_2)\n",
        "conv_0_2 = Conv2D(num_filters, kernel_size=(3, embedding_dim), activation='relu', kernel_regularizer=regularizers.l2(1e-5))(reshape_2)\n",
        "maxpool_0_2 = MaxPool2D(pool_size=(sequence_length - 3 + 1, 1), strides=(1,1), padding='valid')(conv_0_2)\n",
        "flatten_2 = Flatten()(maxpool_0_2)\n",
        "dropout_2 = Dropout(0.5)(flatten_2)\n",
        "output_2 = Dense(units=2, activation='softmax')(dropout_2)"
      ],
      "execution_count": null,
      "outputs": []
    },
    {
      "cell_type": "code",
      "metadata": {
        "id": "ieVaE3fH2kK5",
        "colab": {
          "base_uri": "https://localhost:8080/"
        },
        "outputId": "f66310a1-72f2-41f1-8827-3b573425c49c"
      },
      "source": [
        "model_2 = Model(inputs=inputs_2, outputs=output_2)\n",
        "model_2.compile(loss='categorical_crossentropy', optimizer='adam', metrics=['accuracy'])\n",
        "print(model_2.summary())"
      ],
      "execution_count": null,
      "outputs": [
        {
          "output_type": "stream",
          "text": [
            "Model: \"model\"\n",
            "_________________________________________________________________\n",
            "Layer (type)                 Output Shape              Param #   \n",
            "=================================================================\n",
            "input_1 (InputLayer)         [(None, 260)]             0         \n",
            "_________________________________________________________________\n",
            "embedding (Embedding)        (None, 260, 50)           1250050   \n",
            "_________________________________________________________________\n",
            "reshape (Reshape)            (None, 260, 50, 1)        0         \n",
            "_________________________________________________________________\n",
            "conv2d (Conv2D)              (None, 258, 1, 50)        7550      \n",
            "_________________________________________________________________\n",
            "max_pooling2d (MaxPooling2D) (None, 1, 1, 50)          0         \n",
            "_________________________________________________________________\n",
            "flatten (Flatten)            (None, 50)                0         \n",
            "_________________________________________________________________\n",
            "dropout (Dropout)            (None, 50)                0         \n",
            "_________________________________________________________________\n",
            "dense (Dense)                (None, 2)                 102       \n",
            "=================================================================\n",
            "Total params: 1,257,702\n",
            "Trainable params: 7,652\n",
            "Non-trainable params: 1,250,050\n",
            "_________________________________________________________________\n",
            "None\n"
          ],
          "name": "stdout"
        }
      ]
    },
    {
      "cell_type": "code",
      "metadata": {
        "id": "2u6vbegb2olf",
        "colab": {
          "base_uri": "https://localhost:8080/"
        },
        "outputId": "8eda13ce-7f50-4e3f-b1c2-d000775b0b45"
      },
      "source": [
        "batch_size = 32\n",
        "history_2 = model_2.fit(X_train, y_train, epochs=8, batch_size=batch_size, verbose=1, validation_split=0.1, shuffle=True)"
      ],
      "execution_count": null,
      "outputs": [
        {
          "output_type": "stream",
          "text": [
            "Epoch 1/8\n",
            "40/40 [==============================] - 2s 40ms/step - loss: 0.5836 - accuracy: 0.6864 - val_loss: 0.3175 - val_accuracy: 0.9214\n",
            "Epoch 2/8\n",
            "40/40 [==============================] - 1s 21ms/step - loss: 0.2882 - accuracy: 0.9072 - val_loss: 0.2777 - val_accuracy: 0.9214\n",
            "Epoch 3/8\n",
            "40/40 [==============================] - 1s 22ms/step - loss: 0.3161 - accuracy: 0.9022 - val_loss: 0.2830 - val_accuracy: 0.9214\n",
            "Epoch 4/8\n",
            "40/40 [==============================] - 1s 22ms/step - loss: 0.2661 - accuracy: 0.9151 - val_loss: 0.2724 - val_accuracy: 0.9214\n",
            "Epoch 5/8\n",
            "40/40 [==============================] - 1s 22ms/step - loss: 0.2796 - accuracy: 0.8999 - val_loss: 0.2632 - val_accuracy: 0.9214\n",
            "Epoch 6/8\n",
            "40/40 [==============================] - 1s 22ms/step - loss: 0.2259 - accuracy: 0.9368 - val_loss: 0.2555 - val_accuracy: 0.9214\n",
            "Epoch 7/8\n",
            "40/40 [==============================] - 1s 22ms/step - loss: 0.2297 - accuracy: 0.9246 - val_loss: 0.2710 - val_accuracy: 0.9214\n",
            "Epoch 8/8\n",
            "40/40 [==============================] - 1s 22ms/step - loss: 0.1989 - accuracy: 0.9383 - val_loss: 0.2576 - val_accuracy: 0.9214\n"
          ],
          "name": "stdout"
        }
      ]
    },
    {
      "cell_type": "code",
      "metadata": {
        "id": "ovpm3RPV20v5",
        "colab": {
          "base_uri": "https://localhost:8080/",
          "height": 573
        },
        "outputId": "daf88862-031d-4a8e-8307-78392667ef1a"
      },
      "source": [
        "plt.plot(history_2.history['accuracy'])\n",
        "plt.plot(history_2.history['val_accuracy'])\n",
        "plt.title('model accuracy')\n",
        "plt.ylabel('accuracy')\n",
        "plt.xlabel('epoch')\n",
        "plt.legend(['train', 'validation'], loc='upper left')\n",
        "plt.show()\n",
        "\n",
        "plt.plot(history_2.history['loss'])\n",
        "plt.plot(history_2.history['val_loss'])\n",
        "plt.title('model loss')\n",
        "plt.ylabel('loss')\n",
        "plt.xlabel('epoch')\n",
        "plt.legend(['train', 'validation'], loc='upper left')\n",
        "plt.show()"
      ],
      "execution_count": null,
      "outputs": [
        {
          "output_type": "display_data",
          "data": {
            "image/png": "[encoded data removed]",
            "text/plain": [
              "<Figure size 432x288 with 1 Axes>"
            ]
          },
          "metadata": {
            "tags": [],
            "needs_background": "light"
          }
        },
        {
          "output_type": "display_data",
          "data": {
            "image/png": "[encoded data removed]",
            "text/plain": [
              "<Figure size 432x288 with 1 Axes>"
            ]
          },
          "metadata": {
            "tags": [],
            "needs_background": "light"
          }
        }
      ]
    },
    {
      "cell_type": "code",
      "metadata": {
        "id": "HmX6MEEi28pO"
      },
      "source": [
        "y_hat_2 = model_2.predict(X_test)"
      ],
      "execution_count": null,
      "outputs": []
    },
    {
      "cell_type": "code",
      "metadata": {
        "id": "3yHqZLp_3APS",
        "colab": {
          "base_uri": "https://localhost:8080/"
        },
        "outputId": "8a4dac9d-8f4c-475d-a8a6-bef419a778c9"
      },
      "source": [
        "accuracy_score(list(map(lambda x: np.argmax(x), y_test)), list(map(lambda x: np.argmax(x), y_hat_2)))"
      ],
      "execution_count": null,
      "outputs": [
        {
          "output_type": "execute_result",
          "data": {
            "text/plain": [
              "0.9366666666666666"
            ]
          },
          "metadata": {
            "tags": []
          },
          "execution_count": 26
        }
      ]
    },
    {
      "cell_type": "code",
      "metadata": {
        "id": "9EebDHoY3EMK",
        "colab": {
          "base_uri": "https://localhost:8080/"
        },
        "outputId": "b4121e72-8d77-437f-a831-d9525b84462d"
      },
      "source": [
        "confusion_matrix(list(map(lambda x: np.argmax(x), y_test)), list(map(lambda x: np.argmax(x), y_hat_2)))"
      ],
      "execution_count": null,
      "outputs": [
        {
          "output_type": "execute_result",
          "data": {
            "text/plain": [
              "array([[298,   8],\n",
              "       [ 30, 264]])"
            ]
          },
          "metadata": {
            "tags": []
          },
          "execution_count": 27
        }
      ]
    },
    {
      "cell_type": "code",
      "metadata": {
        "id": "EKia4ZjYjp-0"
      },
      "source": [
        "## Helper Function\n",
        "\n",
        "from sklearn.metrics import accuracy_score, confusion_matrix, classification_report\n",
        "from sklearn.metrics import precision_score\n",
        "from sklearn.metrics import recall_score\n",
        "from sklearn.metrics import accuracy_score\n",
        "import pickle\n",
        "\n",
        "def generate_report(pred_list, custom_model, model_name,y_test):\n",
        "  print(f'Confusion Matrix:\\n{confusion_matrix(y_test, pred_list)}')\n",
        "  print(f'\\nClassification Report:\\n{classification_report(y_test,pred_list)}')\n",
        "  acc = accuracy_score(y_test, pred_list) * 100\n",
        "  print(f'Accuracy: {acc}%')\n",
        "  prec = precision_score(y_test, pred_list, average='macro') * 100\n",
        "  print(f'Precision: {prec}%')\n",
        "  rec = recall_score(y_test, pred_list, average='macro') * 100\n",
        "  print(f'Recall: {rec}%')\n",
        "  # pickle.dump(custom_model, open(model_name + '.sav', 'wb'))\n",
        "  print(model_name + ' trained')\n",
        "  return acc, prec, rec"
      ],
      "execution_count": null,
      "outputs": []
    },
    {
      "cell_type": "code",
      "metadata": {
        "colab": {
          "base_uri": "https://localhost:8080/"
        },
        "id": "1goWUp4lj844",
        "outputId": "09728953-e240-4cc6-9394-c558c648604d"
      },
      "source": [
        "cnn_metrics = [None, None, None]\n",
        "cnn_metrics[0], cnn_metrics[1], cnn_metrics[2] = generate_report(y_hat_2.argmax(axis=1), model_2, 'CNN_model',y_test.argmax(axis=1))"
      ],
      "execution_count": null,
      "outputs": [
        {
          "output_type": "stream",
          "text": [
            "Confusion Matrix:\n",
            "[[298   8]\n",
            " [ 30 264]]\n",
            "\n",
            "Classification Report:\n",
            "              precision    recall  f1-score   support\n",
            "\n",
            "           0       0.91      0.97      0.94       306\n",
            "           1       0.97      0.90      0.93       294\n",
            "\n",
            "    accuracy                           0.94       600\n",
            "   macro avg       0.94      0.94      0.94       600\n",
            "weighted avg       0.94      0.94      0.94       600\n",
            "\n",
            "Accuracy: 93.66666666666667%\n",
            "Precision: 93.95624103299856%\n",
            "Recall: 93.59076964118981%\n",
            "CNN_model trained\n"
          ],
          "name": "stdout"
        }
      ]
    },
    {
      "cell_type": "markdown",
      "metadata": {
        "id": "iq9qOwg5KdaH"
      },
      "source": [
        "### LSTM model "
      ]
    },
    {
      "cell_type": "code",
      "metadata": {
        "id": "3AL633__M15k"
      },
      "source": [
        "from keras.callbacks import EarlyStopping\n",
        "from keras.models import Sequential\n",
        "from keras.layers import Embedding, LSTM, Dense, Dropout\n",
        "from keras.optimizers import Adam"
      ],
      "execution_count": null,
      "outputs": []
    },
    {
      "cell_type": "code",
      "metadata": {
        "id": "opr8Xf3cM7gz",
        "colab": {
          "base_uri": "https://localhost:8080/"
        },
        "outputId": "67ba9a87-b783-4f56-ee39-deb081bd4b82"
      },
      "source": [
        "model_lstm = Sequential()\n",
        "model_lstm.add(Embedding(input_dim=max_features, output_dim=embedding_dim, input_length=sequence_length))\n",
        "model_lstm.add(LSTM(256, dropout=0.5, recurrent_dropout=0.5, return_sequences=True))\n",
        "model_lstm.add(LSTM(128, dropout=0.5, recurrent_dropout=0.5, return_sequences=False))\n",
        "model_lstm.add(Dense(100, activation='relu'))\n",
        "model_lstm.add(Dropout(0.4))\n",
        "model_lstm.add(Dense(2, activation='softmax'))\n",
        "model_lstm.compile(loss='categorical_crossentropy', optimizer=Adam(lr=0.005), metrics=['accuracy'])\n",
        "model_lstm.summary()"
      ],
      "execution_count": null,
      "outputs": [
        {
          "output_type": "stream",
          "text": [
            "Model: \"sequential\"\n",
            "_________________________________________________________________\n",
            "Layer (type)                 Output Shape              Param #   \n",
            "=================================================================\n",
            "embedding_1 (Embedding)      (None, 260, 50)           1250000   \n",
            "_________________________________________________________________\n",
            "lstm (LSTM)                  (None, 260, 256)          314368    \n",
            "_________________________________________________________________\n",
            "lstm_1 (LSTM)                (None, 128)               197120    \n",
            "_________________________________________________________________\n",
            "dense_1 (Dense)              (None, 100)               12900     \n",
            "_________________________________________________________________\n",
            "dropout_1 (Dropout)          (None, 100)               0         \n",
            "_________________________________________________________________\n",
            "dense_2 (Dense)              (None, 2)                 202       \n",
            "=================================================================\n",
            "Total params: 1,774,590\n",
            "Trainable params: 1,774,590\n",
            "Non-trainable params: 0\n",
            "_________________________________________________________________\n"
          ],
          "name": "stdout"
        }
      ]
    },
    {
      "cell_type": "code",
      "metadata": {
        "id": "19v8cU5UM_Fk",
        "colab": {
          "base_uri": "https://localhost:8080/"
        },
        "outputId": "adee090d-0783-4f74-aaee-aed12a1bbd8a"
      },
      "source": [
        "# fit\n",
        "history = model_lstm.fit(X_train, y_train, epochs=4, batch_size=256, verbose=1, validation_split=0.1, shuffle=True)"
      ],
      "execution_count": null,
      "outputs": [
        {
          "output_type": "stream",
          "text": [
            "Epoch 1/4\n",
            "5/5 [==============================] - 57s 10s/step - loss: 0.6998 - accuracy: 0.5170 - val_loss: 0.6912 - val_accuracy: 0.6429\n",
            "Epoch 2/4\n",
            "5/5 [==============================] - 52s 11s/step - loss: 0.6619 - accuracy: 0.6633 - val_loss: 2.0437 - val_accuracy: 0.5071\n",
            "Epoch 3/4\n",
            "5/5 [==============================] - 48s 10s/step - loss: 1.5903 - accuracy: 0.6142 - val_loss: 0.6604 - val_accuracy: 0.6286\n",
            "Epoch 4/4\n",
            "5/5 [==============================] - 48s 10s/step - loss: 0.5740 - accuracy: 0.8115 - val_loss: 0.4940 - val_accuracy: 0.7786\n"
          ],
          "name": "stdout"
        }
      ]
    },
    {
      "cell_type": "code",
      "metadata": {
        "id": "lOJAdzSuNOYY",
        "colab": {
          "base_uri": "https://localhost:8080/",
          "height": 573
        },
        "outputId": "4f307276-52cb-47d3-9fc8-333c1a7f2937"
      },
      "source": [
        "plt.plot(history.history['accuracy'])\n",
        "plt.plot(history.history['val_accuracy'])\n",
        "plt.title('model accuracy')\n",
        "plt.ylabel('accuracy')\n",
        "plt.xlabel('epoch')\n",
        "plt.legend(['train', 'validation'], loc='upper left')\n",
        "plt.show()\n",
        "\n",
        "plt.plot(history.history['loss'])\n",
        "plt.plot(history.history['val_loss'])\n",
        "plt.title('model loss')\n",
        "plt.ylabel('loss')\n",
        "plt.xlabel('epoch')\n",
        "plt.legend(['train', 'validation'], loc='upper left')\n",
        "plt.show()"
      ],
      "execution_count": null,
      "outputs": [
        {
          "output_type": "display_data",
          "data": {
            "image/png": "[encoded data removed]",
            "text/plain": [
              "<Figure size 432x288 with 1 Axes>"
            ]
          },
          "metadata": {
            "tags": [],
            "needs_background": "light"
          }
        },
        {
          "output_type": "display_data",
          "data": {
            "image/png": "[encoded data removed]",
            "text/plain": [
              "<Figure size 432x288 with 1 Axes>"
            ]
          },
          "metadata": {
            "tags": [],
            "needs_background": "light"
          }
        }
      ]
    },
    {
      "cell_type": "code",
      "metadata": {
        "id": "UQ0foKe2NiId"
      },
      "source": [
        "y_hat_6 = model_lstm.predict(X_test)"
      ],
      "execution_count": null,
      "outputs": []
    },
    {
      "cell_type": "code",
      "metadata": {
        "id": "17x5dUeYNlY6",
        "colab": {
          "base_uri": "https://localhost:8080/"
        },
        "outputId": "e959233f-c70a-4d4a-b7c3-05b5f499c976"
      },
      "source": [
        "accuracy_score(list(map(lambda x: np.argmax(x), y_test)), list(map(lambda x: np.argmax(x), y_hat_6)))"
      ],
      "execution_count": null,
      "outputs": [
        {
          "output_type": "execute_result",
          "data": {
            "text/plain": [
              "0.7716666666666666"
            ]
          },
          "metadata": {
            "tags": []
          },
          "execution_count": 38
        }
      ]
    },
    {
      "cell_type": "code",
      "metadata": {
        "id": "VdTXvb6pNoO0",
        "colab": {
          "base_uri": "https://localhost:8080/"
        },
        "outputId": "f97cac12-43da-4378-e333-3332acd953c1"
      },
      "source": [
        "confusion_matrix(list(map(lambda x: np.argmax(x), y_test)), list(map(lambda x: np.argmax(x), y_hat_6)))"
      ],
      "execution_count": null,
      "outputs": [
        {
          "output_type": "execute_result",
          "data": {
            "text/plain": [
              "array([[208,  98],\n",
              "       [ 39, 255]])"
            ]
          },
          "metadata": {
            "tags": []
          },
          "execution_count": 39
        }
      ]
    },
    {
      "cell_type": "code",
      "metadata": {
        "colab": {
          "base_uri": "https://localhost:8080/"
        },
        "id": "RDhZALR8kvgT",
        "outputId": "3f60abc1-be34-4263-b2e3-74a10ef6677e"
      },
      "source": [
        "lstm_metrics = [None, None, None]\n",
        "lstm_metrics[0], lstm_metrics[1], lstm_metrics[2] = generate_report(y_hat_2.argmax(axis=1), model_2, 'LSTM_model',y_test.argmax(axis=1))"
      ],
      "execution_count": null,
      "outputs": [
        {
          "output_type": "stream",
          "text": [
            "Confusion Matrix:\n",
            "[[298   8]\n",
            " [ 30 264]]\n",
            "\n",
            "Classification Report:\n",
            "              precision    recall  f1-score   support\n",
            "\n",
            "           0       0.91      0.97      0.94       306\n",
            "           1       0.97      0.90      0.93       294\n",
            "\n",
            "    accuracy                           0.94       600\n",
            "   macro avg       0.94      0.94      0.94       600\n",
            "weighted avg       0.94      0.94      0.94       600\n",
            "\n",
            "Accuracy: 93.66666666666667%\n",
            "Precision: 93.95624103299856%\n",
            "Recall: 93.59076964118981%\n",
            "LSTM_model trained\n"
          ],
          "name": "stdout"
        }
      ]
    },
    {
      "cell_type": "markdown",
      "metadata": {
        "id": "zSZr_eFOlLIM"
      },
      "source": [
        "### Decision Tree Classifier"
      ]
    },
    {
      "cell_type": "code",
      "metadata": {
        "id": "LJalYXkmlLIN"
      },
      "source": [
        "from sklearn.tree import DecisionTreeClassifier\n",
        "from sklearn.model_selection import cross_val_score"
      ],
      "execution_count": null,
      "outputs": []
    },
    {
      "cell_type": "code",
      "metadata": {
        "id": "jFtwVxwilLIN"
      },
      "source": [
        "dt_clf = DecisionTreeClassifier()\n",
        "\n",
        "# Train the Model\n",
        "dt_clf.fit(X_train,y_train)   \n",
        "dt_pred = dt_clf.predict(X_test)"
      ],
      "execution_count": null,
      "outputs": []
    },
    {
      "cell_type": "code",
      "metadata": {
        "id": "e_NrShfwlLIO",
        "colab": {
          "base_uri": "https://localhost:8080/"
        },
        "outputId": "45eb0a5f-6e91-4d5a-872a-a0d97b13ca3c"
      },
      "source": [
        "dt_metrics = [None, None, None]\n",
        "dt_metrics[0], dt_metrics[1], dt_metrics[2] = generate_report(dt_pred.argmax(axis=1), dt_clf, 'DecisionTree_model',y_test.argmax(axis=1))"
      ],
      "execution_count": null,
      "outputs": [
        {
          "output_type": "stream",
          "text": [
            "Confusion Matrix:\n",
            "[[200 106]\n",
            " [116 178]]\n",
            "\n",
            "Classification Report:\n",
            "              precision    recall  f1-score   support\n",
            "\n",
            "           0       0.63      0.65      0.64       306\n",
            "           1       0.63      0.61      0.62       294\n",
            "\n",
            "    accuracy                           0.63       600\n",
            "   macro avg       0.63      0.63      0.63       600\n",
            "weighted avg       0.63      0.63      0.63       600\n",
            "\n",
            "Accuracy: 63.0%\n",
            "Precision: 62.98359778926725%\n",
            "Recall: 62.95184740562891%\n",
            "DecisionTree_model trained\n"
          ],
          "name": "stdout"
        }
      ]
    },
    {
      "cell_type": "markdown",
      "metadata": {
        "id": "_jnxM8eUlLIQ"
      },
      "source": [
        "### Bernoulli Naive Bayes:"
      ]
    },
    {
      "cell_type": "code",
      "metadata": {
        "id": "bBeeRlTtlLIR"
      },
      "source": [
        "from sklearn.naive_bayes import BernoulliNB\n",
        "bnb_clf = BernoulliNB()\n",
        "bnb_clf.fit(X_train,y_train.argmax(axis=1))\n",
        "BNBpred=bnb_clf.predict(X_test)"
      ],
      "execution_count": null,
      "outputs": []
    },
    {
      "cell_type": "code",
      "metadata": {
        "id": "K9KNBoKGlLIR",
        "colab": {
          "base_uri": "https://localhost:8080/"
        },
        "outputId": "3bb61c57-bdcb-42e3-8013-512ec673b00c"
      },
      "source": [
        "bnb_metrics = [None, None, None]\n",
        "bnb_metrics[0], bnb_metrics[1], bnb_metrics[2] = generate_report(BNBpred, bnb_clf, 'BernoulliNB_model',y_test.argmax(axis=1))"
      ],
      "execution_count": null,
      "outputs": [
        {
          "output_type": "stream",
          "text": [
            "Confusion Matrix:\n",
            "[[186 120]\n",
            " [156 138]]\n",
            "\n",
            "Classification Report:\n",
            "              precision    recall  f1-score   support\n",
            "\n",
            "           0       0.54      0.61      0.57       306\n",
            "           1       0.53      0.47      0.50       294\n",
            "\n",
            "    accuracy                           0.54       600\n",
            "   macro avg       0.54      0.54      0.54       600\n",
            "weighted avg       0.54      0.54      0.54       600\n",
            "\n",
            "Accuracy: 54.0%\n",
            "Precision: 53.93716850265198%\n",
            "Recall: 53.86154461784714%\n",
            "BernoulliNB_model trained\n"
          ],
          "name": "stdout"
        }
      ]
    },
    {
      "cell_type": "markdown",
      "metadata": {
        "id": "Kv7sddtolLIS"
      },
      "source": [
        "### Multinomial Naive Bayes:"
      ]
    },
    {
      "cell_type": "code",
      "metadata": {
        "id": "pSmc7Ot0lLIS"
      },
      "source": [
        "from sklearn.naive_bayes import MultinomialNB"
      ],
      "execution_count": null,
      "outputs": []
    },
    {
      "cell_type": "code",
      "metadata": {
        "id": "zfQtE8iJlLIT"
      },
      "source": [
        "mnb_clf = MultinomialNB()\n",
        "\n",
        "#train the model\n",
        "mnb_clf.fit(X_train,y_train.argmax(axis=1))\n",
        "MNBpred=mnb_clf.predict(X_test)"
      ],
      "execution_count": null,
      "outputs": []
    },
    {
      "cell_type": "code",
      "metadata": {
        "id": "ORbwC8R6lLIT",
        "colab": {
          "base_uri": "https://localhost:8080/"
        },
        "outputId": "4e8d4e79-95ec-4ce0-eea0-8f4eb7b0f551"
      },
      "source": [
        "mnb_metrics = [None, None, None]\n",
        "mnb_metrics[0], mnb_metrics[1], mnb_metrics[2] = generate_report(MNBpred, mnb_clf, 'MultinomialNB_model',y_test.argmax(axis=1))"
      ],
      "execution_count": null,
      "outputs": [
        {
          "output_type": "stream",
          "text": [
            "Confusion Matrix:\n",
            "[[145 161]\n",
            " [135 159]]\n",
            "\n",
            "Classification Report:\n",
            "              precision    recall  f1-score   support\n",
            "\n",
            "           0       0.52      0.47      0.49       306\n",
            "           1       0.50      0.54      0.52       294\n",
            "\n",
            "    accuracy                           0.51       600\n",
            "   macro avg       0.51      0.51      0.51       600\n",
            "weighted avg       0.51      0.51      0.51       600\n",
            "\n",
            "Accuracy: 50.66666666666667%\n",
            "Precision: 50.736607142857146%\n",
            "Recall: 50.73362678404696%\n",
            "MultinomialNB_model trained\n"
          ],
          "name": "stdout"
        }
      ]
    },
    {
      "cell_type": "markdown",
      "metadata": {
        "id": "8c2qtQK5lLIU"
      },
      "source": [
        "### Maximum Entropy (Logistic Regression):"
      ]
    },
    {
      "cell_type": "code",
      "metadata": {
        "id": "jbIZ2FXPlLIU"
      },
      "source": [
        "from sklearn.linear_model import LogisticRegression"
      ],
      "execution_count": null,
      "outputs": []
    },
    {
      "cell_type": "code",
      "metadata": {
        "id": "Qj5yMj2AlLIV",
        "colab": {
          "base_uri": "https://localhost:8080/"
        },
        "outputId": "54030952-97f1-4da3-c4db-01a5e76b35f6"
      },
      "source": [
        "lr_clf = LogisticRegression(max_iter=300)\n",
        "\n",
        "# Train the Model\n",
        "lr_clf.fit(X_train,y_train.argmax(axis=1))   \n",
        "LRpred = lr_clf.predict(X_test)\n",
        "\n",
        "lr_metrics = [None, None, None]\n",
        "lr_metrics[0], lr_metrics[1], lr_metrics[2] = generate_report(LRpred, lr_clf, 'LinearRegression_model',y_test.argmax(axis=1))"
      ],
      "execution_count": null,
      "outputs": [
        {
          "output_type": "stream",
          "text": [
            "Confusion Matrix:\n",
            "[[208  98]\n",
            " [127 167]]\n",
            "\n",
            "Classification Report:\n",
            "              precision    recall  f1-score   support\n",
            "\n",
            "           0       0.62      0.68      0.65       306\n",
            "           1       0.63      0.57      0.60       294\n",
            "\n",
            "    accuracy                           0.62       600\n",
            "   macro avg       0.63      0.62      0.62       600\n",
            "weighted avg       0.63      0.62      0.62       600\n",
            "\n",
            "Accuracy: 62.5%\n",
            "Precision: 62.55421008166713%\n",
            "Recall: 62.388288648792845%\n",
            "LinearRegression_model trained\n"
          ],
          "name": "stdout"
        }
      ]
    },
    {
      "cell_type": "markdown",
      "metadata": {
        "id": "FB_VXXhOlLIV"
      },
      "source": [
        "### Support Vector Machine:"
      ]
    },
    {
      "cell_type": "code",
      "metadata": {
        "id": "BjgtQ6BnlLIW"
      },
      "source": [
        "from sklearn.svm import SVC\n",
        "from sklearn import svm"
      ],
      "execution_count": null,
      "outputs": []
    },
    {
      "cell_type": "code",
      "metadata": {
        "id": "uPkyVvtrlLIW"
      },
      "source": [
        "SVMclassifier = svm.SVC()\n",
        "SVMclassifier.fit(X_train,y_train.argmax(axis=1))\n",
        "SVMpred = SVMclassifier.predict(X_test)"
      ],
      "execution_count": null,
      "outputs": []
    },
    {
      "cell_type": "code",
      "metadata": {
        "id": "TTl-UcNPlLIX",
        "colab": {
          "base_uri": "https://localhost:8080/"
        },
        "outputId": "f2b417b1-8787-4dc7-bd9f-1882e99dc02e"
      },
      "source": [
        "svm_metrics = [None, None, None]\n",
        "svm_metrics[0], svm_metrics[1], svm_metrics[2] = generate_report(SVMpred, SVMclassifier, 'SVM_model',y_test.argmax(axis=1))"
      ],
      "execution_count": null,
      "outputs": [
        {
          "output_type": "stream",
          "text": [
            "Confusion Matrix:\n",
            "[[271  35]\n",
            " [ 78 216]]\n",
            "\n",
            "Classification Report:\n",
            "              precision    recall  f1-score   support\n",
            "\n",
            "           0       0.78      0.89      0.83       306\n",
            "           1       0.86      0.73      0.79       294\n",
            "\n",
            "    accuracy                           0.81       600\n",
            "   macro avg       0.82      0.81      0.81       600\n",
            "weighted avg       0.82      0.81      0.81       600\n",
            "\n",
            "Accuracy: 81.16666666666667%\n",
            "Precision: 81.85310334592862%\n",
            "Recall: 81.015739629185%\n",
            "SVM_model trained\n"
          ],
          "name": "stdout"
        }
      ]
    },
    {
      "cell_type": "markdown",
      "metadata": {
        "id": "zJdO5kQzJSoR"
      },
      "source": [
        "### Results comparisons plots and tables:"
      ]
    },
    {
      "cell_type": "code",
      "metadata": {
        "id": "WFqAg2OkJZQ6",
        "colab": {
          "base_uri": "https://localhost:8080/"
        },
        "outputId": "6d578e33-6543-4b3a-d308-16a88458db19"
      },
      "source": [
        "!pip3 install tabulate\n",
        "from tabulate import tabulate\n",
        "table = [['Model Name', 'Accuracy', 'Precision', 'Recall'], \n",
        "         ['Multinomial Naïve Bayes', mnb_metrics[0], mnb_metrics[1], mnb_metrics[2]], \n",
        "         ['Bernoulli Naïve Bayes', bnb_metrics[0], bnb_metrics[1], bnb_metrics[2]],\n",
        "         ['Support Vector Machine', svm_metrics[0], svm_metrics[1], svm_metrics[2]],\n",
        "         ['Maximum Entropy', lr_metrics[0], lr_metrics[1], lr_metrics[2]],\n",
        "         ['Decision Tree', dt_metrics[0], dt_metrics[1], dt_metrics[2]],\n",
        "         ['CNN', cnn_metrics[0], cnn_metrics[1], cnn_metrics[2]],\n",
        "         ['LSTM', lstm_metrics[0], lstm_metrics[1], lstm_metrics[2]]]\n",
        "\n",
        "print(tabulate(table, headers='firstrow', tablefmt='fancy_grid'))"
      ],
      "execution_count": null,
      "outputs": [
        {
          "output_type": "stream",
          "text": [
            "Requirement already satisfied: tabulate in /usr/local/lib/python3.7/dist-packages (0.8.9)\n",
            "╒═════════════════════════╤════════════╤═════════════╤══════════╕\n",
            "│ Model Name              │   Accuracy │   Precision │   Recall │\n",
            "╞═════════════════════════╪════════════╪═════════════╪══════════╡\n",
            "│ Multinomial Naïve Bayes │    50.6667 │     50.7366 │  50.7336 │\n",
            "├─────────────────────────┼────────────┼─────────────┼──────────┤\n",
            "│ Bernoulli Naïve Bayes   │    54      │     53.9372 │  53.8615 │\n",
            "├─────────────────────────┼────────────┼─────────────┼──────────┤\n",
            "│ Support Vector Machine  │    81.1667 │     81.8531 │  81.0157 │\n",
            "├─────────────────────────┼────────────┼─────────────┼──────────┤\n",
            "│ Maximum Entropy         │    62.5    │     62.5542 │  62.3883 │\n",
            "├─────────────────────────┼────────────┼─────────────┼──────────┤\n",
            "│ Decision Tree           │    63      │     62.9836 │  62.9518 │\n",
            "├─────────────────────────┼────────────┼─────────────┼──────────┤\n",
            "│ CNN                     │    93.6667 │     93.9562 │  93.5908 │\n",
            "├─────────────────────────┼────────────┼─────────────┼──────────┤\n",
            "│ LSTM                    │    93.6667 │     93.9562 │  93.5908 │\n",
            "╘═════════════════════════╧════════════╧═════════════╧══════════╛\n"
          ],
          "name": "stdout"
        }
      ]
    },
    {
      "cell_type": "code",
      "metadata": {
        "id": "vsqBbaAHJ77L",
        "colab": {
          "base_uri": "https://localhost:8080/"
        },
        "outputId": "1db280cb-7a2c-40fc-e4d6-60d8aeedbe9a"
      },
      "source": [
        "import numpy as np\n",
        "import matplotlib.pyplot as plt\n",
        "  \n",
        "N = 7\n",
        "ind = np.arange(N) \n",
        "width = 0.25\n",
        "  \n",
        "acc = [mnb_metrics[0], bnb_metrics[0], svm_metrics[0], lr_metrics[0], dt_metrics[0], cnn_metrics[0], lstm_metrics[0]]\n",
        "bar1 = plt.bar(ind, acc, width)\n",
        "  \n",
        "prec = [mnb_metrics[1], bnb_metrics[1], svm_metrics[1], lr_metrics[1], dt_metrics[1], cnn_metrics[1], lstm_metrics[1]]\n",
        "bar2 = plt.bar(ind+width, prec, width)\n",
        "  \n",
        "recall = [mnb_metrics[2], bnb_metrics[2], svm_metrics[2], lr_metrics[2], dt_metrics[2], cnn_metrics[2], lstm_metrics[2]]\n",
        "bar3 = plt.bar(ind+width*2, recall, width)\n",
        "  \n",
        "# plt.xlabel(\"Dates\")\n",
        "plt.ylabel(\"Percentage\")\n",
        "plt.title(\"Comparison\")\n",
        "  \n",
        "plt.xticks(ind+width,['Multinomial NB','Bernoulli NB','SVM','Logistic Regression', 'Decision Tree', 'CNN', 'LSTM'])\n",
        "plt.xticks(rotation = 45)\n",
        "plt.legend( (bar1, bar2, bar3), ('Accuracy', 'Precision', 'Recall'), bbox_to_anchor = (1.05, 0.6))\n",
        "plt.show()"
      ],
      "execution_count": null,
      "outputs": [
        {
          "output_type": "display_data",
          "data": {
            "image/png": "[encoded data removed]",
            "text/plain": [
              "<Figure size 432x288 with 1 Axes>"
            ]
          },
          "metadata": {
            "tags": [],
            "needs_background": "light"
          }
        }
      ]
    },
    {
      "cell_type": "code",
      "metadata": {
        "id": "9jiwMcrjKRpM",
        "colab": {
          "base_uri": "https://localhost:8080/"
        },
        "outputId": "621c0b86-20cf-41a2-cf75-c35279519c12"
      },
      "source": [
        "import matplotlib.pyplot as plt\n",
        "models = ['Multinomial NB','Bernoulli NB','SVM','Logistic Regression', 'Decision Tree', 'CNN', 'LSTM']\n",
        "recall = [mnb_metrics[2], bnb_metrics[2], svm_metrics[2], lr_metrics[2], dt_metrics[2], cnn_metrics[2], lstm_metrics[2]]\n",
        "precision = [mnb_metrics[1], bnb_metrics[1], svm_metrics[1], lr_metrics[1], dt_metrics[1], cnn_metrics[1], lstm_metrics[1]]\n",
        "line_chart1 = plt.plot(models, recall, 'o-g')\n",
        "line_chart2 = plt.plot(models, precision, 'o-y')\n",
        "plt.title('Recall vs Precision')\n",
        "plt.ylabel('Score')\n",
        "plt.xticks(rotation = 45)\n",
        "plt.legend(['Recall', 'Precision'], bbox_to_anchor = (1.3, 0.6))\n",
        "plt.show()"
      ],
      "execution_count": null,
      "outputs": [
        {
          "output_type": "display_data",
          "data": {
            "image/png": "[encoded data removed]",
            "text/plain": [
              "<Figure size 432x288 with 1 Axes>"
            ]
          },
          "metadata": {
            "tags": [],
            "needs_background": "light"
          }
        }
      ]
    }
  ]
}