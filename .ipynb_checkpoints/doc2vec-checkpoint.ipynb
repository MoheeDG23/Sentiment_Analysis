{
 "cells": [
  {
   "cell_type": "markdown",
   "metadata": {
    "id": "vAgFQKDAwK31"
   },
   "source": [
    "## Importing necessary modules"
   ]
  },
  {
   "cell_type": "code",
   "execution_count": 1,
   "metadata": {
    "id": "YHkOpTyiH5zL"
   },
   "outputs": [],
   "source": [
    "# gensim modules\n",
    "from gensim import utils\n",
    "from gensim.models.doc2vec import LabeledSentence\n",
    "from gensim.models import Doc2Vec\n",
    "\n",
    "# numpy\n",
    "import numpy\n",
    "\n",
    "# classifier\n",
    "from sklearn.linear_model import LogisticRegression\n",
    "\n",
    "# random\n",
    "import random"
   ]
  },
  {
   "cell_type": "markdown",
   "metadata": {
    "id": "W8EimrYRcGbU"
   },
   "source": [
    "## Importing dataset"
   ]
  },
  {
   "cell_type": "code",
   "execution_count": 2,
   "metadata": {
    "colab": {
     "base_uri": "https://localhost:8080/"
    },
    "id": "HSVTfZnuIZyG",
    "outputId": "8c1ec0b8-a824-49e4-d440-d3eac9142416"
   },
   "outputs": [
    {
     "name": "stdout",
     "output_type": "stream",
     "text": [
      "Drive already mounted at /content/drive; to attempt to forcibly remount, call drive.mount(\"/content/drive\", force_remount=True).\n"
     ]
    }
   ],
   "source": [
    "from google.colab import drive\n",
    "drive.mount(\"/content/drive\")"
   ]
  },
  {
   "cell_type": "code",
   "execution_count": 3,
   "metadata": {
    "id": "E_Fu7ws-IYkX"
   },
   "outputs": [],
   "source": [
    "import pandas as pd\n",
    "\n",
    "def load_data():\n",
    "\n",
    "    data_df = pd.read_excel('/content/drive/My Drive/dataset/dataset.xlsx', engine='openpyxl')\n",
    "\n",
    "    data_df.to_csv('output_reviews_top.csv')\n",
    "\n",
    "load_data()"
   ]
  },
  {
   "cell_type": "code",
   "execution_count": 4,
   "metadata": {
    "colab": {
     "base_uri": "https://localhost:8080/"
    },
    "id": "pxt49cHQImGV",
    "outputId": "1b3a08f3-6bf9-462e-87a1-e41be98f0971"
   },
   "outputs": [
    {
     "name": "stdout",
     "output_type": "stream",
     "text": [
      "Columns in the original dataset:\n",
      "\n",
      "Index(['Unnamed: 0', 'URL', 'Text', 'Sentiment'], dtype='object')\n"
     ]
    }
   ],
   "source": [
    "top_data_df = pd.read_csv('output_reviews_top.csv')\n",
    "print(\"Columns in the original dataset:\\n\")\n",
    "print(top_data_df.columns)"
   ]
  },
  {
   "cell_type": "markdown",
   "metadata": {
    "id": "pqWnVTfCcRe2"
   },
   "source": [
    "## Data cleaning and analysing"
   ]
  },
  {
   "cell_type": "code",
   "execution_count": 5,
   "metadata": {
    "colab": {
     "base_uri": "https://localhost:8080/",
     "height": 362
    },
    "id": "7ve99MyjJwdA",
    "outputId": "8f464477-c627-48f3-dc4a-0fa9f4f11514"
   },
   "outputs": [
    {
     "name": "stdout",
     "output_type": "stream",
     "text": [
      "Number of rows per star rating:\n",
      "NEG    1000\n",
      "POS     999\n",
      "Name: Sentiment, dtype: int64\n"
     ]
    },
    {
     "data": {
      "image/png": "[encoded data removed]",
      "text/plain": [
       "<Figure size 432x288 with 1 Axes>"
      ]
     },
     "metadata": {
      "needs_background": "light",
      "tags": []
     },
     "output_type": "display_data"
    }
   ],
   "source": [
    "import matplotlib.pyplot as plt \n",
    "\n",
    "print(\"Number of rows per star rating:\")\n",
    "print(top_data_df['Sentiment'].value_counts())\n",
    "\n",
    "# Function to map stars to sentiment\n",
    "def map_sentiment(sentiment):\n",
    "    if sentiment == 'NEG':\n",
    "        return -1\n",
    "    else:\n",
    "        return 1\n",
    "# Mapping stars to sentiment into three categories\n",
    "top_data_df['Sentiment_value'] = [map_sentiment(x) for x in top_data_df['Sentiment']]\n",
    "# Plotting the sentiment distribution\n",
    "plt.figure()\n",
    "pd.value_counts(top_data_df['Sentiment_value']).plot.bar(title=\"Sentiment distribution in df\")\n",
    "plt.xlabel(\"Sentiment\")\n",
    "plt.ylabel(\"No. of rows in df\")\n",
    "plt.show()"
   ]
  },
  {
   "cell_type": "code",
   "execution_count": 6,
   "metadata": {
    "colab": {
     "base_uri": "https://localhost:8080/",
     "height": 419
    },
    "id": "s0Ml3VWrJnrM",
    "outputId": "e4fb43f9-82c5-4ed3-ec89-412bce92dbe7"
   },
   "outputs": [
    {
     "name": "stdout",
     "output_type": "stream",
     "text": [
      "After segregating and taking equal number of rows for each sentiment:\n",
      " 1    999\n",
      "-1    999\n",
      "Name: Sentiment_value, dtype: int64\n"
     ]
    },
    {
     "data": {
      "text/html": [
       "<div>\n",
       "<style scoped>\n",
       "    .dataframe tbody tr th:only-of-type {\n",
       "        vertical-align: middle;\n",
       "    }\n",
       "\n",
       "    .dataframe tbody tr th {\n",
       "        vertical-align: top;\n",
       "    }\n",
       "\n",
       "    .dataframe thead th {\n",
       "        text-align: right;\n",
       "    }\n",
       "</style>\n",
       "<table border=\"1\" class=\"dataframe\">\n",
       "  <thead>\n",
       "    <tr style=\"text-align: right;\">\n",
       "      <th></th>\n",
       "      <th>Unnamed: 0</th>\n",
       "      <th>URL</th>\n",
       "      <th>Text</th>\n",
       "      <th>Sentiment</th>\n",
       "      <th>Sentiment_value</th>\n",
       "    </tr>\n",
       "  </thead>\n",
       "  <tbody>\n",
       "    <tr>\n",
       "      <th>0</th>\n",
       "      <td>0</td>\n",
       "      <td>http://www.imdb.com/title/tt0210075/usercomments</td>\n",
       "      <td>Girlfight follows a project dwelling New York ...</td>\n",
       "      <td>POS</td>\n",
       "      <td>1</td>\n",
       "    </tr>\n",
       "    <tr>\n",
       "      <th>1</th>\n",
       "      <td>1</td>\n",
       "      <td>http://www.imdb.com/title/tt0337640/usercomments</td>\n",
       "      <td>Hollywood North is an euphemism from the movie...</td>\n",
       "      <td>POS</td>\n",
       "      <td>1</td>\n",
       "    </tr>\n",
       "    <tr>\n",
       "      <th>2</th>\n",
       "      <td>2</td>\n",
       "      <td>http://www.imdb.com/title/tt0303549/usercomments</td>\n",
       "      <td>That '70s Show is definitely the funniest show...</td>\n",
       "      <td>POS</td>\n",
       "      <td>1</td>\n",
       "    </tr>\n",
       "    <tr>\n",
       "      <th>3</th>\n",
       "      <td>3</td>\n",
       "      <td>http://www.imdb.com/title/tt0716825/usercomments</td>\n",
       "      <td>9/10- 30 minutes of pure holiday terror. Okay,...</td>\n",
       "      <td>POS</td>\n",
       "      <td>1</td>\n",
       "    </tr>\n",
       "    <tr>\n",
       "      <th>4</th>\n",
       "      <td>4</td>\n",
       "      <td>http://www.imdb.com/title/tt0182225/usercomments</td>\n",
       "      <td>A series of random, seemingly insignificant th...</td>\n",
       "      <td>POS</td>\n",
       "      <td>1</td>\n",
       "    </tr>\n",
       "    <tr>\n",
       "      <th>5</th>\n",
       "      <td>5</td>\n",
       "      <td>http://www.imdb.com/title/tt0347779/usercomments</td>\n",
       "      <td>A very good adaptation of the novel by amrita ...</td>\n",
       "      <td>POS</td>\n",
       "      <td>1</td>\n",
       "    </tr>\n",
       "    <tr>\n",
       "      <th>6</th>\n",
       "      <td>6</td>\n",
       "      <td>http://www.imdb.com/title/tt0095655/usercomments</td>\n",
       "      <td>Ah, Moonwalker, I'm a huge Michael Jackson fan...</td>\n",
       "      <td>POS</td>\n",
       "      <td>1</td>\n",
       "    </tr>\n",
       "    <tr>\n",
       "      <th>7</th>\n",
       "      <td>7</td>\n",
       "      <td>http://www.imdb.com/title/tt0298131/usercomments</td>\n",
       "      <td>Although the beginning of the movie in New Yor...</td>\n",
       "      <td>POS</td>\n",
       "      <td>1</td>\n",
       "    </tr>\n",
       "    <tr>\n",
       "      <th>8</th>\n",
       "      <td>8</td>\n",
       "      <td>http://www.imdb.com/title/tt0088915/usercomments</td>\n",
       "      <td>As many reviewers here have noted, the film ve...</td>\n",
       "      <td>POS</td>\n",
       "      <td>1</td>\n",
       "    </tr>\n",
       "    <tr>\n",
       "      <th>9</th>\n",
       "      <td>9</td>\n",
       "      <td>http://www.imdb.com/title/tt0828154/usercomments</td>\n",
       "      <td>Bear in mind, any film (let alone documentary)...</td>\n",
       "      <td>POS</td>\n",
       "      <td>1</td>\n",
       "    </tr>\n",
       "  </tbody>\n",
       "</table>\n",
       "</div>"
      ],
      "text/plain": [
       "   Unnamed: 0  ... Sentiment_value\n",
       "0           0  ...               1\n",
       "1           1  ...               1\n",
       "2           2  ...               1\n",
       "3           3  ...               1\n",
       "4           4  ...               1\n",
       "5           5  ...               1\n",
       "6           6  ...               1\n",
       "7           7  ...               1\n",
       "8           8  ...               1\n",
       "9           9  ...               1\n",
       "\n",
       "[10 rows x 5 columns]"
      ]
     },
     "execution_count": 6,
     "metadata": {
      "tags": []
     },
     "output_type": "execute_result"
    }
   ],
   "source": [
    "# Function to retrieve top few number of each category\n",
    "def get_top_data(top_n):\n",
    "    top_data_df_positive = top_data_df[top_data_df['Sentiment_value'] == 1].head(top_n)\n",
    "    top_data_df_negative = top_data_df[top_data_df['Sentiment_value'] == -1].head(top_n)\n",
    "    top_data_df_small = pd.concat([top_data_df_positive, top_data_df_negative])\n",
    "    return top_data_df_small, top_data_df_positive, top_data_df_negative\n",
    "\n",
    "# Function call to get the top 10000 from each sentiment\n",
    "top_data_df_small, pos_review, neg_review = get_top_data(999)\n",
    "\n",
    "# After selecting top few samples of each sentiment\n",
    "print(\"After segregating and taking equal number of rows for each sentiment:\")\n",
    "print(top_data_df_small['Sentiment_value'].value_counts())\n",
    "top_data_df_small.head(10)"
   ]
  },
  {
   "cell_type": "markdown",
   "metadata": {
    "id": "_l1F_EFocW5t"
   },
   "source": [
    "## Dataset Splitting"
   ]
  },
  {
   "cell_type": "code",
   "execution_count": 7,
   "metadata": {
    "id": "OmBWUaXlNcdj"
   },
   "outputs": [],
   "source": [
    "from sklearn.model_selection import train_test_split\n",
    "\n",
    "X_train_pos, X_test_pos, Y_train_pos, Y_test_pos = train_test_split(pos_review['Text'], \n",
    "                                                        pos_review['Sentiment_value'], \n",
    "                                                        random_state=15)"
   ]
  },
  {
   "cell_type": "code",
   "execution_count": 8,
   "metadata": {
    "id": "ItTGMOPdOjIg"
   },
   "outputs": [],
   "source": [
    "from sklearn.model_selection import train_test_split\n",
    "\n",
    "X_train_neg, X_test_neg, Y_train_neg, Y_test_neg = train_test_split(neg_review['Text'], \n",
    "                                                        neg_review['Sentiment_value'], \n",
    "                                                        random_state=15)"
   ]
  },
  {
   "cell_type": "code",
   "execution_count": 9,
   "metadata": {
    "colab": {
     "base_uri": "https://localhost:8080/"
    },
    "id": "LInY7Qe9O1F7",
    "outputId": "33a01591-e1dc-4819-b0af-f398a003a0b6"
   },
   "outputs": [
    {
     "data": {
      "text/plain": [
       "((749,), (749,))"
      ]
     },
     "execution_count": 9,
     "metadata": {
      "tags": []
     },
     "output_type": "execute_result"
    }
   ],
   "source": [
    "X_train_pos.shape, X_train_neg.shape"
   ]
  },
  {
   "cell_type": "code",
   "execution_count": 10,
   "metadata": {
    "colab": {
     "base_uri": "https://localhost:8080/"
    },
    "id": "T353ZickO7GM",
    "outputId": "ca4e0f29-af33-4604-80cf-da5a5e556f21"
   },
   "outputs": [
    {
     "data": {
      "text/plain": [
       "((250,), (250,))"
      ]
     },
     "execution_count": 10,
     "metadata": {
      "tags": []
     },
     "output_type": "execute_result"
    }
   ],
   "source": [
    "X_test_pos.shape, X_test_neg.shape"
   ]
  },
  {
   "cell_type": "code",
   "execution_count": 11,
   "metadata": {
    "id": "30wTs2DtPDUz"
   },
   "outputs": [],
   "source": [
    "X_train_pos.to_csv(r'train-pos.txt', header=None, index=None, sep=' ', mode='a')\n",
    "X_train_neg.to_csv(r'train-neg.txt', header=None, index=None, sep=' ', mode='a')\n",
    "X_test_pos.to_csv(r'test-pos.txt', header=None, index=None, sep=' ', mode='a')\n",
    "X_test_neg.to_csv(r'test-neg.txt', header=None, index=None, sep=' ', mode='a')"
   ]
  },
  {
   "cell_type": "code",
   "execution_count": 12,
   "metadata": {
    "id": "c4c34jdUTwx9"
   },
   "outputs": [],
   "source": [
    "class LabeledLineSentence(object):\n",
    "    def __init__(self, sources):\n",
    "        self.sources = sources\n",
    "        \n",
    "        flipped = {}\n",
    "        \n",
    "        # make sure that keys are unique\n",
    "        for key, value in sources.items():\n",
    "            if value not in flipped:\n",
    "                flipped[value] = [key]\n",
    "            else:\n",
    "                raise Exception('Non-unique prefix encountered')\n",
    "    \n",
    "    def __iter__(self):\n",
    "        for source, prefix in self.sources.items():\n",
    "            with utils.smart_open(source) as fin:\n",
    "                for item_no, line in enumerate(fin):\n",
    "                    yield LabeledSentence(utils.to_unicode(line).split(), [prefix + '_%s' % item_no])\n",
    "    \n",
    "    def to_array(self):\n",
    "        self.sentences = []\n",
    "        for source, prefix in self.sources.items():\n",
    "            with utils.smart_open(source) as fin:\n",
    "                for item_no, line in enumerate(fin):\n",
    "                    self.sentences.append(LabeledSentence(utils.to_unicode(line).split(), [prefix + '_%s' % item_no]))\n",
    "        return self.sentences\n",
    "    \n",
    "    def sentences_perm(self):\n",
    "        shuffled = list(self.sentences)\n",
    "        random.shuffle(shuffled)\n",
    "        return shuffled"
   ]
  },
  {
   "cell_type": "code",
   "execution_count": 13,
   "metadata": {
    "id": "QqXA0akgTz4H"
   },
   "outputs": [],
   "source": [
    "sources = {'test-neg.txt':'TEST_NEG', 'test-pos.txt':'TEST_POS', 'train-neg.txt':'TRAIN_NEG', 'train-pos.txt':'TRAIN_POS'}\n",
    "\n",
    "sentences = LabeledLineSentence(sources)"
   ]
  },
  {
   "cell_type": "markdown",
   "metadata": {
    "id": "wl9mZey0cn23"
   },
   "source": [
    "## Doc to vector: "
   ]
  },
  {
   "cell_type": "code",
   "execution_count": 14,
   "metadata": {
    "colab": {
     "base_uri": "https://localhost:8080/"
    },
    "id": "fDjFNy2MT2Qw",
    "outputId": "b17bb555-bd68-46f2-ca3a-9d11bfcac704"
   },
   "outputs": [
    {
     "name": "stderr",
     "output_type": "stream",
     "text": [
      "/usr/local/lib/python3.7/dist-packages/ipykernel_launcher.py:25: DeprecationWarning: Call to deprecated `LabeledSentence` (Class will be removed in 4.0.0, use TaggedDocument instead).\n",
      "/usr/local/lib/python3.7/dist-packages/ipykernel_launcher.py:4: DeprecationWarning: Call to deprecated `iter` (Attribute will be removed in 4.0.0, use self.epochs instead).\n",
      "  after removing the cwd from sys.path.\n"
     ]
    }
   ],
   "source": [
    "import gensim\n",
    "model = gensim.models.Doc2Vec(vector_size=300, window=10, min_count=5, workers=11,alpha=0.025, min_alpha=0.025, epochs=20)\n",
    "model.build_vocab(sentences.to_array())\n",
    "model.train(sentences.to_array(), epochs=model.iter, total_examples=model.corpus_count)"
   ]
  },
  {
   "cell_type": "code",
   "execution_count": 15,
   "metadata": {
    "colab": {
     "base_uri": "https://localhost:8080/"
    },
    "id": "PG_Cr1XiVEcw",
    "outputId": "fb49d18a-4961-4c23-c49f-c6f0208fff48"
   },
   "outputs": [
    {
     "name": "stderr",
     "output_type": "stream",
     "text": [
      "/usr/local/lib/python3.7/dist-packages/ipykernel_launcher.py:1: DeprecationWarning: Call to deprecated `most_similar` (Method will be removed in 4.0.0, use self.wv.most_similar() instead).\n",
      "  \"\"\"Entry point for launching an IPython kernel.\n"
     ]
    },
    {
     "data": {
      "text/plain": [
       "[('memorable', 0.3077978491783142),\n",
       " ('indeed,', 0.2509104907512665),\n",
       " ('interesting', 0.24786719679832458),\n",
       " ('lovely', 0.2260245978832245),\n",
       " ('funny', 0.22189640998840332),\n",
       " ('horrible', 0.21500995755195618),\n",
       " ('great.', 0.21493464708328247),\n",
       " ('more,', 0.21312564611434937),\n",
       " ('good)', 0.21071775257587433),\n",
       " ('weak', 0.20492035150527954)]"
      ]
     },
     "execution_count": 15,
     "metadata": {
      "tags": []
     },
     "output_type": "execute_result"
    }
   ],
   "source": [
    "model.most_similar('good')"
   ]
  },
  {
   "cell_type": "code",
   "execution_count": 16,
   "metadata": {
    "colab": {
     "base_uri": "https://localhost:8080/"
    },
    "id": "AxOQZzV3VMhs",
    "outputId": "8c1ed786-099f-49d0-dedd-d96bd3dc411b"
   },
   "outputs": [
    {
     "data": {
      "text/plain": [
       "array([-9.00481343e-01,  2.36588597e-01,  8.73037517e-01, -3.65043551e-01,\n",
       "        3.94030124e-01,  5.35319507e-01,  1.27145231e-01, -4.10729170e-01,\n",
       "       -8.57239485e-01,  2.19681580e-02,  6.94972396e-01,  3.12610000e-01,\n",
       "       -7.76733994e-01, -1.21209502e+00, -2.25350693e-01, -2.93326914e-01,\n",
       "       -5.69174111e-01, -6.50026977e-01, -2.43503153e-01,  5.31960309e-01,\n",
       "        6.85420454e-01, -1.47901252e-02, -2.34187230e-01,  7.71331862e-02,\n",
       "        6.03104889e-01,  6.47679031e-01,  7.50732481e-01,  1.10684001e+00,\n",
       "       -3.87849569e-01, -6.47312701e-02, -2.59372294e-01, -1.19491971e+00,\n",
       "        5.25403321e-01,  7.48693943e-02,  3.54710400e-01, -7.53939331e-01,\n",
       "       -1.99456537e+00,  5.52242517e-01, -7.29412198e-01, -2.32319206e-01,\n",
       "        7.10493803e-01,  1.65815786e-01, -9.52183306e-02, -1.04128075e+00,\n",
       "       -9.69124913e-01, -1.61066696e-01,  1.94539711e-01,  2.54868865e-01,\n",
       "        4.37420517e-01, -4.29539472e-01, -2.80801177e-01,  2.69303054e-01,\n",
       "       -7.13838488e-02,  2.40917001e-02, -7.84686089e-01, -9.66068432e-02,\n",
       "        2.27944046e-01, -3.86776149e-01,  8.48495483e-01,  7.64536917e-01,\n",
       "        1.25280023e+00,  5.26790321e-01, -4.03560281e-01, -6.25357032e-01,\n",
       "       -3.54290396e-01, -8.43440711e-01,  6.85633421e-01, -1.39129603e+00,\n",
       "       -1.38185993e-01,  8.13630283e-01, -2.00816002e-02,  4.05556321e-01,\n",
       "        1.79501191e-01, -4.81280684e-01, -1.08559096e+00,  4.69266802e-01,\n",
       "       -1.03524911e+00, -5.15122056e-01, -1.04997897e+00,  9.01947081e-01,\n",
       "        4.84386832e-01, -4.76199776e-01, -7.02014983e-01, -1.78651586e-01,\n",
       "        7.05547035e-01, -2.56670639e-02, -6.26516163e-01,  1.05917931e+00,\n",
       "        5.72092950e-01,  1.13694072e+00,  4.85759735e-01, -5.61567605e-01,\n",
       "       -6.07825518e-01, -1.22007477e+00, -6.20072149e-02,  1.10080576e+00,\n",
       "        4.13300961e-01,  2.69452244e-01, -1.94502711e-01,  8.68625641e-01,\n",
       "       -3.72381270e-01, -5.04158258e-01,  3.48771363e-01,  1.11056471e+00,\n",
       "       -1.03030539e+00, -1.28418720e+00,  8.38159561e-01, -3.65016609e-01,\n",
       "        8.43637228e-01,  1.79028437e-01, -1.46636748e+00, -7.46970594e-01,\n",
       "       -6.73716366e-01, -1.15005620e-01, -6.61407769e-01, -7.68695951e-01,\n",
       "        4.83628988e-01,  1.67158488e-02,  2.73834139e-01,  9.67838705e-01,\n",
       "       -8.18624735e-01,  8.49677920e-01,  3.79452139e-01, -7.83116102e-01,\n",
       "        7.72950590e-01, -2.24536166e-01, -5.73532701e-01,  2.02369288e-01,\n",
       "       -1.01597238e+00, -2.35503092e-01,  4.89682823e-01,  7.04139829e-01,\n",
       "        9.14266527e-01, -3.05619687e-01,  3.00588340e-01,  6.72656059e-01,\n",
       "       -2.59737372e-01, -8.28919783e-02, -7.37474039e-02, -3.05457592e-01,\n",
       "       -2.27548644e-01, -1.22889388e+00,  9.26862359e-01, -7.76354074e-01,\n",
       "        1.13828325e+00,  6.71871603e-01,  6.73075199e-01,  1.72743097e-01,\n",
       "       -3.71042490e-02,  1.61333814e-01, -8.71697128e-01, -7.82247111e-02,\n",
       "       -4.63606954e-01,  6.62897378e-02,  8.86354744e-01, -4.78312150e-02,\n",
       "       -1.21438116e-01, -1.59246981e+00, -9.44039285e-01, -1.89767587e+00,\n",
       "       -1.00595646e-01,  1.34848249e+00, -3.86498481e-01,  3.18052530e-01,\n",
       "       -8.50710630e-01,  9.74488318e-01, -6.77472830e-01,  3.68235946e-01,\n",
       "       -1.53067911e+00, -1.04242849e+00,  1.03077941e-01, -9.02455579e-03,\n",
       "        1.27426970e+00, -9.10645664e-01, -2.07300806e+00, -1.90827325e-01,\n",
       "        4.12222654e-01, -8.43651295e-01,  1.68745136e+00,  5.48854411e-01,\n",
       "        3.03039551e-01, -5.71415663e-01,  3.58575284e-01, -2.98419297e-01,\n",
       "       -1.01150489e+00, -7.25126982e-01, -5.27900577e-01, -4.72030006e-02,\n",
       "       -5.84123671e-01, -1.36379927e-01,  1.56105265e-01,  6.07914150e-01,\n",
       "        1.64658701e+00, -2.41499692e-01,  6.98032007e-02, -7.24225119e-02,\n",
       "        2.58188665e-01, -3.09376627e-01,  5.14683127e-01,  5.33096790e-01,\n",
       "        4.10441041e-01,  2.49081379e-04,  3.83936644e-01,  1.97284564e-01,\n",
       "       -1.44222629e+00,  9.40621376e-01,  1.21057272e+00,  2.36492500e-01,\n",
       "        1.15335912e-01,  4.98344541e-01,  8.99415135e-01, -7.57710218e-01,\n",
       "        7.80818701e-01, -3.34990621e-01, -4.74022806e-01, -7.56688476e-01,\n",
       "       -1.75807878e-01,  5.18917330e-02, -8.07106018e-01, -5.36179066e-01,\n",
       "        2.67888933e-01,  7.07967639e-01, -6.50941789e-01,  8.22012246e-01,\n",
       "        6.90973163e-01, -1.11873019e+00, -1.48006833e+00, -1.06144357e+00,\n",
       "        2.34943256e-01,  9.89116132e-01, -7.72261322e-02,  9.45120513e-01,\n",
       "       -8.87913465e-01, -3.57628495e-01,  1.37032914e+00, -6.67057419e-03,\n",
       "       -5.62605977e-01,  7.08836913e-01, -1.37066507e+00, -1.19497240e+00,\n",
       "       -5.88009059e-01, -1.44442201e+00, -1.59438744e-01, -2.48314202e-01,\n",
       "       -1.21240750e-01, -3.23730797e-01,  9.13463354e-01,  5.47238469e-01,\n",
       "        2.84709334e-01,  4.67063963e-01, -1.59065568e+00,  4.23887879e-01,\n",
       "        6.43930376e-01,  6.45967841e-01, -6.61533773e-01,  8.09510469e-01,\n",
       "       -4.28633183e-01,  2.42167398e-01, -1.32580328e+00,  3.33819777e-01,\n",
       "       -3.99230272e-01, -1.15853047e+00,  9.72231328e-02,  1.33342373e+00,\n",
       "        1.27514243e+00,  1.28825581e+00,  1.03167951e+00,  6.06704891e-01,\n",
       "       -2.97239190e-03, -7.35280454e-01,  3.44507754e-01,  3.07272077e-01,\n",
       "       -1.34855080e+00,  1.57622173e-01,  5.76381385e-01, -7.92651176e-01,\n",
       "        2.21343771e-01,  3.72501254e-01,  1.12882268e+00, -3.22816595e-02,\n",
       "       -2.32680395e-01, -6.86307192e-01, -3.75776619e-01, -5.88295817e-01,\n",
       "       -3.95643532e-01, -1.27034056e+00, -1.22867756e-01, -3.61721933e-01,\n",
       "        3.08412522e-01,  3.79122466e-01,  1.02143490e+00,  7.30090797e-01,\n",
       "        3.57046992e-01,  1.38200790e-01,  1.10913563e+00,  1.01659572e+00,\n",
       "        3.05641204e-01,  2.62631655e-01,  1.62860847e+00,  3.57482314e-01],\n",
       "      dtype=float32)"
      ]
     },
     "execution_count": 16,
     "metadata": {
      "tags": []
     },
     "output_type": "execute_result"
    }
   ],
   "source": [
    "model['TRAIN_NEG_0']"
   ]
  },
  {
   "cell_type": "markdown",
   "metadata": {
    "id": "afjSqdV4c-nK"
   },
   "source": [
    "## Saving and loading the model:"
   ]
  },
  {
   "cell_type": "code",
   "execution_count": 17,
   "metadata": {
    "id": "Aa6oXX2KVQz4"
   },
   "outputs": [],
   "source": [
    "model.save('./custom_model.d2v')"
   ]
  },
  {
   "cell_type": "code",
   "execution_count": 18,
   "metadata": {
    "id": "KwQKA7JjVTPM"
   },
   "outputs": [],
   "source": [
    "model = Doc2Vec.load('./custom_model.d2v')"
   ]
  },
  {
   "cell_type": "code",
   "execution_count": 19,
   "metadata": {
    "id": "7Sgn9Y1lWPCG"
   },
   "outputs": [],
   "source": [
    "train_arrays = numpy.zeros((1498, 300))\n",
    "train_labels = numpy.zeros(1498)\n",
    "\n",
    "for i in range(749):\n",
    "    prefix_train_pos = 'TRAIN_POS_' + str(i)\n",
    "    prefix_train_neg = 'TRAIN_NEG_' + str(i)\n",
    "    train_arrays[i] = model[prefix_train_pos]\n",
    "    train_arrays[749 + i] = model[prefix_train_neg]\n",
    "    train_labels[i] = 1\n",
    "    train_labels[749 + i] = 0"
   ]
  },
  {
   "cell_type": "code",
   "execution_count": 20,
   "metadata": {
    "colab": {
     "base_uri": "https://localhost:8080/"
    },
    "id": "2ky7cW2aXgFX",
    "outputId": "cc7586b6-6cf1-461f-ea1c-eae61bacfabf"
   },
   "outputs": [
    {
     "name": "stdout",
     "output_type": "stream",
     "text": [
      "[[-0.71812862 -0.11285815  0.17700161 ...  0.43355182  0.46504912\n",
      "   0.88390213]\n",
      " [-0.12832157  0.16901268 -0.8787719  ...  0.47742921 -0.34336185\n",
      "   1.35363507]\n",
      " [-0.57856303  0.15944052  0.07888403 ... -0.12450693  0.21988459\n",
      "   0.27824005]\n",
      " ...\n",
      " [-0.50737417  0.61803901  0.05654785 ...  0.51179206  0.63517994\n",
      "   0.33962241]\n",
      " [ 0.02789914  1.2521286  -0.05022327 ... -0.06257523  0.25345513\n",
      "   0.15459493]\n",
      " [-0.6752997  -0.08570556 -0.17695399 ...  0.47264975  0.25766838\n",
      "   0.55904603]]\n"
     ]
    }
   ],
   "source": [
    "print(train_arrays)"
   ]
  },
  {
   "cell_type": "code",
   "execution_count": 21,
   "metadata": {
    "colab": {
     "base_uri": "https://localhost:8080/"
    },
    "id": "XNgMq-M6XmZm",
    "outputId": "b9d0877b-1f78-4cd2-afd5-7d24a67c9d2b"
   },
   "outputs": [
    {
     "name": "stdout",
     "output_type": "stream",
     "text": [
      "[1. 1. 1. ... 0. 0. 0.]\n"
     ]
    }
   ],
   "source": [
    "print(train_labels)"
   ]
  },
  {
   "cell_type": "code",
   "execution_count": 22,
   "metadata": {
    "id": "KdqTJ0CPXq-_"
   },
   "outputs": [],
   "source": [
    "test_arrays = numpy.zeros((500, 300))\n",
    "test_labels = numpy.zeros(500)\n",
    "\n",
    "for i in range(250):\n",
    "    prefix_test_pos = 'TEST_POS_' + str(i)\n",
    "    prefix_test_neg = 'TEST_NEG_' + str(i)\n",
    "    test_arrays[i] = model[prefix_test_pos]\n",
    "    test_arrays[250 + i] = model[prefix_test_neg]\n",
    "    test_labels[i] = 1\n",
    "    test_labels[250 + i] = 0"
   ]
  },
  {
   "cell_type": "code",
   "execution_count": 23,
   "metadata": {
    "id": "Gr7v6ZmbhNbw"
   },
   "outputs": [],
   "source": [
    "import pickle\n",
    "from sklearn.metrics import accuracy_score, precision_score \n",
    "from sklearn.metrics import recall_score, confusion_matrix, classification_report\n",
    "def generate_report(pred_list, custom_model, y_test, model_name):\n",
    "  print(f'Confusion Matrix:\\n{confusion_matrix(y_test,pred_list)}')\n",
    "  print(f'\\nClassification Report:\\n{classification_report(y_test,pred_list)}')\n",
    "  acc = accuracy_score(y_test, pred_list) * 100\n",
    "  print(f'Accuracy: {acc}%')\n",
    "  prec = precision_score(y_test, pred_list, average='macro') * 100\n",
    "  print(f'Precision: {prec}%')\n",
    "  rec = recall_score(y_test, pred_list, average='macro') * 100\n",
    "  print(f'Recall: {rec}%')\n",
    "  pickle.dump(custom_model, open(model_name + '.sav', 'wb'))\n",
    "  print(model_name + ' trained Model Saved')\n",
    "  return acc, prec, rec"
   ]
  },
  {
   "cell_type": "markdown",
   "metadata": {
    "id": "7xGvBD4JdFcL"
   },
   "source": [
    "## Logistic Regression:"
   ]
  },
  {
   "cell_type": "code",
   "execution_count": 24,
   "metadata": {
    "colab": {
     "base_uri": "https://localhost:8080/"
    },
    "id": "vpf5WWhjYCO5",
    "outputId": "cd6f466d-b183-405b-9a8e-9df0e95316b4"
   },
   "outputs": [
    {
     "data": {
      "text/plain": [
       "LogisticRegression(C=1.0, class_weight=None, dual=False, fit_intercept=True,\n",
       "                   intercept_scaling=1, l1_ratio=None, max_iter=1000,\n",
       "                   multi_class='auto', n_jobs=None, penalty='l2',\n",
       "                   random_state=None, solver='lbfgs', tol=0.0001, verbose=0,\n",
       "                   warm_start=False)"
      ]
     },
     "execution_count": 24,
     "metadata": {
      "tags": []
     },
     "output_type": "execute_result"
    }
   ],
   "source": [
    "classifier = LogisticRegression(max_iter=1000)\n",
    "classifier.fit(train_arrays, train_labels)"
   ]
  },
  {
   "cell_type": "code",
   "execution_count": 25,
   "metadata": {
    "colab": {
     "base_uri": "https://localhost:8080/"
    },
    "id": "CnXpaeyQYSzu",
    "outputId": "3e0f0075-2978-401c-af1e-6cf970cafd36"
   },
   "outputs": [
    {
     "data": {
      "text/plain": [
       "0.768"
      ]
     },
     "execution_count": 25,
     "metadata": {
      "tags": []
     },
     "output_type": "execute_result"
    }
   ],
   "source": [
    "classifier.score(test_arrays, test_labels)"
   ]
  },
  {
   "cell_type": "code",
   "execution_count": 26,
   "metadata": {
    "id": "as7B_X0SjVCz"
   },
   "outputs": [],
   "source": [
    "LRpred = classifier.predict(test_arrays)"
   ]
  },
  {
   "cell_type": "code",
   "execution_count": 27,
   "metadata": {
    "colab": {
     "base_uri": "https://localhost:8080/"
    },
    "id": "fq2P5oMGjMv3",
    "outputId": "8d3c366b-7e4a-458c-843c-a837fee4b34e"
   },
   "outputs": [
    {
     "name": "stdout",
     "output_type": "stream",
     "text": [
      "Confusion Matrix:\n",
      "[[178  72]\n",
      " [ 44 206]]\n",
      "\n",
      "Classification Report:\n",
      "              precision    recall  f1-score   support\n",
      "\n",
      "         0.0       0.80      0.71      0.75       250\n",
      "         1.0       0.74      0.82      0.78       250\n",
      "\n",
      "    accuracy                           0.77       500\n",
      "   macro avg       0.77      0.77      0.77       500\n",
      "weighted avg       0.77      0.77      0.77       500\n",
      "\n",
      "Accuracy: 76.8%\n",
      "Precision: 77.1404498023203%\n",
      "Recall: 76.8%\n",
      "LinearRegression_model trained Model Saved\n"
     ]
    }
   ],
   "source": [
    "lr_metrics = [None, None, None]\n",
    "lr_metrics[0], lr_metrics[1], lr_metrics[2] = generate_report(LRpred, classifier, test_labels, 'LinearRegression_model')"
   ]
  },
  {
   "cell_type": "markdown",
   "metadata": {
    "id": "dfpc4XizdtZO"
   },
   "source": [
    "## Bernoulli Naive Bayes:"
   ]
  },
  {
   "cell_type": "code",
   "execution_count": 28,
   "metadata": {
    "id": "8HmNUqy6hluA"
   },
   "outputs": [],
   "source": [
    "import pickle\n",
    "from sklearn.naive_bayes import BernoulliNB\n",
    "from sklearn.metrics import accuracy_score, confusion_matrix, classification_report, precision_score, recall_score\n",
    "\n",
    "classifier = BernoulliNB()\n",
    "\n",
    "classifier.fit(train_arrays, train_labels)\n",
    "BNBpred=classifier.predict(test_arrays)"
   ]
  },
  {
   "cell_type": "code",
   "execution_count": 29,
   "metadata": {
    "colab": {
     "base_uri": "https://localhost:8080/"
    },
    "id": "Er4LqsDSjqL6",
    "outputId": "896f7bb4-96b4-4daf-b3ec-12cf0b84f8d7"
   },
   "outputs": [
    {
     "name": "stdout",
     "output_type": "stream",
     "text": [
      "Confusion Matrix:\n",
      "[[180  70]\n",
      " [ 39 211]]\n",
      "\n",
      "Classification Report:\n",
      "              precision    recall  f1-score   support\n",
      "\n",
      "         0.0       0.82      0.72      0.77       250\n",
      "         1.0       0.75      0.84      0.79       250\n",
      "\n",
      "    accuracy                           0.78       500\n",
      "   macro avg       0.79      0.78      0.78       500\n",
      "weighted avg       0.79      0.78      0.78       500\n",
      "\n",
      "Accuracy: 78.2%\n",
      "Precision: 78.64037439672403%\n",
      "Recall: 78.2%\n",
      "BernoulliNB_model trained Model Saved\n"
     ]
    }
   ],
   "source": [
    "bnb_metrics = [None, None, None]\n",
    "bnb_metrics[0], bnb_metrics[1], bnb_metrics[2] = generate_report(BNBpred, classifier, test_labels, 'BernoulliNB_model')"
   ]
  },
  {
   "cell_type": "markdown",
   "metadata": {
    "id": "l21DrSbOdx7n"
   },
   "source": [
    "## Decision Tree classifier"
   ]
  },
  {
   "cell_type": "code",
   "execution_count": 30,
   "metadata": {
    "id": "JGbTaS-0kieW"
   },
   "outputs": [],
   "source": [
    "from sklearn.tree import DecisionTreeClassifier\n",
    "from sklearn.model_selection import cross_val_score"
   ]
  },
  {
   "cell_type": "code",
   "execution_count": 31,
   "metadata": {
    "id": "IspVz0dikIC8"
   },
   "outputs": [],
   "source": [
    "dt_clf = DecisionTreeClassifier()\n",
    "# dt_model = Pipeline([(\"cleaner\", predictors()), ('vectorizer', vectorizer), ('classifier', dt_clf)])\n",
    "\n",
    "# Train the Model\n",
    "dt_clf.fit(train_arrays, train_labels)   \n",
    "dt_pred = dt_clf.predict(test_arrays)"
   ]
  },
  {
   "cell_type": "code",
   "execution_count": 32,
   "metadata": {
    "colab": {
     "base_uri": "https://localhost:8080/"
    },
    "id": "2vUEdxjgj1d2",
    "outputId": "bb957aa6-cc9e-497f-ace2-c836af84f1e6"
   },
   "outputs": [
    {
     "name": "stdout",
     "output_type": "stream",
     "text": [
      "Confusion Matrix:\n",
      "[[147 103]\n",
      " [106 144]]\n",
      "\n",
      "Classification Report:\n",
      "              precision    recall  f1-score   support\n",
      "\n",
      "         0.0       0.58      0.59      0.58       250\n",
      "         1.0       0.58      0.58      0.58       250\n",
      "\n",
      "    accuracy                           0.58       500\n",
      "   macro avg       0.58      0.58      0.58       500\n",
      "weighted avg       0.58      0.58      0.58       500\n",
      "\n",
      "Accuracy: 58.199999999999996%\n",
      "Precision: 58.20118097005968%\n",
      "Recall: 58.199999999999996%\n",
      "DecisionTree_model trained Model Saved\n"
     ]
    }
   ],
   "source": [
    "dt_metrics = [None, None, None]\n",
    "dt_metrics[0], dt_metrics[1], dt_metrics[2] = generate_report(dt_pred, dt_clf, test_labels, 'DecisionTree_model')"
   ]
  },
  {
   "cell_type": "code",
   "execution_count": 33,
   "metadata": {
    "colab": {
     "base_uri": "https://localhost:8080/"
    },
    "id": "zY_irSbQk0VZ",
    "outputId": "b56b9c35-1c7d-4876-d786-42505ca9c163"
   },
   "outputs": [
    {
     "data": {
      "text/plain": [
       "array([[-0.71812862, -0.11285815,  0.17700161, ...,  0.43355182,\n",
       "         0.46504912,  0.88390213],\n",
       "       [-0.12832157,  0.16901268, -0.8787719 , ...,  0.47742921,\n",
       "        -0.34336185,  1.35363507],\n",
       "       [-0.57856303,  0.15944052,  0.07888403, ..., -0.12450693,\n",
       "         0.21988459,  0.27824005],\n",
       "       [ 0.16554125,  0.47895843, -0.0454835 , ..., -1.36547923,\n",
       "        -0.32575974,  0.97647935],\n",
       "       [-1.1359762 ,  0.28030828,  0.24656701, ...,  0.051396  ,\n",
       "         0.11633892,  1.32815182]])"
      ]
     },
     "execution_count": 33,
     "metadata": {
      "tags": []
     },
     "output_type": "execute_result"
    }
   ],
   "source": [
    "train_arrays[:5]"
   ]
  },
  {
   "cell_type": "markdown",
   "metadata": {
    "id": "9kt6N8-8d2mZ"
   },
   "source": [
    "## SVM:"
   ]
  },
  {
   "cell_type": "code",
   "execution_count": 34,
   "metadata": {
    "id": "OlQlggiWmbne"
   },
   "outputs": [],
   "source": [
    "from sklearn.svm import SVC\n",
    "from sklearn import svm\n",
    "from sklearn.metrics import classification_report\n",
    "# pipeline and standard scalar are already imported"
   ]
  },
  {
   "cell_type": "code",
   "execution_count": 35,
   "metadata": {
    "colab": {
     "base_uri": "https://localhost:8080/"
    },
    "id": "8yemBlDSmdx0",
    "outputId": "ce2145e2-115f-4484-9424-ca533dbe87e5"
   },
   "outputs": [
    {
     "name": "stdout",
     "output_type": "stream",
     "text": [
      "CPU times: user 1.31 s, sys: 9.01 ms, total: 1.32 s\n",
      "Wall time: 1.35 s\n"
     ]
    }
   ],
   "source": [
    "%%time\n",
    "#Train the model\n",
    "# Perform classification with SVM, kernel=linear\n",
    "SVMclassifier = svm.SVC(kernel='linear')\n",
    "# SVMmodel = Pipeline([(\"cleaner\", predictors()), ('vectorizer', vectorizer), ('classifier', SVMclassifier)])\n",
    "SVMclassifier.fit(train_arrays, train_labels)\n",
    "SVMpred = SVMclassifier.predict(test_arrays)"
   ]
  },
  {
   "cell_type": "code",
   "execution_count": 36,
   "metadata": {
    "colab": {
     "base_uri": "https://localhost:8080/"
    },
    "id": "Wuwx3UJbj9Io",
    "outputId": "4a4c8d6f-182d-4142-c0ba-4bd6c2fc82cb"
   },
   "outputs": [
    {
     "name": "stdout",
     "output_type": "stream",
     "text": [
      "Confusion Matrix:\n",
      "[[177  73]\n",
      " [ 46 204]]\n",
      "\n",
      "Classification Report:\n",
      "              precision    recall  f1-score   support\n",
      "\n",
      "         0.0       0.79      0.71      0.75       250\n",
      "         1.0       0.74      0.82      0.77       250\n",
      "\n",
      "    accuracy                           0.76       500\n",
      "   macro avg       0.77      0.76      0.76       500\n",
      "weighted avg       0.77      0.76      0.76       500\n",
      "\n",
      "Accuracy: 76.2%\n",
      "Precision: 76.50920334784932%\n",
      "Recall: 76.2%\n",
      "SVM_model trained Model Saved\n"
     ]
    }
   ],
   "source": [
    "svm_metrics = [None, None, None]\n",
    "svm_metrics[0], svm_metrics[1], svm_metrics[2] = generate_report(SVMpred, SVMclassifier, test_labels, 'SVM_model')"
   ]
  },
  {
   "cell_type": "markdown",
   "metadata": {
    "id": "xOaiaMQIvdkW"
   },
   "source": [
    "## Results comparision plots and tables"
   ]
  },
  {
   "cell_type": "code",
   "execution_count": 37,
   "metadata": {
    "colab": {
     "base_uri": "https://localhost:8080/"
    },
    "id": "tyo7GEJTv5-4",
    "outputId": "641f793e-66fa-421c-fc4c-ad42ca06683b"
   },
   "outputs": [
    {
     "name": "stdout",
     "output_type": "stream",
     "text": [
      "Requirement already satisfied: tabulate in /usr/local/lib/python3.7/dist-packages (0.8.9)\n",
      "╒════════════════════════╤════════════╤═════════════╤══════════╕\n",
      "│ Model Name             │   Accuracy │   Precision │   Recall │\n",
      "╞════════════════════════╪════════════╪═════════════╪══════════╡\n",
      "│ Bernoulli Naïve Bayes  │       78.2 │     78.6404 │     78.2 │\n",
      "├────────────────────────┼────────────┼─────────────┼──────────┤\n",
      "│ Support Vector Machine │       76.2 │     76.5092 │     76.2 │\n",
      "├────────────────────────┼────────────┼─────────────┼──────────┤\n",
      "│ Maximum Entropy        │       76.8 │     77.1404 │     76.8 │\n",
      "├────────────────────────┼────────────┼─────────────┼──────────┤\n",
      "│ Decision Tree          │       58.2 │     58.2012 │     58.2 │\n",
      "╘════════════════════════╧════════════╧═════════════╧══════════╛\n"
     ]
    }
   ],
   "source": [
    "!pip3 install tabulate\n",
    "from tabulate import tabulate\n",
    "table = [['Model Name', 'Accuracy', 'Precision', 'Recall'],\n",
    "         ['Bernoulli Naïve Bayes', bnb_metrics[0], bnb_metrics[1], bnb_metrics[2]],\n",
    "         ['Support Vector Machine', svm_metrics[0], svm_metrics[1], svm_metrics[2]],\n",
    "         ['Maximum Entropy', lr_metrics[0], lr_metrics[1], lr_metrics[2]],\n",
    "         ['Decision Tree', dt_metrics[0], dt_metrics[1], dt_metrics[2]]]\n",
    "\n",
    "print(tabulate(table, headers='firstrow', tablefmt='fancy_grid'))"
   ]
  },
  {
   "cell_type": "code",
   "execution_count": 38,
   "metadata": {
    "colab": {
     "base_uri": "https://localhost:8080/",
     "height": 346
    },
    "id": "zI2RYG5Uv-5U",
    "outputId": "56736718-d045-463b-eff8-97b8b2bca874"
   },
   "outputs": [
    {
     "data": {
      "image/png": "[encoded data removed]",
      "text/plain": [
       "<Figure size 432x288 with 1 Axes>"
      ]
     },
     "metadata": {
      "needs_background": "light",
      "tags": []
     },
     "output_type": "display_data"
    }
   ],
   "source": [
    "import numpy as np\n",
    "import matplotlib.pyplot as plt\n",
    "  \n",
    "N = 4\n",
    "ind = np.arange(N) \n",
    "width = 0.25\n",
    "  \n",
    "acc = [bnb_metrics[0], svm_metrics[0], lr_metrics[0], dt_metrics[0]]\n",
    "bar1 = plt.bar(ind, acc, width)\n",
    "  \n",
    "prec = [bnb_metrics[1], svm_metrics[1], lr_metrics[1], dt_metrics[1]]\n",
    "bar2 = plt.bar(ind+width, prec, width)\n",
    "  \n",
    "recall = [bnb_metrics[2], svm_metrics[2], lr_metrics[2], dt_metrics[2]]\n",
    "bar3 = plt.bar(ind+width*2, recall, width)\n",
    "  \n",
    "# plt.xlabel(\"Dates\")\n",
    "plt.ylabel(\"Percentage\")\n",
    "plt.title(\"Comparison\")\n",
    "  \n",
    "plt.xticks(ind+width,['Bernoulli NB','SVM','Logistic Regression', 'Decision Tree'])\n",
    "plt.xticks(rotation = 45)\n",
    "plt.legend( (bar1, bar2, bar3), ('Accuracy', 'Precision', 'Recall'), bbox_to_anchor = (1.05, 0.6))\n",
    "plt.show()"
   ]
  },
  {
   "cell_type": "code",
   "execution_count": 39,
   "metadata": {
    "colab": {
     "base_uri": "https://localhost:8080/",
     "height": 346
    },
    "id": "k_xnFLctwABD",
    "outputId": "5aa14e46-e5f4-4fea-bce6-14444bfe73be"
   },
   "outputs": [
    {
     "data": {
      "image/png": "[encoded data removed]",
      "text/plain": [
       "<Figure size 432x288 with 1 Axes>"
      ]
     },
     "metadata": {
      "needs_background": "light",
      "tags": []
     },
     "output_type": "display_data"
    }
   ],
   "source": [
    "import matplotlib.pyplot as plt\n",
    "models = ['Bernoulli NB','SVM','Logistic Regression', 'Decision Tree']\n",
    "recall = [bnb_metrics[2], svm_metrics[2], lr_metrics[2], dt_metrics[2]]\n",
    "precision = [bnb_metrics[1], svm_metrics[1], lr_metrics[1], dt_metrics[1]]\n",
    "line_chart1 = plt.plot(models, recall, 'o-g')\n",
    "line_chart2 = plt.plot(models, precision, 'o-y')\n",
    "plt.title('Recall vs Precision')\n",
    "plt.ylabel('Score')\n",
    "plt.xticks(rotation = 45)\n",
    "plt.legend(['Recall', 'Precision'], bbox_to_anchor = (1.3, 0.6))\n",
    "plt.show()"
   ]
  }
 ],
 "metadata": {
  "colab": {
   "collapsed_sections": [],
   "name": "doc2vec.ipynb",
   "provenance": []
  },
  "kernelspec": {
   "display_name": "Python 3",
   "language": "python",
   "name": "python3"
  },
  "language_info": {
   "codemirror_mode": {
    "name": "ipython",
    "version": 3
   },
   "file_extension": ".py",
   "mimetype": "text/x-python",
   "name": "python",
   "nbconvert_exporter": "python",
   "pygments_lexer": "ipython3",
   "version": "3.8.5"
  }
 },
 "nbformat": 4,
 "nbformat_minor": 1
}
