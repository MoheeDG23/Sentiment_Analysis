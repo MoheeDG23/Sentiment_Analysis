{
 "cells": [
  {
   "cell_type": "markdown",
   "id": "50UsDjkThQDM",
   "metadata": {
    "id": "50UsDjkThQDM"
   },
   "source": [
    "## **Libraries to be installed beforehand**"
   ]
  },
  {
   "cell_type": "code",
   "execution_count": 1,
   "id": "requested-relations",
   "metadata": {
    "id": "requested-relations"
   },
   "outputs": [],
   "source": [
    "# pip install openpyxl\n",
    "# pip3 install xlrd"
   ]
  },
  {
   "cell_type": "code",
   "execution_count": 2,
   "id": "horizontal-footwear",
   "metadata": {
    "id": "horizontal-footwear"
   },
   "outputs": [],
   "source": [
    "\n",
    "import numpy as np\n",
    "import pandas as pd\n",
    "import matplotlib.pyplot as plt\n",
    "import spacy\n",
    "import string\n",
    "import pickle\n",
    "import xlrd\n",
    "\n",
    "from spacy.lang.en.stop_words import STOP_WORDS\n",
    "from spacy.lang.en import English\n",
    "\n",
    "from sklearn.feature_extraction.text import CountVectorizer,TfidfVectorizer\n",
    "from sklearn.metrics import accuracy_score, confusion_matrix, classification_report\n",
    "from sklearn.base import TransformerMixin \n",
    "from sklearn.pipeline import Pipeline\n",
    "from sklearn.model_selection import train_test_split\n",
    "from sklearn.preprocessing import StandardScaler\n",
    "\n",
    "# from sklearn.svm import LinearSVC\n",
    "# from sklearn.ensemble import RandomForestClassifier\n"
   ]
  },
  {
   "cell_type": "markdown",
   "id": "kCmkZ9MShZSv",
   "metadata": {
    "id": "kCmkZ9MShZSv"
   },
   "source": [
    "## **Reading dataset using openpyxl engine since xlrd is now discontinued**"
   ]
  },
  {
   "cell_type": "code",
   "execution_count": 3,
   "id": "wrong-result",
   "metadata": {
    "id": "wrong-result"
   },
   "outputs": [],
   "source": [
    "dataset = pd.read_excel('dataset.xlsx', engine='openpyxl')\n",
    "# dataset = pd.read_excel('dataset.xlsx')"
   ]
  },
  {
   "cell_type": "code",
   "execution_count": 4,
   "id": "concerned-entertainment",
   "metadata": {
    "id": "concerned-entertainment",
    "outputId": "b9296727-e485-4261-807d-041cc24c7cb8"
   },
   "outputs": [
    {
     "data": {
      "text/html": [
       "<div>\n",
       "<style scoped>\n",
       "    .dataframe tbody tr th:only-of-type {\n",
       "        vertical-align: middle;\n",
       "    }\n",
       "\n",
       "    .dataframe tbody tr th {\n",
       "        vertical-align: top;\n",
       "    }\n",
       "\n",
       "    .dataframe thead th {\n",
       "        text-align: right;\n",
       "    }\n",
       "</style>\n",
       "<table border=\"1\" class=\"dataframe\">\n",
       "  <thead>\n",
       "    <tr style=\"text-align: right;\">\n",
       "      <th></th>\n",
       "      <th>URL</th>\n",
       "      <th>Text</th>\n",
       "      <th>Sentiment</th>\n",
       "    </tr>\n",
       "  </thead>\n",
       "  <tbody>\n",
       "    <tr>\n",
       "      <th>0</th>\n",
       "      <td>http://www.imdb.com/title/tt0210075/usercomments</td>\n",
       "      <td>Girlfight follows a project dwelling New York ...</td>\n",
       "      <td>POS</td>\n",
       "    </tr>\n",
       "    <tr>\n",
       "      <th>1</th>\n",
       "      <td>http://www.imdb.com/title/tt0337640/usercomments</td>\n",
       "      <td>Hollywood North is an euphemism from the movie...</td>\n",
       "      <td>POS</td>\n",
       "    </tr>\n",
       "    <tr>\n",
       "      <th>2</th>\n",
       "      <td>http://www.imdb.com/title/tt0303549/usercomments</td>\n",
       "      <td>That '70s Show is definitely the funniest show...</td>\n",
       "      <td>POS</td>\n",
       "    </tr>\n",
       "    <tr>\n",
       "      <th>3</th>\n",
       "      <td>http://www.imdb.com/title/tt0716825/usercomments</td>\n",
       "      <td>9/10- 30 minutes of pure holiday terror. Okay,...</td>\n",
       "      <td>POS</td>\n",
       "    </tr>\n",
       "    <tr>\n",
       "      <th>4</th>\n",
       "      <td>http://www.imdb.com/title/tt0182225/usercomments</td>\n",
       "      <td>A series of random, seemingly insignificant th...</td>\n",
       "      <td>POS</td>\n",
       "    </tr>\n",
       "  </tbody>\n",
       "</table>\n",
       "</div>"
      ],
      "text/plain": [
       "                                                URL  \\\n",
       "0  http://www.imdb.com/title/tt0210075/usercomments   \n",
       "1  http://www.imdb.com/title/tt0337640/usercomments   \n",
       "2  http://www.imdb.com/title/tt0303549/usercomments   \n",
       "3  http://www.imdb.com/title/tt0716825/usercomments   \n",
       "4  http://www.imdb.com/title/tt0182225/usercomments   \n",
       "\n",
       "                                                Text Sentiment  \n",
       "0  Girlfight follows a project dwelling New York ...       POS  \n",
       "1  Hollywood North is an euphemism from the movie...       POS  \n",
       "2  That '70s Show is definitely the funniest show...       POS  \n",
       "3  9/10- 30 minutes of pure holiday terror. Okay,...       POS  \n",
       "4  A series of random, seemingly insignificant th...       POS  "
      ]
     },
     "execution_count": 4,
     "metadata": {},
     "output_type": "execute_result"
    }
   ],
   "source": [
    "dataset.head()"
   ]
  },
  {
   "cell_type": "markdown",
   "id": "b5J4v7EKh2cX",
   "metadata": {
    "id": "b5J4v7EKh2cX"
   },
   "source": [
    "**Cleaning and analysing dataset and its sturcture**"
   ]
  },
  {
   "cell_type": "code",
   "execution_count": 5,
   "id": "difficult-firmware",
   "metadata": {
    "id": "difficult-firmware",
    "outputId": "a4162c62-4531-4caa-9997-56c34b12ff4a"
   },
   "outputs": [
    {
     "data": {
      "text/plain": [
       "URL          0\n",
       "Text         0\n",
       "Sentiment    0\n",
       "dtype: int64"
      ]
     },
     "execution_count": 5,
     "metadata": {},
     "output_type": "execute_result"
    }
   ],
   "source": [
    "dataset.isnull().sum()"
   ]
  },
  {
   "cell_type": "code",
   "execution_count": 6,
   "id": "wrapped-matthew",
   "metadata": {
    "id": "wrapped-matthew"
   },
   "outputs": [],
   "source": [
    "dataset.drop('URL', axis='columns', inplace=True)"
   ]
  },
  {
   "cell_type": "code",
   "execution_count": 7,
   "id": "premier-catholic",
   "metadata": {
    "id": "premier-catholic",
    "outputId": "452e45fc-b267-4992-a60f-faae1daf2383"
   },
   "outputs": [
    {
     "data": {
      "text/html": [
       "<div>\n",
       "<style scoped>\n",
       "    .dataframe tbody tr th:only-of-type {\n",
       "        vertical-align: middle;\n",
       "    }\n",
       "\n",
       "    .dataframe tbody tr th {\n",
       "        vertical-align: top;\n",
       "    }\n",
       "\n",
       "    .dataframe thead th {\n",
       "        text-align: right;\n",
       "    }\n",
       "</style>\n",
       "<table border=\"1\" class=\"dataframe\">\n",
       "  <thead>\n",
       "    <tr style=\"text-align: right;\">\n",
       "      <th></th>\n",
       "      <th>Text</th>\n",
       "      <th>Sentiment</th>\n",
       "    </tr>\n",
       "  </thead>\n",
       "  <tbody>\n",
       "    <tr>\n",
       "      <th>0</th>\n",
       "      <td>Girlfight follows a project dwelling New York ...</td>\n",
       "      <td>POS</td>\n",
       "    </tr>\n",
       "    <tr>\n",
       "      <th>1</th>\n",
       "      <td>Hollywood North is an euphemism from the movie...</td>\n",
       "      <td>POS</td>\n",
       "    </tr>\n",
       "    <tr>\n",
       "      <th>2</th>\n",
       "      <td>That '70s Show is definitely the funniest show...</td>\n",
       "      <td>POS</td>\n",
       "    </tr>\n",
       "    <tr>\n",
       "      <th>3</th>\n",
       "      <td>9/10- 30 minutes of pure holiday terror. Okay,...</td>\n",
       "      <td>POS</td>\n",
       "    </tr>\n",
       "    <tr>\n",
       "      <th>4</th>\n",
       "      <td>A series of random, seemingly insignificant th...</td>\n",
       "      <td>POS</td>\n",
       "    </tr>\n",
       "  </tbody>\n",
       "</table>\n",
       "</div>"
      ],
      "text/plain": [
       "                                                Text Sentiment\n",
       "0  Girlfight follows a project dwelling New York ...       POS\n",
       "1  Hollywood North is an euphemism from the movie...       POS\n",
       "2  That '70s Show is definitely the funniest show...       POS\n",
       "3  9/10- 30 minutes of pure holiday terror. Okay,...       POS\n",
       "4  A series of random, seemingly insignificant th...       POS"
      ]
     },
     "execution_count": 7,
     "metadata": {},
     "output_type": "execute_result"
    }
   ],
   "source": [
    "dataset.head()"
   ]
  },
  {
   "cell_type": "code",
   "execution_count": 8,
   "id": "traditional-energy",
   "metadata": {
    "id": "traditional-energy",
    "outputId": "75c2a03b-5789-4f13-b26a-05dc566e14ed"
   },
   "outputs": [
    {
     "name": "stdout",
     "output_type": "stream",
     "text": [
      "Rows: 1999\n",
      "Columns: 2\n"
     ]
    }
   ],
   "source": [
    "print(f'Rows: {dataset.shape[0]}\\nColumns: {dataset.shape[1]}')"
   ]
  },
  {
   "cell_type": "code",
   "execution_count": 9,
   "id": "invisible-webcam",
   "metadata": {
    "id": "invisible-webcam",
    "outputId": "d9598200-ead3-4622-c618-ebb6a4d2c9d5"
   },
   "outputs": [
    {
     "name": "stdout",
     "output_type": "stream",
     "text": [
      "Columns Names: ['Text', 'Sentiment']\n"
     ]
    }
   ],
   "source": [
    "print(f'Columns Names: {list(dataset.columns)}')"
   ]
  },
  {
   "cell_type": "markdown",
   "id": "uQJkNpR0h-aG",
   "metadata": {
    "id": "uQJkNpR0h-aG"
   },
   "source": [
    "### **Tokenization of sentences**"
   ]
  },
  {
   "cell_type": "code",
   "execution_count": 10,
   "id": "promotional-newman",
   "metadata": {
    "id": "promotional-newman"
   },
   "outputs": [],
   "source": [
    "nlp = English()\n",
    "stopwords = list(STOP_WORDS)\n",
    "punctuations = string.punctuation"
   ]
  },
  {
   "cell_type": "code",
   "execution_count": 11,
   "id": "found-drill",
   "metadata": {
    "id": "found-drill"
   },
   "outputs": [],
   "source": [
    "def tokenizer(sentence):\n",
    "    mytokens = nlp(sentence)\n",
    "    mytokens = [ word.lemma_.lower().strip() if word.lemma_ != \"-PRON-\" else word.lower_ for word in mytokens ]\n",
    "    mytokens = [ word for word in mytokens if word not in stopwords and word not in punctuations ]\n",
    "    return mytokens"
   ]
  },
  {
   "cell_type": "markdown",
   "id": "EeeNb5g7iKmW",
   "metadata": {
    "id": "EeeNb5g7iKmW"
   },
   "source": [
    "### **Transform and vectorization**"
   ]
  },
  {
   "cell_type": "code",
   "execution_count": 12,
   "id": "younger-symbol",
   "metadata": {
    "id": "younger-symbol"
   },
   "outputs": [],
   "source": [
    "class predictors(TransformerMixin):\n",
    "    def transform(self, X, **transform_params):\n",
    "        return [clean_text(text) for text in X]\n",
    "    def fit(self, X, y, **fit_params):\n",
    "        return self\n",
    "    def get_params(self, deep=True):\n",
    "        return {}\n",
    "\n",
    "# Basic function to clean the text \n",
    "def clean_text(text):     \n",
    "    return text.strip().lower()"
   ]
  },
  {
   "cell_type": "code",
   "execution_count": 13,
   "id": "center-circus",
   "metadata": {
    "id": "center-circus"
   },
   "outputs": [],
   "source": [
    "vectorizer = CountVectorizer(tokenizer = tokenizer, ngram_range=(1,1)) \n",
    "tfvectorizer = TfidfVectorizer(tokenizer = tokenizer)"
   ]
  },
  {
   "cell_type": "markdown",
   "id": "RiahZE9ViUV6",
   "metadata": {
    "id": "RiahZE9ViUV6"
   },
   "source": [
    "### **Dataset splitting**"
   ]
  },
  {
   "cell_type": "code",
   "execution_count": 14,
   "id": "simplified-lawyer",
   "metadata": {
    "id": "simplified-lawyer"
   },
   "outputs": [],
   "source": [
    "X = dataset['Text']\n",
    "y = dataset['Sentiment']\n",
    "X_train, X_test, y_train, y_test = train_test_split(X, y, test_size=0.2, random_state=77)"
   ]
  },
  {
   "cell_type": "markdown",
   "id": "4tj1WG6PiYRh",
   "metadata": {
    "id": "4tj1WG6PiYRh"
   },
   "source": [
    "## **Bernoulli Naïve Bayes (BNB)**"
   ]
  },
  {
   "cell_type": "code",
   "execution_count": 15,
   "id": "synthetic-million",
   "metadata": {
    "id": "synthetic-million"
   },
   "outputs": [],
   "source": [
    "from sklearn.naive_bayes import BernoulliNB"
   ]
  },
  {
   "cell_type": "markdown",
   "id": "NAm2tmbri4nG",
   "metadata": {
    "id": "NAm2tmbri4nG"
   },
   "source": [
    "## **Multinomial Naïve Bayes (MNB)**"
   ]
  },
  {
   "cell_type": "code",
   "execution_count": 16,
   "id": "9cFkxOFgi3qh",
   "metadata": {
    "id": "9cFkxOFgi3qh"
   },
   "outputs": [],
   "source": [
    "from sklearn.naive_bayes import MultinomialNB"
   ]
  },
  {
   "cell_type": "markdown",
   "id": "Rh3SQRqmi3gv",
   "metadata": {
    "id": "Rh3SQRqmi3gv"
   },
   "source": [
    "## **Maximum Entropy (ME)**"
   ]
  },
  {
   "cell_type": "code",
   "execution_count": 17,
   "id": "4OEv22wVi3ZG",
   "metadata": {
    "id": "4OEv22wVi3ZG"
   },
   "outputs": [],
   "source": [
    "from sklearn.linear_model import LogisticRegression\n"
   ]
  },
  {
   "cell_type": "code",
   "execution_count": 18,
   "id": "xjlxwtOLVf9b",
   "metadata": {
    "id": "xjlxwtOLVf9b"
   },
   "outputs": [],
   "source": []
  },
  {
   "cell_type": "code",
   "execution_count": 19,
   "id": "Ya905-WZVqzP",
   "metadata": {
    "id": "Ya905-WZVqzP"
   },
   "outputs": [],
   "source": []
  },
  {
   "cell_type": "markdown",
   "id": "oVE0aEdQi3Po",
   "metadata": {
    "id": "oVE0aEdQi3Po"
   },
   "source": [
    "## **Decision Tree (DE)**"
   ]
  },
  {
   "cell_type": "code",
   "execution_count": 20,
   "id": "E86Cu-zRi3GJ",
   "metadata": {
    "id": "E86Cu-zRi3GJ"
   },
   "outputs": [],
   "source": [
    "from sklearn.tree import DecisionTreeClassifier\n",
    "from sklearn.model_selection import cross_val_score"
   ]
  },
  {
   "cell_type": "markdown",
   "id": "agevMzqoi1-z",
   "metadata": {
    "id": "agevMzqoi1-z"
   },
   "source": [
    "## **Support Vector Machine (SVM)**"
   ]
  },
  {
   "cell_type": "code",
   "execution_count": 21,
   "id": "_MrwiyeSjam8",
   "metadata": {
    "id": "_MrwiyeSjam8"
   },
   "outputs": [],
   "source": [
    "from sklearn.svm import SVC\n",
    "# pipeline and standard scalar are already imported"
   ]
  },
  {
   "cell_type": "markdown",
   "id": "NJFI6I2Mi0PF",
   "metadata": {
    "id": "NJFI6I2Mi0PF"
   },
   "source": [
    "## **Results comparision plots and tables**"
   ]
  },
  {
   "cell_type": "code",
   "execution_count": null,
   "id": "bgHqE_JGjliG",
   "metadata": {
    "id": "bgHqE_JGjliG"
   },
   "outputs": [],
   "source": []
  }
 ],
 "metadata": {
  "colab": {
   "collapsed_sections": [],
   "name": "project.ipynb",
   "provenance": []
  },
  "kernelspec": {
   "display_name": "Python 3",
   "language": "python",
   "name": "python3"
  },
  "language_info": {
   "codemirror_mode": {
    "name": "ipython",
    "version": 3
   },
   "file_extension": ".py",
   "mimetype": "text/x-python",
   "name": "python",
   "nbconvert_exporter": "python",
   "pygments_lexer": "ipython3",
   "version": "3.8.5"
  }
 },
 "nbformat": 4,
 "nbformat_minor": 5
}
