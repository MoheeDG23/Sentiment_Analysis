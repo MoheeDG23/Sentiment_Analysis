{
  "nbformat": 4,
  "nbformat_minor": 0,
  "metadata": {
    "colab": {
      "name": "doc2vec.ipynb",
      "provenance": [],
      "collapsed_sections": []
    },
    "kernelspec": {
      "display_name": "Python 3",
      "language": "python",
      "name": "python3"
    },
    "language_info": {
      "codemirror_mode": {
        "name": "ipython",
        "version": 3
      },
      "file_extension": ".py",
      "mimetype": "text/x-python",
      "name": "python",
      "nbconvert_exporter": "python",
      "pygments_lexer": "ipython3",
      "version": "3.8.5"
    }
  },
  "cells": [
    {
      "cell_type": "markdown",
      "metadata": {
        "id": "vAgFQKDAwK31"
      },
      "source": [
        "## Importing necessary modules"
      ]
    },
    {
      "cell_type": "code",
      "metadata": {
        "id": "YHkOpTyiH5zL"
      },
      "source": [
        "# gensim modules\n",
        "from gensim import utils\n",
        "from gensim.models.doc2vec import LabeledSentence\n",
        "from gensim.models import Doc2Vec\n",
        "\n",
        "# numpy\n",
        "import numpy\n",
        "\n",
        "# classifier\n",
        "from sklearn.linear_model import LogisticRegression\n",
        "\n",
        "# random\n",
        "import random\n",
        "from sklearn.pipeline import Pipeline"
      ],
      "execution_count": 1,
      "outputs": []
    },
    {
      "cell_type": "markdown",
      "metadata": {
        "id": "W8EimrYRcGbU"
      },
      "source": [
        "## Importing dataset"
      ]
    },
    {
      "cell_type": "code",
      "metadata": {
        "colab": {
          "base_uri": "https://localhost:8080/"
        },
        "id": "HSVTfZnuIZyG",
        "outputId": "0532aa00-b61d-49c0-8074-c3366ec80ee2"
      },
      "source": [
        "from google.colab import drive\n",
        "drive.mount(\"/content/drive\")"
      ],
      "execution_count": 2,
      "outputs": [
        {
          "output_type": "stream",
          "text": [
            "Drive already mounted at /content/drive; to attempt to forcibly remount, call drive.mount(\"/content/drive\", force_remount=True).\n"
          ],
          "name": "stdout"
        }
      ]
    },
    {
      "cell_type": "code",
      "metadata": {
        "id": "E_Fu7ws-IYkX"
      },
      "source": [
        "import pandas as pd\n",
        "\n",
        "def load_data():\n",
        "\n",
        "    data_df = pd.read_excel('/content/drive/My Drive/dataset/dataset.xlsx', engine='openpyxl')\n",
        "\n",
        "    data_df.to_csv('output_reviews_top.csv')\n",
        "\n",
        "load_data()"
      ],
      "execution_count": 3,
      "outputs": []
    },
    {
      "cell_type": "code",
      "metadata": {
        "colab": {
          "base_uri": "https://localhost:8080/"
        },
        "id": "pxt49cHQImGV",
        "outputId": "35f49bf6-b628-4839-b891-a5988dc058e0"
      },
      "source": [
        "top_data_df = pd.read_csv('output_reviews_top.csv')\n",
        "print(\"Columns in the original dataset:\\n\")\n",
        "print(top_data_df.columns)"
      ],
      "execution_count": 4,
      "outputs": [
        {
          "output_type": "stream",
          "text": [
            "Columns in the original dataset:\n",
            "\n",
            "Index(['Unnamed: 0', 'URL', 'Text', 'Sentiment'], dtype='object')\n"
          ],
          "name": "stdout"
        }
      ]
    },
    {
      "cell_type": "markdown",
      "metadata": {
        "id": "pqWnVTfCcRe2"
      },
      "source": [
        "## Data cleaning and analysing"
      ]
    },
    {
      "cell_type": "code",
      "metadata": {
        "colab": {
          "base_uri": "https://localhost:8080/",
          "height": 363
        },
        "id": "7ve99MyjJwdA",
        "outputId": "64a53fa4-7a62-4c05-a339-2b434405f2c0"
      },
      "source": [
        "import matplotlib.pyplot as plt \n",
        "\n",
        "print(\"Number of rows per star rating:\")\n",
        "print(top_data_df['Sentiment'].value_counts())\n",
        "\n",
        "# Function to map stars to sentiment\n",
        "def map_sentiment(sentiment):\n",
        "    if sentiment == 'NEG':\n",
        "        return -1\n",
        "    else:\n",
        "        return 1\n",
        "# Mapping stars to sentiment into three categories\n",
        "top_data_df['Sentiment_value'] = [map_sentiment(x) for x in top_data_df['Sentiment']]\n",
        "# Plotting the sentiment distribution\n",
        "plt.figure()\n",
        "pd.value_counts(top_data_df['Sentiment_value']).plot.bar(title=\"Sentiment distribution in df\")\n",
        "plt.xlabel(\"Sentiment\")\n",
        "plt.ylabel(\"No. of rows in df\")\n",
        "plt.show()"
      ],
      "execution_count": 5,
      "outputs": [
        {
          "output_type": "stream",
          "text": [
            "Number of rows per star rating:\n",
            "NEG    1000\n",
            "POS     999\n",
            "Name: Sentiment, dtype: int64\n"
          ],
          "name": "stdout"
        },
        {
          "output_type": "display_data",
          "data": {
            "image/png": "[encoded data removed]",
            "text/plain": [
              "<Figure size 432x288 with 1 Axes>"
            ]
          },
          "metadata": {
            "tags": [],
            "needs_background": "light"
          }
        }
      ]
    },
    {
      "cell_type": "code",
      "metadata": {
        "colab": {
          "base_uri": "https://localhost:8080/",
          "height": 427
        },
        "id": "s0Ml3VWrJnrM",
        "outputId": "fd38a6b2-abfe-4e51-ba2a-e5362fe7554c"
      },
      "source": [
        "# Function to retrieve top few number of each category\n",
        "def get_top_data(top_n):\n",
        "    top_data_df_positive = top_data_df[top_data_df['Sentiment_value'] == 1].head(top_n)\n",
        "    top_data_df_negative = top_data_df[top_data_df['Sentiment_value'] == -1].head(top_n)\n",
        "    top_data_df_small = pd.concat([top_data_df_positive, top_data_df_negative])\n",
        "    return top_data_df_small, top_data_df_positive, top_data_df_negative\n",
        "\n",
        "# Function call to get the top 10000 from each sentiment\n",
        "top_data_df_small, pos_review, neg_review = get_top_data(999)\n",
        "\n",
        "# After selecting top few samples of each sentiment\n",
        "print(\"After segregating and taking equal number of rows for each sentiment:\")\n",
        "print(top_data_df_small['Sentiment_value'].value_counts())\n",
        "top_data_df_small.head(10)"
      ],
      "execution_count": 6,
      "outputs": [
        {
          "output_type": "stream",
          "text": [
            "After segregating and taking equal number of rows for each sentiment:\n",
            " 1    999\n",
            "-1    999\n",
            "Name: Sentiment_value, dtype: int64\n"
          ],
          "name": "stdout"
        },
        {
          "output_type": "execute_result",
          "data": {
            "text/html": [
              "<div>\n",
              "<style scoped>\n",
              "    .dataframe tbody tr th:only-of-type {\n",
              "        vertical-align: middle;\n",
              "    }\n",
              "\n",
              "    .dataframe tbody tr th {\n",
              "        vertical-align: top;\n",
              "    }\n",
              "\n",
              "    .dataframe thead th {\n",
              "        text-align: right;\n",
              "    }\n",
              "</style>\n",
              "<table border=\"1\" class=\"dataframe\">\n",
              "  <thead>\n",
              "    <tr style=\"text-align: right;\">\n",
              "      <th></th>\n",
              "      <th>Unnamed: 0</th>\n",
              "      <th>URL</th>\n",
              "      <th>Text</th>\n",
              "      <th>Sentiment</th>\n",
              "      <th>Sentiment_value</th>\n",
              "    </tr>\n",
              "  </thead>\n",
              "  <tbody>\n",
              "    <tr>\n",
              "      <th>0</th>\n",
              "      <td>0</td>\n",
              "      <td>http://www.imdb.com/title/tt0210075/usercomments</td>\n",
              "      <td>Girlfight follows a project dwelling New York ...</td>\n",
              "      <td>POS</td>\n",
              "      <td>1</td>\n",
              "    </tr>\n",
              "    <tr>\n",
              "      <th>1</th>\n",
              "      <td>1</td>\n",
              "      <td>http://www.imdb.com/title/tt0337640/usercomments</td>\n",
              "      <td>Hollywood North is an euphemism from the movie...</td>\n",
              "      <td>POS</td>\n",
              "      <td>1</td>\n",
              "    </tr>\n",
              "    <tr>\n",
              "      <th>2</th>\n",
              "      <td>2</td>\n",
              "      <td>http://www.imdb.com/title/tt0303549/usercomments</td>\n",
              "      <td>That '70s Show is definitely the funniest show...</td>\n",
              "      <td>POS</td>\n",
              "      <td>1</td>\n",
              "    </tr>\n",
              "    <tr>\n",
              "      <th>3</th>\n",
              "      <td>3</td>\n",
              "      <td>http://www.imdb.com/title/tt0716825/usercomments</td>\n",
              "      <td>9/10- 30 minutes of pure holiday terror. Okay,...</td>\n",
              "      <td>POS</td>\n",
              "      <td>1</td>\n",
              "    </tr>\n",
              "    <tr>\n",
              "      <th>4</th>\n",
              "      <td>4</td>\n",
              "      <td>http://www.imdb.com/title/tt0182225/usercomments</td>\n",
              "      <td>A series of random, seemingly insignificant th...</td>\n",
              "      <td>POS</td>\n",
              "      <td>1</td>\n",
              "    </tr>\n",
              "    <tr>\n",
              "      <th>5</th>\n",
              "      <td>5</td>\n",
              "      <td>http://www.imdb.com/title/tt0347779/usercomments</td>\n",
              "      <td>A very good adaptation of the novel by amrita ...</td>\n",
              "      <td>POS</td>\n",
              "      <td>1</td>\n",
              "    </tr>\n",
              "    <tr>\n",
              "      <th>6</th>\n",
              "      <td>6</td>\n",
              "      <td>http://www.imdb.com/title/tt0095655/usercomments</td>\n",
              "      <td>Ah, Moonwalker, I'm a huge Michael Jackson fan...</td>\n",
              "      <td>POS</td>\n",
              "      <td>1</td>\n",
              "    </tr>\n",
              "    <tr>\n",
              "      <th>7</th>\n",
              "      <td>7</td>\n",
              "      <td>http://www.imdb.com/title/tt0298131/usercomments</td>\n",
              "      <td>Although the beginning of the movie in New Yor...</td>\n",
              "      <td>POS</td>\n",
              "      <td>1</td>\n",
              "    </tr>\n",
              "    <tr>\n",
              "      <th>8</th>\n",
              "      <td>8</td>\n",
              "      <td>http://www.imdb.com/title/tt0088915/usercomments</td>\n",
              "      <td>As many reviewers here have noted, the film ve...</td>\n",
              "      <td>POS</td>\n",
              "      <td>1</td>\n",
              "    </tr>\n",
              "    <tr>\n",
              "      <th>9</th>\n",
              "      <td>9</td>\n",
              "      <td>http://www.imdb.com/title/tt0828154/usercomments</td>\n",
              "      <td>Bear in mind, any film (let alone documentary)...</td>\n",
              "      <td>POS</td>\n",
              "      <td>1</td>\n",
              "    </tr>\n",
              "  </tbody>\n",
              "</table>\n",
              "</div>"
            ],
            "text/plain": [
              "   Unnamed: 0  ... Sentiment_value\n",
              "0           0  ...               1\n",
              "1           1  ...               1\n",
              "2           2  ...               1\n",
              "3           3  ...               1\n",
              "4           4  ...               1\n",
              "5           5  ...               1\n",
              "6           6  ...               1\n",
              "7           7  ...               1\n",
              "8           8  ...               1\n",
              "9           9  ...               1\n",
              "\n",
              "[10 rows x 5 columns]"
            ]
          },
          "metadata": {
            "tags": []
          },
          "execution_count": 6
        }
      ]
    },
    {
      "cell_type": "markdown",
      "metadata": {
        "id": "_l1F_EFocW5t"
      },
      "source": [
        "## Dataset Splitting"
      ]
    },
    {
      "cell_type": "code",
      "metadata": {
        "id": "OmBWUaXlNcdj"
      },
      "source": [
        "from sklearn.model_selection import train_test_split\n",
        "\n",
        "X_train_pos, X_test_pos, Y_train_pos, Y_test_pos = train_test_split(pos_review['Text'], \n",
        "                                                        pos_review['Sentiment_value'], \n",
        "                                                        random_state=15)"
      ],
      "execution_count": 7,
      "outputs": []
    },
    {
      "cell_type": "code",
      "metadata": {
        "id": "ItTGMOPdOjIg"
      },
      "source": [
        "from sklearn.model_selection import train_test_split\n",
        "\n",
        "X_train_neg, X_test_neg, Y_train_neg, Y_test_neg = train_test_split(neg_review['Text'], \n",
        "                                                        neg_review['Sentiment_value'], \n",
        "                                                        random_state=15)"
      ],
      "execution_count": 8,
      "outputs": []
    },
    {
      "cell_type": "code",
      "metadata": {
        "colab": {
          "base_uri": "https://localhost:8080/"
        },
        "id": "LInY7Qe9O1F7",
        "outputId": "2059439c-9207-4fa7-f05c-124746705c20"
      },
      "source": [
        "X_train_pos.shape, X_train_neg.shape"
      ],
      "execution_count": 9,
      "outputs": [
        {
          "output_type": "execute_result",
          "data": {
            "text/plain": [
              "((749,), (749,))"
            ]
          },
          "metadata": {
            "tags": []
          },
          "execution_count": 9
        }
      ]
    },
    {
      "cell_type": "code",
      "metadata": {
        "colab": {
          "base_uri": "https://localhost:8080/"
        },
        "id": "T353ZickO7GM",
        "outputId": "d9fdcae5-d9fe-4a6b-cfde-d289f8c639b7"
      },
      "source": [
        "X_test_pos.shape, X_test_neg.shape"
      ],
      "execution_count": 10,
      "outputs": [
        {
          "output_type": "execute_result",
          "data": {
            "text/plain": [
              "((250,), (250,))"
            ]
          },
          "metadata": {
            "tags": []
          },
          "execution_count": 10
        }
      ]
    },
    {
      "cell_type": "code",
      "metadata": {
        "id": "30wTs2DtPDUz"
      },
      "source": [
        "X_train_pos.to_csv(r'train-pos.txt', header=None, index=None, sep=' ', mode='a')\n",
        "X_train_neg.to_csv(r'train-neg.txt', header=None, index=None, sep=' ', mode='a')\n",
        "X_test_pos.to_csv(r'test-pos.txt', header=None, index=None, sep=' ', mode='a')\n",
        "X_test_neg.to_csv(r'test-neg.txt', header=None, index=None, sep=' ', mode='a')"
      ],
      "execution_count": 11,
      "outputs": []
    },
    {
      "cell_type": "code",
      "metadata": {
        "id": "c4c34jdUTwx9"
      },
      "source": [
        "class LabeledLineSentence(object):\n",
        "    def __init__(self, sources):\n",
        "        self.sources = sources\n",
        "        \n",
        "        flipped = {}\n",
        "        \n",
        "        # make sure that keys are unique\n",
        "        for key, value in sources.items():\n",
        "            if value not in flipped:\n",
        "                flipped[value] = [key]\n",
        "            else:\n",
        "                raise Exception('Non-unique prefix encountered')\n",
        "    \n",
        "    def __iter__(self):\n",
        "        for source, prefix in self.sources.items():\n",
        "            with utils.smart_open(source) as fin:\n",
        "                for item_no, line in enumerate(fin):\n",
        "                    yield LabeledSentence(utils.to_unicode(line).split(), [prefix + '_%s' % item_no])\n",
        "    \n",
        "    def to_array(self):\n",
        "        self.sentences = []\n",
        "        for source, prefix in self.sources.items():\n",
        "            with utils.smart_open(source) as fin:\n",
        "                for item_no, line in enumerate(fin):\n",
        "                    self.sentences.append(LabeledSentence(utils.to_unicode(line).split(), [prefix + '_%s' % item_no]))\n",
        "        return self.sentences\n",
        "    \n",
        "    def sentences_perm(self):\n",
        "        shuffled = list(self.sentences)\n",
        "        random.shuffle(shuffled)\n",
        "        return shuffled"
      ],
      "execution_count": 12,
      "outputs": []
    },
    {
      "cell_type": "code",
      "metadata": {
        "id": "QqXA0akgTz4H"
      },
      "source": [
        "sources = {'test-neg.txt':'TEST_NEG', 'test-pos.txt':'TEST_POS', 'train-neg.txt':'TRAIN_NEG', 'train-pos.txt':'TRAIN_POS'}\n",
        "\n",
        "sentences = LabeledLineSentence(sources)"
      ],
      "execution_count": 13,
      "outputs": []
    },
    {
      "cell_type": "markdown",
      "metadata": {
        "id": "wl9mZey0cn23"
      },
      "source": [
        "## Doc to vector: "
      ]
    },
    {
      "cell_type": "code",
      "metadata": {
        "colab": {
          "base_uri": "https://localhost:8080/"
        },
        "id": "fDjFNy2MT2Qw",
        "outputId": "afbf3138-707b-4dc3-ee4b-25a8c2b85508"
      },
      "source": [
        "import gensim\n",
        "model = gensim.models.Doc2Vec(vector_size=300, window=10, min_count=5, workers=11,alpha=0.025, min_alpha=0.025, epochs=20)\n",
        "model.build_vocab(sentences.to_array())\n",
        "model.train(sentences.to_array(), epochs=model.iter, total_examples=model.corpus_count)"
      ],
      "execution_count": 14,
      "outputs": [
        {
          "output_type": "stream",
          "text": [
            "/usr/local/lib/python3.7/dist-packages/ipykernel_launcher.py:25: DeprecationWarning: Call to deprecated `LabeledSentence` (Class will be removed in 4.0.0, use TaggedDocument instead).\n",
            "/usr/local/lib/python3.7/dist-packages/ipykernel_launcher.py:4: DeprecationWarning: Call to deprecated `iter` (Attribute will be removed in 4.0.0, use self.epochs instead).\n",
            "  after removing the cwd from sys.path.\n"
          ],
          "name": "stderr"
        }
      ]
    },
    {
      "cell_type": "code",
      "metadata": {
        "colab": {
          "base_uri": "https://localhost:8080/"
        },
        "id": "PG_Cr1XiVEcw",
        "outputId": "1eacddc1-da1c-462e-9555-4e7ae4922e8c"
      },
      "source": [
        "model.most_similar('good')"
      ],
      "execution_count": 15,
      "outputs": [
        {
          "output_type": "stream",
          "text": [
            "/usr/local/lib/python3.7/dist-packages/ipykernel_launcher.py:1: DeprecationWarning: Call to deprecated `most_similar` (Method will be removed in 4.0.0, use self.wv.most_similar() instead).\n",
            "  \"\"\"Entry point for launching an IPython kernel.\n"
          ],
          "name": "stderr"
        },
        {
          "output_type": "execute_result",
          "data": {
            "text/plain": [
              "[('mediocre', 0.3071358799934387),\n",
              " ('nice', 0.2950599193572998),\n",
              " ('excellent', 0.26882946491241455),\n",
              " ('interesting', 0.2678501009941101),\n",
              " ('good.', 0.2642803192138672),\n",
              " ('effective.', 0.2637708783149719),\n",
              " ('superb', 0.24829038977622986),\n",
              " ('solid', 0.2452278733253479),\n",
              " ('fine', 0.23733077943325043),\n",
              " ('good,', 0.23542582988739014)]"
            ]
          },
          "metadata": {
            "tags": []
          },
          "execution_count": 15
        }
      ]
    },
    {
      "cell_type": "code",
      "metadata": {
        "colab": {
          "base_uri": "https://localhost:8080/"
        },
        "id": "AxOQZzV3VMhs",
        "outputId": "acc10c3a-c728-4310-f127-666d306c2773"
      },
      "source": [
        "model['TRAIN_NEG_0']"
      ],
      "execution_count": 16,
      "outputs": [
        {
          "output_type": "execute_result",
          "data": {
            "text/plain": [
              "array([ 1.095671  ,  0.00717629,  0.28079307, -0.16983812,  0.2820339 ,\n",
              "        0.05735643,  0.5925636 ,  0.4694259 ,  0.10915232, -0.4761697 ,\n",
              "        0.13854563, -0.27969617,  0.6951446 ,  0.9157932 ,  0.35301104,\n",
              "       -0.4949389 , -0.86905664,  0.48165712,  0.1746926 ,  0.4392855 ,\n",
              "        0.43516627,  0.47208145, -0.5679434 ,  0.13417351, -0.7287388 ,\n",
              "        0.84886926, -0.79006207,  0.38959417, -0.82529485,  0.03120219,\n",
              "       -0.00282664, -0.6090412 , -0.44942608, -0.6743061 , -1.5048629 ,\n",
              "        0.87639344,  0.31255218,  0.30007532, -0.70307267, -1.3192974 ,\n",
              "        0.5565921 ,  0.5361204 , -0.9617022 , -0.8928383 ,  0.18892965,\n",
              "        0.61704874,  0.10736828,  0.9771666 ,  1.3513553 ,  0.56517655,\n",
              "       -0.7213032 ,  0.32775798, -0.5786961 ,  0.9006983 ,  0.5096848 ,\n",
              "       -0.5074681 ,  0.01321952, -0.39962286,  0.5078391 ,  0.59525543,\n",
              "        1.0509002 , -1.4565307 , -1.1114244 ,  1.547754  ,  0.46670696,\n",
              "        0.7027268 , -0.37143674, -0.1852383 ,  0.69961864,  0.30202502,\n",
              "       -1.3857659 , -0.16157135,  0.14452694,  0.7224824 , -0.7317256 ,\n",
              "        0.44003704,  0.46571752,  0.22706193,  0.99166065, -0.1555482 ,\n",
              "        0.7512446 , -0.11720637,  0.01308181, -0.5144048 , -0.3777424 ,\n",
              "       -0.31197613,  1.0777974 ,  0.96206355, -0.52739733,  0.8581198 ,\n",
              "        0.8363366 ,  0.38202056, -0.99830854,  0.30123824, -0.49755496,\n",
              "       -1.4738594 ,  0.10883867,  0.23869297,  1.3543719 , -0.4559895 ,\n",
              "       -0.19030823, -0.16654101, -0.826688  , -2.3983831 , -0.3779751 ,\n",
              "        0.42240012,  0.81233454, -0.05377793, -0.97037125, -0.36619747,\n",
              "       -1.2729524 ,  0.05370024, -0.58938146, -0.33374676,  1.823059  ,\n",
              "        1.5216863 ,  0.913081  ,  1.1281394 ,  0.1215561 , -0.17904872,\n",
              "        0.66244566, -0.22580986, -0.01828748, -0.6918041 , -0.49794596,\n",
              "       -2.0008955 , -0.15223184,  0.08964163, -0.16534528, -0.5175271 ,\n",
              "       -0.9988545 , -0.8978922 ,  0.4094048 , -0.69778603,  0.1729227 ,\n",
              "       -0.33837876,  0.30154246,  0.0860479 ,  0.6522953 ,  0.03101487,\n",
              "        0.3597365 ,  0.58924794, -0.00525738,  0.08780643, -0.3216599 ,\n",
              "       -0.12207897, -0.59226674,  0.24093363,  0.81383955,  0.42396256,\n",
              "        0.9488231 , -0.31599084,  0.7991316 ,  0.68924123, -0.09336779,\n",
              "       -0.88048357,  0.42036936,  0.19170666,  1.1642516 ,  0.8019947 ,\n",
              "        0.7798894 , -0.81755036,  0.97418356, -0.22776777, -0.4918153 ,\n",
              "       -0.01461239,  0.67271346,  0.0112146 ,  0.391694  , -0.5359574 ,\n",
              "       -0.5162328 , -0.03572346,  0.04873334, -0.036009  , -0.4883727 ,\n",
              "        1.3536534 , -0.15969197, -1.1901091 , -0.23519365,  0.01096063,\n",
              "        1.1185167 , -1.6288017 ,  0.04852893, -0.17332637, -0.11137196,\n",
              "       -0.13514762,  1.4292688 , -1.1001633 , -0.56992894,  0.570086  ,\n",
              "       -0.14457959, -0.14494336, -0.04146319, -1.0736569 , -1.3499733 ,\n",
              "        0.48414963,  0.49151433, -1.3371466 ,  0.6455884 , -1.5892774 ,\n",
              "        0.1587172 , -0.55069965,  0.34040228, -0.96134543,  0.8699802 ,\n",
              "        2.1725693 ,  1.1529039 ,  0.33623958, -0.9450953 , -1.1895998 ,\n",
              "       -0.78343225, -0.8878023 , -0.89967674, -0.11160866, -1.6500425 ,\n",
              "        1.8637851 , -0.21029401, -0.4366294 ,  0.9627581 ,  0.12713955,\n",
              "       -0.46224016, -0.22089596, -0.62743336,  1.2739702 ,  0.48181936,\n",
              "        0.82747966,  0.12366843,  1.4557513 ,  0.6961141 , -0.1855751 ,\n",
              "       -1.1099627 ,  0.13547   , -0.8828943 ,  0.83662766,  0.00998088,\n",
              "        0.0340547 , -0.37289223,  0.38435364,  0.46329576,  0.02506808,\n",
              "       -0.79665554, -0.38374692, -0.18336932,  1.3957174 , -1.1660578 ,\n",
              "       -1.04835   , -0.11486593, -0.05882766,  0.38777277, -0.77999455,\n",
              "        1.1150193 , -0.2990431 , -0.81120694, -0.44157103, -0.56295407,\n",
              "        0.8608844 ,  0.18943685,  0.05132207,  0.0925122 , -0.31590766,\n",
              "        0.31724963, -0.32205787,  1.2348418 ,  0.68786836, -0.21869735,\n",
              "       -0.3494995 , -0.1333029 ,  0.6538612 , -0.06956584, -0.46456012,\n",
              "       -0.11774707, -0.6249447 , -1.152466  , -0.12366404,  0.1058988 ,\n",
              "        0.3316054 ,  0.8688342 ,  1.1399575 ,  0.4831692 , -0.3561345 ,\n",
              "       -0.7268126 , -0.5318827 , -0.03740281,  0.3024329 , -0.16884121,\n",
              "       -0.34212586, -0.43700385, -0.24634376, -0.48561755, -0.08569048,\n",
              "       -1.23284   , -0.37864992,  1.2794517 ,  1.016878  , -0.13049951,\n",
              "        0.5082445 , -0.1637827 ,  0.64764637, -0.29670885,  0.23794135],\n",
              "      dtype=float32)"
            ]
          },
          "metadata": {
            "tags": []
          },
          "execution_count": 16
        }
      ]
    },
    {
      "cell_type": "markdown",
      "metadata": {
        "id": "afjSqdV4c-nK"
      },
      "source": [
        "## Saving and loading the model:"
      ]
    },
    {
      "cell_type": "code",
      "metadata": {
        "id": "Aa6oXX2KVQz4"
      },
      "source": [
        "model.save('./custom_model.d2v')"
      ],
      "execution_count": 17,
      "outputs": []
    },
    {
      "cell_type": "code",
      "metadata": {
        "id": "KwQKA7JjVTPM"
      },
      "source": [
        "model = Doc2Vec.load('./custom_model.d2v')"
      ],
      "execution_count": 18,
      "outputs": []
    },
    {
      "cell_type": "code",
      "metadata": {
        "id": "7Sgn9Y1lWPCG"
      },
      "source": [
        "train_arrays = numpy.zeros((1498, 300))\n",
        "train_labels = numpy.zeros(1498)\n",
        "\n",
        "for i in range(749):\n",
        "    prefix_train_pos = 'TRAIN_POS_' + str(i)\n",
        "    prefix_train_neg = 'TRAIN_NEG_' + str(i)\n",
        "    train_arrays[i] = model[prefix_train_pos]\n",
        "    train_arrays[749 + i] = model[prefix_train_neg]\n",
        "    train_labels[i] = 1\n",
        "    train_labels[749 + i] = 0"
      ],
      "execution_count": 19,
      "outputs": []
    },
    {
      "cell_type": "code",
      "metadata": {
        "colab": {
          "base_uri": "https://localhost:8080/"
        },
        "id": "2ky7cW2aXgFX",
        "outputId": "98dae4f4-a545-477b-fe81-26d892d57bc7"
      },
      "source": [
        "print(train_arrays)"
      ],
      "execution_count": 20,
      "outputs": [
        {
          "output_type": "stream",
          "text": [
            "[[ 0.10852978 -0.24347666  0.21917456 ...  0.25693107  0.15984973\n",
            "   0.18443446]\n",
            " [ 0.70967108 -0.31234238  1.42165732 ...  0.69416535  0.19784489\n",
            "   0.60700399]\n",
            " [ 0.50039095  0.14879006  0.37273309 ...  0.0552935  -0.09104238\n",
            "  -0.03669013]\n",
            " ...\n",
            " [ 0.85858911  0.25386077  0.51318568 ...  0.08112904  0.06827359\n",
            "  -0.163085  ]\n",
            " [ 0.27882776  0.27370474  0.45493779 ...  0.22501501  0.10853791\n",
            "  -0.05984343]\n",
            " [ 1.35302901  0.16273081  0.44986591 ...  0.63841552  0.51069659\n",
            "   0.06818765]]\n"
          ],
          "name": "stdout"
        }
      ]
    },
    {
      "cell_type": "code",
      "metadata": {
        "colab": {
          "base_uri": "https://localhost:8080/"
        },
        "id": "XNgMq-M6XmZm",
        "outputId": "ab3adb19-85b3-4382-ce27-c93c60422bea"
      },
      "source": [
        "print(train_labels)"
      ],
      "execution_count": 21,
      "outputs": [
        {
          "output_type": "stream",
          "text": [
            "[1. 1. 1. ... 0. 0. 0.]\n"
          ],
          "name": "stdout"
        }
      ]
    },
    {
      "cell_type": "code",
      "metadata": {
        "id": "KdqTJ0CPXq-_"
      },
      "source": [
        "test_arrays = numpy.zeros((500, 300))\n",
        "test_labels = numpy.zeros(500)\n",
        "\n",
        "for i in range(250):\n",
        "    prefix_test_pos = 'TEST_POS_' + str(i)\n",
        "    prefix_test_neg = 'TEST_NEG_' + str(i)\n",
        "    test_arrays[i] = model[prefix_test_pos]\n",
        "    test_arrays[250 + i] = model[prefix_test_neg]\n",
        "    test_labels[i] = 1\n",
        "    test_labels[250 + i] = 0"
      ],
      "execution_count": 22,
      "outputs": []
    },
    {
      "cell_type": "code",
      "metadata": {
        "id": "Gr7v6ZmbhNbw"
      },
      "source": [
        "import pickle\n",
        "from sklearn.metrics import accuracy_score, precision_score \n",
        "from sklearn.metrics import recall_score, confusion_matrix, classification_report\n",
        "def generate_report(pred_list, custom_model, y_test, model_name):\n",
        "  print(f'Confusion Matrix:\\n{confusion_matrix(y_test,pred_list)}')\n",
        "  print(f'\\nClassification Report:\\n{classification_report(y_test,pred_list)}')\n",
        "  acc = accuracy_score(y_test, pred_list) * 100\n",
        "  print(f'Accuracy: {acc}%')\n",
        "  prec = precision_score(y_test, pred_list, average='macro') * 100\n",
        "  print(f'Precision: {prec}%')\n",
        "  rec = recall_score(y_test, pred_list, average='macro') * 100\n",
        "  print(f'Recall: {rec}%')\n",
        "  pickle.dump(custom_model, open(model_name + '.sav', 'wb'))\n",
        "  print(model_name + ' trained Model Saved')\n",
        "  return acc, prec, rec"
      ],
      "execution_count": 23,
      "outputs": []
    },
    {
      "cell_type": "markdown",
      "metadata": {
        "id": "7xGvBD4JdFcL"
      },
      "source": [
        "## Logistic Regression:"
      ]
    },
    {
      "cell_type": "code",
      "metadata": {
        "colab": {
          "base_uri": "https://localhost:8080/"
        },
        "id": "vpf5WWhjYCO5",
        "outputId": "ae3253f2-e718-421d-eb9c-e29eec9acb3a"
      },
      "source": [
        "classifier = LogisticRegression(max_iter=1000)\n",
        "classifier.fit(train_arrays, train_labels)"
      ],
      "execution_count": 24,
      "outputs": [
        {
          "output_type": "execute_result",
          "data": {
            "text/plain": [
              "LogisticRegression(C=1.0, class_weight=None, dual=False, fit_intercept=True,\n",
              "                   intercept_scaling=1, l1_ratio=None, max_iter=1000,\n",
              "                   multi_class='auto', n_jobs=None, penalty='l2',\n",
              "                   random_state=None, solver='lbfgs', tol=0.0001, verbose=0,\n",
              "                   warm_start=False)"
            ]
          },
          "metadata": {
            "tags": []
          },
          "execution_count": 24
        }
      ]
    },
    {
      "cell_type": "code",
      "metadata": {
        "colab": {
          "base_uri": "https://localhost:8080/"
        },
        "id": "CnXpaeyQYSzu",
        "outputId": "26fad8bb-7dcb-4af0-a7ce-344d75051c5e"
      },
      "source": [
        "classifier.score(test_arrays, test_labels)"
      ],
      "execution_count": 25,
      "outputs": [
        {
          "output_type": "execute_result",
          "data": {
            "text/plain": [
              "0.774"
            ]
          },
          "metadata": {
            "tags": []
          },
          "execution_count": 25
        }
      ]
    },
    {
      "cell_type": "code",
      "metadata": {
        "id": "as7B_X0SjVCz"
      },
      "source": [
        "LRpred = classifier.predict(test_arrays)"
      ],
      "execution_count": 26,
      "outputs": []
    },
    {
      "cell_type": "code",
      "metadata": {
        "colab": {
          "base_uri": "https://localhost:8080/"
        },
        "id": "fq2P5oMGjMv3",
        "outputId": "8de23cf7-bf2c-49bf-a2b7-e712f7496f73"
      },
      "source": [
        "lr_metrics = [None, None, None]\n",
        "lr_metrics[0], lr_metrics[1], lr_metrics[2] = generate_report(LRpred, classifier, test_labels, 'LinearRegression_model')"
      ],
      "execution_count": 27,
      "outputs": [
        {
          "output_type": "stream",
          "text": [
            "Confusion Matrix:\n",
            "[[189  61]\n",
            " [ 52 198]]\n",
            "\n",
            "Classification Report:\n",
            "              precision    recall  f1-score   support\n",
            "\n",
            "         0.0       0.78      0.76      0.77       250\n",
            "         1.0       0.76      0.79      0.78       250\n",
            "\n",
            "    accuracy                           0.77       500\n",
            "   macro avg       0.77      0.77      0.77       500\n",
            "weighted avg       0.77      0.77      0.77       500\n",
            "\n",
            "Accuracy: 77.4%\n",
            "Precision: 77.43555648119964%\n",
            "Recall: 77.4%\n",
            "LinearRegression_model trained Model Saved\n"
          ],
          "name": "stdout"
        }
      ]
    },
    {
      "cell_type": "markdown",
      "metadata": {
        "id": "dfpc4XizdtZO"
      },
      "source": [
        "## Bernoulli Naive Bayes:"
      ]
    },
    {
      "cell_type": "code",
      "metadata": {
        "id": "8HmNUqy6hluA"
      },
      "source": [
        "import pickle\n",
        "from sklearn.naive_bayes import BernoulliNB\n",
        "from sklearn.metrics import accuracy_score, confusion_matrix, classification_report, precision_score, recall_score\n",
        "\n",
        "classifier = BernoulliNB()\n",
        "\n",
        "classifier.fit(train_arrays, train_labels)\n",
        "BNBpred=classifier.predict(test_arrays)"
      ],
      "execution_count": 28,
      "outputs": []
    },
    {
      "cell_type": "code",
      "metadata": {
        "colab": {
          "base_uri": "https://localhost:8080/"
        },
        "id": "Er4LqsDSjqL6",
        "outputId": "0e6652e3-f5fd-4543-dd1b-cdba90953e8d"
      },
      "source": [
        "bnb_metrics = [None, None, None]\n",
        "bnb_metrics[0], bnb_metrics[1], bnb_metrics[2] = generate_report(BNBpred, classifier, test_labels, 'BernoulliNB_model')"
      ],
      "execution_count": 29,
      "outputs": [
        {
          "output_type": "stream",
          "text": [
            "Confusion Matrix:\n",
            "[[175  75]\n",
            " [ 59 191]]\n",
            "\n",
            "Classification Report:\n",
            "              precision    recall  f1-score   support\n",
            "\n",
            "         0.0       0.75      0.70      0.72       250\n",
            "         1.0       0.72      0.76      0.74       250\n",
            "\n",
            "    accuracy                           0.73       500\n",
            "   macro avg       0.73      0.73      0.73       500\n",
            "weighted avg       0.73      0.73      0.73       500\n",
            "\n",
            "Accuracy: 73.2%\n",
            "Precision: 73.29541803226014%\n",
            "Recall: 73.2%\n",
            "BernoulliNB_model trained Model Saved\n"
          ],
          "name": "stdout"
        }
      ]
    },
    {
      "cell_type": "markdown",
      "metadata": {
        "id": "HfgLii8RCnil"
      },
      "source": [
        "###Multinomial Naive Bayes(MNB)"
      ]
    },
    {
      "cell_type": "code",
      "metadata": {
        "id": "rubber-galaxy"
      },
      "source": [
        "from sklearn.naive_bayes import MultinomialNB"
      ],
      "execution_count": 30,
      "outputs": []
    },
    {
      "cell_type": "code",
      "metadata": {
        "id": "4bBzqnGwMeJh"
      },
      "source": [
        "from sklearn.preprocessing import MinMaxScaler\n",
        "min_max_scaler = MinMaxScaler()\n",
        "train_arrays_norm = min_max_scaler.fit_transform(train_arrays)"
      ],
      "execution_count": 31,
      "outputs": []
    },
    {
      "cell_type": "code",
      "metadata": {
        "id": "FcGl7yu3TquB"
      },
      "source": [
        "classifier = MultinomialNB()\n",
        "classifier.fit(train_arrays_norm, train_labels)\n",
        "# MNBmodel.fit(X_train,y_train)\n",
        "MNBpred=classifier.predict(test_arrays)"
      ],
      "execution_count": 32,
      "outputs": []
    },
    {
      "cell_type": "code",
      "metadata": {
        "colab": {
          "base_uri": "https://localhost:8080/"
        },
        "id": "_9vVl9IQi6FN",
        "outputId": "e2f95607-6259-4fdb-944b-88e7c29a627b"
      },
      "source": [
        "mnb_metrics = [None, None, None]\n",
        "mnb_metrics[0], mnb_metrics[1], mnb_metrics[2] = generate_report(MNBpred, classifier, test_labels, 'MultinomialNB_model')"
      ],
      "execution_count": 33,
      "outputs": [
        {
          "output_type": "stream",
          "text": [
            "Confusion Matrix:\n",
            "[[175  75]\n",
            " [ 42 208]]\n",
            "\n",
            "Classification Report:\n",
            "              precision    recall  f1-score   support\n",
            "\n",
            "         0.0       0.81      0.70      0.75       250\n",
            "         1.0       0.73      0.83      0.78       250\n",
            "\n",
            "    accuracy                           0.77       500\n",
            "   macro avg       0.77      0.77      0.76       500\n",
            "weighted avg       0.77      0.77      0.76       500\n",
            "\n",
            "Accuracy: 76.6%\n",
            "Precision: 77.07169725293514%\n",
            "Recall: 76.6%\n",
            "MultinomialNB_model trained Model Saved\n"
          ],
          "name": "stdout"
        }
      ]
    },
    {
      "cell_type": "markdown",
      "metadata": {
        "id": "l21DrSbOdx7n"
      },
      "source": [
        "## Decision Tree classifier"
      ]
    },
    {
      "cell_type": "code",
      "metadata": {
        "id": "JGbTaS-0kieW"
      },
      "source": [
        "from sklearn.tree import DecisionTreeClassifier\n",
        "from sklearn.model_selection import cross_val_score"
      ],
      "execution_count": 34,
      "outputs": []
    },
    {
      "cell_type": "code",
      "metadata": {
        "id": "IspVz0dikIC8"
      },
      "source": [
        "dt_clf = DecisionTreeClassifier()\n",
        "# dt_model = Pipeline([(\"cleaner\", predictors()), ('vectorizer', vectorizer), ('classifier', dt_clf)])\n",
        "\n",
        "# Train the Model\n",
        "dt_clf.fit(train_arrays, train_labels)   \n",
        "dt_pred = dt_clf.predict(test_arrays)"
      ],
      "execution_count": 35,
      "outputs": []
    },
    {
      "cell_type": "code",
      "metadata": {
        "colab": {
          "base_uri": "https://localhost:8080/"
        },
        "id": "2vUEdxjgj1d2",
        "outputId": "07db8468-a2ce-400f-b0be-ab75e21a2032"
      },
      "source": [
        "dt_metrics = [None, None, None]\n",
        "dt_metrics[0], dt_metrics[1], dt_metrics[2] = generate_report(dt_pred, dt_clf, test_labels, 'DecisionTree_model')"
      ],
      "execution_count": 36,
      "outputs": [
        {
          "output_type": "stream",
          "text": [
            "Confusion Matrix:\n",
            "[[143 107]\n",
            " [106 144]]\n",
            "\n",
            "Classification Report:\n",
            "              precision    recall  f1-score   support\n",
            "\n",
            "         0.0       0.57      0.57      0.57       250\n",
            "         1.0       0.57      0.58      0.57       250\n",
            "\n",
            "    accuracy                           0.57       500\n",
            "   macro avg       0.57      0.57      0.57       500\n",
            "weighted avg       0.57      0.57      0.57       500\n",
            "\n",
            "Accuracy: 57.4%\n",
            "Precision: 57.40011840189443%\n",
            "Recall: 57.4%\n",
            "DecisionTree_model trained Model Saved\n"
          ],
          "name": "stdout"
        }
      ]
    },
    {
      "cell_type": "code",
      "metadata": {
        "colab": {
          "base_uri": "https://localhost:8080/"
        },
        "id": "zY_irSbQk0VZ",
        "outputId": "60559118-7c57-4e13-f854-73c36da788cd"
      },
      "source": [
        "train_arrays[:5]"
      ],
      "execution_count": 37,
      "outputs": [
        {
          "output_type": "execute_result",
          "data": {
            "text/plain": [
              "array([[ 0.10852978, -0.24347666,  0.21917456, ...,  0.25693107,\n",
              "         0.15984973,  0.18443446],\n",
              "       [ 0.70967108, -0.31234238,  1.42165732, ...,  0.69416535,\n",
              "         0.19784489,  0.60700399],\n",
              "       [ 0.50039095,  0.14879006,  0.37273309, ...,  0.0552935 ,\n",
              "        -0.09104238, -0.03669013],\n",
              "       [ 0.95182222, -0.26135224,  0.71815544, ...,  1.02142286,\n",
              "         1.35163629,  0.68188328],\n",
              "       [ 0.82125646,  0.11760506,  0.22401454, ..., -0.22962822,\n",
              "         0.01296779,  0.47788537]])"
            ]
          },
          "metadata": {
            "tags": []
          },
          "execution_count": 37
        }
      ]
    },
    {
      "cell_type": "markdown",
      "metadata": {
        "id": "9kt6N8-8d2mZ"
      },
      "source": [
        "## SVM:"
      ]
    },
    {
      "cell_type": "code",
      "metadata": {
        "id": "OlQlggiWmbne"
      },
      "source": [
        "from sklearn.svm import SVC\n",
        "from sklearn import svm\n",
        "from sklearn.metrics import classification_report\n",
        "# pipeline and standard scalar are already imported"
      ],
      "execution_count": 38,
      "outputs": []
    },
    {
      "cell_type": "code",
      "metadata": {
        "colab": {
          "base_uri": "https://localhost:8080/"
        },
        "id": "8yemBlDSmdx0",
        "outputId": "9539808d-3571-44d3-8ab7-dc7904f792e1"
      },
      "source": [
        "%%time\n",
        "#Train the model\n",
        "# Perform classification with SVM, kernel=linear\n",
        "SVMclassifier = svm.SVC(kernel='linear')\n",
        "# SVMmodel = Pipeline([(\"cleaner\", predictors()), ('vectorizer', vectorizer), ('classifier', SVMclassifier)])\n",
        "SVMclassifier.fit(train_arrays, train_labels)\n",
        "SVMpred = SVMclassifier.predict(test_arrays)"
      ],
      "execution_count": 39,
      "outputs": [
        {
          "output_type": "stream",
          "text": [
            "CPU times: user 1.87 s, sys: 831 µs, total: 1.87 s\n",
            "Wall time: 1.88 s\n"
          ],
          "name": "stdout"
        }
      ]
    },
    {
      "cell_type": "code",
      "metadata": {
        "colab": {
          "base_uri": "https://localhost:8080/"
        },
        "id": "Wuwx3UJbj9Io",
        "outputId": "3f2f981c-c65d-4a66-cf99-ebfc0b197bc2"
      },
      "source": [
        "svm_metrics = [None, None, None]\n",
        "svm_metrics[0], svm_metrics[1], svm_metrics[2] = generate_report(SVMpred, SVMclassifier, test_labels, 'SVM_model')"
      ],
      "execution_count": 40,
      "outputs": [
        {
          "output_type": "stream",
          "text": [
            "Confusion Matrix:\n",
            "[[179  71]\n",
            " [ 54 196]]\n",
            "\n",
            "Classification Report:\n",
            "              precision    recall  f1-score   support\n",
            "\n",
            "         0.0       0.77      0.72      0.74       250\n",
            "         1.0       0.73      0.78      0.76       250\n",
            "\n",
            "    accuracy                           0.75       500\n",
            "   macro avg       0.75      0.75      0.75       500\n",
            "weighted avg       0.75      0.75      0.75       500\n",
            "\n",
            "Accuracy: 75.0%\n",
            "Precision: 75.11613701756924%\n",
            "Recall: 75.0%\n",
            "SVM_model trained Model Saved\n"
          ],
          "name": "stdout"
        }
      ]
    },
    {
      "cell_type": "markdown",
      "metadata": {
        "id": "xOaiaMQIvdkW"
      },
      "source": [
        "## Results comparision plots and tables"
      ]
    },
    {
      "cell_type": "code",
      "metadata": {
        "colab": {
          "base_uri": "https://localhost:8080/"
        },
        "id": "tyo7GEJTv5-4",
        "outputId": "a1815061-7328-40d0-e17e-3dc9ac102b86"
      },
      "source": [
        "!pip3 install tabulate\n",
        "from tabulate import tabulate\n",
        "table = [['Model Name', 'Accuracy', 'Precision', 'Recall'],\n",
        "         ['Bernoulli Naïve Bayes', bnb_metrics[0], bnb_metrics[1], bnb_metrics[2]],\n",
        "         ['Multinomial Naïve Bayes', mnb_metrics[0], mnb_metrics[1], mnb_metrics[2]],\n",
        "         ['Support Vector Machine', svm_metrics[0], svm_metrics[1], svm_metrics[2]],\n",
        "         ['Maximum Entropy', lr_metrics[0], lr_metrics[1], lr_metrics[2]],\n",
        "         ['Decision Tree', dt_metrics[0], dt_metrics[1], dt_metrics[2]]]\n",
        "\n",
        "print(tabulate(table, headers='firstrow', tablefmt='fancy_grid'))"
      ],
      "execution_count": 44,
      "outputs": [
        {
          "output_type": "stream",
          "text": [
            "Requirement already satisfied: tabulate in /usr/local/lib/python3.7/dist-packages (0.8.9)\n",
            "╒═════════════════════════╤════════════╤═════════════╤══════════╕\n",
            "│ Model Name              │   Accuracy │   Precision │   Recall │\n",
            "╞═════════════════════════╪════════════╪═════════════╪══════════╡\n",
            "│ Bernoulli Naïve Bayes   │       73.2 │     73.2954 │     73.2 │\n",
            "├─────────────────────────┼────────────┼─────────────┼──────────┤\n",
            "│ Multinomial Naïve Bayes │       76.6 │     77.0717 │     76.6 │\n",
            "├─────────────────────────┼────────────┼─────────────┼──────────┤\n",
            "│ Support Vector Machine  │       75   │     75.1161 │     75   │\n",
            "├─────────────────────────┼────────────┼─────────────┼──────────┤\n",
            "│ Maximum Entropy         │       77.4 │     77.4356 │     77.4 │\n",
            "├─────────────────────────┼────────────┼─────────────┼──────────┤\n",
            "│ Decision Tree           │       57.4 │     57.4001 │     57.4 │\n",
            "╘═════════════════════════╧════════════╧═════════════╧══════════╛\n"
          ],
          "name": "stdout"
        }
      ]
    },
    {
      "cell_type": "code",
      "metadata": {
        "colab": {
          "base_uri": "https://localhost:8080/",
          "height": 346
        },
        "id": "zI2RYG5Uv-5U",
        "outputId": "fd160302-fd20-49e8-86d4-7f9f79eec676"
      },
      "source": [
        "import numpy as np\n",
        "import matplotlib.pyplot as plt\n",
        "  \n",
        "N = 5\n",
        "ind = np.arange(N) \n",
        "width = 0.25\n",
        "  \n",
        "acc = [mnb_metrics[0], bnb_metrics[0], svm_metrics[0], lr_metrics[0], dt_metrics[0]]\n",
        "bar1 = plt.bar(ind, acc, width)\n",
        "  \n",
        "prec = [mnb_metrics[1], bnb_metrics[1], svm_metrics[1], lr_metrics[1], dt_metrics[1]]\n",
        "bar2 = plt.bar(ind+width, prec, width)\n",
        "  \n",
        "recall = [mnb_metrics[2], bnb_metrics[2], svm_metrics[2], lr_metrics[2], dt_metrics[2]]\n",
        "bar3 = plt.bar(ind+width*2, recall, width)\n",
        "  \n",
        "# plt.xlabel(\"Dates\")\n",
        "plt.ylabel(\"Percentage\")\n",
        "plt.title(\"Comparison\")\n",
        "  \n",
        "plt.xticks(ind+width,['Multinomial NB','Bernoulli NB','SVM','Logistic Regression', 'Decision Tree'])\n",
        "plt.xticks(rotation = 45)\n",
        "plt.legend( (bar1, bar2, bar3), ('Accuracy', 'Precision', 'Recall'), bbox_to_anchor = (1.05, 0.6))\n",
        "plt.show()"
      ],
      "execution_count": 45,
      "outputs": [
        {
          "output_type": "display_data",
          "data": {
            "image/png": "[encoded data removed]",
            "text/plain": [
              "<Figure size 432x288 with 1 Axes>"
            ]
          },
          "metadata": {
            "tags": [],
            "needs_background": "light"
          }
        }
      ]
    },
    {
      "cell_type": "code",
      "metadata": {
        "colab": {
          "base_uri": "https://localhost:8080/",
          "height": 346
        },
        "id": "k_xnFLctwABD",
        "outputId": "aca9740a-c62e-4bc4-dc72-beebaae37b58"
      },
      "source": [
        "import matplotlib.pyplot as plt\n",
        "models = ['Multinomial NB','Bernoulli NB','SVM','Logistic Regression', 'Decision Tree']\n",
        "recall = [mnb_metrics[2], bnb_metrics[2], svm_metrics[2], lr_metrics[2], dt_metrics[2]]\n",
        "precision = [mnb_metrics[1], bnb_metrics[1], svm_metrics[1], lr_metrics[1], dt_metrics[1]]\n",
        "line_chart1 = plt.plot(models, recall, 'o-g')\n",
        "line_chart2 = plt.plot(models, precision, 'o-y')\n",
        "plt.title('Recall vs Precision')\n",
        "plt.ylabel('Score')\n",
        "plt.xticks(rotation = 45)\n",
        "plt.legend(['Recall', 'Precision'], bbox_to_anchor = (1.3, 0.6))\n",
        "plt.show()"
      ],
      "execution_count": 46,
      "outputs": [
        {
          "output_type": "display_data",
          "data": {
            "image/png": "[encoded data removed]",
            "text/plain": [
              "<Figure size 432x288 with 1 Axes>"
            ]
          },
          "metadata": {
            "tags": [],
            "needs_background": "light"
          }
        }
      ]
    }
  ]
}