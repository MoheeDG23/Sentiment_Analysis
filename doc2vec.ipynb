{
  "nbformat": 4,
  "nbformat_minor": 0,
  "metadata": {
    "colab": {
      "name": "doc2vec.ipynb",
      "provenance": [],
      "collapsed_sections": []
    },
    "kernelspec": {
      "name": "python3",
      "display_name": "Python 3"
    },
    "language_info": {
      "name": "python"
    }
  },
  "cells": [
    {
      "cell_type": "code",
      "metadata": {
        "id": "YHkOpTyiH5zL"
      },
      "source": [
        "# gensim modules\n",
        "from gensim import utils\n",
        "from gensim.models.doc2vec import LabeledSentence\n",
        "from gensim.models import Doc2Vec\n",
        "\n",
        "# numpy\n",
        "import numpy as np\n",
        "import pandas as pd\n",
        "import random\n",
        "\n",
        "# classifier\n",
        "from sklearn.linear_model import LogisticRegression"
      ],
      "execution_count": null,
      "outputs": []
    },
    {
      "cell_type": "markdown",
      "metadata": {
        "id": "8fzh_lY4WbQR"
      },
      "source": [
        "# Importing dataset"
      ]
    },
    {
      "cell_type": "code",
      "metadata": {
        "colab": {
          "base_uri": "https://localhost:8080/"
        },
        "id": "HSVTfZnuIZyG",
        "outputId": "1d138071-ccc7-4741-bc0c-aacac5aad65c"
      },
      "source": [
        "from google.colab import drive\n",
        "drive.mount(\"/content/drive\")"
      ],
      "execution_count": null,
      "outputs": [
        {
          "output_type": "stream",
          "text": [
            "Mounted at /content/drive\n"
          ],
          "name": "stdout"
        }
      ]
    },
    {
      "cell_type": "code",
      "metadata": {
        "id": "E_Fu7ws-IYkX"
      },
      "source": [
        "def load_data():\n",
        "    data_df = pd.read_excel('/content/drive/My Drive/dataset/dataset.xlsx', engine='openpyxl')\n",
        "    data_df.to_csv('output_reviews_top.csv')\n",
        "load_data()"
      ],
      "execution_count": null,
      "outputs": []
    },
    {
      "cell_type": "code",
      "metadata": {
        "colab": {
          "base_uri": "https://localhost:8080/"
        },
        "id": "pxt49cHQImGV",
        "outputId": "cc06cc2a-a6f5-468c-c873-6dd0e9c04bb3"
      },
      "source": [
        "top_data_df = pd.read_csv('output_reviews_top.csv')\n",
        "print(\"Columns in the original dataset:\\n\")\n",
        "print(top_data_df.columns)"
      ],
      "execution_count": null,
      "outputs": [
        {
          "output_type": "stream",
          "text": [
            "Columns in the original dataset:\n",
            "\n",
            "Index(['Unnamed: 0', 'URL', 'Text', 'Sentiment'], dtype='object')\n"
          ],
          "name": "stdout"
        }
      ]
    },
    {
      "cell_type": "markdown",
      "metadata": {
        "id": "39BCoXHfWhU5"
      },
      "source": [
        "# Data cleaning and analysing"
      ]
    },
    {
      "cell_type": "code",
      "metadata": {
        "colab": {
          "base_uri": "https://localhost:8080/",
          "height": 362
        },
        "id": "7ve99MyjJwdA",
        "outputId": "8ec6b201-7e5d-4191-edc3-6e1ed8150b57"
      },
      "source": [
        "import matplotlib.pyplot as plt \n",
        "\n",
        "print(\"Number of rows per star rating:\")\n",
        "print(top_data_df['Sentiment'].value_counts())\n",
        "\n",
        "# Function to map stars to sentiment\n",
        "def map_sentiment(sentiment):\n",
        "    if sentiment == 'NEG':\n",
        "        return -1\n",
        "    else:\n",
        "        return 1\n",
        "# Mapping stars to sentiment into three categories\n",
        "top_data_df['Sentiment_value'] = [map_sentiment(x) for x in top_data_df['Sentiment']]\n",
        "# Plotting the sentiment distribution\n",
        "plt.figure()\n",
        "pd.value_counts(top_data_df['Sentiment_value']).plot.bar(title=\"Sentiment distribution in df\")\n",
        "plt.xlabel(\"Sentiment\")\n",
        "plt.ylabel(\"No. of rows in df\")\n",
        "plt.show()"
      ],
      "execution_count": null,
      "outputs": [
        {
          "output_type": "stream",
          "text": [
            "Number of rows per star rating:\n",
            "NEG    1000\n",
            "POS     999\n",
            "Name: Sentiment, dtype: int64\n"
          ],
          "name": "stdout"
        },
        {
          "output_type": "display_data",
          "data": {
            "image/png": "[encoded data removed]",
            "text/plain": [
              "<Figure size 432x288 with 1 Axes>"
            ]
          },
          "metadata": {
            "tags": [],
            "needs_background": "light"
          }
        }
      ]
    },
    {
      "cell_type": "code",
      "metadata": {
        "colab": {
          "base_uri": "https://localhost:8080/",
          "height": 419
        },
        "id": "s0Ml3VWrJnrM",
        "outputId": "e7ca673b-5a8d-4171-9392-dc31b64d47e1"
      },
      "source": [
        "# Function to retrieve top few number of each category\n",
        "def get_top_data(top_n):\n",
        "    top_data_df_positive = top_data_df[top_data_df['Sentiment_value'] == 1].head(top_n)\n",
        "    top_data_df_negative = top_data_df[top_data_df['Sentiment_value'] == -1].head(top_n)\n",
        "    top_data_df_small = pd.concat([top_data_df_positive, top_data_df_negative])\n",
        "    return top_data_df_small, top_data_df_positive, top_data_df_negative\n",
        "\n",
        "top_data_df_small, pos_review, neg_review = get_top_data(999)\n",
        "\n",
        "# After selecting top few samples of each sentiment\n",
        "print(\"After segregating and taking equal number of rows for each sentiment:\")\n",
        "print(top_data_df_small['Sentiment_value'].value_counts())\n",
        "top_data_df_small.head(10)"
      ],
      "execution_count": null,
      "outputs": [
        {
          "output_type": "stream",
          "text": [
            "After segregating and taking equal number of rows for each sentiment:\n",
            " 1    999\n",
            "-1    999\n",
            "Name: Sentiment_value, dtype: int64\n"
          ],
          "name": "stdout"
        },
        {
          "output_type": "execute_result",
          "data": {
            "text/html": [
              "<div>\n",
              "<style scoped>\n",
              "    .dataframe tbody tr th:only-of-type {\n",
              "        vertical-align: middle;\n",
              "    }\n",
              "\n",
              "    .dataframe tbody tr th {\n",
              "        vertical-align: top;\n",
              "    }\n",
              "\n",
              "    .dataframe thead th {\n",
              "        text-align: right;\n",
              "    }\n",
              "</style>\n",
              "<table border=\"1\" class=\"dataframe\">\n",
              "  <thead>\n",
              "    <tr style=\"text-align: right;\">\n",
              "      <th></th>\n",
              "      <th>Unnamed: 0</th>\n",
              "      <th>URL</th>\n",
              "      <th>Text</th>\n",
              "      <th>Sentiment</th>\n",
              "      <th>Sentiment_value</th>\n",
              "    </tr>\n",
              "  </thead>\n",
              "  <tbody>\n",
              "    <tr>\n",
              "      <th>0</th>\n",
              "      <td>0</td>\n",
              "      <td>http://www.imdb.com/title/tt0210075/usercomments</td>\n",
              "      <td>Girlfight follows a project dwelling New York ...</td>\n",
              "      <td>POS</td>\n",
              "      <td>1</td>\n",
              "    </tr>\n",
              "    <tr>\n",
              "      <th>1</th>\n",
              "      <td>1</td>\n",
              "      <td>http://www.imdb.com/title/tt0337640/usercomments</td>\n",
              "      <td>Hollywood North is an euphemism from the movie...</td>\n",
              "      <td>POS</td>\n",
              "      <td>1</td>\n",
              "    </tr>\n",
              "    <tr>\n",
              "      <th>2</th>\n",
              "      <td>2</td>\n",
              "      <td>http://www.imdb.com/title/tt0303549/usercomments</td>\n",
              "      <td>That '70s Show is definitely the funniest show...</td>\n",
              "      <td>POS</td>\n",
              "      <td>1</td>\n",
              "    </tr>\n",
              "    <tr>\n",
              "      <th>3</th>\n",
              "      <td>3</td>\n",
              "      <td>http://www.imdb.com/title/tt0716825/usercomments</td>\n",
              "      <td>9/10- 30 minutes of pure holiday terror. Okay,...</td>\n",
              "      <td>POS</td>\n",
              "      <td>1</td>\n",
              "    </tr>\n",
              "    <tr>\n",
              "      <th>4</th>\n",
              "      <td>4</td>\n",
              "      <td>http://www.imdb.com/title/tt0182225/usercomments</td>\n",
              "      <td>A series of random, seemingly insignificant th...</td>\n",
              "      <td>POS</td>\n",
              "      <td>1</td>\n",
              "    </tr>\n",
              "    <tr>\n",
              "      <th>5</th>\n",
              "      <td>5</td>\n",
              "      <td>http://www.imdb.com/title/tt0347779/usercomments</td>\n",
              "      <td>A very good adaptation of the novel by amrita ...</td>\n",
              "      <td>POS</td>\n",
              "      <td>1</td>\n",
              "    </tr>\n",
              "    <tr>\n",
              "      <th>6</th>\n",
              "      <td>6</td>\n",
              "      <td>http://www.imdb.com/title/tt0095655/usercomments</td>\n",
              "      <td>Ah, Moonwalker, I'm a huge Michael Jackson fan...</td>\n",
              "      <td>POS</td>\n",
              "      <td>1</td>\n",
              "    </tr>\n",
              "    <tr>\n",
              "      <th>7</th>\n",
              "      <td>7</td>\n",
              "      <td>http://www.imdb.com/title/tt0298131/usercomments</td>\n",
              "      <td>Although the beginning of the movie in New Yor...</td>\n",
              "      <td>POS</td>\n",
              "      <td>1</td>\n",
              "    </tr>\n",
              "    <tr>\n",
              "      <th>8</th>\n",
              "      <td>8</td>\n",
              "      <td>http://www.imdb.com/title/tt0088915/usercomments</td>\n",
              "      <td>As many reviewers here have noted, the film ve...</td>\n",
              "      <td>POS</td>\n",
              "      <td>1</td>\n",
              "    </tr>\n",
              "    <tr>\n",
              "      <th>9</th>\n",
              "      <td>9</td>\n",
              "      <td>http://www.imdb.com/title/tt0828154/usercomments</td>\n",
              "      <td>Bear in mind, any film (let alone documentary)...</td>\n",
              "      <td>POS</td>\n",
              "      <td>1</td>\n",
              "    </tr>\n",
              "  </tbody>\n",
              "</table>\n",
              "</div>"
            ],
            "text/plain": [
              "   Unnamed: 0  ... Sentiment_value\n",
              "0           0  ...               1\n",
              "1           1  ...               1\n",
              "2           2  ...               1\n",
              "3           3  ...               1\n",
              "4           4  ...               1\n",
              "5           5  ...               1\n",
              "6           6  ...               1\n",
              "7           7  ...               1\n",
              "8           8  ...               1\n",
              "9           9  ...               1\n",
              "\n",
              "[10 rows x 5 columns]"
            ]
          },
          "metadata": {
            "tags": []
          },
          "execution_count": 12
        }
      ]
    },
    {
      "cell_type": "markdown",
      "metadata": {
        "id": "bOXyFf6FXpKN"
      },
      "source": [
        "### Dataset Splitting"
      ]
    },
    {
      "cell_type": "code",
      "metadata": {
        "id": "hQTIEVFTXnb_"
      },
      "source": [
        "from sklearn.model_selection import train_test_split"
      ],
      "execution_count": null,
      "outputs": []
    },
    {
      "cell_type": "code",
      "metadata": {
        "id": "OmBWUaXlNcdj"
      },
      "source": [
        "X_train_pos, X_test_pos, Y_train_pos, Y_test_pos = train_test_split(pos_review['Text'], \n",
        "                                                        pos_review['Sentiment_value'], \n",
        "                                                        random_state=15)"
      ],
      "execution_count": null,
      "outputs": []
    },
    {
      "cell_type": "code",
      "metadata": {
        "id": "ItTGMOPdOjIg"
      },
      "source": [
        "X_train_neg, X_test_neg, Y_train_neg, Y_test_neg = train_test_split(neg_review['Text'], \n",
        "                                                        neg_review['Sentiment_value'], \n",
        "                                                        random_state=15)"
      ],
      "execution_count": null,
      "outputs": []
    },
    {
      "cell_type": "code",
      "metadata": {
        "colab": {
          "base_uri": "https://localhost:8080/"
        },
        "id": "LInY7Qe9O1F7",
        "outputId": "2a02294f-9449-4dce-bf71-f96eb6b31caa"
      },
      "source": [
        "X_train_pos.shape, X_train_neg.shape"
      ],
      "execution_count": null,
      "outputs": [
        {
          "output_type": "execute_result",
          "data": {
            "text/plain": [
              "((749,), (749,))"
            ]
          },
          "metadata": {
            "tags": []
          },
          "execution_count": 20
        }
      ]
    },
    {
      "cell_type": "code",
      "metadata": {
        "colab": {
          "base_uri": "https://localhost:8080/"
        },
        "id": "T353ZickO7GM",
        "outputId": "939cd6c7-1d5c-41c7-b33b-9ce67f0f2361"
      },
      "source": [
        "X_test_pos.shape, X_test_neg.shape"
      ],
      "execution_count": null,
      "outputs": [
        {
          "output_type": "execute_result",
          "data": {
            "text/plain": [
              "((250,), (250,))"
            ]
          },
          "metadata": {
            "tags": []
          },
          "execution_count": 21
        }
      ]
    },
    {
      "cell_type": "markdown",
      "metadata": {
        "id": "5W-6nlf_X88M"
      },
      "source": [
        "# Doc to vector"
      ]
    },
    {
      "cell_type": "code",
      "metadata": {
        "id": "30wTs2DtPDUz"
      },
      "source": [
        "X_train_pos.to_csv(r'train-pos.txt', header=None, index=None, sep=' ', mode='a')\n",
        "X_train_neg.to_csv(r'train-neg.txt', header=None, index=None, sep=' ', mode='a')\n",
        "X_test_pos.to_csv(r'test-pos.txt', header=None, index=None, sep=' ', mode='a')\n",
        "X_test_neg.to_csv(r'test-neg.txt', header=None, index=None, sep=' ', mode='a')"
      ],
      "execution_count": null,
      "outputs": []
    },
    {
      "cell_type": "code",
      "metadata": {
        "id": "c4c34jdUTwx9"
      },
      "source": [
        "class LabeledLineSentence(object):\n",
        "    def __init__(self, sources):\n",
        "        self.sources = sources\n",
        "        \n",
        "        flipped = {}\n",
        "        \n",
        "        # make sure that keys are unique\n",
        "        for key, value in sources.items():\n",
        "            if value not in flipped:\n",
        "                flipped[value] = [key]\n",
        "            else:\n",
        "                raise Exception('Non-unique prefix encountered')\n",
        "    \n",
        "    def __iter__(self):\n",
        "        for source, prefix in self.sources.items():\n",
        "            with utils.smart_open(source) as fin:\n",
        "                for item_no, line in enumerate(fin):\n",
        "                    yield LabeledSentence(utils.to_unicode(line).split(), [prefix + '_%s' % item_no])\n",
        "    \n",
        "    def to_array(self):\n",
        "        self.sentences = []\n",
        "        for source, prefix in self.sources.items():\n",
        "            with utils.smart_open(source) as fin:\n",
        "                for item_no, line in enumerate(fin):\n",
        "                    self.sentences.append(LabeledSentence(utils.to_unicode(line).split(), [prefix + '_%s' % item_no]))\n",
        "        return self.sentences\n",
        "    \n",
        "    def sentences_perm(self):\n",
        "        shuffled = list(self.sentences)\n",
        "        random.shuffle(shuffled)\n",
        "        return shuffled"
      ],
      "execution_count": null,
      "outputs": []
    },
    {
      "cell_type": "code",
      "metadata": {
        "id": "QqXA0akgTz4H"
      },
      "source": [
        "sources = {'test-neg.txt':'TEST_NEG', 'test-pos.txt':'TEST_POS', 'train-neg.txt':'TRAIN_NEG', 'train-pos.txt':'TRAIN_POS'}\n",
        "\n",
        "sentences = LabeledLineSentence(sources)"
      ],
      "execution_count": null,
      "outputs": []
    },
    {
      "cell_type": "markdown",
      "metadata": {
        "id": "CBWEC8v-Ywy0"
      },
      "source": [
        "### Training Model"
      ]
    },
    {
      "cell_type": "code",
      "metadata": {
        "colab": {
          "base_uri": "https://localhost:8080/"
        },
        "id": "fDjFNy2MT2Qw",
        "outputId": "69a6b70f-06f2-445c-9df7-2a2ea1b7201a"
      },
      "source": [
        "model = gensim.models.Doc2Vec(size=300, window=10, min_count=5, workers=11,alpha=0.025, min_alpha=0.025, iter=20)\n",
        "model.build_vocab(sentences.to_array())\n",
        "model.train(sentences.to_array(), epochs=model.iter, total_examples=model.corpus_count)"
      ],
      "execution_count": null,
      "outputs": [
        {
          "output_type": "stream",
          "text": [
            "/usr/local/lib/python3.7/dist-packages/gensim/models/doc2vec.py:566: UserWarning: The parameter `iter` is deprecated, will be removed in 4.0.0, use `epochs` instead.\n",
            "  warnings.warn(\"The parameter `iter` is deprecated, will be removed in 4.0.0, use `epochs` instead.\")\n",
            "/usr/local/lib/python3.7/dist-packages/gensim/models/doc2vec.py:570: UserWarning: The parameter `size` is deprecated, will be removed in 4.0.0, use `vector_size` instead.\n",
            "  warnings.warn(\"The parameter `size` is deprecated, will be removed in 4.0.0, use `vector_size` instead.\")\n",
            "/usr/local/lib/python3.7/dist-packages/ipykernel_launcher.py:25: DeprecationWarning: Call to deprecated `LabeledSentence` (Class will be removed in 4.0.0, use TaggedDocument instead).\n",
            "/usr/local/lib/python3.7/dist-packages/ipykernel_launcher.py:3: DeprecationWarning: Call to deprecated `iter` (Attribute will be removed in 4.0.0, use self.epochs instead).\n",
            "  This is separate from the ipykernel package so we can avoid doing imports until\n"
          ],
          "name": "stderr"
        }
      ]
    },
    {
      "cell_type": "code",
      "metadata": {
        "colab": {
          "base_uri": "https://localhost:8080/"
        },
        "id": "PG_Cr1XiVEcw",
        "outputId": "7e2b35bd-247c-40eb-f508-ab58c9b5005c"
      },
      "source": [
        "model.most_similar('good')"
      ],
      "execution_count": null,
      "outputs": [
        {
          "output_type": "stream",
          "text": [
            "/usr/local/lib/python3.7/dist-packages/ipykernel_launcher.py:1: DeprecationWarning: Call to deprecated `most_similar` (Method will be removed in 4.0.0, use self.wv.most_similar() instead).\n",
            "  \"\"\"Entry point for launching an IPython kernel.\n"
          ],
          "name": "stderr"
        },
        {
          "output_type": "execute_result",
          "data": {
            "text/plain": [
              "[('nice', 0.3883282542228699),\n",
              " ('fine', 0.37885838747024536),\n",
              " ('good.', 0.3753910958766937),\n",
              " ('decent', 0.3738258183002472),\n",
              " ('superb', 0.3530653715133667),\n",
              " ('good,', 0.34333837032318115),\n",
              " ('poor', 0.3426949381828308),\n",
              " ('more,', 0.32926416397094727),\n",
              " ('short', 0.32380664348602295),\n",
              " ('funny', 0.32072606682777405)]"
            ]
          },
          "metadata": {
            "tags": []
          },
          "execution_count": 31
        }
      ]
    },
    {
      "cell_type": "code",
      "metadata": {
        "id": "AxOQZzV3VMhs"
      },
      "source": [
        "model['TRAIN_NEG_0']"
      ],
      "execution_count": null,
      "outputs": []
    },
    {
      "cell_type": "code",
      "metadata": {
        "id": "Aa6oXX2KVQz4"
      },
      "source": [
        "model.save('./imdb.d2v')"
      ],
      "execution_count": null,
      "outputs": []
    },
    {
      "cell_type": "markdown",
      "metadata": {
        "id": "oFl_nAR1YaKo"
      },
      "source": [
        "### Using doc2vec model"
      ]
    },
    {
      "cell_type": "code",
      "metadata": {
        "id": "KwQKA7JjVTPM"
      },
      "source": [
        "model = Doc2Vec.load('./imdb.d2v')"
      ],
      "execution_count": null,
      "outputs": []
    },
    {
      "cell_type": "code",
      "metadata": {
        "id": "7Sgn9Y1lWPCG"
      },
      "source": [
        "train_arrays = np.zeros((1498, 300))\n",
        "train_labels = np.zeros(1498)\n",
        "\n",
        "for i in range(749):\n",
        "    prefix_train_pos = 'TRAIN_POS_' + str(i)\n",
        "    prefix_train_neg = 'TRAIN_NEG_' + str(i)\n",
        "    train_arrays[i] = model[prefix_train_pos]\n",
        "    train_arrays[749 + i] = model[prefix_train_neg]\n",
        "    train_labels[i] = 1\n",
        "    train_labels[749 + i] = 0"
      ],
      "execution_count": null,
      "outputs": []
    },
    {
      "cell_type": "code",
      "metadata": {
        "colab": {
          "base_uri": "https://localhost:8080/"
        },
        "id": "2ky7cW2aXgFX",
        "outputId": "473a69fa-b4f6-4284-e2bd-4a1ca4cf4df9"
      },
      "source": [
        "print(train_arrays)"
      ],
      "execution_count": null,
      "outputs": [
        {
          "output_type": "stream",
          "text": [
            "[[ 0.48856449  0.60430449 -0.09253777 ... -0.38889179 -0.45873937\n",
            "  -0.03055201]\n",
            " [ 0.86189646  0.18624328  0.70514441 ...  0.52049303 -0.01557526\n",
            "   0.17981602]\n",
            " [ 0.22128329  0.04407672  0.52109158 ...  0.5626449  -0.20736666\n",
            "   0.26234445]\n",
            " ...\n",
            " [ 0.07064036  0.3107408   0.17135926 ...  0.00692131  0.24868093\n",
            "   0.21751943]\n",
            " [ 0.23267913  0.04838743  0.91032094 ...  0.16090974 -0.61993158\n",
            "   0.55912155]\n",
            " [-0.10660066  0.31833789  0.25612915 ...  0.31709167  0.00705891\n",
            "  -0.3756741 ]]\n"
          ],
          "name": "stdout"
        }
      ]
    },
    {
      "cell_type": "code",
      "metadata": {
        "colab": {
          "base_uri": "https://localhost:8080/"
        },
        "id": "XNgMq-M6XmZm",
        "outputId": "93a32014-0987-4629-c739-678cd19e264b"
      },
      "source": [
        "print(train_labels)"
      ],
      "execution_count": null,
      "outputs": [
        {
          "output_type": "stream",
          "text": [
            "[1. 1. 1. ... 0. 0. 0.]\n"
          ],
          "name": "stdout"
        }
      ]
    },
    {
      "cell_type": "code",
      "metadata": {
        "id": "KdqTJ0CPXq-_"
      },
      "source": [
        "test_arrays = np.zeros((500, 300))\n",
        "test_labels = np.zeros(500)\n",
        "\n",
        "for i in range(250):\n",
        "    prefix_test_pos = 'TEST_POS_' + str(i)\n",
        "    prefix_test_neg = 'TEST_NEG_' + str(i)\n",
        "    test_arrays[i] = model[prefix_test_pos]\n",
        "    test_arrays[250 + i] = model[prefix_test_neg]\n",
        "    test_labels[i] = 1\n",
        "    test_labels[250 + i] = 0"
      ],
      "execution_count": null,
      "outputs": []
    },
    {
      "cell_type": "markdown",
      "metadata": {
        "id": "cZO_e_jKY8i_"
      },
      "source": [
        "### Using Logistic Regression classifier"
      ]
    },
    {
      "cell_type": "code",
      "metadata": {
        "colab": {
          "base_uri": "https://localhost:8080/"
        },
        "id": "vpf5WWhjYCO5",
        "outputId": "6e60c179-9bf7-441a-c1e0-b379f9bf8850"
      },
      "source": [
        "classifier = LogisticRegression(max_iter=300)\n",
        "classifier.fit(train_arrays, train_labels)"
      ],
      "execution_count": null,
      "outputs": [
        {
          "output_type": "execute_result",
          "data": {
            "text/plain": [
              "LogisticRegression(C=1.0, class_weight=None, dual=False, fit_intercept=True,\n",
              "                   intercept_scaling=1, l1_ratio=None, max_iter=300,\n",
              "                   multi_class='auto', n_jobs=None, penalty='l2',\n",
              "                   random_state=None, solver='lbfgs', tol=0.0001, verbose=0,\n",
              "                   warm_start=False)"
            ]
          },
          "metadata": {
            "tags": []
          },
          "execution_count": 50
        }
      ]
    },
    {
      "cell_type": "code",
      "metadata": {
        "colab": {
          "base_uri": "https://localhost:8080/"
        },
        "id": "CnXpaeyQYSzu",
        "outputId": "3d460d6c-ab89-4e90-af49-421946fc9bca"
      },
      "source": [
        "classifier.score(test_arrays, test_labels)"
      ],
      "execution_count": null,
      "outputs": [
        {
          "output_type": "execute_result",
          "data": {
            "text/plain": [
              "0.822"
            ]
          },
          "metadata": {
            "tags": []
          },
          "execution_count": 51
        }
      ]
    }
  ]
}