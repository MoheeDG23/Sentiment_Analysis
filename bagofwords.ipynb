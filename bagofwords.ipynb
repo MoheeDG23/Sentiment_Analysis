{
  "nbformat": 4,
  "nbformat_minor": 0,
  "metadata": {
    "colab": {
      "name": "bagofwords.ipynb",
      "provenance": [],
      "collapsed_sections": [],
      "toc_visible": true
    },
    "kernelspec": {
      "name": "python3",
      "display_name": "Python 3"
    },
    "language_info": {
      "name": "python"
    }
  },
  "cells": [
    {
      "cell_type": "markdown",
      "metadata": {
        "id": "pwQe0mu0R92t"
      },
      "source": [
        "# Libraries to be installed beforehand"
      ]
    },
    {
      "cell_type": "code",
      "metadata": {
        "id": "9fn4a9QfSKwh"
      },
      "source": [
        "import pandas as pd\n",
        "import numpy as np\n",
        "import matplotlib.pyplot as plt \n",
        "from sklearn.model_selection import train_test_split\n",
        "from sklearn.metrics import precision_score\n",
        "from sklearn.metrics import recall_score\n",
        "from sklearn.metrics import accuracy_score, f1_score\n",
        "from sklearn.metrics import classification_report"
      ],
      "execution_count": 30,
      "outputs": []
    },
    {
      "cell_type": "code",
      "metadata": {
        "colab": {
          "base_uri": "https://localhost:8080/"
        },
        "id": "C6gtDhN-cwRO",
        "outputId": "29aa60b3-64a8-4d85-d065-d18b95131686"
      },
      "source": [
        "from google.colab import drive\n",
        "drive.mount(\"/content/drive\")"
      ],
      "execution_count": 4,
      "outputs": [
        {
          "output_type": "stream",
          "text": [
            "Drive already mounted at /content/drive; to attempt to forcibly remount, call drive.mount(\"/content/drive\", force_remount=True).\n"
          ],
          "name": "stdout"
        }
      ]
    },
    {
      "cell_type": "code",
      "metadata": {
        "id": "WWAXVOAt4bZP"
      },
      "source": [
        "def load_data():\n",
        "    data_df = pd.read_excel('/content/drive/My Drive/dataset/dataset.xlsx', engine='openpyxl')\n",
        "    data_df.to_csv('output_reviews_top.csv')\n",
        "load_data()"
      ],
      "execution_count": 5,
      "outputs": []
    },
    {
      "cell_type": "code",
      "metadata": {
        "id": "_sJoQCoNh17O"
      },
      "source": [
        "top_data_df = pd.read_csv('output_reviews_top.csv')\n",
        "# print(\"Columns in the original dataset:\\n\")\n",
        "# print(top_data_df.columns)"
      ],
      "execution_count": 6,
      "outputs": []
    },
    {
      "cell_type": "markdown",
      "metadata": {
        "id": "PUxLhJWMx0UO"
      },
      "source": [
        "### Encoding 'POS' and 'NEG' reviews:"
      ]
    },
    {
      "cell_type": "code",
      "metadata": {
        "colab": {
          "base_uri": "https://localhost:8080/"
        },
        "id": "QXpiJFVoh9-C",
        "outputId": "55134dd8-e47c-4360-e2c3-3860a3066d36"
      },
      "source": [
        "print(\"Number of rows per star rating:\")\n",
        "print(top_data_df['Sentiment'].value_counts())"
      ],
      "execution_count": 7,
      "outputs": [
        {
          "output_type": "stream",
          "text": [
            "Number of rows per star rating:\n",
            "NEG    1000\n",
            "POS     999\n",
            "Name: Sentiment, dtype: int64\n"
          ],
          "name": "stdout"
        }
      ]
    },
    {
      "cell_type": "code",
      "metadata": {
        "colab": {
          "base_uri": "https://localhost:8080/",
          "height": 295
        },
        "id": "r76R6zCkTA11",
        "outputId": "5e7b0978-e2e6-4763-bb56-e41f4fc694e0"
      },
      "source": [
        "# Function to map stars to sentiment\n",
        "def map_sentiment(sentiment):\n",
        "    if sentiment == 'NEG':\n",
        "        return -1\n",
        "    else:\n",
        "        return 1\n",
        "# Mapping stars to sentiment into three categories\n",
        "top_data_df['Sentiment_value'] = [map_sentiment(x) for x in top_data_df['Sentiment']]\n",
        "# Plotting the sentiment distribution\n",
        "plt.figure()\n",
        "pd.value_counts(top_data_df['Sentiment_value']).plot.bar(title=\"Sentiment distribution in df\")\n",
        "plt.xlabel(\"Sentiment\")\n",
        "plt.ylabel(\"No. of rows in df\")\n",
        "plt.show()"
      ],
      "execution_count": 8,
      "outputs": [
        {
          "output_type": "display_data",
          "data": {
            "image/png": "[encoded data removed]",
            "text/plain": [
              "<Figure size 432x288 with 1 Axes>"
            ]
          },
          "metadata": {
            "tags": [],
            "needs_background": "light"
          }
        }
      ]
    },
    {
      "cell_type": "markdown",
      "metadata": {
        "id": "foKkq8W7yAcY"
      },
      "source": [
        "### Selecting equal number of positive and negative reviews for training:"
      ]
    },
    {
      "cell_type": "code",
      "metadata": {
        "id": "FGgBu-CKicEK"
      },
      "source": [
        "# Function to retrieve top few number of each category\n",
        "def get_top_data(top_n):\n",
        "    top_data_df_positive = top_data_df[top_data_df['Sentiment_value'] == 1].head(top_n)\n",
        "    top_data_df_negative = top_data_df[top_data_df['Sentiment_value'] == -1].head(top_n)\n",
        "    top_data_df_small = pd.concat([top_data_df_positive, top_data_df_negative])\n",
        "    return top_data_df_small"
      ],
      "execution_count": 9,
      "outputs": []
    },
    {
      "cell_type": "code",
      "metadata": {
        "colab": {
          "base_uri": "https://localhost:8080/"
        },
        "id": "o3OMCpcSTktk",
        "outputId": "38b0db5d-a3c8-4a91-e323-296d3c41922f"
      },
      "source": [
        "top_data_df_small = get_top_data(999)\n",
        "print(\"After segregating and taking equal number of rows for each sentiment:\")\n",
        "print(top_data_df_small['Sentiment_value'].value_counts())"
      ],
      "execution_count": 10,
      "outputs": [
        {
          "output_type": "stream",
          "text": [
            "After segregating and taking equal number of rows for each sentiment:\n",
            " 1    999\n",
            "-1    999\n",
            "Name: Sentiment_value, dtype: int64\n"
          ],
          "name": "stdout"
        }
      ]
    },
    {
      "cell_type": "code",
      "metadata": {
        "colab": {
          "base_uri": "https://localhost:8080/",
          "height": 359
        },
        "id": "nHJ4DQWOTaa8",
        "outputId": "2c282847-df3a-4b3a-e950-3fc275cbaf4c"
      },
      "source": [
        "top_data_df_small.head(10)"
      ],
      "execution_count": 11,
      "outputs": [
        {
          "output_type": "execute_result",
          "data": {
            "text/html": [
              "<div>\n",
              "<style scoped>\n",
              "    .dataframe tbody tr th:only-of-type {\n",
              "        vertical-align: middle;\n",
              "    }\n",
              "\n",
              "    .dataframe tbody tr th {\n",
              "        vertical-align: top;\n",
              "    }\n",
              "\n",
              "    .dataframe thead th {\n",
              "        text-align: right;\n",
              "    }\n",
              "</style>\n",
              "<table border=\"1\" class=\"dataframe\">\n",
              "  <thead>\n",
              "    <tr style=\"text-align: right;\">\n",
              "      <th></th>\n",
              "      <th>Unnamed: 0</th>\n",
              "      <th>URL</th>\n",
              "      <th>Text</th>\n",
              "      <th>Sentiment</th>\n",
              "      <th>Sentiment_value</th>\n",
              "    </tr>\n",
              "  </thead>\n",
              "  <tbody>\n",
              "    <tr>\n",
              "      <th>0</th>\n",
              "      <td>0</td>\n",
              "      <td>http://www.imdb.com/title/tt0210075/usercomments</td>\n",
              "      <td>Girlfight follows a project dwelling New York ...</td>\n",
              "      <td>POS</td>\n",
              "      <td>1</td>\n",
              "    </tr>\n",
              "    <tr>\n",
              "      <th>1</th>\n",
              "      <td>1</td>\n",
              "      <td>http://www.imdb.com/title/tt0337640/usercomments</td>\n",
              "      <td>Hollywood North is an euphemism from the movie...</td>\n",
              "      <td>POS</td>\n",
              "      <td>1</td>\n",
              "    </tr>\n",
              "    <tr>\n",
              "      <th>2</th>\n",
              "      <td>2</td>\n",
              "      <td>http://www.imdb.com/title/tt0303549/usercomments</td>\n",
              "      <td>That '70s Show is definitely the funniest show...</td>\n",
              "      <td>POS</td>\n",
              "      <td>1</td>\n",
              "    </tr>\n",
              "    <tr>\n",
              "      <th>3</th>\n",
              "      <td>3</td>\n",
              "      <td>http://www.imdb.com/title/tt0716825/usercomments</td>\n",
              "      <td>9/10- 30 minutes of pure holiday terror. Okay,...</td>\n",
              "      <td>POS</td>\n",
              "      <td>1</td>\n",
              "    </tr>\n",
              "    <tr>\n",
              "      <th>4</th>\n",
              "      <td>4</td>\n",
              "      <td>http://www.imdb.com/title/tt0182225/usercomments</td>\n",
              "      <td>A series of random, seemingly insignificant th...</td>\n",
              "      <td>POS</td>\n",
              "      <td>1</td>\n",
              "    </tr>\n",
              "    <tr>\n",
              "      <th>5</th>\n",
              "      <td>5</td>\n",
              "      <td>http://www.imdb.com/title/tt0347779/usercomments</td>\n",
              "      <td>A very good adaptation of the novel by amrita ...</td>\n",
              "      <td>POS</td>\n",
              "      <td>1</td>\n",
              "    </tr>\n",
              "    <tr>\n",
              "      <th>6</th>\n",
              "      <td>6</td>\n",
              "      <td>http://www.imdb.com/title/tt0095655/usercomments</td>\n",
              "      <td>Ah, Moonwalker, I'm a huge Michael Jackson fan...</td>\n",
              "      <td>POS</td>\n",
              "      <td>1</td>\n",
              "    </tr>\n",
              "    <tr>\n",
              "      <th>7</th>\n",
              "      <td>7</td>\n",
              "      <td>http://www.imdb.com/title/tt0298131/usercomments</td>\n",
              "      <td>Although the beginning of the movie in New Yor...</td>\n",
              "      <td>POS</td>\n",
              "      <td>1</td>\n",
              "    </tr>\n",
              "    <tr>\n",
              "      <th>8</th>\n",
              "      <td>8</td>\n",
              "      <td>http://www.imdb.com/title/tt0088915/usercomments</td>\n",
              "      <td>As many reviewers here have noted, the film ve...</td>\n",
              "      <td>POS</td>\n",
              "      <td>1</td>\n",
              "    </tr>\n",
              "    <tr>\n",
              "      <th>9</th>\n",
              "      <td>9</td>\n",
              "      <td>http://www.imdb.com/title/tt0828154/usercomments</td>\n",
              "      <td>Bear in mind, any film (let alone documentary)...</td>\n",
              "      <td>POS</td>\n",
              "      <td>1</td>\n",
              "    </tr>\n",
              "  </tbody>\n",
              "</table>\n",
              "</div>"
            ],
            "text/plain": [
              "   Unnamed: 0  ... Sentiment_value\n",
              "0           0  ...               1\n",
              "1           1  ...               1\n",
              "2           2  ...               1\n",
              "3           3  ...               1\n",
              "4           4  ...               1\n",
              "5           5  ...               1\n",
              "6           6  ...               1\n",
              "7           7  ...               1\n",
              "8           8  ...               1\n",
              "9           9  ...               1\n",
              "\n",
              "[10 rows x 5 columns]"
            ]
          },
          "metadata": {
            "tags": []
          },
          "execution_count": 11
        }
      ]
    },
    {
      "cell_type": "markdown",
      "metadata": {
        "id": "gpyMzDMfTsKY"
      },
      "source": [
        "# Tokenization"
      ]
    },
    {
      "cell_type": "code",
      "metadata": {
        "colab": {
          "base_uri": "https://localhost:8080/"
        },
        "id": "LWWGzLsaiwZv",
        "outputId": "a59835fb-55f6-4d22-a894-f3e544171534"
      },
      "source": [
        "from gensim.utils import simple_preprocess\n",
        "# Tokenize the text column to get the new column 'tokenized_text'\n",
        "top_data_df_small['tokenized_text'] = [simple_preprocess(line, deacc=True) for line in top_data_df_small['Text']] \n",
        "print(top_data_df_small['tokenized_text'].head(10))"
      ],
      "execution_count": 12,
      "outputs": [
        {
          "output_type": "stream",
          "text": [
            "0    [girlfight, follows, project, dwelling, new, y...\n",
            "1    [hollywood, north, is, an, euphemism, from, th...\n",
            "2    [that, show, is, definitely, the, funniest, sh...\n",
            "3    [minutes, of, pure, holiday, terror, okay, so,...\n",
            "4    [series, of, random, seemingly, insignificant,...\n",
            "5    [very, good, adaptation, of, the, novel, by, a...\n",
            "6    [ah, moonwalker, huge, michael, jackson, fan, ...\n",
            "7    [although, the, beginning, of, the, movie, in,...\n",
            "8    [as, many, reviewers, here, have, noted, the, ...\n",
            "9    [bear, in, mind, any, film, let, alone, docume...\n",
            "Name: tokenized_text, dtype: object\n"
          ],
          "name": "stdout"
        }
      ]
    },
    {
      "cell_type": "markdown",
      "metadata": {
        "id": "4eHAeEj1yL-j"
      },
      "source": [
        "## Stemming:"
      ]
    },
    {
      "cell_type": "code",
      "metadata": {
        "id": "qzwTygB3WAE7"
      },
      "source": [
        "from gensim.parsing.porter import PorterStemmer"
      ],
      "execution_count": 14,
      "outputs": []
    },
    {
      "cell_type": "code",
      "metadata": {
        "id": "vhH4t5flWA_d"
      },
      "source": [
        "porter_stemmer = PorterStemmer()"
      ],
      "execution_count": 15,
      "outputs": []
    },
    {
      "cell_type": "code",
      "metadata": {
        "colab": {
          "base_uri": "https://localhost:8080/"
        },
        "id": "VHdVKwTNi9Gx",
        "outputId": "8ee9e75f-30b4-4272-e310-5b0fc2ffe7e0"
      },
      "source": [
        "# Get the stemmed_tokens\n",
        "top_data_df_small['stemmed_tokens'] = [[porter_stemmer.stem(word) for word in tokens] for tokens in top_data_df_small['tokenized_text'] ]\n",
        "top_data_df_small['stemmed_tokens'].head(10)"
      ],
      "execution_count": 16,
      "outputs": [
        {
          "output_type": "execute_result",
          "data": {
            "text/plain": [
              "0    [girlfight, follow, project, dwell, new, york,...\n",
              "1    [hollywood, north, is, an, euphem, from, the, ...\n",
              "2    [that, show, is, definit, the, funniest, show,...\n",
              "3    [minut, of, pure, holidai, terror, okai, so, i...\n",
              "4    [seri, of, random, seemingli, insignific, thef...\n",
              "5    [veri, good, adapt, of, the, novel, by, amrita...\n",
              "6    [ah, moonwalk, huge, michael, jackson, fan, gr...\n",
              "7    [although, the, begin, of, the, movi, in, new,...\n",
              "8    [as, mani, review, here, have, note, the, film...\n",
              "9    [bear, in, mind, ani, film, let, alon, documen...\n",
              "Name: stemmed_tokens, dtype: object"
            ]
          },
          "metadata": {
            "tags": []
          },
          "execution_count": 16
        }
      ]
    },
    {
      "cell_type": "code",
      "metadata": {
        "id": "w7ytKFofWHQY"
      },
      "source": [
        "from gensim import corpora"
      ],
      "execution_count": 17,
      "outputs": []
    },
    {
      "cell_type": "code",
      "metadata": {
        "colab": {
          "base_uri": "https://localhost:8080/"
        },
        "id": "AWW0T_crjAPG",
        "outputId": "a76814f0-d2a1-4152-87a3-e314203b72f4"
      },
      "source": [
        "# Build the dictionary\n",
        "mydict = corpora.Dictionary(top_data_df_small['stemmed_tokens'])\n",
        "print(\"Total unique words:\", len(mydict.token2id))"
      ],
      "execution_count": 18,
      "outputs": [
        {
          "output_type": "stream",
          "text": [
            "Total unique words: 17708\n"
          ],
          "name": "stdout"
        }
      ]
    },
    {
      "cell_type": "code",
      "metadata": {
        "colab": {
          "base_uri": "https://localhost:8080/"
        },
        "id": "R2bS7HMmUB9R",
        "outputId": "e44b4b9d-4c57-42a3-c0f7-33cf02e22ed0"
      },
      "source": [
        "print(\"\\nSample data from dictionary:\")\n",
        "i = 0\n",
        "for key in mydict.token2id.keys():\n",
        "    print(\"Word: {} - ID: {} \".format(key, mydict.token2id[key]))\n",
        "    if i == 3:\n",
        "        break\n",
        "    i += 1"
      ],
      "execution_count": 21,
      "outputs": [
        {
          "output_type": "stream",
          "text": [
            "\n",
            "Sample data from dictionary:\n",
            "Word: abl - ID: 0 \n",
            "Word: about - ID: 1 \n",
            "Word: all - ID: 2 \n",
            "Word: almost - ID: 3 \n"
          ],
          "name": "stdout"
        }
      ]
    },
    {
      "cell_type": "markdown",
      "metadata": {
        "id": "S2fPYm1wyXjN"
      },
      "source": [
        "## Bag of Words embedding:"
      ]
    },
    {
      "cell_type": "code",
      "metadata": {
        "id": "QYnHHvDFW2H1"
      },
      "source": [
        "import gensim"
      ],
      "execution_count": 22,
      "outputs": []
    },
    {
      "cell_type": "code",
      "metadata": {
        "colab": {
          "base_uri": "https://localhost:8080/"
        },
        "id": "kKWIRBr1jHCI",
        "outputId": "c8109688-a545-485c-ad2c-894505a9b102"
      },
      "source": [
        "vocab_len = len(mydict)\n",
        "print(\"Example of how the BOW words\")\n",
        "arr = []\n",
        "for line in top_data_df_small['stemmed_tokens']:\n",
        "    print(\"Doc2Bow Line:\")\n",
        "    print(mydict.doc2bow(line), \"\\n\")\n",
        "    for word in line:\n",
        "        arr.append(mydict.token2id[word])\n",
        "    \n",
        "    print(\"Actual line:\")\n",
        "    print(line, \"\\n\")\n",
        "    \n",
        "    print(\"(Word, count) Tuples:\")\n",
        "    print([(mydict[id], count) for id, count in mydict.doc2bow(line) ], \"\\n\")\n",
        "    \n",
        "    print(\"Sparse bow vector for the line\")\n",
        "    print(gensim.matutils.corpus2csc([mydict.doc2bow(line)],num_terms=vocab_len).toarray()[:,0], \"\\n\")\n",
        "    break\n",
        "\n",
        "print(\"Sorted word id list\")\n",
        "print(sorted(arr))"
      ],
      "execution_count": 25,
      "outputs": [
        {
          "output_type": "stream",
          "text": [
            "Example of how the BOW words\n",
            "Doc2Bow Line:\n",
            "[(0, 1), (1, 3), (2, 1), (3, 1), (4, 1), (5, 2), (6, 1), (7, 5), (8, 1), (9, 1), (10, 5), (11, 1), (12, 1), (13, 1), (14, 1), (15, 1), (16, 2), (17, 2), (18, 1), (19, 2), (20, 2), (21, 1), (22, 2), (23, 2), (24, 2), (25, 2), (26, 3), (27, 1), (28, 2), (29, 1), (30, 1), (31, 2), (32, 4), (33, 2), (34, 1), (35, 2), (36, 3), (37, 2), (38, 2), (39, 1), (40, 5), (41, 2), (42, 2), (43, 1), (44, 1), (45, 1), (46, 2), (47, 2), (48, 3), (49, 2), (50, 1), (51, 1), (52, 2), (53, 1), (54, 1), (55, 5), (56, 1), (57, 1), (58, 1), (59, 2), (60, 1), (61, 1), (62, 1), (63, 2), (64, 2), (65, 2), (66, 1)] \n",
            "\n",
            "Actual line:\n",
            "['girlfight', 'follow', 'project', 'dwell', 'new', 'york', 'high', 'school', 'girl', 'from', 'sens', 'of', 'futil', 'into', 'the', 'world', 'of', 'amateur', 'box', 'where', 'she', 'find', 'self', 'esteem', 'purpos', 'and', 'much', 'more', 'although', 'the', 'film', 'is', 'not', 'about', 'box', 'box', 'is', 'all', 'about', 'the', 'film', 'so', 'much', 'so', 'you', 'can', 'almost', 'smell', 'the', 'sweat', 'technic', 'and', 'artist', 'good', 'shoot', 'with', 'an', 'sens', 'of', 'honesti', 'and', 'realiti', 'about', 'it', 'girlfight', 'is', 'no', 'chick', 'flick', 'and', 'no', 'rocki', 'it', 'is', 'rather', 'veri', 'human', 'drama', 'which', 'even', 'viewer', 'who', 'don', 'know', 'box', 'will', 'be', 'abl', 'to', 'connect', 'with', 'girlfight', 'follow', 'project', 'dwell', 'new', 'york', 'high', 'school', 'girl', 'from', 'sens', 'of', 'futil', 'into', 'the', 'world', 'of', 'amateur', 'box', 'where', 'she', 'find', 'self', 'esteem', 'purpos', 'and', 'much', 'more'] \n",
            "\n",
            "(Word, count) Tuples:\n",
            "[('abl', 1), ('about', 3), ('all', 1), ('almost', 1), ('although', 1), ('amateur', 2), ('an', 1), ('and', 5), ('artist', 1), ('be', 1), ('box', 5), ('can', 1), ('chick', 1), ('connect', 1), ('don', 1), ('drama', 1), ('dwell', 2), ('esteem', 2), ('even', 1), ('film', 2), ('find', 2), ('flick', 1), ('follow', 2), ('from', 2), ('futil', 2), ('girl', 2), ('girlfight', 3), ('good', 1), ('high', 2), ('honesti', 1), ('human', 1), ('into', 2), ('is', 4), ('it', 2), ('know', 1), ('more', 2), ('much', 3), ('new', 2), ('no', 2), ('not', 1), ('of', 5), ('project', 2), ('purpos', 2), ('rather', 1), ('realiti', 1), ('rocki', 1), ('school', 2), ('self', 2), ('sens', 3), ('she', 2), ('shoot', 1), ('smell', 1), ('so', 2), ('sweat', 1), ('technic', 1), ('the', 5), ('to', 1), ('veri', 1), ('viewer', 1), ('where', 2), ('which', 1), ('who', 1), ('will', 1), ('with', 2), ('world', 2), ('york', 2), ('you', 1)] \n",
            "\n",
            "Sparse bow vector for the line\n",
            "[1. 3. 1. ... 0. 0. 0.] \n",
            "\n",
            "Sorted word id list\n",
            "[0, 1, 1, 1, 2, 3, 4, 5, 5, 6, 7, 7, 7, 7, 7, 8, 9, 10, 10, 10, 10, 10, 11, 12, 13, 14, 15, 16, 16, 17, 17, 18, 19, 19, 20, 20, 21, 22, 22, 23, 23, 24, 24, 25, 25, 26, 26, 26, 27, 28, 28, 29, 30, 31, 31, 32, 32, 32, 32, 33, 33, 34, 35, 35, 36, 36, 36, 37, 37, 38, 38, 39, 40, 40, 40, 40, 40, 41, 41, 42, 42, 43, 44, 45, 46, 46, 47, 47, 48, 48, 48, 49, 49, 50, 51, 52, 52, 53, 54, 55, 55, 55, 55, 55, 56, 57, 58, 59, 59, 60, 61, 62, 63, 63, 64, 64, 65, 65, 66]\n"
          ],
          "name": "stdout"
        }
      ]
    },
    {
      "cell_type": "markdown",
      "metadata": {
        "id": "L1xnl1xHybaY"
      },
      "source": [
        "## Splitting into train and test data:"
      ]
    },
    {
      "cell_type": "code",
      "metadata": {
        "colab": {
          "base_uri": "https://localhost:8080/"
        },
        "id": "0OLA1GeDjLIx",
        "outputId": "a22d39a3-093e-4a93-ede0-8c24db70d3ac"
      },
      "source": [
        "def split_train_test(top_data_df_small, test_size=0.3, shuffle_state=True):\n",
        "    X_train, X_test, Y_train, Y_test = train_test_split(top_data_df_small[['URL', 'Text', 'stemmed_tokens']], \n",
        "                                                        top_data_df_small['Sentiment_value'], \n",
        "                                                        shuffle=shuffle_state,\n",
        "                                                        test_size=test_size, \n",
        "                                                        random_state=15)\n",
        "    print(\"Value counts for Train sentiments\")\n",
        "    print(Y_train.value_counts(), \"\\n\")\n",
        "    print(\"Value counts for Test sentiments\")\n",
        "    print(Y_test.value_counts(), \"\\n\")\n",
        "    # print(type(X_train))\n",
        "    # print(type(Y_train))\n",
        "    X_train = X_train.reset_index()\n",
        "    X_test = X_test.reset_index()\n",
        "    Y_train = Y_train.to_frame()\n",
        "    Y_train = Y_train.reset_index()\n",
        "    Y_test = Y_test.to_frame()\n",
        "    Y_test = Y_test.reset_index()\n",
        "    # print(X_train.head())\n",
        "    return X_train, X_test, Y_train, Y_test\n",
        "\n",
        "# Call the train_test_split\n",
        "X_train, X_test, Y_train, Y_test = split_train_test(top_data_df_small)"
      ],
      "execution_count": 28,
      "outputs": [
        {
          "output_type": "stream",
          "text": [
            "Value counts for Train sentiments\n",
            " 1    712\n",
            "-1    686\n",
            "Name: Sentiment_value, dtype: int64 \n",
            "\n",
            "Value counts for Test sentiments\n",
            "-1    313\n",
            " 1    287\n",
            "Name: Sentiment_value, dtype: int64 \n",
            "\n"
          ],
          "name": "stdout"
        }
      ]
    },
    {
      "cell_type": "markdown",
      "metadata": {
        "id": "TQVtAatryvpL"
      },
      "source": [
        "## Embedding on train data"
      ]
    },
    {
      "cell_type": "code",
      "metadata": {
        "colab": {
          "base_uri": "https://localhost:8080/"
        },
        "id": "iLfd4IMAjiRl",
        "outputId": "5ddaf5a8-5384-4549-ae43-6f331503d46c"
      },
      "source": [
        "import time\n",
        "start_time = time.time()\n",
        "vocab_len = len(mydict)\n",
        "bow_filename = 'train_review_bow.csv'\n",
        "with open(bow_filename, 'w+') as bow_file:\n",
        "    for index, row in X_train.iterrows():\n",
        "        features = gensim.matutils.corpus2csc([mydict.doc2bow(row['stemmed_tokens'])],num_terms=vocab_len).toarray()[:,0]\n",
        "        if index == 0:\n",
        "            # print(\"Header\")\n",
        "            header = \",\".join(str(mydict[ele]) for ele in range(vocab_len))\n",
        "            # print(header)\n",
        "            bow_file.write(header)\n",
        "            bow_file.write(\"\\n\")\n",
        "        line1 = \",\".join( [str(vector_element) for vector_element in features] )\n",
        "        bow_file.write(line1)\n",
        "        bow_file.write('\\n')\n",
        "\n",
        "print(\"Time taken to create bow for :\" + str(time.time() - start_time))"
      ],
      "execution_count": 29,
      "outputs": [
        {
          "output_type": "stream",
          "text": [
            "Time taken to create bow for :10.886131048202515\n"
          ],
          "name": "stdout"
        }
      ]
    },
    {
      "cell_type": "markdown",
      "metadata": {
        "id": "XpH6UWZczE8d"
      },
      "source": [
        "##Function to generate classification report"
      ]
    },
    {
      "cell_type": "code",
      "metadata": {
        "id": "XTZmRRkrmO8b"
      },
      "source": [
        "# Iterating through test data to get the predictions of sentiment by the model\n",
        "def generate_report(bow_clf):\n",
        "  test_features = []\n",
        "  start_time = time.time()\n",
        "  for index, row in X_test.iterrows():\n",
        "      # Converting the tokens into the format that the model requires\n",
        "      features = gensim.matutils.corpus2csc([mydict.doc2bow(row['stemmed_tokens'])],num_terms=vocab_len).toarray()[:,0]\n",
        "      test_features.append(features)\n",
        "  test_predictions = bow_clf.predict(test_features)\n",
        "\n",
        "  # Comparing the predictions to actual sentiments for the sentences\n",
        "  print(classification_report(Y_test['Sentiment_value'],test_predictions))\n",
        "  print(\"Time taken to predict the model \" + str(time.time() - start_time))\n",
        "  prec = precision_score(Y_test['Sentiment_value'],test_predictions)\n",
        "  rec = recall_score(Y_test['Sentiment_value'],test_predictions)\n",
        "  acc = accuracy_score(Y_test['Sentiment_value'],test_predictions)\n",
        "  return prec, rec, acc"
      ],
      "execution_count": 31,
      "outputs": []
    },
    {
      "cell_type": "markdown",
      "metadata": {
        "id": "3SuUERMUZnoQ"
      },
      "source": [
        "# Decision Tree Classifier"
      ]
    },
    {
      "cell_type": "code",
      "metadata": {
        "id": "Sw39pz9EZiJb"
      },
      "source": [
        "from sklearn.tree import DecisionTreeClassifier"
      ],
      "execution_count": null,
      "outputs": []
    },
    {
      "cell_type": "code",
      "metadata": {
        "colab": {
          "base_uri": "https://localhost:8080/"
        },
        "id": "ByNvhFjljt12",
        "outputId": "36dc2061-2c31-456f-efab-a60c3257b100"
      },
      "source": [
        "bow_df = pd.read_csv('train_review_bow.csv')\n",
        "bow_clf = DecisionTreeClassifier(random_state=0)\n",
        "bow_clf.fit(bow_df, Y_train['Sentiment_value'])"
      ],
      "execution_count": 32,
      "outputs": [
        {
          "output_type": "execute_result",
          "data": {
            "text/plain": [
              "DecisionTreeClassifier(ccp_alpha=0.0, class_weight=None, criterion='gini',\n",
              "                       max_depth=None, max_features=None, max_leaf_nodes=None,\n",
              "                       min_impurity_decrease=0.0, min_impurity_split=None,\n",
              "                       min_samples_leaf=1, min_samples_split=2,\n",
              "                       min_weight_fraction_leaf=0.0, presort='deprecated',\n",
              "                       random_state=0, splitter='best')"
            ]
          },
          "metadata": {
            "tags": []
          },
          "execution_count": 32
        }
      ]
    },
    {
      "cell_type": "markdown",
      "metadata": {
        "id": "iiPt5DwCyzV1"
      },
      "source": [
        "## Find out the most important features from the bow classification model"
      ]
    },
    {
      "cell_type": "code",
      "metadata": {
        "colab": {
          "base_uri": "https://localhost:8080/"
        },
        "id": "_Pvfc3iJj7cA",
        "outputId": "28147c47-76f1-4c17-a5e2-16314f6bd2dd"
      },
      "source": [
        "importances = list(bow_clf.feature_importances_)\n",
        "feature_importances = [(feature, round(importance, 10)) for feature, importance in zip(bow_df.columns, importances)]\n",
        "feature_importances = sorted(feature_importances, key = lambda x: x[1], reverse = True)\n",
        "top_i = 0\n",
        "for pair in feature_importances:\n",
        "    print('Variable: {:20} Importance: {}'.format(*pair))\n",
        "    if top_i == 20:\n",
        "        break\n",
        "    top_i += 1"
      ],
      "execution_count": null,
      "outputs": [
        {
          "output_type": "stream",
          "text": [
            "Variable: bad                  Importance: 0.1669461871\n",
            "Variable: wast                 Importance: 0.1254934397\n",
            "Variable: excel                Importance: 0.0692289262\n",
            "Variable: bore                 Importance: 0.054036118\n",
            "Variable: poor                 Importance: 0.0532591927\n",
            "Variable: ridicul              Importance: 0.0360510426\n",
            "Variable: film                 Importance: 0.023788887\n",
            "Variable: charact              Importance: 0.0231885279\n",
            "Variable: worst                Importance: 0.0224430566\n",
            "Variable: poorli               Importance: 0.0201562152\n",
            "Variable: neither              Importance: 0.018965248\n",
            "Variable: person               Importance: 0.018254452\n",
            "Variable: black                Importance: 0.0173945218\n",
            "Variable: idiot                Importance: 0.0165003857\n",
            "Variable: pathet               Importance: 0.0164166877\n",
            "Variable: terribl              Importance: 0.01604762\n",
            "Variable: perfect              Importance: 0.0147043636\n",
            "Variable: badli                Importance: 0.0145070655\n",
            "Variable: of                   Importance: 0.0126346583\n",
            "Variable: thriller             Importance: 0.0106521137\n",
            "Variable: doctor               Importance: 0.0106295862\n"
          ],
          "name": "stdout"
        }
      ]
    },
    {
      "cell_type": "code",
      "metadata": {
        "colab": {
          "base_uri": "https://localhost:8080/"
        },
        "id": "IRHpaovGm7tv",
        "outputId": "54baf473-d29c-471f-be59-3e5f50549dbc"
      },
      "source": [
        "dt_metrics = [None, None, None]\n",
        "dt_metrics[0], dt_metrics[1], dt_metrics[2] = generate_report(bow_clf)"
      ],
      "execution_count": 33,
      "outputs": [
        {
          "output_type": "stream",
          "text": [
            "              precision    recall  f1-score   support\n",
            "\n",
            "          -1       0.89      0.90      0.90       313\n",
            "           1       0.89      0.87      0.88       287\n",
            "\n",
            "    accuracy                           0.89       600\n",
            "   macro avg       0.89      0.89      0.89       600\n",
            "weighted avg       0.89      0.89      0.89       600\n",
            "\n",
            "Time taken to predict the model 0.4477417469024658\n"
          ],
          "name": "stdout"
        }
      ]
    },
    {
      "cell_type": "markdown",
      "metadata": {
        "id": "mZ4zjECQZvPo"
      },
      "source": [
        "# Logistic Regression"
      ]
    },
    {
      "cell_type": "code",
      "metadata": {
        "id": "1-_UbgaviVWC"
      },
      "source": [
        "from sklearn.linear_model import LogisticRegression"
      ],
      "execution_count": 34,
      "outputs": []
    },
    {
      "cell_type": "code",
      "metadata": {
        "colab": {
          "base_uri": "https://localhost:8080/"
        },
        "id": "A_l-lrWtiprC",
        "outputId": "d4be03ec-a338-4a40-eabd-20072133586c"
      },
      "source": [
        "bow_df = pd.read_csv('train_review_bow.csv')\n",
        "bow_clf = LogisticRegression(max_iter=300)\n",
        "bow_clf.fit(bow_df, Y_train['Sentiment_value'])\n",
        "bow_clf.fit(bow_df,Y_train['Sentiment_value'])"
      ],
      "execution_count": 35,
      "outputs": [
        {
          "output_type": "execute_result",
          "data": {
            "text/plain": [
              "LogisticRegression(C=1.0, class_weight=None, dual=False, fit_intercept=True,\n",
              "                   intercept_scaling=1, l1_ratio=None, max_iter=300,\n",
              "                   multi_class='auto', n_jobs=None, penalty='l2',\n",
              "                   random_state=None, solver='lbfgs', tol=0.0001, verbose=0,\n",
              "                   warm_start=False)"
            ]
          },
          "metadata": {
            "tags": []
          },
          "execution_count": 35
        }
      ]
    },
    {
      "cell_type": "markdown",
      "metadata": {
        "id": "kK0R1qJlH5h7"
      },
      "source": [
        "Find out the most important features from the bow classification model"
      ]
    },
    {
      "cell_type": "code",
      "metadata": {
        "colab": {
          "base_uri": "https://localhost:8080/"
        },
        "id": "-V20neFinIYl",
        "outputId": "5807000f-def8-446f-cd35-a22227305058"
      },
      "source": [
        "lr_metrics = [None, None, None]\n",
        "lr_metrics[0], lr_metrics[1], lr_metrics[2] = generate_report(bow_clf)"
      ],
      "execution_count": 36,
      "outputs": [
        {
          "output_type": "stream",
          "text": [
            "              precision    recall  f1-score   support\n",
            "\n",
            "          -1       0.87      0.88      0.87       313\n",
            "           1       0.87      0.85      0.86       287\n",
            "\n",
            "    accuracy                           0.87       600\n",
            "   macro avg       0.87      0.87      0.87       600\n",
            "weighted avg       0.87      0.87      0.87       600\n",
            "\n",
            "Time taken to predict the model 0.5294733047485352\n"
          ],
          "name": "stdout"
        }
      ]
    },
    {
      "cell_type": "markdown",
      "metadata": {
        "id": "ja7g9cjCZz4g"
      },
      "source": [
        "# Support Vector Machine (SVM)"
      ]
    },
    {
      "cell_type": "code",
      "metadata": {
        "id": "2LiUnQD_nhv0"
      },
      "source": [
        "from sklearn.svm import SVC\n",
        "from sklearn import svm\n",
        "from sklearn.metrics import classification_report"
      ],
      "execution_count": 37,
      "outputs": []
    },
    {
      "cell_type": "code",
      "metadata": {
        "colab": {
          "base_uri": "https://localhost:8080/"
        },
        "id": "NcI3yzvGnnm_",
        "outputId": "175ba87b-9864-43a6-c6ae-69e12d564651"
      },
      "source": [
        "bow_df = pd.read_csv('train_review_bow.csv')\n",
        "bow_clf = svm.SVC(kernel='linear')\n",
        "bow_clf.fit(bow_df, Y_train['Sentiment_value'])\n",
        "bow_clf.fit(bow_df,Y_train['Sentiment_value'])"
      ],
      "execution_count": 38,
      "outputs": [
        {
          "output_type": "execute_result",
          "data": {
            "text/plain": [
              "SVC(C=1.0, break_ties=False, cache_size=200, class_weight=None, coef0=0.0,\n",
              "    decision_function_shape='ovr', degree=3, gamma='scale', kernel='linear',\n",
              "    max_iter=-1, probability=False, random_state=None, shrinking=True,\n",
              "    tol=0.001, verbose=False)"
            ]
          },
          "metadata": {
            "tags": []
          },
          "execution_count": 38
        }
      ]
    },
    {
      "cell_type": "code",
      "metadata": {
        "colab": {
          "base_uri": "https://localhost:8080/"
        },
        "id": "g0mMEbmJpIDx",
        "outputId": "828644f1-66fd-4738-f4e1-e7cdecb518bb"
      },
      "source": [
        "svm_metrics = [None, None, None]\n",
        "svm_metrics[0], svm_metrics[1], svm_metrics[2] = generate_report(bow_clf)"
      ],
      "execution_count": 39,
      "outputs": [
        {
          "output_type": "stream",
          "text": [
            "              precision    recall  f1-score   support\n",
            "\n",
            "          -1       0.85      0.88      0.86       313\n",
            "           1       0.86      0.83      0.85       287\n",
            "\n",
            "    accuracy                           0.85       600\n",
            "   macro avg       0.86      0.85      0.85       600\n",
            "weighted avg       0.86      0.85      0.85       600\n",
            "\n",
            "Time taken to predict the model 14.847397565841675\n"
          ],
          "name": "stdout"
        }
      ]
    },
    {
      "cell_type": "markdown",
      "metadata": {
        "id": "vbX0LkYcZ6kh"
      },
      "source": [
        "# Multinomial Naive Bayes"
      ]
    },
    {
      "cell_type": "code",
      "metadata": {
        "id": "Ryj8BkYbpT7U"
      },
      "source": [
        "from sklearn.naive_bayes import MultinomialNB"
      ],
      "execution_count": 40,
      "outputs": []
    },
    {
      "cell_type": "code",
      "metadata": {
        "colab": {
          "base_uri": "https://localhost:8080/"
        },
        "id": "xFxEqLgKpYeI",
        "outputId": "0f50207b-abaa-428b-924f-b39fa9c2484d"
      },
      "source": [
        "bow_df = pd.read_csv('train_review_bow.csv')\n",
        "bow_clf = MultinomialNB()\n",
        "bow_clf.fit(bow_df, Y_train['Sentiment_value'])\n",
        "bow_clf.fit(bow_df,Y_train['Sentiment_value'])"
      ],
      "execution_count": 41,
      "outputs": [
        {
          "output_type": "execute_result",
          "data": {
            "text/plain": [
              "MultinomialNB(alpha=1.0, class_prior=None, fit_prior=True)"
            ]
          },
          "metadata": {
            "tags": []
          },
          "execution_count": 41
        }
      ]
    },
    {
      "cell_type": "code",
      "metadata": {
        "colab": {
          "base_uri": "https://localhost:8080/"
        },
        "id": "66P-7HS9pdFi",
        "outputId": "85b81288-4912-4195-c687-a94ba98f3e87"
      },
      "source": [
        "mnb_metrics = [None, None, None]\n",
        "mnb_metrics[0], mnb_metrics[1], mnb_metrics[2] = generate_report(bow_clf)"
      ],
      "execution_count": 42,
      "outputs": [
        {
          "output_type": "stream",
          "text": [
            "              precision    recall  f1-score   support\n",
            "\n",
            "          -1       0.84      0.89      0.86       313\n",
            "           1       0.87      0.82      0.84       287\n",
            "\n",
            "    accuracy                           0.85       600\n",
            "   macro avg       0.85      0.85      0.85       600\n",
            "weighted avg       0.85      0.85      0.85       600\n",
            "\n",
            "Time taken to predict the model 0.5155248641967773\n"
          ],
          "name": "stdout"
        }
      ]
    },
    {
      "cell_type": "markdown",
      "metadata": {
        "id": "ehhX9WqTZ_up"
      },
      "source": [
        "# Bernoulli Naive Bayes"
      ]
    },
    {
      "cell_type": "code",
      "metadata": {
        "id": "BnPbnLTgw9CQ"
      },
      "source": [
        "from sklearn.naive_bayes import BernoulliNB"
      ],
      "execution_count": 43,
      "outputs": []
    },
    {
      "cell_type": "code",
      "metadata": {
        "colab": {
          "base_uri": "https://localhost:8080/"
        },
        "id": "X1UaddNmw_T3",
        "outputId": "ea3111ea-397e-41ad-baa5-fc5669c9e70e"
      },
      "source": [
        "bow_df = pd.read_csv('train_review_bow.csv')\n",
        "bow_clf = BernoulliNB()\n",
        "bow_clf.fit(bow_df, Y_train['Sentiment_value'])\n",
        "bow_clf.fit(bow_df,Y_train['Sentiment_value'])"
      ],
      "execution_count": 44,
      "outputs": [
        {
          "output_type": "execute_result",
          "data": {
            "text/plain": [
              "BernoulliNB(alpha=1.0, binarize=0.0, class_prior=None, fit_prior=True)"
            ]
          },
          "metadata": {
            "tags": []
          },
          "execution_count": 44
        }
      ]
    },
    {
      "cell_type": "code",
      "metadata": {
        "colab": {
          "base_uri": "https://localhost:8080/"
        },
        "id": "i6TVGdmdxFwf",
        "outputId": "b0183d08-1bf0-4e89-8b97-1df207ecb15f"
      },
      "source": [
        "bnb_metrics = [None, None, None]\n",
        "bnb_metrics[0], bnb_metrics[1], bnb_metrics[2] = generate_report(bow_clf)"
      ],
      "execution_count": 45,
      "outputs": [
        {
          "output_type": "stream",
          "text": [
            "              precision    recall  f1-score   support\n",
            "\n",
            "          -1       0.86      0.83      0.85       313\n",
            "           1       0.82      0.86      0.84       287\n",
            "\n",
            "    accuracy                           0.84       600\n",
            "   macro avg       0.84      0.84      0.84       600\n",
            "weighted avg       0.84      0.84      0.84       600\n",
            "\n",
            "Time taken to predict the model 0.5755095481872559\n"
          ],
          "name": "stdout"
        }
      ]
    },
    {
      "cell_type": "markdown",
      "metadata": {
        "id": "WynAT0SDaDOP"
      },
      "source": [
        "#Results comparision plots and tables"
      ]
    },
    {
      "cell_type": "code",
      "metadata": {
        "colab": {
          "base_uri": "https://localhost:8080/"
        },
        "id": "dpj_HGexa3Gf",
        "outputId": "4feba091-976b-4a3a-ef9d-20b95d4aa535"
      },
      "source": [
        "!pip3 install tabulate\n",
        "from tabulate import tabulate\n",
        "table = [['Model Name', 'Accuracy', 'Precision', 'Recall'],\n",
        "         ['Bernoulli Naïve Bayes', bnb_metrics[0], bnb_metrics[1], bnb_metrics[2]],\n",
        "         ['Support Vector Machine', svm_metrics[0], svm_metrics[1], svm_metrics[2]],\n",
        "         ['Maximum Entropy', lr_metrics[0], lr_metrics[1], lr_metrics[2]],\n",
        "         ['Decision Tree', dt_metrics[0], dt_metrics[1], dt_metrics[2]]]\n",
        "\n",
        "print(tabulate(table, headers='firstrow', tablefmt='fancy_grid'))"
      ],
      "execution_count": 46,
      "outputs": [
        {
          "output_type": "stream",
          "text": [
            "Requirement already satisfied: tabulate in /usr/local/lib/python3.7/dist-packages (0.8.9)\n",
            "╒════════════════════════╤════════════╤═════════════╤══════════╕\n",
            "│ Model Name             │   Accuracy │   Precision │   Recall │\n",
            "╞════════════════════════╪════════════╪═════════════╪══════════╡\n",
            "│ Bernoulli Naïve Bayes  │   0.82     │    0.857143 │ 0.841667 │\n",
            "├────────────────────────┼────────────┼─────────────┼──────────┤\n",
            "│ Support Vector Machine │   0.859712 │    0.832753 │ 0.855    │\n",
            "├────────────────────────┼────────────┼─────────────┼──────────┤\n",
            "│ Maximum Entropy        │   0.868794 │    0.853659 │ 0.868333 │\n",
            "├────────────────────────┼────────────┼─────────────┼──────────┤\n",
            "│ Decision Tree          │   0.893238 │    0.874564 │ 0.89     │\n",
            "╘════════════════════════╧════════════╧═════════════╧══════════╛\n"
          ],
          "name": "stdout"
        }
      ]
    },
    {
      "cell_type": "code",
      "metadata": {
        "colab": {
          "base_uri": "https://localhost:8080/",
          "height": 346
        },
        "id": "jpbuOTLZ_i__",
        "outputId": "333ce482-bcaa-4fb1-f5bd-45b43add61a7"
      },
      "source": [
        "N = 5\n",
        "ind = np.arange(N) \n",
        "width = 0.25\n",
        "  \n",
        "acc = [mnb_metrics[2], bnb_metrics[2], svm_metrics[2], lr_metrics[2], dt_metrics[2]]\n",
        "bar1 = plt.bar(ind, acc, width)\n",
        "  \n",
        "prec = [mnb_metrics[0], bnb_metrics[0], svm_metrics[0], lr_metrics[0], dt_metrics[0]]\n",
        "bar2 = plt.bar(ind+width, prec, width)\n",
        "  \n",
        "recall = [mnb_metrics[1], bnb_metrics[1], svm_metrics[1], lr_metrics[1], dt_metrics[1]]\n",
        "bar3 = plt.bar(ind+width*2, recall, width)\n",
        "  \n",
        "# plt.xlabel(\"Dates\")\n",
        "plt.ylabel(\"Percentage\")\n",
        "plt.title(\"Comparison\")\n",
        "  \n",
        "plt.xticks(ind+width,['Multinomial NB','Bernoulli NB','SVM','Logistic Regression', 'Decision Tree'])\n",
        "plt.xticks(rotation = 45)\n",
        "plt.legend( (bar1, bar2, bar3), ('Accuracy', 'Precision', 'Recall'), bbox_to_anchor = (1.05, 0.6))\n",
        "plt.show()"
      ],
      "execution_count": null,
      "outputs": [
        {
          "output_type": "display_data",
          "data": {
            "image/png": "[encoded data removed]",
            "text/plain": [
              "<Figure size 432x288 with 1 Axes>"
            ]
          },
          "metadata": {
            "tags": [],
            "needs_background": "light"
          }
        }
      ]
    },
    {
      "cell_type": "code",
      "metadata": {
        "colab": {
          "base_uri": "https://localhost:8080/",
          "height": 346
        },
        "id": "yG0MgGfIBzTO",
        "outputId": "b9f02fc4-39b5-4f4d-c7e4-8c5a1e6cacfd"
      },
      "source": [
        "models = ['Multinomial NB','Bernoulli NB','SVM','Logistic Regression', 'Decision Tree']\n",
        "recall = [mnb_metrics[1], bnb_metrics[1], svm_metrics[1], lr_metrics[1], dt_metrics[1]]\n",
        "precision = [mnb_metrics[0], bnb_metrics[0], svm_metrics[0], lr_metrics[0], dt_metrics[0]]\n",
        "line_chart1 = plt.plot(models, recall, 'o-g')\n",
        "line_chart2 = plt.plot(models, precision, 'o-y')\n",
        "plt.title('Recall vs Precision')\n",
        "plt.ylabel('Score')\n",
        "plt.xticks(rotation = 45)\n",
        "plt.legend(['Recall', 'Precision'], bbox_to_anchor = (1.3, 0.6))\n",
        "plt.show()"
      ],
      "execution_count": null,
      "outputs": [
        {
          "output_type": "display_data",
          "data": {
            "image/png": "[encoded data removed]",
            "text/plain": [
              "<Figure size 432x288 with 1 Axes>"
            ]
          },
          "metadata": {
            "tags": [],
            "needs_background": "light"
          }
        }
      ]
    }
  ]
}