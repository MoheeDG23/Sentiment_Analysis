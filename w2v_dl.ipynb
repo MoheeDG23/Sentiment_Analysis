{
  "nbformat": 4,
  "nbformat_minor": 0,
  "metadata": {
    "colab": {
      "name": "w2v_dl.ipynb",
      "provenance": [],
      "collapsed_sections": [
        "iq9qOwg5KdaH",
        "oXitblIcv8QT",
        "rdEiP82M8dt4",
        "UlnGravi5miL"
      ]
    },
    "kernelspec": {
      "name": "python3",
      "display_name": "Python 3"
    },
    "language_info": {
      "name": "python"
    }
  },
  "cells": [
    {
      "cell_type": "code",
      "metadata": {
        "id": "Avd7lq5pA_QY"
      },
      "source": [
        "import numpy as np \n",
        "import pandas as pd\n",
        "import os\n",
        "\n",
        "from sklearn.feature_extraction.text import CountVectorizer\n",
        "from sklearn.metrics import confusion_matrix, accuracy_score\n",
        "from sklearn.model_selection import train_test_split\n",
        "\n",
        "from keras.preprocessing.text import Tokenizer\n",
        "from keras.preprocessing.sequence import pad_sequences\n",
        "from keras.initializers import Constant\n",
        "from keras.models import Model\n",
        "from keras.layers import *\n",
        "from keras.utils.np_utils import to_categorical\n",
        "import re\n",
        "\n",
        "import matplotlib.pyplot as plt\n",
        "%matplotlib inline"
      ],
      "execution_count": 3,
      "outputs": []
    },
    {
      "cell_type": "code",
      "metadata": {
        "colab": {
          "base_uri": "https://localhost:8080/"
        },
        "id": "N0_MOZTzBhnJ",
        "outputId": "835fa6d1-bee6-452c-8aa8-2651439ef0b3"
      },
      "source": [
        "from google.colab import drive\n",
        "drive.mount(\"/content/drive\")"
      ],
      "execution_count": 4,
      "outputs": [
        {
          "output_type": "stream",
          "text": [
            "Mounted at /content/drive\n"
          ],
          "name": "stdout"
        }
      ]
    },
    {
      "cell_type": "code",
      "metadata": {
        "colab": {
          "base_uri": "https://localhost:8080/"
        },
        "id": "niVz-N9ewqao",
        "outputId": "28f6b97a-fe68-4b1f-9bed-d32fc49cdb0a"
      },
      "source": [
        "!ls '/content/drive/My Drive/dataset/'"
      ],
      "execution_count": 5,
      "outputs": [
        {
          "output_type": "stream",
          "text": [
            "dataset.xlsx  glove.6B.50d.txt\tglove.6B.50d.txt.zip\n"
          ],
          "name": "stdout"
        }
      ]
    },
    {
      "cell_type": "code",
      "metadata": {
        "colab": {
          "base_uri": "https://localhost:8080/",
          "height": 204
        },
        "id": "f7PsRh9OBf2B",
        "outputId": "bb35e2e7-303d-413a-f0a6-92cf62f81937"
      },
      "source": [
        "df = pd.read_excel('/content/drive/My Drive/dataset/dataset.xlsx', engine='openpyxl')\n",
        "df.head()"
      ],
      "execution_count": 6,
      "outputs": [
        {
          "output_type": "execute_result",
          "data": {
            "text/html": [
              "<div>\n",
              "<style scoped>\n",
              "    .dataframe tbody tr th:only-of-type {\n",
              "        vertical-align: middle;\n",
              "    }\n",
              "\n",
              "    .dataframe tbody tr th {\n",
              "        vertical-align: top;\n",
              "    }\n",
              "\n",
              "    .dataframe thead th {\n",
              "        text-align: right;\n",
              "    }\n",
              "</style>\n",
              "<table border=\"1\" class=\"dataframe\">\n",
              "  <thead>\n",
              "    <tr style=\"text-align: right;\">\n",
              "      <th></th>\n",
              "      <th>URL</th>\n",
              "      <th>Text</th>\n",
              "      <th>Sentiment</th>\n",
              "    </tr>\n",
              "  </thead>\n",
              "  <tbody>\n",
              "    <tr>\n",
              "      <th>0</th>\n",
              "      <td>http://www.imdb.com/title/tt0210075/usercomments</td>\n",
              "      <td>Girlfight follows a project dwelling New York ...</td>\n",
              "      <td>POS</td>\n",
              "    </tr>\n",
              "    <tr>\n",
              "      <th>1</th>\n",
              "      <td>http://www.imdb.com/title/tt0337640/usercomments</td>\n",
              "      <td>Hollywood North is an euphemism from the movie...</td>\n",
              "      <td>POS</td>\n",
              "    </tr>\n",
              "    <tr>\n",
              "      <th>2</th>\n",
              "      <td>http://www.imdb.com/title/tt0303549/usercomments</td>\n",
              "      <td>That '70s Show is definitely the funniest show...</td>\n",
              "      <td>POS</td>\n",
              "    </tr>\n",
              "    <tr>\n",
              "      <th>3</th>\n",
              "      <td>http://www.imdb.com/title/tt0716825/usercomments</td>\n",
              "      <td>9/10- 30 minutes of pure holiday terror. Okay,...</td>\n",
              "      <td>POS</td>\n",
              "    </tr>\n",
              "    <tr>\n",
              "      <th>4</th>\n",
              "      <td>http://www.imdb.com/title/tt0182225/usercomments</td>\n",
              "      <td>A series of random, seemingly insignificant th...</td>\n",
              "      <td>POS</td>\n",
              "    </tr>\n",
              "  </tbody>\n",
              "</table>\n",
              "</div>"
            ],
            "text/plain": [
              "                                                URL  ... Sentiment\n",
              "0  http://www.imdb.com/title/tt0210075/usercomments  ...       POS\n",
              "1  http://www.imdb.com/title/tt0337640/usercomments  ...       POS\n",
              "2  http://www.imdb.com/title/tt0303549/usercomments  ...       POS\n",
              "3  http://www.imdb.com/title/tt0716825/usercomments  ...       POS\n",
              "4  http://www.imdb.com/title/tt0182225/usercomments  ...       POS\n",
              "\n",
              "[5 rows x 3 columns]"
            ]
          },
          "metadata": {
            "tags": []
          },
          "execution_count": 6
        }
      ]
    },
    {
      "cell_type": "markdown",
      "metadata": {
        "id": "LlZZtuNADUHb"
      },
      "source": [
        "### Removing urls from the reviews:"
      ]
    },
    {
      "cell_type": "code",
      "metadata": {
        "id": "Njh7xslSCuhw"
      },
      "source": [
        "def clean_str(in_str):\n",
        "    in_str = str(in_str)\n",
        "    # replace urls with 'url'\n",
        "    in_str = re.sub(r\"(https?:\\/\\/(?:www\\.|(?!www))[a-zA-Z0-9][a-zA-Z0-9-]+[a-zA-Z0-9]\\.[^\\s]{2,}|www\\.[a-zA-Z0-9][a-zA-Z0-9-]+[a-zA-Z0-9]\\.[^\\s]{2,}|https?:\\/\\/(?:www\\.|(?!www))[a-zA-Z0-9]\\.[^\\s]{2,}|www\\.[a-zA-Z0-9]\\.[^\\s]{2,})\", \"url\", in_str)\n",
        "    in_str = re.sub(r'([^\\s\\w]|_)+', '', in_str)\n",
        "    return in_str.strip().lower()"
      ],
      "execution_count": 9,
      "outputs": []
    },
    {
      "cell_type": "code",
      "metadata": {
        "id": "ghh5NpzJC2m8"
      },
      "source": [
        "df['text'] = df['Text'].apply(clean_str)"
      ],
      "execution_count": 10,
      "outputs": []
    },
    {
      "cell_type": "code",
      "metadata": {
        "colab": {
          "base_uri": "https://localhost:8080/"
        },
        "id": "NVvS8MNcDDeC",
        "outputId": "25bfe144-e23e-4d88-91bf-0c67e2c60f84"
      },
      "source": [
        "df.Sentiment.value_counts()"
      ],
      "execution_count": 12,
      "outputs": [
        {
          "output_type": "execute_result",
          "data": {
            "text/plain": [
              "NEG    1000\n",
              "POS    999 \n",
              "Name: Sentiment, dtype: int64"
            ]
          },
          "metadata": {
            "tags": []
          },
          "execution_count": 12
        }
      ]
    },
    {
      "cell_type": "code",
      "metadata": {
        "id": "nQFQncTwDQYD"
      },
      "source": [
        "df_0 = df[df['Sentiment'] == 'POS'].sample(frac=1)\n",
        "df_1 = df[df['Sentiment'] == 'NEG'].sample(frac=1)\n",
        "\n",
        "# we want a balanced set for training against - there are 7072 `0` examples\n",
        "sample_size = 999\n",
        "\n",
        "data = pd.concat([df_0.head(sample_size), df_1.head(sample_size)]).sample(frac=1)"
      ],
      "execution_count": 13,
      "outputs": []
    },
    {
      "cell_type": "code",
      "metadata": {
        "colab": {
          "base_uri": "https://localhost:8080/"
        },
        "id": "rCcLl4CvELgf",
        "outputId": "a168a80a-a414-4292-845b-8818a17e22dd"
      },
      "source": [
        "data.Sentiment.value_counts()"
      ],
      "execution_count": 14,
      "outputs": [
        {
          "output_type": "execute_result",
          "data": {
            "text/plain": [
              "NEG    999\n",
              "POS    999\n",
              "Name: Sentiment, dtype: int64"
            ]
          },
          "metadata": {
            "tags": []
          },
          "execution_count": 14
        }
      ]
    },
    {
      "cell_type": "code",
      "metadata": {
        "colab": {
          "base_uri": "https://localhost:8080/"
        },
        "id": "YEh3aT-gEIYN",
        "outputId": "6e5cb756-7e0e-48a1-e7f9-0c50f2eb3689"
      },
      "source": [
        "data['l'] = data['text'].apply(lambda x: len(str(x).split(' ')))\n",
        "print(\"mean length of sentence: \" + str(data.l.mean()))\n",
        "print(\"max length of sentence: \" + str(data.l.max()))\n",
        "print(\"std dev length of sentence: \" + str(data.l.std()))"
      ],
      "execution_count": 15,
      "outputs": [
        {
          "output_type": "stream",
          "text": [
            "mean length of sentence: 258.474974974975\n",
            "max length of sentence: 1843\n",
            "std dev length of sentence: 180.6102134381438\n"
          ],
          "name": "stdout"
        }
      ]
    },
    {
      "cell_type": "markdown",
      "metadata": {
        "id": "Nt-6ohBSjFZC"
      },
      "source": [
        "## Tokenization Of Sentences"
      ]
    },
    {
      "cell_type": "code",
      "metadata": {
        "id": "ooMx0mseETo0"
      },
      "source": [
        "sequence_length = 260 # On an average each review has around 260 words"
      ],
      "execution_count": 16,
      "outputs": []
    },
    {
      "cell_type": "code",
      "metadata": {
        "colab": {
          "base_uri": "https://localhost:8080/"
        },
        "id": "XDgTGc6EEWzM",
        "outputId": "ee3081fc-05ec-4249-d3b8-a0e366708a86"
      },
      "source": [
        "max_features = 25000 # this is the number of words we care about\n",
        "\n",
        "tokenizer = Tokenizer(num_words=max_features, split=' ', oov_token='<unw>')\n",
        "tokenizer.fit_on_texts(df['text'].values)\n",
        "\n",
        "# this takes our sentences and replaces each word with an integer\n",
        "X = tokenizer.texts_to_sequences(df['text'].values)\n",
        "\n",
        "# we then pad the sequences so they're all the same length (sequence_length)\n",
        "X = pad_sequences(X, sequence_length)\n",
        "\n",
        "y = pd.get_dummies(df['Sentiment']).values\n",
        "\n",
        "X_train, X_test, y_train, y_test = train_test_split(X, y, test_size=0.3)\n",
        "\n",
        "print(\"test set size \" + str(len(X_test)))"
      ],
      "execution_count": 17,
      "outputs": [
        {
          "output_type": "stream",
          "text": [
            "test set size 600\n"
          ],
          "name": "stdout"
        }
      ]
    },
    {
      "cell_type": "markdown",
      "metadata": {
        "id": "q217EP_wlcCE"
      },
      "source": [
        "\n",
        "\n",
        "```\n",
        "# This is formatted as code\n",
        "```\n",
        "\n",
        "### Transformation and Vectorization"
      ]
    },
    {
      "cell_type": "code",
      "metadata": {
        "colab": {
          "base_uri": "https://localhost:8080/"
        },
        "id": "sgaRSIJywBrd",
        "outputId": "d2bb3862-7a22-4337-fda7-26557211a50b"
      },
      "source": [
        "embeddings_index = {}\n",
        "f = open('/content/drive/My Drive/dataset/glove.6B.50d.txt')\n",
        "for line in f:\n",
        "    values = line.split()\n",
        "    word = values[0]\n",
        "    coefs = np.asarray(values[1:], dtype='float32')\n",
        "    embeddings_index[word] = coefs\n",
        "f.close()\n",
        "print('Found %s word vectors.' % len(embeddings_index))"
      ],
      "execution_count": 23,
      "outputs": [
        {
          "output_type": "stream",
          "text": [
            "Found 400000 word vectors.\n"
          ],
          "name": "stdout"
        }
      ]
    },
    {
      "cell_type": "code",
      "metadata": {
        "colab": {
          "base_uri": "https://localhost:8080/"
        },
        "id": "O7VJU6P1xXLm",
        "outputId": "ff6bfca9-2b71-4a8b-f895-1d0d176e9dae"
      },
      "source": [
        "word_index = tokenizer.word_index\n",
        "print('Found %s unique tokens.' % len(word_index))"
      ],
      "execution_count": 24,
      "outputs": [
        {
          "output_type": "stream",
          "text": [
            "Found 34724 unique tokens.\n"
          ],
          "name": "stdout"
        }
      ]
    },
    {
      "cell_type": "code",
      "metadata": {
        "colab": {
          "base_uri": "https://localhost:8080/"
        },
        "id": "B-uq4bw5yDCi",
        "outputId": "58bced64-b02e-42a2-cc50-52f2eb2b2ffb"
      },
      "source": [
        "num_words = min(max_features, len(word_index)) + 1\n",
        "print(num_words)\n",
        "non_exist_word_count=0\n",
        "embedding_dim = 50 #Can try 50/100/200\n",
        "\n",
        "# first create a matrix of zeros, this is our embedding matrix\n",
        "embedding_matrix = np.zeros((num_words, embedding_dim))\n",
        "\n",
        "# for each word in our tokenizer lets try to find that work in our w2v model\n",
        "for word, i in word_index.items():\n",
        "    if i > max_features:\n",
        "        continue\n",
        "    embedding_vector = embeddings_index.get(word)\n",
        "    if embedding_vector is not None:\n",
        "        # we found the word - add that words vector to the matrix\n",
        "        embedding_matrix[i] = embedding_vector\n",
        "    else:\n",
        "        non_exist_word_count=non_exist_word_count+1     \n",
        "        # doesn't exist, assign a random vector\n",
        "        embedding_matrix[i] = np.random.randn(embedding_dim)\n",
        "print('Count for non exist words in dict :',non_exist_word_count)"
      ],
      "execution_count": 25,
      "outputs": [
        {
          "output_type": "stream",
          "text": [
            "25001\n",
            "Count for non exist words in dict : 5489\n"
          ],
          "name": "stdout"
        }
      ]
    },
    {
      "cell_type": "markdown",
      "metadata": {
        "id": "UlnGravi5miL"
      },
      "source": [
        "### CNN"
      ]
    },
    {
      "cell_type": "code",
      "metadata": {
        "id": "dhO7lULP4ffr"
      },
      "source": [
        "from tensorflow.python.keras import regularizers\n",
        "\n",
        "inputs_3 = Input(shape=(sequence_length,), dtype='int32')\n",
        "num_filters = 50\n",
        "embedding_layer_3 = Embedding(num_words,\n",
        "                            embedding_dim,\n",
        "                            embeddings_initializer=Constant(embedding_matrix),\n",
        "                            input_length=sequence_length,\n",
        "                            trainable=True)(inputs_3)\n",
        "reshape_3 = Reshape((sequence_length, embedding_dim, 1))(embedding_layer_3)\n",
        "conv_0_3 = Conv2D(num_filters, kernel_size=(3, embedding_dim), activation='relu', kernel_regularizer=regularizers.l2(1e-3))(reshape_3)\n",
        "maxpool_0_3 = MaxPool2D(pool_size=(sequence_length - 3 + 1, 1), strides=(1,1), padding='valid')(conv_0_3)\n",
        "\n",
        "flatten_3 = Flatten()(maxpool_0_3)\n",
        "\n",
        "# do dropout and predict\n",
        "dropout_3 = Dropout(0.5)(flatten_3)\n",
        "output_3 = Dense(units=2, activation='softmax')(dropout_3)"
      ],
      "execution_count": 30,
      "outputs": []
    },
    {
      "cell_type": "code",
      "metadata": {
        "colab": {
          "base_uri": "https://localhost:8080/"
        },
        "id": "38i9bzAV4nWS",
        "outputId": "c4de8e40-a132-4f09-d8ca-cdb23ab73d8a"
      },
      "source": [
        "model_3 = Model(inputs=inputs_3, outputs=output_3)\n",
        "model_3.compile(loss='categorical_crossentropy', optimizer='adam', metrics=['accuracy'])\n",
        "print(model_3.summary())"
      ],
      "execution_count": 31,
      "outputs": [
        {
          "output_type": "stream",
          "text": [
            "Model: \"model_1\"\n",
            "_________________________________________________________________\n",
            "Layer (type)                 Output Shape              Param #   \n",
            "=================================================================\n",
            "input_3 (InputLayer)         [(None, 260)]             0         \n",
            "_________________________________________________________________\n",
            "embedding_1 (Embedding)      (None, 260, 50)           1250050   \n",
            "_________________________________________________________________\n",
            "reshape_1 (Reshape)          (None, 260, 50, 1)        0         \n",
            "_________________________________________________________________\n",
            "conv2d_1 (Conv2D)            (None, 258, 1, 50)        7550      \n",
            "_________________________________________________________________\n",
            "max_pooling2d_1 (MaxPooling2 (None, 1, 1, 50)          0         \n",
            "_________________________________________________________________\n",
            "flatten_1 (Flatten)          (None, 50)                0         \n",
            "_________________________________________________________________\n",
            "dropout_1 (Dropout)          (None, 50)                0         \n",
            "_________________________________________________________________\n",
            "dense_1 (Dense)              (None, 2)                 102       \n",
            "=================================================================\n",
            "Total params: 1,257,702\n",
            "Trainable params: 1,257,702\n",
            "Non-trainable params: 0\n",
            "_________________________________________________________________\n",
            "None\n"
          ],
          "name": "stdout"
        }
      ]
    },
    {
      "cell_type": "code",
      "metadata": {
        "colab": {
          "base_uri": "https://localhost:8080/"
        },
        "id": "eZGnRZ2S4uAd",
        "outputId": "0cbc3667-c36e-4bbd-9500-18ba39c74268"
      },
      "source": [
        "batch_size = 32\n",
        "history_3 = model_3.fit(X_train, y_train, epochs=8, batch_size=batch_size, verbose=1, validation_split=0.1, shuffle=True)"
      ],
      "execution_count": 32,
      "outputs": [
        {
          "output_type": "stream",
          "text": [
            "Epoch 1/8\n",
            "40/40 [==============================] - 2s 40ms/step - loss: 0.5984 - accuracy: 0.6607 - val_loss: 0.3130 - val_accuracy: 0.9286\n",
            "Epoch 2/8\n",
            "40/40 [==============================] - 1s 36ms/step - loss: 0.3090 - accuracy: 0.9148 - val_loss: 0.2798 - val_accuracy: 0.9286\n",
            "Epoch 3/8\n",
            "40/40 [==============================] - 1s 36ms/step - loss: 0.3004 - accuracy: 0.9050 - val_loss: 0.2654 - val_accuracy: 0.9286\n",
            "Epoch 4/8\n",
            "40/40 [==============================] - 1s 35ms/step - loss: 0.2641 - accuracy: 0.9146 - val_loss: 0.2587 - val_accuracy: 0.9286\n",
            "Epoch 5/8\n",
            "40/40 [==============================] - 1s 35ms/step - loss: 0.2417 - accuracy: 0.9254 - val_loss: 0.2551 - val_accuracy: 0.9286\n",
            "Epoch 6/8\n",
            "40/40 [==============================] - 1s 35ms/step - loss: 0.2210 - accuracy: 0.9346 - val_loss: 0.2518 - val_accuracy: 0.9214\n",
            "Epoch 7/8\n",
            "40/40 [==============================] - 1s 35ms/step - loss: 0.1965 - accuracy: 0.9411 - val_loss: 0.2496 - val_accuracy: 0.9214\n",
            "Epoch 8/8\n",
            "40/40 [==============================] - 1s 35ms/step - loss: 0.1769 - accuracy: 0.9423 - val_loss: 0.2511 - val_accuracy: 0.9214\n"
          ],
          "name": "stdout"
        }
      ]
    },
    {
      "cell_type": "code",
      "metadata": {
        "colab": {
          "base_uri": "https://localhost:8080/",
          "height": 573
        },
        "id": "lMxChr4M44m9",
        "outputId": "414e5c57-9c1e-4cab-aa2b-a9a66e6a21aa"
      },
      "source": [
        "plt.plot(history_3.history['accuracy'])\n",
        "plt.plot(history_3.history['val_accuracy'])\n",
        "plt.title('model accuracy')\n",
        "plt.ylabel('accuracy')\n",
        "plt.xlabel('epoch')\n",
        "plt.legend(['train', 'validation'], loc='upper left')\n",
        "plt.show()\n",
        "\n",
        "plt.plot(history_3.history['loss'])\n",
        "plt.plot(history_3.history['val_loss'])\n",
        "plt.title('model loss')\n",
        "plt.ylabel('loss')\n",
        "plt.xlabel('epoch')\n",
        "plt.legend(['train', 'validation'], loc='upper left')\n",
        "plt.show()"
      ],
      "execution_count": 33,
      "outputs": [
        {
          "output_type": "display_data",
          "data": {
            "image/png": "[encoded data removed]",
            "text/plain": [
              "<Figure size 432x288 with 1 Axes>"
            ]
          },
          "metadata": {
            "tags": [],
            "needs_background": "light"
          }
        },
        {
          "output_type": "display_data",
          "data": {
            "image/png": "[encoded data removed]",
            "text/plain": [
              "<Figure size 432x288 with 1 Axes>"
            ]
          },
          "metadata": {
            "tags": [],
            "needs_background": "light"
          }
        }
      ]
    },
    {
      "cell_type": "code",
      "metadata": {
        "id": "8sZsjIOvlLIK"
      },
      "source": [
        "## Helper Function\n",
        "\n",
        "from sklearn.metrics import accuracy_score, confusion_matrix, classification_report\n",
        "from sklearn.metrics import precision_score\n",
        "from sklearn.metrics import recall_score\n",
        "from sklearn.metrics import accuracy_score\n",
        "import pickle\n",
        "\n",
        "def generate_report(pred_list, custom_model, model_name,y_test):\n",
        "  print(f'Confusion Matrix:\\n{confusion_matrix(y_test, pred_list)}')\n",
        "  print(f'\\nClassification Report:\\n{classification_report(y_test,pred_list)}')\n",
        "  acc = accuracy_score(y_test, pred_list) * 100\n",
        "  print(f'Accuracy: {acc}%')\n",
        "  prec = precision_score(y_test, pred_list, average='macro') * 100\n",
        "  print(f'Precision: {prec}%')\n",
        "  rec = recall_score(y_test, pred_list, average='macro') * 100\n",
        "  print(f'Recall: {rec}%')\n",
        "  # pickle.dump(custom_model, open(model_name + '.sav', 'wb'))\n",
        "  print(model_name + ' trained')\n",
        "  return acc, prec, rec"
      ],
      "execution_count": 34,
      "outputs": []
    },
    {
      "cell_type": "code",
      "metadata": {
        "id": "qgce5YRO5MJV"
      },
      "source": [
        "y_hat_3 = model_3.predict(X_test)"
      ],
      "execution_count": 35,
      "outputs": []
    },
    {
      "cell_type": "code",
      "metadata": {
        "colab": {
          "base_uri": "https://localhost:8080/"
        },
        "id": "TrCXzbU4Ikve",
        "outputId": "fc24e441-c415-44d0-891f-a7880909f9a9"
      },
      "source": [
        "cnn_metrics = [None, None, None]\n",
        "cnn_metrics[0], cnn_metrics[1], cnn_metrics[2] = generate_report(y_hat_3.argmax(axis=1), model_3, 'CNN_model',y_test.argmax(axis=1))"
      ],
      "execution_count": 41,
      "outputs": [
        {
          "output_type": "stream",
          "text": [
            "Confusion Matrix:\n",
            "[[297   8]\n",
            " [ 33 262]]\n",
            "\n",
            "Classification Report:\n",
            "              precision    recall  f1-score   support\n",
            "\n",
            "           0       0.90      0.97      0.94       305\n",
            "           1       0.97      0.89      0.93       295\n",
            "\n",
            "    accuracy                           0.93       600\n",
            "   macro avg       0.94      0.93      0.93       600\n",
            "weighted avg       0.93      0.93      0.93       600\n",
            "\n",
            "Accuracy: 93.16666666666666%\n",
            "Precision: 93.5185185185185%\n",
            "Recall: 93.09530425118089%\n",
            "CNN_model trained\n"
          ],
          "name": "stdout"
        }
      ]
    },
    {
      "cell_type": "markdown",
      "metadata": {
        "id": "B6j-jLzr5rMm"
      },
      "source": [
        "### LSTM"
      ]
    },
    {
      "cell_type": "code",
      "metadata": {
        "id": "P7-u5X1MC1U5"
      },
      "source": [
        "from keras.callbacks import EarlyStopping\n",
        "from keras.models import Sequential\n",
        "from keras.layers import Embedding, LSTM, Dense, Dropout\n",
        "from keras.optimizers import Adam"
      ],
      "execution_count": 42,
      "outputs": []
    },
    {
      "cell_type": "code",
      "metadata": {
        "colab": {
          "base_uri": "https://localhost:8080/"
        },
        "id": "_HixxGgi51Pt",
        "outputId": "f08e971a-505b-474f-8bd8-a3ef5764acb6"
      },
      "source": [
        "model = Sequential()\n",
        "\n",
        "model.add(Embedding(num_words,embedding_dim,\n",
        "                              embeddings_initializer=Constant(embedding_matrix),\n",
        "                            input_length=sequence_length,\n",
        "                            trainable=True))\n",
        "model.add(LSTM(256, dropout=0.5, recurrent_dropout=0.5, return_sequences=True))\n",
        "model.add(LSTM(128, dropout=0.5, recurrent_dropout=0.5, return_sequences=False))\n",
        "model.add(Dense(100, activation='relu'))\n",
        "model.add(Dropout(0.4))\n",
        "model.add(Dense(2, activation='softmax'))\n",
        "model.compile(loss='categorical_crossentropy', optimizer=Adam(lr=0.005), metrics=['accuracy'])\n",
        "model.summary()"
      ],
      "execution_count": 43,
      "outputs": [
        {
          "output_type": "stream",
          "text": [
            "Model: \"sequential\"\n",
            "_________________________________________________________________\n",
            "Layer (type)                 Output Shape              Param #   \n",
            "=================================================================\n",
            "embedding_2 (Embedding)      (None, 260, 50)           1250050   \n",
            "_________________________________________________________________\n",
            "lstm (LSTM)                  (None, 260, 256)          314368    \n",
            "_________________________________________________________________\n",
            "lstm_1 (LSTM)                (None, 128)               197120    \n",
            "_________________________________________________________________\n",
            "dense_2 (Dense)              (None, 100)               12900     \n",
            "_________________________________________________________________\n",
            "dropout_2 (Dropout)          (None, 100)               0         \n",
            "_________________________________________________________________\n",
            "dense_3 (Dense)              (None, 2)                 202       \n",
            "=================================================================\n",
            "Total params: 1,774,640\n",
            "Trainable params: 1,774,640\n",
            "Non-trainable params: 0\n",
            "_________________________________________________________________\n"
          ],
          "name": "stdout"
        }
      ]
    },
    {
      "cell_type": "code",
      "metadata": {
        "colab": {
          "base_uri": "https://localhost:8080/"
        },
        "id": "7rLkZkVU541x",
        "outputId": "f15fc823-b545-497c-ba47-5a71975c3650"
      },
      "source": [
        "history_5 = model.fit(X_train, y_train, epochs=7, batch_size=256, verbose=1, validation_split=0.1, shuffle=True)"
      ],
      "execution_count": 44,
      "outputs": [
        {
          "output_type": "stream",
          "text": [
            "Epoch 1/7\n",
            "5/5 [==============================] - 47s 8s/step - loss: 0.7500 - accuracy: 0.5221 - val_loss: 0.6797 - val_accuracy: 0.5214\n",
            "Epoch 2/7\n",
            "5/5 [==============================] - 39s 8s/step - loss: 0.6791 - accuracy: 0.5781 - val_loss: 0.5692 - val_accuracy: 0.7143\n",
            "Epoch 3/7\n",
            "5/5 [==============================] - 39s 8s/step - loss: 0.7337 - accuracy: 0.7114 - val_loss: 0.7593 - val_accuracy: 0.4857\n",
            "Epoch 4/7\n",
            "5/5 [==============================] - 39s 8s/step - loss: 0.6907 - accuracy: 0.5408 - val_loss: 0.6711 - val_accuracy: 0.5500\n",
            "Epoch 5/7\n",
            "5/5 [==============================] - 39s 8s/step - loss: 0.6785 - accuracy: 0.5361 - val_loss: 0.6831 - val_accuracy: 0.4857\n",
            "Epoch 6/7\n",
            "5/5 [==============================] - 38s 8s/step - loss: 0.6772 - accuracy: 0.5398 - val_loss: 0.6746 - val_accuracy: 0.5357\n",
            "Epoch 7/7\n",
            "5/5 [==============================] - 39s 8s/step - loss: 0.6807 - accuracy: 0.5033 - val_loss: 0.6723 - val_accuracy: 0.6429\n"
          ],
          "name": "stdout"
        }
      ]
    },
    {
      "cell_type": "code",
      "metadata": {
        "colab": {
          "base_uri": "https://localhost:8080/",
          "height": 573
        },
        "id": "5o0z2dda6CDn",
        "outputId": "dbf9b764-722e-411f-c3f7-b09567c14cd4"
      },
      "source": [
        "plt.plot(history_5.history['accuracy'])\n",
        "plt.plot(history_5.history['val_accuracy'])\n",
        "plt.title('model accuracy')\n",
        "plt.ylabel('accuracy')\n",
        "plt.xlabel('epoch')\n",
        "plt.legend(['train', 'validation'], loc='upper left')\n",
        "plt.show()\n",
        "\n",
        "plt.plot(history_5.history['loss'])\n",
        "plt.plot(history_5.history['val_loss'])\n",
        "plt.title('model loss')\n",
        "plt.ylabel('loss')\n",
        "plt.xlabel('epoch')\n",
        "plt.legend(['train', 'validation'], loc='upper left')\n",
        "plt.show()"
      ],
      "execution_count": 45,
      "outputs": [
        {
          "output_type": "display_data",
          "data": {
            "image/png": "[encoded data removed]",
            "text/plain": [
              "<Figure size 432x288 with 1 Axes>"
            ]
          },
          "metadata": {
            "tags": [],
            "needs_background": "light"
          }
        },
        {
          "output_type": "display_data",
          "data": {
            "image/png": "[encoded data removed]",
            "text/plain": [
              "<Figure size 432x288 with 1 Axes>"
            ]
          },
          "metadata": {
            "tags": [],
            "needs_background": "light"
          }
        }
      ]
    },
    {
      "cell_type": "code",
      "metadata": {
        "id": "rrLPLk9S6Jkf"
      },
      "source": [
        "y_hat_5 = model.predict(X_test)"
      ],
      "execution_count": 46,
      "outputs": []
    },
    {
      "cell_type": "code",
      "metadata": {
        "colab": {
          "base_uri": "https://localhost:8080/"
        },
        "id": "CeQ5qQ4RGyGh",
        "outputId": "ece69628-56a4-4a26-d2b8-b6e64cea4a01"
      },
      "source": [
        "lstm_metrics = [None, None, None]\n",
        "lstm_metrics[0], lstm_metrics[1], lstm_metrics[2] = generate_report(y_hat_5.argmax(axis=1), model, 'LSTM_model',y_test.argmax(axis=1))"
      ],
      "execution_count": 49,
      "outputs": [
        {
          "output_type": "stream",
          "text": [
            "Confusion Matrix:\n",
            "[[164 141]\n",
            " [ 75 220]]\n",
            "\n",
            "Classification Report:\n",
            "              precision    recall  f1-score   support\n",
            "\n",
            "           0       0.69      0.54      0.60       305\n",
            "           1       0.61      0.75      0.67       295\n",
            "\n",
            "    accuracy                           0.64       600\n",
            "   macro avg       0.65      0.64      0.64       600\n",
            "weighted avg       0.65      0.64      0.64       600\n",
            "\n",
            "Accuracy: 64.0%\n",
            "Precision: 64.78053755838616%\n",
            "Recall: 64.17338149485968%\n",
            "LSTM_model trained\n"
          ],
          "name": "stdout"
        }
      ]
    },
    {
      "cell_type": "markdown",
      "metadata": {
        "id": "zSZr_eFOlLIM"
      },
      "source": [
        "### Decision Tree Classifier"
      ]
    },
    {
      "cell_type": "code",
      "metadata": {
        "id": "LJalYXkmlLIN"
      },
      "source": [
        "from sklearn.tree import DecisionTreeClassifier\n",
        "from sklearn.model_selection import cross_val_score"
      ],
      "execution_count": 50,
      "outputs": []
    },
    {
      "cell_type": "code",
      "metadata": {
        "id": "jFtwVxwilLIN"
      },
      "source": [
        "dt_clf = DecisionTreeClassifier()\n",
        "\n",
        "# Train the Model\n",
        "dt_clf.fit(X_train,y_train)   \n",
        "dt_pred = dt_clf.predict(X_test)"
      ],
      "execution_count": 51,
      "outputs": []
    },
    {
      "cell_type": "code",
      "metadata": {
        "colab": {
          "base_uri": "https://localhost:8080/"
        },
        "id": "e_NrShfwlLIO",
        "outputId": "73f8dd21-b4b9-40b2-e5e4-f567bc176e33"
      },
      "source": [
        "dt_metrics = [None, None, None]\n",
        "dt_metrics[0], dt_metrics[1], dt_metrics[2] = generate_report(dt_pred.argmax(axis=1), dt_clf, 'DecisionTree_model',y_test.argmax(axis=1))"
      ],
      "execution_count": 52,
      "outputs": [
        {
          "output_type": "stream",
          "text": [
            "Confusion Matrix:\n",
            "[[213  92]\n",
            " [ 84 211]]\n",
            "\n",
            "Classification Report:\n",
            "              precision    recall  f1-score   support\n",
            "\n",
            "           0       0.72      0.70      0.71       305\n",
            "           1       0.70      0.72      0.71       295\n",
            "\n",
            "    accuracy                           0.71       600\n",
            "   macro avg       0.71      0.71      0.71       600\n",
            "weighted avg       0.71      0.71      0.71       600\n",
            "\n",
            "Accuracy: 70.66666666666667%\n",
            "Precision: 70.67706770677067%\n",
            "Recall: 70.68074465129203%\n",
            "DecisionTree_model trained\n"
          ],
          "name": "stdout"
        }
      ]
    },
    {
      "cell_type": "markdown",
      "metadata": {
        "id": "_jnxM8eUlLIQ"
      },
      "source": [
        "### Bernoulli Naive Bayes:"
      ]
    },
    {
      "cell_type": "code",
      "metadata": {
        "id": "bBeeRlTtlLIR"
      },
      "source": [
        "from sklearn.naive_bayes import BernoulliNB\n",
        "bnb_clf = BernoulliNB()\n",
        "bnb_clf.fit(X_train,y_train.argmax(axis=1))\n",
        "BNBpred=bnb_clf.predict(X_test)"
      ],
      "execution_count": 53,
      "outputs": []
    },
    {
      "cell_type": "code",
      "metadata": {
        "colab": {
          "base_uri": "https://localhost:8080/"
        },
        "id": "K9KNBoKGlLIR",
        "outputId": "1871baef-940d-4e9d-d6be-02d024fcd3a9"
      },
      "source": [
        "bnb_metrics = [None, None, None]\n",
        "bnb_metrics[0], bnb_metrics[1], bnb_metrics[2] = generate_report(BNBpred, bnb_clf, 'BernoulliNB_model',y_test.argmax(axis=1))"
      ],
      "execution_count": 54,
      "outputs": [
        {
          "output_type": "stream",
          "text": [
            "Confusion Matrix:\n",
            "[[165 140]\n",
            " [154 141]]\n",
            "\n",
            "Classification Report:\n",
            "              precision    recall  f1-score   support\n",
            "\n",
            "           0       0.52      0.54      0.53       305\n",
            "           1       0.50      0.48      0.49       295\n",
            "\n",
            "    accuracy                           0.51       600\n",
            "   macro avg       0.51      0.51      0.51       600\n",
            "weighted avg       0.51      0.51      0.51       600\n",
            "\n",
            "Accuracy: 51.0%\n",
            "Precision: 50.9510369370475%\n",
            "Recall: 50.947485412614625%\n",
            "BernoulliNB_model trained\n"
          ],
          "name": "stdout"
        }
      ]
    },
    {
      "cell_type": "markdown",
      "metadata": {
        "id": "Kv7sddtolLIS"
      },
      "source": [
        "### Multinomial Naive Bayes:"
      ]
    },
    {
      "cell_type": "code",
      "metadata": {
        "id": "pSmc7Ot0lLIS"
      },
      "source": [
        "from sklearn.naive_bayes import MultinomialNB"
      ],
      "execution_count": 55,
      "outputs": []
    },
    {
      "cell_type": "code",
      "metadata": {
        "id": "zfQtE8iJlLIT"
      },
      "source": [
        "mnb_clf = MultinomialNB()\n",
        "\n",
        "#train the model\n",
        "mnb_clf.fit(X_train,y_train.argmax(axis=1))\n",
        "MNBpred=mnb_clf.predict(X_test)"
      ],
      "execution_count": 56,
      "outputs": []
    },
    {
      "cell_type": "code",
      "metadata": {
        "colab": {
          "base_uri": "https://localhost:8080/"
        },
        "id": "ORbwC8R6lLIT",
        "outputId": "e06d5bb0-ba09-4c76-bb4b-12debe9a664b"
      },
      "source": [
        "mnb_metrics = [None, None, None]\n",
        "mnb_metrics[0], mnb_metrics[1], mnb_metrics[2] = generate_report(MNBpred, mnb_clf, 'MultinomialNB_model',y_test.argmax(axis=1))"
      ],
      "execution_count": 57,
      "outputs": [
        {
          "output_type": "stream",
          "text": [
            "Confusion Matrix:\n",
            "[[145 160]\n",
            " [127 168]]\n",
            "\n",
            "Classification Report:\n",
            "              precision    recall  f1-score   support\n",
            "\n",
            "           0       0.53      0.48      0.50       305\n",
            "           1       0.51      0.57      0.54       295\n",
            "\n",
            "    accuracy                           0.52       600\n",
            "   macro avg       0.52      0.52      0.52       600\n",
            "weighted avg       0.52      0.52      0.52       600\n",
            "\n",
            "Accuracy: 52.166666666666664%\n",
            "Precision: 52.264167862266866%\n",
            "Recall: 52.24506807446513%\n",
            "MultinomialNB_model trained\n"
          ],
          "name": "stdout"
        }
      ]
    },
    {
      "cell_type": "markdown",
      "metadata": {
        "id": "8c2qtQK5lLIU"
      },
      "source": [
        "### Maximum Entropy (Logistic Regression):"
      ]
    },
    {
      "cell_type": "code",
      "metadata": {
        "id": "jbIZ2FXPlLIU"
      },
      "source": [
        "from sklearn.linear_model import LogisticRegression"
      ],
      "execution_count": 58,
      "outputs": []
    },
    {
      "cell_type": "code",
      "metadata": {
        "colab": {
          "base_uri": "https://localhost:8080/"
        },
        "id": "Qj5yMj2AlLIV",
        "outputId": "bfd1bd18-9f2d-45be-cc29-135afe9ab060"
      },
      "source": [
        "lr_clf = LogisticRegression(max_iter=300)\n",
        "\n",
        "# Train the Model\n",
        "lr_clf.fit(X_train,y_train.argmax(axis=1))   \n",
        "LRpred = lr_clf.predict(X_test)\n",
        "\n",
        "lr_metrics = [None, None, None]\n",
        "lr_metrics[0], lr_metrics[1], lr_metrics[2] = generate_report(LRpred, lr_clf, 'LinearRegression_model',y_test.argmax(axis=1))"
      ],
      "execution_count": 59,
      "outputs": [
        {
          "output_type": "stream",
          "text": [
            "Confusion Matrix:\n",
            "[[204 101]\n",
            " [106 189]]\n",
            "\n",
            "Classification Report:\n",
            "              precision    recall  f1-score   support\n",
            "\n",
            "           0       0.66      0.67      0.66       305\n",
            "           1       0.65      0.64      0.65       295\n",
            "\n",
            "    accuracy                           0.66       600\n",
            "   macro avg       0.65      0.65      0.65       600\n",
            "weighted avg       0.65      0.66      0.65       600\n",
            "\n",
            "Accuracy: 65.5%\n",
            "Precision: 65.48943270300333%\n",
            "Recall: 65.47652125590442%\n",
            "LinearRegression_model trained\n"
          ],
          "name": "stdout"
        }
      ]
    },
    {
      "cell_type": "markdown",
      "metadata": {
        "id": "FB_VXXhOlLIV"
      },
      "source": [
        "### Support Vector Machine:"
      ]
    },
    {
      "cell_type": "code",
      "metadata": {
        "id": "BjgtQ6BnlLIW"
      },
      "source": [
        "from sklearn.svm import SVC\n",
        "from sklearn import svm"
      ],
      "execution_count": 60,
      "outputs": []
    },
    {
      "cell_type": "code",
      "metadata": {
        "id": "uPkyVvtrlLIW"
      },
      "source": [
        "SVMclassifier = svm.SVC()\n",
        "SVMclassifier.fit(X_train,y_train.argmax(axis=1))\n",
        "SVMpred = SVMclassifier.predict(X_test)"
      ],
      "execution_count": 61,
      "outputs": []
    },
    {
      "cell_type": "code",
      "metadata": {
        "colab": {
          "base_uri": "https://localhost:8080/"
        },
        "id": "TTl-UcNPlLIX",
        "outputId": "73a8b121-dcb3-4dbc-c885-1885140dcaab"
      },
      "source": [
        "svm_metrics = [None, None, None]\n",
        "svm_metrics[0], svm_metrics[1], svm_metrics[2] = generate_report(SVMpred, SVMclassifier, 'SVM_model',y_test.argmax(axis=1))"
      ],
      "execution_count": 62,
      "outputs": [
        {
          "output_type": "stream",
          "text": [
            "Confusion Matrix:\n",
            "[[264  41]\n",
            " [ 76 219]]\n",
            "\n",
            "Classification Report:\n",
            "              precision    recall  f1-score   support\n",
            "\n",
            "           0       0.78      0.87      0.82       305\n",
            "           1       0.84      0.74      0.79       295\n",
            "\n",
            "    accuracy                           0.81       600\n",
            "   macro avg       0.81      0.80      0.80       600\n",
            "weighted avg       0.81      0.81      0.80       600\n",
            "\n",
            "Accuracy: 80.5%\n",
            "Precision: 80.93891402714932%\n",
            "Recall: 80.39733259238677%\n",
            "SVM_model trained\n"
          ],
          "name": "stdout"
        }
      ]
    },
    {
      "cell_type": "markdown",
      "metadata": {
        "id": "zJdO5kQzJSoR"
      },
      "source": [
        "## Results Comparisons plots and tables:"
      ]
    },
    {
      "cell_type": "code",
      "metadata": {
        "colab": {
          "base_uri": "https://localhost:8080/"
        },
        "id": "WFqAg2OkJZQ6",
        "outputId": "6ac186fb-b326-4f27-9adc-c9551b67984d"
      },
      "source": [
        "!pip3 install tabulate\n",
        "from tabulate import tabulate\n",
        "table = [['Model Name', 'Accuracy', 'Precision', 'Recall'], \n",
        "         ['Multinomial Naïve Bayes', mnb_metrics[0], mnb_metrics[1], mnb_metrics[2]], \n",
        "         ['Bernoulli Naïve Bayes', bnb_metrics[0], bnb_metrics[1], bnb_metrics[2]],\n",
        "         ['Support Vector Machine', svm_metrics[0], svm_metrics[1], svm_metrics[2]],\n",
        "         ['Maximum Entropy', lr_metrics[0], lr_metrics[1], lr_metrics[2]],\n",
        "         ['Decision Tree', dt_metrics[0], dt_metrics[1], dt_metrics[2]],\n",
        "         ['CNN', cnn_metrics[0], cnn_metrics[1], cnn_metrics[2]],\n",
        "         ['LSTM', lstm_metrics[0], lstm_metrics[1], lstm_metrics[2]]]\n",
        "\n",
        "print(tabulate(table, headers='firstrow', tablefmt='fancy_grid'))"
      ],
      "execution_count": 63,
      "outputs": [
        {
          "output_type": "stream",
          "text": [
            "Requirement already satisfied: tabulate in /usr/local/lib/python3.7/dist-packages (0.8.9)\n",
            "╒═════════════════════════╤════════════╤═════════════╤══════════╕\n",
            "│ Model Name              │   Accuracy │   Precision │   Recall │\n",
            "╞═════════════════════════╪════════════╪═════════════╪══════════╡\n",
            "│ Multinomial Naïve Bayes │    52.1667 │     52.2642 │  52.2451 │\n",
            "├─────────────────────────┼────────────┼─────────────┼──────────┤\n",
            "│ Bernoulli Naïve Bayes   │    51      │     50.951  │  50.9475 │\n",
            "├─────────────────────────┼────────────┼─────────────┼──────────┤\n",
            "│ Support Vector Machine  │    80.5    │     80.9389 │  80.3973 │\n",
            "├─────────────────────────┼────────────┼─────────────┼──────────┤\n",
            "│ Maximum Entropy         │    65.5    │     65.4894 │  65.4765 │\n",
            "├─────────────────────────┼────────────┼─────────────┼──────────┤\n",
            "│ Decision Tree           │    70.6667 │     70.6771 │  70.6807 │\n",
            "├─────────────────────────┼────────────┼─────────────┼──────────┤\n",
            "│ CNN                     │    93.1667 │     93.5185 │  93.0953 │\n",
            "├─────────────────────────┼────────────┼─────────────┼──────────┤\n",
            "│ LSTM                    │    64      │     64.7805 │  64.1734 │\n",
            "╘═════════════════════════╧════════════╧═════════════╧══════════╛\n"
          ],
          "name": "stdout"
        }
      ]
    },
    {
      "cell_type": "code",
      "metadata": {
        "colab": {
          "base_uri": "https://localhost:8080/",
          "height": 346
        },
        "id": "vsqBbaAHJ77L",
        "outputId": "79798e3b-b924-4773-cde3-7a0aa9a2e72d"
      },
      "source": [
        "import numpy as np\n",
        "import matplotlib.pyplot as plt\n",
        "  \n",
        "N = 7\n",
        "ind = np.arange(N) \n",
        "width = 0.25\n",
        "  \n",
        "acc = [mnb_metrics[0], bnb_metrics[0], svm_metrics[0], lr_metrics[0], dt_metrics[0], cnn_metrics[0], lstm_metrics[0]]\n",
        "bar1 = plt.bar(ind, acc, width)\n",
        "  \n",
        "prec = [mnb_metrics[1], bnb_metrics[1], svm_metrics[1], lr_metrics[1], dt_metrics[1], cnn_metrics[1], lstm_metrics[1]]\n",
        "bar2 = plt.bar(ind+width, prec, width)\n",
        "  \n",
        "recall = [mnb_metrics[2], bnb_metrics[2], svm_metrics[2], lr_metrics[2], dt_metrics[2], cnn_metrics[2], lstm_metrics[2]]\n",
        "bar3 = plt.bar(ind+width*2, recall, width)\n",
        "  \n",
        "# plt.xlabel(\"Dates\")\n",
        "plt.ylabel(\"Percentage\")\n",
        "plt.title(\"Comparison\")\n",
        "  \n",
        "plt.xticks(ind+width,['Multinomial NB','Bernoulli NB','SVM','Logistic Regression', 'Decision Tree', 'CNN', 'LSTM'])\n",
        "plt.xticks(rotation = 45)\n",
        "plt.legend( (bar1, bar2, bar3), ('Accuracy', 'Precision', 'Recall'), bbox_to_anchor = (1.05, 0.6))\n",
        "plt.show()"
      ],
      "execution_count": 64,
      "outputs": [
        {
          "output_type": "display_data",
          "data": {
            "image/png": "[encoded data removed]",
            "text/plain": [
              "<Figure size 432x288 with 1 Axes>"
            ]
          },
          "metadata": {
            "tags": [],
            "needs_background": "light"
          }
        }
      ]
    },
    {
      "cell_type": "code",
      "metadata": {
        "colab": {
          "base_uri": "https://localhost:8080/",
          "height": 346
        },
        "id": "9jiwMcrjKRpM",
        "outputId": "67c90d1f-6f19-499f-f6cb-0f6a19c0e38c"
      },
      "source": [
        "import matplotlib.pyplot as plt\n",
        "models = ['Multinomial NB','Bernoulli NB','SVM','Logistic Regression', 'Decision Tree', 'CNN', 'LSTM']\n",
        "recall = [mnb_metrics[2], bnb_metrics[2], svm_metrics[2], lr_metrics[2], dt_metrics[2], cnn_metrics[2], lstm_metrics[2]]\n",
        "precision = [mnb_metrics[1], bnb_metrics[1], svm_metrics[1], lr_metrics[1], dt_metrics[1], cnn_metrics[1], lstm_metrics[1]]\n",
        "line_chart1 = plt.plot(models, recall, 'o-g')\n",
        "line_chart2 = plt.plot(models, precision, 'o-y')\n",
        "plt.title('Recall vs Precision')\n",
        "plt.ylabel('Score')\n",
        "plt.xticks(rotation = 45)\n",
        "plt.legend(['Recall', 'Precision'], bbox_to_anchor = (1.3, 0.6))\n",
        "plt.show()"
      ],
      "execution_count": 65,
      "outputs": [
        {
          "output_type": "display_data",
          "data": {
            "image/png": "[encoded data removed]",
            "text/plain": [
              "<Figure size 432x288 with 1 Axes>"
            ]
          },
          "metadata": {
            "tags": [],
            "needs_background": "light"
          }
        }
      ]
    },
    {
      "cell_type": "code",
      "metadata": {
        "id": "UQlsE0nUkuDZ"
      },
      "source": [
        ""
      ],
      "execution_count": 65,
      "outputs": []
    }
  ]
}