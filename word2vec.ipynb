{
  "nbformat": 4,
  "nbformat_minor": 0,
  "metadata": {
    "colab": {
      "name": "word2vec.ipynb",
      "provenance": []
    },
    "kernelspec": {
      "name": "python3",
      "display_name": "Python 3"
    },
    "language_info": {
      "name": "python"
    }
  },
  "cells": [
    {
      "cell_type": "code",
      "metadata": {
        "colab": {
          "base_uri": "https://localhost:8080/"
        },
        "id": "V6_ui1-FB9K6",
        "outputId": "331383c5-25c8-48cd-adcb-c7b1bc1a0cee"
      },
      "source": [
        "from google.colab import drive\n",
        "drive.mount(\"/content/drive\")"
      ],
      "execution_count": 2,
      "outputs": [
        {
          "output_type": "stream",
          "text": [
            "Drive already mounted at /content/drive; to attempt to forcibly remount, call drive.mount(\"/content/drive\", force_remount=True).\n"
          ],
          "name": "stdout"
        }
      ]
    },
    {
      "cell_type": "code",
      "metadata": {
        "id": "jDbu-TX6-ad3"
      },
      "source": [
        "import numpy as np\n",
        "import pandas as pd\n",
        "import matplotlib.pyplot as plt\n",
        "import spacy\n",
        "import string\n",
        "import pickle\n",
        "import xlrd\n",
        "\n",
        "from spacy.lang.en.stop_words import STOP_WORDS\n",
        "from spacy.lang.en import English\n",
        "\n",
        "from sklearn.feature_extraction.text import CountVectorizer,TfidfVectorizer\n",
        "from sklearn.metrics import accuracy_score, confusion_matrix, classification_report\n",
        "from sklearn.base import TransformerMixin \n",
        "from sklearn.pipeline import Pipeline\n",
        "from sklearn.model_selection import train_test_split\n",
        "from sklearn.preprocessing import StandardScaler\n",
        "\n",
        "from sklearn.metrics import precision_score\n",
        "from sklearn.metrics import recall_score\n",
        "from sklearn.metrics import accuracy_score\n",
        "\n",
        "# from sklearn.svm import LinearSVC\n",
        "# from sklearn.ensemble import RandomForestClassifier\n"
      ],
      "execution_count": 3,
      "outputs": []
    },
    {
      "cell_type": "code",
      "metadata": {
        "id": "OwyreH4zCCOI"
      },
      "source": [
        "data = pd.read_excel('/content/drive/My Drive/dataset/dataset.xlsx', engine='openpyxl')"
      ],
      "execution_count": 4,
      "outputs": []
    },
    {
      "cell_type": "code",
      "metadata": {
        "colab": {
          "base_uri": "https://localhost:8080/"
        },
        "id": "of-n2LUpPBh8",
        "outputId": "a49e5b33-0c37-4a43-a4a4-15145564d872"
      },
      "source": [
        "print(\"Columns in the original dataset:\\n\")\n",
        "print(data.columns)"
      ],
      "execution_count": 5,
      "outputs": [
        {
          "output_type": "stream",
          "text": [
            "Columns in the original dataset:\n",
            "\n",
            "Index(['URL', 'Text', 'Sentiment'], dtype='object')\n"
          ],
          "name": "stdout"
        }
      ]
    },
    {
      "cell_type": "code",
      "metadata": {
        "colab": {
          "base_uri": "https://localhost:8080/",
          "height": 199
        },
        "id": "gBSTIW6pPdmF",
        "outputId": "87e6c280-81da-44d7-b6f3-a52f4726fe88"
      },
      "source": [
        "data.head()"
      ],
      "execution_count": 6,
      "outputs": [
        {
          "output_type": "execute_result",
          "data": {
            "text/html": [
              "<div>\n",
              "<style scoped>\n",
              "    .dataframe tbody tr th:only-of-type {\n",
              "        vertical-align: middle;\n",
              "    }\n",
              "\n",
              "    .dataframe tbody tr th {\n",
              "        vertical-align: top;\n",
              "    }\n",
              "\n",
              "    .dataframe thead th {\n",
              "        text-align: right;\n",
              "    }\n",
              "</style>\n",
              "<table border=\"1\" class=\"dataframe\">\n",
              "  <thead>\n",
              "    <tr style=\"text-align: right;\">\n",
              "      <th></th>\n",
              "      <th>URL</th>\n",
              "      <th>Text</th>\n",
              "      <th>Sentiment</th>\n",
              "    </tr>\n",
              "  </thead>\n",
              "  <tbody>\n",
              "    <tr>\n",
              "      <th>0</th>\n",
              "      <td>http://www.imdb.com/title/tt0210075/usercomments</td>\n",
              "      <td>Girlfight follows a project dwelling New York ...</td>\n",
              "      <td>POS</td>\n",
              "    </tr>\n",
              "    <tr>\n",
              "      <th>1</th>\n",
              "      <td>http://www.imdb.com/title/tt0337640/usercomments</td>\n",
              "      <td>Hollywood North is an euphemism from the movie...</td>\n",
              "      <td>POS</td>\n",
              "    </tr>\n",
              "    <tr>\n",
              "      <th>2</th>\n",
              "      <td>http://www.imdb.com/title/tt0303549/usercomments</td>\n",
              "      <td>That '70s Show is definitely the funniest show...</td>\n",
              "      <td>POS</td>\n",
              "    </tr>\n",
              "    <tr>\n",
              "      <th>3</th>\n",
              "      <td>http://www.imdb.com/title/tt0716825/usercomments</td>\n",
              "      <td>9/10- 30 minutes of pure holiday terror. Okay,...</td>\n",
              "      <td>POS</td>\n",
              "    </tr>\n",
              "    <tr>\n",
              "      <th>4</th>\n",
              "      <td>http://www.imdb.com/title/tt0182225/usercomments</td>\n",
              "      <td>A series of random, seemingly insignificant th...</td>\n",
              "      <td>POS</td>\n",
              "    </tr>\n",
              "  </tbody>\n",
              "</table>\n",
              "</div>"
            ],
            "text/plain": [
              "                                                URL  ... Sentiment\n",
              "0  http://www.imdb.com/title/tt0210075/usercomments  ...       POS\n",
              "1  http://www.imdb.com/title/tt0337640/usercomments  ...       POS\n",
              "2  http://www.imdb.com/title/tt0303549/usercomments  ...       POS\n",
              "3  http://www.imdb.com/title/tt0716825/usercomments  ...       POS\n",
              "4  http://www.imdb.com/title/tt0182225/usercomments  ...       POS\n",
              "\n",
              "[5 rows x 3 columns]"
            ]
          },
          "metadata": {
            "tags": []
          },
          "execution_count": 6
        }
      ]
    },
    {
      "cell_type": "code",
      "metadata": {
        "id": "duJsKnz9PU_L"
      },
      "source": [
        "def map_sentiment(sentiment):\n",
        "    if sentiment == 'NEG':\n",
        "        return -1\n",
        "    else:\n",
        "        return 1"
      ],
      "execution_count": 7,
      "outputs": []
    },
    {
      "cell_type": "code",
      "metadata": {
        "colab": {
          "base_uri": "https://localhost:8080/",
          "height": 375
        },
        "id": "cvONH1ZWPnLd",
        "outputId": "9970bc03-0638-49f0-95ac-e5cd6bee7103"
      },
      "source": [
        "print(\"Number of rows per star rating:\")\n",
        "print(data['Sentiment'].value_counts())\n",
        "\n",
        "# Plotting the sentiment distribution\n",
        "plt.figure()\n",
        "pd.value_counts(data['Sentiment']).plot.bar(title=\"Sentiment distribution in df\")\n",
        "plt.xlabel(\"Sentiment\")\n",
        "plt.ylabel(\"No. of rows in df\")\n",
        "plt.show()"
      ],
      "execution_count": 8,
      "outputs": [
        {
          "output_type": "stream",
          "text": [
            "Number of rows per star rating:\n",
            "NEG    1000\n",
            "POS     999\n",
            "Name: Sentiment, dtype: int64\n"
          ],
          "name": "stdout"
        },
        {
          "output_type": "display_data",
          "data": {
            "image/png": "[encoded data removed]",
            "text/plain": [
              "<Figure size 432x288 with 1 Axes>"
            ]
          },
          "metadata": {
            "tags": [],
            "needs_background": "light"
          }
        }
      ]
    },
    {
      "cell_type": "code",
      "metadata": {
        "colab": {
          "base_uri": "https://localhost:8080/"
        },
        "id": "mZps6j_WvxcT",
        "outputId": "cd53adc0-45f9-4810-b626-d4e5812583ec"
      },
      "source": [
        "from gensim.parsing.preprocessing import remove_stopwords\n",
        "from gensim.utils import simple_preprocess\n",
        "# Tokenize the text column to get the new column 'tokenized_text'\n",
        "data['tokenized_text'] = [simple_preprocess(line, deacc=True) for line in data['Text']] \n",
        "print(data['tokenized_text'].head(10))"
      ],
      "execution_count": 11,
      "outputs": [
        {
          "output_type": "stream",
          "text": [
            "0    [girlfight, follows, project, dwelling, new, y...\n",
            "1    [hollywood, north, is, an, euphemism, from, th...\n",
            "2    [that, show, is, definitely, the, funniest, sh...\n",
            "3    [minutes, of, pure, holiday, terror, okay, so,...\n",
            "4    [series, of, random, seemingly, insignificant,...\n",
            "5    [very, good, adaptation, of, the, novel, by, a...\n",
            "6    [ah, moonwalker, huge, michael, jackson, fan, ...\n",
            "7    [although, the, beginning, of, the, movie, in,...\n",
            "8    [as, many, reviewers, here, have, noted, the, ...\n",
            "9    [bear, in, mind, any, film, let, alone, docume...\n",
            "Name: tokenized_text, dtype: object\n"
          ],
          "name": "stdout"
        }
      ]
    },
    {
      "cell_type": "code",
      "metadata": {
        "colab": {
          "base_uri": "https://localhost:8080/"
        },
        "id": "NqPswdHKEHsH",
        "outputId": "80f9da62-e3b3-481d-ee62-9bb923cb513f"
      },
      "source": [
        "from gensim.parsing.porter import PorterStemmer\n",
        "porter_stemmer = PorterStemmer()\n",
        "# Get the stemmed_tokens\n",
        "data['stemmed_tokens'] = [[porter_stemmer.stem(word) for word in tokens] for tokens in data['tokenized_text'] ]\n",
        "data['stemmed_tokens'].head(10)"
      ],
      "execution_count": 24,
      "outputs": [
        {
          "output_type": "execute_result",
          "data": {
            "text/plain": [
              "0    [girlfight, follow, project, dwell, new, york,...\n",
              "1    [hollywood, north, is, an, euphem, from, the, ...\n",
              "2    [that, show, is, definit, the, funniest, show,...\n",
              "3    [minut, of, pure, holidai, terror, okai, so, i...\n",
              "4    [seri, of, random, seemingli, insignific, thef...\n",
              "5    [veri, good, adapt, of, the, novel, by, amrita...\n",
              "6    [ah, moonwalk, huge, michael, jackson, fan, gr...\n",
              "7    [although, the, begin, of, the, movi, in, new,...\n",
              "8    [as, mani, review, here, have, note, the, film...\n",
              "9    [bear, in, mind, ani, film, let, alon, documen...\n",
              "Name: stemmed_tokens, dtype: object"
            ]
          },
          "metadata": {
            "tags": []
          },
          "execution_count": 24
        }
      ]
    },
    {
      "cell_type": "code",
      "metadata": {
        "colab": {
          "base_uri": "https://localhost:8080/",
          "height": 369
        },
        "id": "dSarl7rNQIVS",
        "outputId": "92f3131d-62a9-4b9e-e754-770be79881de"
      },
      "source": [
        "data.head()"
      ],
      "execution_count": 25,
      "outputs": [
        {
          "output_type": "execute_result",
          "data": {
            "text/html": [
              "<div>\n",
              "<style scoped>\n",
              "    .dataframe tbody tr th:only-of-type {\n",
              "        vertical-align: middle;\n",
              "    }\n",
              "\n",
              "    .dataframe tbody tr th {\n",
              "        vertical-align: top;\n",
              "    }\n",
              "\n",
              "    .dataframe thead th {\n",
              "        text-align: right;\n",
              "    }\n",
              "</style>\n",
              "<table border=\"1\" class=\"dataframe\">\n",
              "  <thead>\n",
              "    <tr style=\"text-align: right;\">\n",
              "      <th></th>\n",
              "      <th>URL</th>\n",
              "      <th>Text</th>\n",
              "      <th>Sentiment</th>\n",
              "      <th>tokenized_text</th>\n",
              "      <th>stemmed_tokens</th>\n",
              "    </tr>\n",
              "  </thead>\n",
              "  <tbody>\n",
              "    <tr>\n",
              "      <th>0</th>\n",
              "      <td>http://www.imdb.com/title/tt0210075/usercomments</td>\n",
              "      <td>Girlfight follows a project dwelling New York ...</td>\n",
              "      <td>POS</td>\n",
              "      <td>[girlfight, follows, project, dwelling, new, y...</td>\n",
              "      <td>[girlfight, follow, project, dwell, new, york,...</td>\n",
              "    </tr>\n",
              "    <tr>\n",
              "      <th>1</th>\n",
              "      <td>http://www.imdb.com/title/tt0337640/usercomments</td>\n",
              "      <td>Hollywood North is an euphemism from the movie...</td>\n",
              "      <td>POS</td>\n",
              "      <td>[hollywood, north, is, an, euphemism, from, th...</td>\n",
              "      <td>[hollywood, north, is, an, euphem, from, the, ...</td>\n",
              "    </tr>\n",
              "    <tr>\n",
              "      <th>2</th>\n",
              "      <td>http://www.imdb.com/title/tt0303549/usercomments</td>\n",
              "      <td>That '70s Show is definitely the funniest show...</td>\n",
              "      <td>POS</td>\n",
              "      <td>[that, show, is, definitely, the, funniest, sh...</td>\n",
              "      <td>[that, show, is, definit, the, funniest, show,...</td>\n",
              "    </tr>\n",
              "    <tr>\n",
              "      <th>3</th>\n",
              "      <td>http://www.imdb.com/title/tt0716825/usercomments</td>\n",
              "      <td>9/10- 30 minutes of pure holiday terror. Okay,...</td>\n",
              "      <td>POS</td>\n",
              "      <td>[minutes, of, pure, holiday, terror, okay, so,...</td>\n",
              "      <td>[minut, of, pure, holidai, terror, okai, so, i...</td>\n",
              "    </tr>\n",
              "    <tr>\n",
              "      <th>4</th>\n",
              "      <td>http://www.imdb.com/title/tt0182225/usercomments</td>\n",
              "      <td>A series of random, seemingly insignificant th...</td>\n",
              "      <td>POS</td>\n",
              "      <td>[series, of, random, seemingly, insignificant,...</td>\n",
              "      <td>[seri, of, random, seemingli, insignific, thef...</td>\n",
              "    </tr>\n",
              "  </tbody>\n",
              "</table>\n",
              "</div>"
            ],
            "text/plain": [
              "                                                URL  ...                                     stemmed_tokens\n",
              "0  http://www.imdb.com/title/tt0210075/usercomments  ...  [girlfight, follow, project, dwell, new, york,...\n",
              "1  http://www.imdb.com/title/tt0337640/usercomments  ...  [hollywood, north, is, an, euphem, from, the, ...\n",
              "2  http://www.imdb.com/title/tt0303549/usercomments  ...  [that, show, is, definit, the, funniest, show,...\n",
              "3  http://www.imdb.com/title/tt0716825/usercomments  ...  [minut, of, pure, holidai, terror, okai, so, i...\n",
              "4  http://www.imdb.com/title/tt0182225/usercomments  ...  [seri, of, random, seemingli, insignific, thef...\n",
              "\n",
              "[5 rows x 5 columns]"
            ]
          },
          "metadata": {
            "tags": []
          },
          "execution_count": 25
        }
      ]
    },
    {
      "cell_type": "code",
      "metadata": {
        "id": "Paf8ZfmPEVCl"
      },
      "source": [
        "from sklearn.model_selection import train_test_split\n",
        "# Train Test Split Function\n",
        "def split_train_test(data, test_size=0.3, shuffle_state=True):\n",
        "    X_train, X_test, Y_train, Y_test = train_test_split(data[['Text', 'stemmed_tokens']], \n",
        "                                                        data['Sentiment'], \n",
        "                                                        shuffle=shuffle_state,\n",
        "                                                        test_size=test_size, \n",
        "                                                        random_state=15)\n",
        "    print(\"Value counts for Train sentiments\")\n",
        "    print(Y_train.value_counts())\n",
        "    print(\"Value counts for Test sentiments\")\n",
        "    print(Y_test.value_counts())\n",
        "    print(type(X_train))\n",
        "    print(type(Y_train))\n",
        "    X_train = X_train.reset_index()\n",
        "    X_test = X_test.reset_index()\n",
        "    Y_train = Y_train.to_frame()\n",
        "    Y_train = Y_train.reset_index()\n",
        "    Y_test = Y_test.to_frame()\n",
        "    Y_test = Y_test.reset_index()\n",
        "    print(X_train.head())\n",
        "    return X_train, X_test, Y_train, Y_test\n"
      ],
      "execution_count": 28,
      "outputs": []
    },
    {
      "cell_type": "code",
      "metadata": {
        "colab": {
          "base_uri": "https://localhost:8080/"
        },
        "id": "iV_7BZhcEmd7",
        "outputId": "4f6b751a-3afb-427c-cf91-f260e3ba2997"
      },
      "source": [
        "# Call the train_test_split\n",
        "X_train, X_test, Y_train, Y_test = split_train_test(data)"
      ],
      "execution_count": 29,
      "outputs": [
        {
          "output_type": "stream",
          "text": [
            "Value counts for Train sentiments\n",
            "POS    710\n",
            "NEG    689\n",
            "Name: Sentiment, dtype: int64\n",
            "Value counts for Test sentiments\n",
            "NEG    311\n",
            "POS    289\n",
            "Name: Sentiment, dtype: int64\n",
            "<class 'pandas.core.frame.DataFrame'>\n",
            "<class 'pandas.core.series.Series'>\n",
            "   index  ...                                     stemmed_tokens\n",
            "0    785  ...  [such, film, of, beauti, that, it, hard, to, d...\n",
            "1   1885  ...  [thi, can, be, mandi, schaffer, last, film, so...\n",
            "2    723  ...  [final, movi, where, the, audienc, is, kept, g...\n",
            "3   1114  ...  [remad, todai, thi, film, would, be, veri, cre...\n",
            "4     60  ...  [thi, film, wa, the, first, british, teen, mov...\n",
            "\n",
            "[5 rows x 3 columns]\n"
          ],
          "name": "stdout"
        }
      ]
    },
    {
      "cell_type": "code",
      "metadata": {
        "colab": {
          "base_uri": "https://localhost:8080/",
          "height": 199
        },
        "id": "of3VP3acEv8n",
        "outputId": "56494614-1f57-4018-f5d1-549e11957e67"
      },
      "source": [
        "X_train.head()"
      ],
      "execution_count": 30,
      "outputs": [
        {
          "output_type": "execute_result",
          "data": {
            "text/html": [
              "<div>\n",
              "<style scoped>\n",
              "    .dataframe tbody tr th:only-of-type {\n",
              "        vertical-align: middle;\n",
              "    }\n",
              "\n",
              "    .dataframe tbody tr th {\n",
              "        vertical-align: top;\n",
              "    }\n",
              "\n",
              "    .dataframe thead th {\n",
              "        text-align: right;\n",
              "    }\n",
              "</style>\n",
              "<table border=\"1\" class=\"dataframe\">\n",
              "  <thead>\n",
              "    <tr style=\"text-align: right;\">\n",
              "      <th></th>\n",
              "      <th>index</th>\n",
              "      <th>Text</th>\n",
              "      <th>stemmed_tokens</th>\n",
              "    </tr>\n",
              "  </thead>\n",
              "  <tbody>\n",
              "    <tr>\n",
              "      <th>0</th>\n",
              "      <td>785</td>\n",
              "      <td>Such a film of beauty that it's hard to descri...</td>\n",
              "      <td>[such, film, of, beauti, that, it, hard, to, d...</td>\n",
              "    </tr>\n",
              "    <tr>\n",
              "      <th>1</th>\n",
              "      <td>1885</td>\n",
              "      <td>This can't be Mandy Schaffer's last film. Some...</td>\n",
              "      <td>[thi, can, be, mandi, schaffer, last, film, so...</td>\n",
              "    </tr>\n",
              "    <tr>\n",
              "      <th>2</th>\n",
              "      <td>723</td>\n",
              "      <td>Finally a movie where the audience is kept gue...</td>\n",
              "      <td>[final, movi, where, the, audienc, is, kept, g...</td>\n",
              "    </tr>\n",
              "    <tr>\n",
              "      <th>3</th>\n",
              "      <td>1114</td>\n",
              "      <td>Remade today, this film would be a very creepy...</td>\n",
              "      <td>[remad, todai, thi, film, would, be, veri, cre...</td>\n",
              "    </tr>\n",
              "    <tr>\n",
              "      <th>4</th>\n",
              "      <td>60</td>\n",
              "      <td>This film was the first British teen movie to ...</td>\n",
              "      <td>[thi, film, wa, the, first, british, teen, mov...</td>\n",
              "    </tr>\n",
              "  </tbody>\n",
              "</table>\n",
              "</div>"
            ],
            "text/plain": [
              "   index  ...                                     stemmed_tokens\n",
              "0    785  ...  [such, film, of, beauti, that, it, hard, to, d...\n",
              "1   1885  ...  [thi, can, be, mandi, schaffer, last, film, so...\n",
              "2    723  ...  [final, movi, where, the, audienc, is, kept, g...\n",
              "3   1114  ...  [remad, todai, thi, film, would, be, veri, cre...\n",
              "4     60  ...  [thi, film, wa, the, first, british, teen, mov...\n",
              "\n",
              "[5 rows x 3 columns]"
            ]
          },
          "metadata": {
            "tags": []
          },
          "execution_count": 30
        }
      ]
    },
    {
      "cell_type": "code",
      "metadata": {
        "colab": {
          "base_uri": "https://localhost:8080/",
          "height": 199
        },
        "id": "7AGuy1XxEyaL",
        "outputId": "25b68437-aa14-45b4-8e13-31d9aaf38453"
      },
      "source": [
        "Y_train.head()"
      ],
      "execution_count": 31,
      "outputs": [
        {
          "output_type": "execute_result",
          "data": {
            "text/html": [
              "<div>\n",
              "<style scoped>\n",
              "    .dataframe tbody tr th:only-of-type {\n",
              "        vertical-align: middle;\n",
              "    }\n",
              "\n",
              "    .dataframe tbody tr th {\n",
              "        vertical-align: top;\n",
              "    }\n",
              "\n",
              "    .dataframe thead th {\n",
              "        text-align: right;\n",
              "    }\n",
              "</style>\n",
              "<table border=\"1\" class=\"dataframe\">\n",
              "  <thead>\n",
              "    <tr style=\"text-align: right;\">\n",
              "      <th></th>\n",
              "      <th>index</th>\n",
              "      <th>Sentiment</th>\n",
              "    </tr>\n",
              "  </thead>\n",
              "  <tbody>\n",
              "    <tr>\n",
              "      <th>0</th>\n",
              "      <td>785</td>\n",
              "      <td>POS</td>\n",
              "    </tr>\n",
              "    <tr>\n",
              "      <th>1</th>\n",
              "      <td>1885</td>\n",
              "      <td>NEG</td>\n",
              "    </tr>\n",
              "    <tr>\n",
              "      <th>2</th>\n",
              "      <td>723</td>\n",
              "      <td>POS</td>\n",
              "    </tr>\n",
              "    <tr>\n",
              "      <th>3</th>\n",
              "      <td>1114</td>\n",
              "      <td>NEG</td>\n",
              "    </tr>\n",
              "    <tr>\n",
              "      <th>4</th>\n",
              "      <td>60</td>\n",
              "      <td>POS</td>\n",
              "    </tr>\n",
              "  </tbody>\n",
              "</table>\n",
              "</div>"
            ],
            "text/plain": [
              "   index Sentiment\n",
              "0    785       POS\n",
              "1   1885       NEG\n",
              "2    723       POS\n",
              "3   1114       NEG\n",
              "4     60       POS"
            ]
          },
          "metadata": {
            "tags": []
          },
          "execution_count": 31
        }
      ]
    },
    {
      "cell_type": "code",
      "metadata": {
        "colab": {
          "base_uri": "https://localhost:8080/"
        },
        "id": "RGYtjD7XKv2V",
        "outputId": "2d26997f-9e00-4fff-fe19-0cb4dac767e3"
      },
      "source": [
        "from gensim.models import Word2Vec\n",
        "import time\n",
        "# Skip-gram model (sg = 1)\n",
        "size = 1000\n",
        "window = 3\n",
        "min_count = 1\n",
        "workers = 3\n",
        "sg = 1\n",
        "\n",
        "word2vec_model_file = 'word2vec_' + str(size) + '.model'\n",
        "start_time = time.time()\n",
        "stemmed_tokens = pd.Series(data['stemmed_tokens']).values\n",
        "# Train the Word2Vec Model\n",
        "w2v_model = Word2Vec(stemmed_tokens, min_count = min_count, size = size, workers = workers, window = window, sg = sg)\n",
        "print(\"Time taken to train word2vec model: \" + str(time.time() - start_time))\n",
        "w2v_model.save(word2vec_model_file)"
      ],
      "execution_count": 32,
      "outputs": [
        {
          "output_type": "stream",
          "text": [
            "Time taken to train word2vec model: 27.48318099975586\n"
          ],
          "name": "stdout"
        }
      ]
    },
    {
      "cell_type": "code",
      "metadata": {
        "colab": {
          "base_uri": "https://localhost:8080/"
        },
        "id": "YLZ_WPdaL89Z",
        "outputId": "a7178a26-3000-4463-ef3b-282625ee8015"
      },
      "source": [
        "import numpy as np\n",
        "# Load the model from the model file\n",
        "sg_w2v_model = Word2Vec.load(word2vec_model_file)\n",
        "# Unique ID of the word\n",
        "print(\"Index of the word 'action':\")\n",
        "print(sg_w2v_model.wv.vocab[\"action\"].index)\n",
        "# Total number of the words \n",
        "print(len(sg_w2v_model.wv.vocab))\n",
        "# Print the size of the word2vec vector for one word\n",
        "print(\"Length of the vector generated for a word\")\n",
        "print(len(sg_w2v_model['action']))\n",
        "# Get the mean for the vectors for an example review\n",
        "print(\"Print the length after taking average of all word vectors in a sentence:\")\n",
        "print(np.mean([sg_w2v_model[token] for token in data['stemmed_tokens'][0]], axis=0))"
      ],
      "execution_count": 33,
      "outputs": [
        {
          "output_type": "stream",
          "text": [
            "Index of the word 'action':\n",
            "210\n",
            "17709\n",
            "Length of the vector generated for a word\n",
            "1000\n",
            "Print the length after taking average of all word vectors in a sentence:\n",
            "[-7.90733099e-02 -2.51973923e-02  3.17465961e-02  3.07416916e-02\n",
            " -2.92371260e-03  7.11078718e-02  3.75933312e-02  4.41663861e-02\n",
            "  3.87230213e-03  6.36974573e-02  6.35054037e-02  1.04824184e-02\n",
            "  5.22549637e-02 -4.25399505e-02  6.91185845e-03 -1.12851910e-01\n",
            "  5.75181991e-02 -1.42624946e-02  2.21253876e-02  4.38813353e-03\n",
            "  6.39852285e-02 -2.82416632e-03 -5.94052523e-02 -6.59090048e-03\n",
            "  6.22790307e-03  7.46018812e-02  4.23639379e-02  8.99383351e-02\n",
            " -6.14188872e-02  7.29326606e-02 -3.15789022e-02  3.20443362e-02\n",
            " -6.97872639e-02 -4.26520891e-02 -3.56841460e-02 -1.11523420e-02\n",
            " -3.98193821e-02  7.07907453e-02  6.30190969e-02 -4.56122607e-02\n",
            "  2.99607334e-03  1.17758084e-02 -7.85965100e-02 -7.54758269e-02\n",
            "  3.25840004e-02 -4.96254042e-02  3.96726802e-02 -5.70196696e-02\n",
            "  3.50952558e-02  5.24215139e-02 -7.91677460e-02  8.02943930e-02\n",
            " -4.05304171e-02 -8.16294774e-02  4.05343138e-02 -6.81454167e-02\n",
            "  3.13539803e-02  8.65614414e-02 -1.32218122e-01 -3.90056521e-02\n",
            "  9.81314853e-02 -1.85984205e-02  5.24891540e-03 -1.21740095e-01\n",
            "  3.29375640e-03  1.55172357e-02  4.23702970e-02  1.33831859e-01\n",
            " -3.58168483e-02 -1.14823028e-01 -2.41909269e-02 -4.79175262e-02\n",
            " -4.05207649e-02 -3.50553449e-03 -5.49003519e-02  4.75066304e-02\n",
            " -9.60635673e-03  7.44463429e-02 -4.59983200e-02  6.57131895e-03\n",
            " -5.35736382e-02  3.38469669e-02  8.25725216e-03 -3.20501160e-03\n",
            "  2.79300809e-02  1.95740778e-02 -2.66088098e-02  7.90114515e-03\n",
            "  5.36541007e-02 -1.97990122e-03 -1.20485043e-02 -7.01603219e-02\n",
            " -6.68249466e-03  2.48300936e-02  1.31605312e-01 -3.26011777e-02\n",
            " -1.81512579e-01 -1.45269046e-03 -1.42991349e-01 -1.38350381e-02\n",
            " -8.51924196e-02 -1.87811907e-02  4.65546884e-02  1.30239367e-01\n",
            " -2.27611177e-02  3.03185508e-02  2.25749370e-02 -2.29238477e-02\n",
            " -4.25695702e-02  7.46618211e-02  7.90129974e-02  1.34554788e-01\n",
            "  5.12409247e-02 -6.34556636e-02 -6.40552416e-02  5.36644571e-02\n",
            " -6.92992136e-02  3.06629334e-02 -1.84927844e-02 -8.08752328e-02\n",
            "  9.67246741e-02  5.12075424e-02  2.02042498e-02  9.53248814e-02\n",
            " -2.44648941e-02 -4.67645824e-02 -1.33946175e-02 -8.78041014e-02\n",
            "  6.08642735e-02  7.52039393e-03 -6.71648532e-02  7.20815882e-02\n",
            " -3.06458119e-02  4.55379561e-02  3.64344791e-02 -8.19831640e-02\n",
            "  4.98375334e-02 -6.34677289e-03  1.49337277e-01 -7.35600293e-03\n",
            "  6.44765235e-03  8.01693127e-02 -5.30965161e-03 -1.89864710e-02\n",
            " -8.06024522e-02  1.89127736e-02  1.03009924e-01  3.43156816e-03\n",
            " -1.65751964e-01 -7.02247918e-02 -5.31177185e-02  1.09684862e-01\n",
            "  6.42760769e-02  9.95513424e-02 -1.15124948e-01  7.12831244e-02\n",
            " -9.16062519e-02 -1.53336534e-02  1.99077465e-02  1.75221208e-02\n",
            "  5.10909641e-03  5.64610325e-02 -6.70090988e-02 -5.66169843e-02\n",
            " -5.87219838e-04  3.50317881e-02  4.39660512e-02 -4.33084369e-02\n",
            "  1.58272669e-01  4.39347774e-02 -3.26189920e-02 -8.50159395e-03\n",
            "  1.09554574e-01  7.85400067e-03 -1.14166148e-01  1.00758336e-02\n",
            "  4.38247882e-02 -5.32288011e-03 -8.98461882e-03 -1.94634870e-01\n",
            "  4.74284515e-02 -3.86128435e-03  9.51496884e-02 -1.55683711e-01\n",
            " -6.24888614e-02 -1.86692812e-02 -4.70315702e-02 -1.02018500e-02\n",
            " -4.87525687e-02 -7.92509969e-03 -7.35923788e-03  6.58338470e-03\n",
            "  3.72812115e-02  1.22491252e-02 -2.94334404e-02  4.27549891e-03\n",
            "  4.09262963e-02  7.86281079e-02 -5.78334322e-03  9.34637040e-02\n",
            "  2.20166706e-03 -2.25565862e-03  8.70201290e-02  2.37704180e-02\n",
            " -4.57753055e-02 -7.46471658e-02  7.94574851e-04 -5.40882302e-03\n",
            " -1.33593120e-02 -4.82767858e-02 -4.26284038e-02 -1.69561931e-03\n",
            "  3.86228263e-02 -9.19251889e-02 -5.65672033e-02 -4.01807018e-02\n",
            "  1.22781163e-02  3.34843658e-02 -3.58785093e-02  6.81283325e-02\n",
            " -1.16504975e-01 -1.76689401e-01 -9.30848420e-02 -7.65319392e-02\n",
            " -1.51068382e-02 -3.68879386e-03  2.89312545e-02  6.94580097e-03\n",
            "  9.77758095e-02 -3.71278711e-02  3.56568284e-02 -1.05664365e-01\n",
            "  1.04013481e-03 -9.62064601e-03 -6.24897145e-02 -2.90048886e-02\n",
            "  1.02169169e-02 -1.89727135e-02  5.98564595e-02 -4.13660193e-04\n",
            " -8.41607451e-02  8.33559185e-02  4.67019379e-02 -1.31582040e-02\n",
            " -7.45246336e-02  4.28752191e-02 -2.06845347e-02  9.60739106e-02\n",
            "  5.17328717e-02 -9.50853229e-02  8.86964127e-02  4.42462675e-02\n",
            " -8.12421143e-02  2.28402577e-03  8.02274346e-02  1.22901820e-01\n",
            "  1.99070275e-02  2.69541368e-02 -2.40524411e-02 -8.87131244e-02\n",
            "  4.48686741e-02  8.11269693e-03  3.77414115e-02 -3.77743654e-02\n",
            "  3.09079252e-02  4.02178690e-02  6.60245046e-02 -1.59773231e-02\n",
            "  7.46810809e-02 -7.35834390e-02  7.21448511e-02 -5.65134734e-02\n",
            "  6.24503456e-02 -2.48088129e-02 -3.96693386e-02 -4.30437364e-02\n",
            " -2.34027226e-02  2.13519093e-02  3.40354107e-02 -1.91523209e-02\n",
            " -5.85235879e-02 -2.20756792e-02  3.63127626e-02 -4.64752130e-02\n",
            "  2.02084146e-02  8.66371021e-02 -1.16631694e-01 -1.11883812e-01\n",
            " -3.85366455e-02  6.54022675e-03  5.24849035e-02  1.47259338e-02\n",
            " -6.73010349e-02 -1.12285260e-02 -8.43259227e-03  1.24611437e-01\n",
            "  3.77386101e-02 -5.16244918e-02 -1.04118973e-01 -2.65715457e-02\n",
            "  1.08461447e-01 -8.85007605e-02 -7.28561953e-02 -1.95497909e-04\n",
            "  5.27556986e-03 -4.60741818e-02  4.13376838e-02 -2.42679566e-02\n",
            "  3.56622264e-02 -2.83536105e-03 -1.50431599e-02  2.58249771e-02\n",
            "  1.99689828e-02 -3.35977562e-02  8.18983093e-02  1.92514092e-01\n",
            " -2.07765326e-02  1.38360262e-01 -1.46242157e-01  1.25670703e-02\n",
            " -5.17844036e-02  5.00895716e-02 -1.03105057e-03  1.71167741e-03\n",
            " -9.24348384e-02 -8.28412995e-02  8.09611529e-02  5.13584241e-02\n",
            " -1.40217589e-02 -3.85615602e-02  4.83307093e-02  3.27436179e-02\n",
            " -8.74075014e-03 -1.65151320e-02  1.05529562e-01 -3.35607938e-02\n",
            " -9.22126547e-02  1.97099019e-02 -1.34909451e-01  1.24655627e-01\n",
            "  3.76507221e-03  1.63518265e-02  1.26835451e-01 -4.61333469e-02\n",
            " -3.25139239e-02 -4.30776849e-02 -3.93688167e-03 -3.03565729e-02\n",
            "  2.51735337e-02 -9.90603119e-02  3.92198153e-02  7.82456025e-02\n",
            "  7.41378218e-02 -1.34147242e-01 -5.91632985e-02  1.01352697e-02\n",
            "  5.64012900e-02 -9.00682136e-02 -1.43379150e-02 -1.96613409e-02\n",
            " -7.33341202e-02 -2.27151532e-02 -3.12437247e-02  5.55966012e-02\n",
            "  1.65968705e-02  7.88356811e-02 -6.55546114e-02 -2.40960391e-03\n",
            "  7.45134279e-02  5.66198267e-02 -3.40954922e-02  2.05383524e-02\n",
            "  6.57149702e-02  5.25498949e-02  1.20846495e-01 -6.21620081e-02\n",
            "  7.96430260e-02 -2.68252511e-02 -6.08900227e-02  5.97394332e-02\n",
            " -6.92981780e-02  3.60446386e-02 -1.13835752e-01  5.83117940e-02\n",
            " -1.03976838e-02  1.43032912e-02 -2.03828439e-02  7.91549459e-02\n",
            " -6.03457615e-02 -2.87701655e-02 -5.92303686e-02  3.38751287e-03\n",
            "  4.57262285e-02  3.49634257e-03 -6.11278974e-02  3.67469974e-02\n",
            " -6.51125330e-03 -2.70038713e-02  5.22637330e-02 -3.34228314e-02\n",
            " -8.43818858e-02 -8.48196596e-02  8.01226422e-02  4.23052460e-02\n",
            " -1.02698319e-01  7.25414604e-02  4.06558104e-02  1.00515485e-01\n",
            "  1.37185052e-01 -2.60757655e-02 -5.86560927e-02 -7.32508153e-02\n",
            "  2.42595430e-02 -2.03456171e-02  4.24369797e-02  7.33469725e-02\n",
            "  9.69796777e-02 -1.12456679e-01  1.73259724e-03 -7.38710118e-03\n",
            "  1.28281325e-01 -9.01918560e-02 -6.41049445e-02 -6.11169711e-02\n",
            " -3.16823013e-02  1.18259370e-01 -3.62286866e-02  6.00609975e-03\n",
            " -5.59900030e-02  7.03004673e-02 -2.23993119e-02 -2.63726898e-02\n",
            "  2.98299044e-02 -1.85636189e-02  1.66380834e-02 -4.81832512e-02\n",
            "  4.93226647e-02  1.11957386e-01 -5.25026768e-02  3.70694846e-02\n",
            "  6.37369230e-02 -1.52743179e-02 -4.15863618e-02  1.62099227e-02\n",
            "  4.17647697e-02  3.70522751e-03 -1.33609830e-03 -2.28856341e-03\n",
            "  8.71874485e-03 -5.64913079e-02 -1.12245992e-01 -1.67988800e-02\n",
            " -1.06753623e-02  4.15482884e-03 -2.26972215e-02  1.47378948e-02\n",
            " -9.19859260e-02 -5.13446741e-02  1.15458975e-02  2.50900555e-02\n",
            "  2.51563247e-02 -5.98441251e-02 -3.37314159e-02  5.23020588e-02\n",
            "  8.18353146e-02  1.50427043e-01  2.59843171e-02  1.17499247e-01\n",
            " -7.08099902e-02 -2.80322377e-02 -6.22987673e-02 -2.48502251e-02\n",
            " -5.05374447e-02  3.10012065e-02 -3.34256142e-02  3.04333307e-02\n",
            "  1.79930031e-02 -5.02240509e-02 -1.29876910e-02  4.39631827e-02\n",
            " -6.70914818e-03 -9.05847773e-02 -1.57616020e-03  8.68108403e-03\n",
            " -1.74511120e-01 -1.94932595e-02  2.16516908e-02 -4.51715104e-03\n",
            " -8.44294280e-02  1.04231127e-01 -5.78141324e-02 -4.82279100e-02\n",
            " -7.52639100e-02 -5.23757599e-02  2.04038676e-02 -4.92271818e-02\n",
            "  7.63637051e-02  1.67936794e-02 -7.51275122e-02 -4.79040295e-02\n",
            "  2.21502259e-02 -1.34716379e-02  1.14748739e-01  2.45599244e-02\n",
            "  1.71186086e-02 -1.40928645e-02  1.60605559e-04  7.80849084e-02\n",
            "  6.15412444e-02  7.57836998e-02  2.60520745e-02  1.09255537e-01\n",
            "  2.51640752e-02 -1.05623573e-01 -8.22939649e-02  5.02850972e-02\n",
            " -8.65981877e-02 -1.17798280e-02 -2.11371738e-03  1.14692375e-02\n",
            "  2.90270541e-02  5.75261749e-02  2.00393721e-01 -9.50710922e-02\n",
            " -8.03675316e-03 -2.57834382e-02 -6.24405481e-02 -6.99235173e-03\n",
            " -6.21179566e-02 -3.34481038e-02  1.08878136e-01  5.73033579e-02\n",
            "  2.64600869e-02  9.60771739e-03  4.72702086e-02 -9.18169413e-03\n",
            " -5.25861233e-02 -1.74975619e-02 -5.05809970e-02 -8.49420354e-02\n",
            " -4.73042503e-02  4.35673334e-02 -3.84828411e-02 -3.13906483e-02\n",
            " -3.70721109e-02 -1.89170204e-02  3.55873108e-02 -8.20804164e-02\n",
            " -3.24795246e-02 -8.45423490e-02  8.15354586e-02  1.52711235e-02\n",
            " -8.79625976e-02 -6.96987510e-02  1.48531077e-02 -7.51725398e-04\n",
            "  4.95249927e-02 -4.28322628e-02 -3.67093235e-02 -3.57641354e-02\n",
            "  9.61115863e-03 -3.00255772e-02  7.28350282e-02  2.97015253e-02\n",
            "  4.14536037e-02  5.00884131e-02  8.79436508e-02 -7.93877873e-04\n",
            "  8.41070712e-02  3.86989526e-02 -9.12947357e-02  1.55027781e-03\n",
            " -2.26036366e-02  6.82417955e-03  3.25175561e-02  1.09646528e-03\n",
            "  3.08711827e-02 -3.76365893e-02 -3.13301533e-02  4.52813171e-02\n",
            " -3.28624845e-02  4.83621843e-02 -1.34069741e-01 -4.61267233e-02\n",
            " -3.28693492e-03  6.50688261e-02  8.26383308e-02 -4.67574596e-03\n",
            " -3.64851765e-02 -7.95370489e-02  1.46709019e-02 -4.38646525e-02\n",
            "  2.26634089e-03  9.03104618e-02 -5.96065028e-03  5.74030839e-02\n",
            "  2.17496473e-02  1.53814912e-01 -5.63403405e-02 -8.63451734e-02\n",
            "  1.57928288e-01  2.34571416e-02 -6.53098822e-02  5.10872118e-02\n",
            " -5.44094928e-02 -4.48880494e-02  1.68741439e-02 -1.21213682e-01\n",
            " -8.18830058e-02 -2.34637521e-02  1.86901577e-02  9.98247936e-02\n",
            "  9.24870279e-03  4.54521738e-03  3.81464101e-02  1.20564580e-01\n",
            "  1.70488209e-02  1.10563695e-01  2.03720032e-04  9.30699855e-02\n",
            "  5.99089935e-02  1.63395163e-02  1.86518282e-02 -4.51099649e-02\n",
            "  1.71380807e-02  9.33361873e-02  2.76173409e-02  9.78033617e-03\n",
            "  1.36097716e-02 -4.44332883e-02  4.36186455e-02 -5.12381755e-02\n",
            " -1.39886122e-02  6.44040927e-02 -3.90985198e-02 -1.41239781e-02\n",
            " -9.81858671e-02  3.06513067e-02  5.47788292e-02 -2.58421921e-03\n",
            "  4.47910987e-02  1.30043561e-02 -2.36317683e-02  7.83468932e-02\n",
            " -2.66953860e-03 -6.41094595e-02 -6.74189106e-02 -8.27533081e-02\n",
            "  7.07029700e-02  2.08979174e-02 -1.22178290e-02  2.48021651e-02\n",
            "  1.00875748e-02 -2.04474572e-02 -4.91854474e-02  5.08312769e-02\n",
            " -1.50150554e-02  4.75769397e-04 -4.75602150e-02 -2.52704304e-02\n",
            " -2.86672581e-02  1.13742702e-01  7.29566067e-02  5.58066815e-02\n",
            " -1.30769789e-01 -3.17168906e-02 -5.59208691e-02  8.22801366e-02\n",
            " -2.83257049e-02 -8.04720633e-03 -5.86069785e-02  9.02138799e-02\n",
            " -2.87709944e-02 -7.45176598e-02 -1.73509563e-03 -9.63801295e-02\n",
            " -3.03888367e-03  3.19235213e-02  2.42975205e-02  9.42614526e-02\n",
            "  6.69872239e-02 -1.25772431e-02 -6.46546930e-02 -2.61118896e-02\n",
            "  2.53603645e-02  1.25560716e-01  3.00421920e-02  7.71223083e-02\n",
            "  5.39168380e-02  9.13078561e-02 -3.82147991e-04 -1.53543074e-02\n",
            " -6.10249117e-02  1.85650121e-02  8.25604796e-02 -5.43830954e-02\n",
            " -2.31735986e-02 -2.77740546e-02  4.12186086e-02  7.05426782e-02\n",
            " -1.19730271e-01 -5.56258149e-02  1.09772896e-02 -1.06934523e-02\n",
            " -5.19436784e-02 -2.78947260e-02  1.44971991e-02  9.87486616e-02\n",
            " -1.45329656e-02  1.72955226e-02  5.06640077e-02 -4.98822425e-03\n",
            "  7.76067749e-02  1.18228219e-01  1.19943498e-02 -9.98171344e-02\n",
            " -1.66615844e-01  1.06312446e-02  1.10544600e-01  2.26725009e-03\n",
            "  8.95124394e-03  1.13483734e-01 -6.14436008e-02 -4.82982136e-02\n",
            " -4.87134196e-02 -7.33572692e-02 -4.36680652e-02  1.11103117e-01\n",
            "  3.56485397e-02 -1.87722892e-02  1.59532540e-02 -2.37440635e-02\n",
            "  5.44762313e-02  3.55861001e-02  3.45869437e-02  5.68050854e-02\n",
            " -4.68009673e-02 -3.44889127e-02  4.50976267e-02 -4.09480557e-02\n",
            " -6.36521503e-02 -1.22560002e-01 -2.34635435e-02  1.47266444e-02\n",
            "  1.67043915e-03 -8.32110420e-02  1.92131046e-02  1.01488559e-02\n",
            " -3.73569280e-02 -4.70339619e-02 -6.69039413e-02 -3.72110796e-03\n",
            "  1.09213470e-02  5.38768992e-02 -9.33392048e-02 -4.70908657e-02\n",
            " -1.03618413e-01  2.14052815e-02 -6.96012080e-02 -3.60135660e-02\n",
            "  5.94444796e-02 -2.83938311e-02 -1.22959474e-02  4.63073747e-03\n",
            " -5.91670303e-03 -1.17616594e-01 -1.24199703e-01  4.58452059e-03\n",
            " -5.64385951e-03  1.01319700e-02  7.32711749e-03  5.37302978e-02\n",
            "  5.39565235e-02 -2.25138757e-02  7.18595413e-03 -1.15396999e-01\n",
            "  3.40330824e-02 -1.23661710e-02 -1.31553620e-01  1.66398250e-02\n",
            "  3.11404653e-02  2.85886135e-02 -1.61537886e-01 -1.70632917e-03\n",
            " -1.00329570e-01  5.75059764e-02  1.39530366e-02 -5.56803755e-02\n",
            "  1.45897502e-02 -1.76327229e-02 -5.27078249e-02  9.50507298e-02\n",
            " -6.25075400e-02  8.58938787e-03 -1.14927068e-02 -3.79140414e-02\n",
            "  9.44326147e-02  2.63518887e-03 -5.37771434e-02 -5.22290319e-02\n",
            "  3.94238494e-02  6.78289309e-02  5.12540974e-02  1.26045808e-01\n",
            "  2.57959198e-02  3.18133458e-02  5.26207462e-02  4.93761264e-02\n",
            " -4.30722050e-02 -6.00894215e-03  1.31607458e-01  9.09526721e-02\n",
            "  3.66180241e-02  5.58170415e-02  4.33784276e-02 -8.08869377e-02\n",
            "  6.69521987e-02 -1.15992151e-01 -6.58858418e-02  1.63186714e-02\n",
            " -6.23611845e-02  4.11753319e-02  7.25802928e-02  2.31172163e-02\n",
            "  1.42059475e-01 -1.99010898e-03  2.66178027e-02  1.20750824e-02\n",
            "  6.21548519e-02 -1.53167382e-01 -1.00288197e-01 -7.46378824e-02\n",
            "  7.56464750e-02  7.44832382e-02  1.31623400e-02  1.48118641e-02\n",
            "  1.12894244e-01  6.96184114e-02 -6.74610361e-02 -6.39995635e-02\n",
            "  1.26558036e-01  4.62067947e-02 -3.78304683e-02 -7.09514469e-02\n",
            "  1.78564921e-01  6.85597863e-03 -5.77036105e-02  2.02848576e-02\n",
            " -1.04369512e-02 -1.08523425e-02 -8.51367339e-02 -1.46320770e-02\n",
            " -4.02267352e-02 -1.27547709e-02 -2.72903172e-03 -4.61131753e-03\n",
            "  1.06900431e-01  4.41453094e-03  3.91961867e-03  6.35957643e-02\n",
            "  9.06605870e-02  1.72422633e-01 -8.62227380e-02 -9.14845150e-03\n",
            " -4.03565876e-02  4.13813740e-02  2.93153711e-02 -5.79279440e-04\n",
            "  2.86782850e-02 -2.07430080e-01 -1.91989038e-02 -3.54294181e-02\n",
            "  4.71847691e-02  4.29578722e-02  2.19904725e-02  1.32185400e-01\n",
            "  4.50100750e-03  5.90870939e-02  2.35956330e-02  3.94245908e-02\n",
            " -3.96165950e-03  1.49466097e-03  1.20636215e-02 -7.25474060e-02\n",
            " -1.29770741e-01 -1.63362622e-02 -7.47057572e-02 -5.05307177e-03\n",
            " -4.16872129e-02  4.13421653e-02  1.48725867e-01 -4.30729799e-03\n",
            " -3.03435382e-02 -4.82463837e-02  4.82938848e-02  6.82544289e-03\n",
            "  6.40499815e-02 -2.21531466e-02  2.46321037e-03  3.50715406e-02\n",
            "  7.34683685e-03  8.21662694e-02 -6.50170371e-02 -5.29450290e-02\n",
            " -6.29003048e-02 -3.61047313e-02 -2.57990435e-02 -1.24349957e-02\n",
            "  1.27946556e-01 -7.23884581e-03  8.78435820e-02 -3.71415950e-02\n",
            "  1.91995576e-02  4.79855202e-02  4.63541448e-02  1.56987719e-02\n",
            "  7.35159144e-02  4.43007387e-02  1.20400995e-01  4.09865938e-02\n",
            "  2.63312720e-02  8.38634893e-02  1.35152368e-02  6.85440227e-02\n",
            "  1.15757799e-02  4.35400978e-02 -1.28844544e-01 -8.67515728e-02\n",
            " -3.12603228e-02  4.01428575e-03  1.71313733e-02 -6.89683929e-02\n",
            " -9.30019394e-02 -6.98445886e-02  8.63881782e-02 -1.00601286e-01\n",
            "  1.43168680e-02  8.16520210e-03 -1.29345596e-01 -2.42390167e-02\n",
            "  2.94419215e-03  7.67142996e-02  1.86149497e-02  3.40350568e-02\n",
            "  5.40512381e-03  1.24999434e-01  2.06203889e-02 -3.24093364e-02\n",
            " -5.83134294e-02  4.79442589e-02  1.33954242e-01  6.04616031e-02\n",
            "  1.88348606e-01  5.64986877e-02 -2.32225601e-02 -6.15616441e-02\n",
            " -4.14686501e-02  1.19566945e-02 -7.82718658e-02  1.58424452e-02\n",
            "  6.81099342e-03 -4.51271608e-02 -6.95101172e-02  1.49930604e-02\n",
            "  4.36935341e-03  8.46000314e-02  3.35934870e-02  7.66896233e-02\n",
            "  7.88876554e-04 -1.65681560e-02  2.37050969e-02 -3.62005457e-02\n",
            "  1.07080445e-01  5.93871847e-02 -4.13285196e-02  5.54992445e-02\n",
            " -8.17500520e-03 -5.33990674e-02  1.00646541e-01  7.60775879e-02\n",
            " -3.22163329e-02  3.09699727e-03  6.84201717e-02 -3.76663916e-02\n",
            "  1.71873663e-02 -7.54398704e-02  6.85808659e-02  2.70000715e-02\n",
            " -8.05276632e-02  5.00471368e-02 -8.97665415e-03 -2.03441739e-01\n",
            "  1.27804637e-01 -5.96008003e-02  2.11461186e-02 -5.12538303e-04\n",
            "  8.41735452e-02 -1.14740925e-02  6.59209713e-02  8.67620632e-02]\n"
          ],
          "name": "stdout"
        },
        {
          "output_type": "stream",
          "text": [
            "/usr/local/lib/python3.7/dist-packages/ipykernel_launcher.py:11: DeprecationWarning: Call to deprecated `__getitem__` (Method will be removed in 4.0.0, use self.wv.__getitem__() instead).\n",
            "  # This is added back by InteractiveShellApp.init_path()\n",
            "/usr/local/lib/python3.7/dist-packages/ipykernel_launcher.py:14: DeprecationWarning: Call to deprecated `__getitem__` (Method will be removed in 4.0.0, use self.wv.__getitem__() instead).\n",
            "  \n"
          ],
          "name": "stderr"
        }
      ]
    },
    {
      "cell_type": "code",
      "metadata": {
        "colab": {
          "base_uri": "https://localhost:8080/"
        },
        "id": "KL8LMwm6PK7Y",
        "outputId": "f58b5dea-bf43-480f-b2f4-4b99447877f4"
      },
      "source": [
        "# Store the vectors for train data in following file\n",
        "word2vec_filename = 'train_review_word2vec.csv'\n",
        "with open(word2vec_filename, 'w+') as word2vec_file:\n",
        "    for index, row in X_train.iterrows():\n",
        "        model_vector = (np.mean([sg_w2v_model[token] for token in row['stemmed_tokens']], axis=0)).tolist()\n",
        "        if index == 0:\n",
        "            header = \",\".join(str(ele) for ele in range(1000))\n",
        "            word2vec_file.write(header)\n",
        "            word2vec_file.write(\"\\n\")\n",
        "        # Check if the line exists else it is vector of zeros\n",
        "        if type(model_vector) is list:  \n",
        "            line1 = \",\".join( [str(vector_element) for vector_element in model_vector] )\n",
        "        else:\n",
        "            line1 = \",\".join([str(0) for i in range(1000)])\n",
        "        word2vec_file.write(line1)\n",
        "        word2vec_file.write('\\n')"
      ],
      "execution_count": 34,
      "outputs": [
        {
          "output_type": "stream",
          "text": [
            "/usr/local/lib/python3.7/dist-packages/ipykernel_launcher.py:5: DeprecationWarning: Call to deprecated `__getitem__` (Method will be removed in 4.0.0, use self.wv.__getitem__() instead).\n",
            "  \"\"\"\n"
          ],
          "name": "stderr"
        }
      ]
    },
    {
      "cell_type": "code",
      "metadata": {
        "colab": {
          "base_uri": "https://localhost:8080/"
        },
        "id": "H9swXTTPMLVN",
        "outputId": "94eb1c68-3532-43c4-a7f7-d55db71d7ddb"
      },
      "source": [
        "import time\n",
        "#Import the DecisionTreeeClassifier\n",
        "from sklearn.tree import DecisionTreeClassifier\n",
        "# Load from the filename\n",
        "word2vec_df = pd.read_csv(word2vec_filename)\n",
        "#Initialize the model\n",
        "clf_decision_word2vec = DecisionTreeClassifier()\n",
        "\n",
        "start_time = time.time()\n",
        "# Fit the model\n",
        "clf_decision_word2vec.fit(word2vec_df, Y_train['Sentiment'])\n",
        "print(\"Time taken to fit the model with word2vec vectors: \" + str(time.time() - start_time))"
      ],
      "execution_count": 36,
      "outputs": [
        {
          "output_type": "stream",
          "text": [
            "Time taken to fit the model with word2vec vectors: 1.6126441955566406\n"
          ],
          "name": "stdout"
        }
      ]
    },
    {
      "cell_type": "code",
      "metadata": {
        "colab": {
          "base_uri": "https://localhost:8080/"
        },
        "id": "V-3tQm5bRpql",
        "outputId": "31d6ec88-486e-4e1f-81a8-ab96a378b171"
      },
      "source": [
        "from sklearn.metrics import classification_report\n",
        "test_features_word2vec = []\n",
        "for index, row in X_test.iterrows():\n",
        "    model_vector = np.mean([sg_w2v_model[token] for token in row['stemmed_tokens']], axis=0)\n",
        "    if type(model_vector) is list:\n",
        "        test_features_word2vec.append(model_vector)\n",
        "    else:\n",
        "        test_features_word2vec.append(np.array([0 for i in range(1000)]))\n",
        "test_predictions_word2vec = clf_decision_word2vec.predict(test_features_word2vec)\n",
        "print(classification_report(Y_test['Sentiment'],test_predictions_word2vec))"
      ],
      "execution_count": 38,
      "outputs": [
        {
          "output_type": "stream",
          "text": [
            "/usr/local/lib/python3.7/dist-packages/ipykernel_launcher.py:4: DeprecationWarning: Call to deprecated `__getitem__` (Method will be removed in 4.0.0, use self.wv.__getitem__() instead).\n",
            "  after removing the cwd from sys.path.\n"
          ],
          "name": "stderr"
        },
        {
          "output_type": "stream",
          "text": [
            "              precision    recall  f1-score   support\n",
            "\n",
            "         NEG       0.00      0.00      0.00       311\n",
            "         POS       0.48      1.00      0.65       289\n",
            "\n",
            "    accuracy                           0.48       600\n",
            "   macro avg       0.24      0.50      0.33       600\n",
            "weighted avg       0.23      0.48      0.31       600\n",
            "\n"
          ],
          "name": "stdout"
        },
        {
          "output_type": "stream",
          "text": [
            "/usr/local/lib/python3.7/dist-packages/sklearn/metrics/_classification.py:1272: UndefinedMetricWarning: Precision and F-score are ill-defined and being set to 0.0 in labels with no predicted samples. Use `zero_division` parameter to control this behavior.\n",
            "  _warn_prf(average, modifier, msg_start, len(result))\n"
          ],
          "name": "stderr"
        }
      ]
    }
  ]
}