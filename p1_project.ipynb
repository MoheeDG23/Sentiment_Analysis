{
 "cells": [
  {
   "cell_type": "markdown",
   "id": "saved-battlefield",
   "metadata": {
    "id": "saved-battlefield"
   },
   "source": [
    "## **Libraries to be installed beforehand**"
   ]
  },
  {
   "cell_type": "code",
   "execution_count": 170,
   "id": "beneficial-dublin",
   "metadata": {
    "id": "beneficial-dublin"
   },
   "outputs": [],
   "source": [
    "# !pip3 install openpyxl\n",
    "# !pip3 install xlrd"
   ]
  },
  {
   "cell_type": "code",
   "execution_count": 1,
   "id": "fifteen-mexican",
   "metadata": {
    "id": "fifteen-mexican"
   },
   "outputs": [],
   "source": [
    "\n",
    "import numpy as np\n",
    "import pandas as pd\n",
    "import matplotlib.pyplot as plt\n",
    "import spacy\n",
    "import string\n",
    "import pickle\n",
    "import xlrd\n",
    "\n",
    "from spacy.lang.en.stop_words import STOP_WORDS\n",
    "from spacy.lang.en import English\n",
    "\n",
    "from sklearn.feature_extraction.text import CountVectorizer,TfidfVectorizer\n",
    "from sklearn.metrics import accuracy_score, confusion_matrix, classification_report\n",
    "from sklearn.base import TransformerMixin \n",
    "from sklearn.pipeline import Pipeline\n",
    "from sklearn.model_selection import train_test_split\n",
    "from sklearn.preprocessing import StandardScaler\n",
    "\n",
    "from sklearn.metrics import precision_score\n",
    "from sklearn.metrics import recall_score\n",
    "from sklearn.metrics import accuracy_score\n",
    "\n",
    "# from sklearn.svm import LinearSVC\n",
    "# from sklearn.ensemble import RandomForestClassifier\n"
   ]
  },
  {
   "cell_type": "markdown",
   "id": "finite-regard",
   "metadata": {
    "id": "finite-regard"
   },
   "source": [
    "## **Reading dataset using openpyxl engine since xlrd is now discontinued**"
   ]
  },
  {
   "cell_type": "code",
   "execution_count": 4,
   "id": "determined-livestock",
   "metadata": {
    "id": "determined-livestock"
   },
   "outputs": [],
   "source": [
    "dataset = pd.read_excel('dataset/dataset.xlsx', engine='openpyxl')\n",
    "# dataset = pd.read_excel('dataset.xlsx')"
   ]
  },
  {
   "cell_type": "code",
   "execution_count": 5,
   "id": "special-terminal",
   "metadata": {
    "colab": {
     "base_uri": "https://localhost:8080/",
     "height": 206
    },
    "id": "special-terminal",
    "outputId": "3b0d170a-f23c-435f-9b02-a1944a25f3dd"
   },
   "outputs": [
    {
     "data": {
      "text/html": [
       "<div>\n",
       "<style scoped>\n",
       "    .dataframe tbody tr th:only-of-type {\n",
       "        vertical-align: middle;\n",
       "    }\n",
       "\n",
       "    .dataframe tbody tr th {\n",
       "        vertical-align: top;\n",
       "    }\n",
       "\n",
       "    .dataframe thead th {\n",
       "        text-align: right;\n",
       "    }\n",
       "</style>\n",
       "<table border=\"1\" class=\"dataframe\">\n",
       "  <thead>\n",
       "    <tr style=\"text-align: right;\">\n",
       "      <th></th>\n",
       "      <th>URL</th>\n",
       "      <th>Text</th>\n",
       "      <th>Sentiment</th>\n",
       "    </tr>\n",
       "  </thead>\n",
       "  <tbody>\n",
       "    <tr>\n",
       "      <th>0</th>\n",
       "      <td>http://www.imdb.com/title/tt0210075/usercomments</td>\n",
       "      <td>Girlfight follows a project dwelling New York ...</td>\n",
       "      <td>POS</td>\n",
       "    </tr>\n",
       "    <tr>\n",
       "      <th>1</th>\n",
       "      <td>http://www.imdb.com/title/tt0337640/usercomments</td>\n",
       "      <td>Hollywood North is an euphemism from the movie...</td>\n",
       "      <td>POS</td>\n",
       "    </tr>\n",
       "    <tr>\n",
       "      <th>2</th>\n",
       "      <td>http://www.imdb.com/title/tt0303549/usercomments</td>\n",
       "      <td>That '70s Show is definitely the funniest show...</td>\n",
       "      <td>POS</td>\n",
       "    </tr>\n",
       "    <tr>\n",
       "      <th>3</th>\n",
       "      <td>http://www.imdb.com/title/tt0716825/usercomments</td>\n",
       "      <td>9/10- 30 minutes of pure holiday terror. Okay,...</td>\n",
       "      <td>POS</td>\n",
       "    </tr>\n",
       "    <tr>\n",
       "      <th>4</th>\n",
       "      <td>http://www.imdb.com/title/tt0182225/usercomments</td>\n",
       "      <td>A series of random, seemingly insignificant th...</td>\n",
       "      <td>POS</td>\n",
       "    </tr>\n",
       "  </tbody>\n",
       "</table>\n",
       "</div>"
      ],
      "text/plain": [
       "                                                URL  \\\n",
       "0  http://www.imdb.com/title/tt0210075/usercomments   \n",
       "1  http://www.imdb.com/title/tt0337640/usercomments   \n",
       "2  http://www.imdb.com/title/tt0303549/usercomments   \n",
       "3  http://www.imdb.com/title/tt0716825/usercomments   \n",
       "4  http://www.imdb.com/title/tt0182225/usercomments   \n",
       "\n",
       "                                                Text Sentiment  \n",
       "0  Girlfight follows a project dwelling New York ...       POS  \n",
       "1  Hollywood North is an euphemism from the movie...       POS  \n",
       "2  That '70s Show is definitely the funniest show...       POS  \n",
       "3  9/10- 30 minutes of pure holiday terror. Okay,...       POS  \n",
       "4  A series of random, seemingly insignificant th...       POS  "
      ]
     },
     "execution_count": 5,
     "metadata": {},
     "output_type": "execute_result"
    }
   ],
   "source": [
    "dataset.head()"
   ]
  },
  {
   "cell_type": "markdown",
   "id": "aggregate-channel",
   "metadata": {
    "id": "aggregate-channel"
   },
   "source": [
    "**Cleaning and analysing dataset and its sturcture**"
   ]
  },
  {
   "cell_type": "code",
   "execution_count": 174,
   "id": "opponent-convenience",
   "metadata": {
    "colab": {
     "base_uri": "https://localhost:8080/"
    },
    "id": "opponent-convenience",
    "outputId": "61773005-e9e7-4776-b532-235c953ab961"
   },
   "outputs": [
    {
     "data": {
      "text/plain": [
       "URL          0\n",
       "Text         0\n",
       "Sentiment    0\n",
       "dtype: int64"
      ]
     },
     "execution_count": 174,
     "metadata": {
      "tags": []
     },
     "output_type": "execute_result"
    }
   ],
   "source": [
    "dataset.isnull().sum()"
   ]
  },
  {
   "cell_type": "code",
   "execution_count": 175,
   "id": "organic-vinyl",
   "metadata": {
    "id": "organic-vinyl"
   },
   "outputs": [],
   "source": [
    "dataset.drop('URL', axis='columns', inplace=True)"
   ]
  },
  {
   "cell_type": "code",
   "execution_count": 176,
   "id": "criminal-guess",
   "metadata": {
    "colab": {
     "base_uri": "https://localhost:8080/",
     "height": 206
    },
    "id": "criminal-guess",
    "outputId": "802affaa-74b8-4b77-ba34-87e26ff7af4b"
   },
   "outputs": [
    {
     "data": {
      "text/html": [
       "<div>\n",
       "<style scoped>\n",
       "    .dataframe tbody tr th:only-of-type {\n",
       "        vertical-align: middle;\n",
       "    }\n",
       "\n",
       "    .dataframe tbody tr th {\n",
       "        vertical-align: top;\n",
       "    }\n",
       "\n",
       "    .dataframe thead th {\n",
       "        text-align: right;\n",
       "    }\n",
       "</style>\n",
       "<table border=\"1\" class=\"dataframe\">\n",
       "  <thead>\n",
       "    <tr style=\"text-align: right;\">\n",
       "      <th></th>\n",
       "      <th>Text</th>\n",
       "      <th>Sentiment</th>\n",
       "    </tr>\n",
       "  </thead>\n",
       "  <tbody>\n",
       "    <tr>\n",
       "      <th>0</th>\n",
       "      <td>Girlfight follows a project dwelling New York ...</td>\n",
       "      <td>POS</td>\n",
       "    </tr>\n",
       "    <tr>\n",
       "      <th>1</th>\n",
       "      <td>Hollywood North is an euphemism from the movie...</td>\n",
       "      <td>POS</td>\n",
       "    </tr>\n",
       "    <tr>\n",
       "      <th>2</th>\n",
       "      <td>That '70s Show is definitely the funniest show...</td>\n",
       "      <td>POS</td>\n",
       "    </tr>\n",
       "    <tr>\n",
       "      <th>3</th>\n",
       "      <td>9/10- 30 minutes of pure holiday terror. Okay,...</td>\n",
       "      <td>POS</td>\n",
       "    </tr>\n",
       "    <tr>\n",
       "      <th>4</th>\n",
       "      <td>A series of random, seemingly insignificant th...</td>\n",
       "      <td>POS</td>\n",
       "    </tr>\n",
       "  </tbody>\n",
       "</table>\n",
       "</div>"
      ],
      "text/plain": [
       "                                                Text Sentiment\n",
       "0  Girlfight follows a project dwelling New York ...       POS\n",
       "1  Hollywood North is an euphemism from the movie...       POS\n",
       "2  That '70s Show is definitely the funniest show...       POS\n",
       "3  9/10- 30 minutes of pure holiday terror. Okay,...       POS\n",
       "4  A series of random, seemingly insignificant th...       POS"
      ]
     },
     "execution_count": 176,
     "metadata": {
      "tags": []
     },
     "output_type": "execute_result"
    }
   ],
   "source": [
    "dataset.head()"
   ]
  },
  {
   "cell_type": "code",
   "execution_count": 177,
   "id": "transsexual-developer",
   "metadata": {
    "colab": {
     "base_uri": "https://localhost:8080/"
    },
    "id": "transsexual-developer",
    "outputId": "424183e4-687b-4406-f40a-02b802c1ac22"
   },
   "outputs": [
    {
     "name": "stdout",
     "output_type": "stream",
     "text": [
      "Rows: 1999\n",
      "Columns: 2\n"
     ]
    }
   ],
   "source": [
    "print(f'Rows: {dataset.shape[0]}\\nColumns: {dataset.shape[1]}')"
   ]
  },
  {
   "cell_type": "code",
   "execution_count": 178,
   "id": "incorrect-domain",
   "metadata": {
    "colab": {
     "base_uri": "https://localhost:8080/"
    },
    "id": "incorrect-domain",
    "outputId": "9d215cf7-0b7c-4381-a8f6-d773fdfce7bd"
   },
   "outputs": [
    {
     "name": "stdout",
     "output_type": "stream",
     "text": [
      "Columns Names: ['Text', 'Sentiment']\n"
     ]
    }
   ],
   "source": [
    "print(f'Columns Names: {list(dataset.columns)}')"
   ]
  },
  {
   "cell_type": "markdown",
   "id": "acoustic-pharmacology",
   "metadata": {
    "id": "acoustic-pharmacology"
   },
   "source": [
    "### **Tokenization of sentences**"
   ]
  },
  {
   "cell_type": "code",
   "execution_count": 179,
   "id": "informative-covering",
   "metadata": {
    "id": "informative-covering"
   },
   "outputs": [],
   "source": [
    "nlp = English()\n",
    "stopwords = list(STOP_WORDS)\n",
    "punctuations = string.punctuation"
   ]
  },
  {
   "cell_type": "code",
   "execution_count": 180,
   "id": "intended-construction",
   "metadata": {
    "id": "intended-construction"
   },
   "outputs": [],
   "source": [
    "def tokenizer(sentence):\n",
    "    mytokens = nlp(sentence)\n",
    "    mytokens = [ word.lemma_.lower().strip() if word.lemma_ != \"-PRON-\" else word.lower_ for word in mytokens ]\n",
    "    mytokens = [ word for word in mytokens if word not in stopwords and word not in punctuations ]\n",
    "    return mytokens"
   ]
  },
  {
   "cell_type": "markdown",
   "id": "northern-straight",
   "metadata": {
    "id": "northern-straight"
   },
   "source": [
    "### **Transform and vectorization**"
   ]
  },
  {
   "cell_type": "code",
   "execution_count": 181,
   "id": "familiar-orange",
   "metadata": {
    "id": "familiar-orange"
   },
   "outputs": [],
   "source": [
    "class predictors(TransformerMixin):\n",
    "    def transform(self, X, **transform_params):\n",
    "        return [clean_text(text) for text in X]\n",
    "    def fit(self, X, y, **fit_params):\n",
    "        return self\n",
    "    def get_params(self, deep=True):\n",
    "        return {}\n",
    "\n",
    "# Basic function to clean the text \n",
    "def clean_text(text):     \n",
    "    return text.strip().lower()"
   ]
  },
  {
   "cell_type": "code",
   "execution_count": 182,
   "id": "current-rwanda",
   "metadata": {
    "id": "current-rwanda"
   },
   "outputs": [],
   "source": [
    "vectorizer = CountVectorizer(tokenizer = tokenizer, ngram_range=(1,1)) \n",
    "tfvectorizer = TfidfVectorizer(tokenizer = tokenizer)"
   ]
  },
  {
   "cell_type": "markdown",
   "id": "atlantic-complexity",
   "metadata": {
    "id": "atlantic-complexity"
   },
   "source": [
    "### **Dataset splitting**"
   ]
  },
  {
   "cell_type": "code",
   "execution_count": 183,
   "id": "underlying-holly",
   "metadata": {
    "id": "underlying-holly"
   },
   "outputs": [],
   "source": [
    "X = dataset['Text']\n",
    "y = dataset['Sentiment']\n",
    "X_train, X_test, y_train, y_test = train_test_split(X, y, test_size=0.2, random_state=77)"
   ]
  },
  {
   "cell_type": "markdown",
   "id": "special-purpose",
   "metadata": {
    "id": "special-purpose"
   },
   "source": [
    "## **Bernoulli Naïve Bayes (BNB)**"
   ]
  },
  {
   "cell_type": "code",
   "execution_count": 184,
   "id": "above-niger",
   "metadata": {
    "id": "above-niger"
   },
   "outputs": [],
   "source": [
    "from sklearn.naive_bayes import BernoulliNB\n"
   ]
  },
  {
   "cell_type": "code",
   "execution_count": 185,
   "id": "VMPbwsHOS0-8",
   "metadata": {
    "colab": {
     "base_uri": "https://localhost:8080/"
    },
    "id": "VMPbwsHOS0-8",
    "outputId": "a72b76e4-add8-4cba-d72b-a290e295ab0a"
   },
   "outputs": [
    {
     "name": "stdout",
     "output_type": "stream",
     "text": [
      "Confusion Matrix:\n",
      "[[173  22]\n",
      " [ 32 173]]\n",
      "\n",
      "Classification Report:\n",
      "              precision    recall  f1-score   support\n",
      "\n",
      "         NEG       0.84      0.89      0.87       195\n",
      "         POS       0.89      0.84      0.87       205\n",
      "\n",
      "    accuracy                           0.86       400\n",
      "   macro avg       0.87      0.87      0.87       400\n",
      "weighted avg       0.87      0.86      0.86       400\n",
      "\n",
      "Accuracy: 86.5%\n",
      "Precision: 86.55409631019386%\n",
      "Recall: 86.55409631019386%\n",
      "Bernoulli NB trained Model Saved\n"
     ]
    }
   ],
   "source": [
    "classifier = BernoulliNB()\n",
    "BNBmodel = Pipeline([(\"cleaner\", predictors()), ('vectorizer', vectorizer), ('classifier', classifier)])\n",
    "\n",
    "BNBmodel.fit(X_train,y_train)\n",
    "BNBpred=BNBmodel.predict(X_test)\n",
    "print(f'Confusion Matrix:\\n{confusion_matrix(y_test,BNBpred)}')\n",
    "print(f'\\nClassification Report:\\n{classification_report(y_test,BNBpred)}')\n",
    "print(f'Accuracy: {accuracy_score(y_test, BNBpred) * 100}%')\n",
    "prec = precision_score(y_test, BNBpred, average='macro') * 100\n",
    "print(f'Precision: {prec}%')\n",
    "rec = recall_score(y_test, BNBpred, average='macro') * 100\n",
    "print(f'Recall: {rec}%')\n",
    "pickle.dump(BNBmodel, open('BernoulliNB_model.sav', 'wb'))\n",
    "print('Bernoulli NB trained Model Saved')"
   ]
  },
  {
   "cell_type": "markdown",
   "id": "stylish-observer",
   "metadata": {
    "id": "stylish-observer"
   },
   "source": [
    "## **Multinomial Naïve Bayes (MNB)**"
   ]
  },
  {
   "cell_type": "code",
   "execution_count": 186,
   "id": "rubber-galaxy",
   "metadata": {
    "id": "rubber-galaxy"
   },
   "outputs": [],
   "source": [
    "from sklearn.naive_bayes import MultinomialNB\n",
    "\n"
   ]
  },
  {
   "cell_type": "code",
   "execution_count": 187,
   "id": "FcGl7yu3TquB",
   "metadata": {
    "colab": {
     "base_uri": "https://localhost:8080/"
    },
    "id": "FcGl7yu3TquB",
    "outputId": "c3efd6e1-d778-4ace-b316-9f5e075b5314"
   },
   "outputs": [
    {
     "name": "stdout",
     "output_type": "stream",
     "text": [
      "Confusion Matrix:\n",
      "[[173  22]\n",
      " [ 32 173]]\n",
      "\n",
      "Classification Report:\n",
      "              precision    recall  f1-score   support\n",
      "\n",
      "         NEG       0.84      0.89      0.87       195\n",
      "         POS       0.89      0.84      0.87       205\n",
      "\n",
      "    accuracy                           0.86       400\n",
      "   macro avg       0.87      0.87      0.87       400\n",
      "weighted avg       0.87      0.86      0.86       400\n",
      "\n",
      "Accuracy: 86.5%\n",
      "Precision: 86.55409631019386%\n",
      "Recall: 86.55409631019386%\n",
      "Multinomial NB trained Model Saved\n"
     ]
    }
   ],
   "source": [
    "classifier = MultinomialNB()\n",
    "MNBmodel = Pipeline([(\"cleaner\", predictors()), ('vectorizer', vectorizer), ('classifier', classifier)])\n",
    "\n",
    "MNBmodel.fit(X_train,y_train)\n",
    "MNBpred=BNBmodel.predict(X_test)\n",
    "print(f'Confusion Matrix:\\n{confusion_matrix(y_test,MNBpred)}')\n",
    "print(f'\\nClassification Report:\\n{classification_report(y_test,MNBpred)}')\n",
    "print(f'Accuracy: {accuracy_score(y_test,MNBpred)*100}%')\n",
    "prec = precision_score(y_test, MNBpred, average='macro') * 100\n",
    "print(f'Precision: {prec}%')\n",
    "rec = recall_score(y_test, MNBpred, average='macro') * 100\n",
    "print(f'Recall: {rec}%')\n",
    "pickle.dump(MNBmodel, open('MultinomialNB_model.sav', 'wb'))\n",
    "print('Multinomial NB trained Model Saved')"
   ]
  },
  {
   "cell_type": "markdown",
   "id": "fantastic-electron",
   "metadata": {
    "id": "fantastic-electron"
   },
   "source": [
    "## **Maximum Entropy (ME)**"
   ]
  },
  {
   "cell_type": "code",
   "execution_count": 188,
   "id": "exceptional-cylinder",
   "metadata": {
    "id": "exceptional-cylinder"
   },
   "outputs": [],
   "source": [
    "from sklearn.linear_model import LogisticRegression\n"
   ]
  },
  {
   "cell_type": "code",
   "execution_count": 189,
   "id": "victorian-caution",
   "metadata": {
    "colab": {
     "base_uri": "https://localhost:8080/"
    },
    "id": "victorian-caution",
    "outputId": "fe05f405-bccf-4fa9-8684-76763c1fbb47"
   },
   "outputs": [
    {
     "name": "stdout",
     "output_type": "stream",
     "text": [
      "Confusion Matrix:\n",
      "[[169  26]\n",
      " [ 34 171]]\n",
      "\n",
      "Classification Report:\n",
      "              precision    recall  f1-score   support\n",
      "\n",
      "         NEG       0.83      0.87      0.85       195\n",
      "         POS       0.87      0.83      0.85       205\n",
      "\n",
      "    accuracy                           0.85       400\n",
      "   macro avg       0.85      0.85      0.85       400\n",
      "weighted avg       0.85      0.85      0.85       400\n",
      "\n",
      "Accuracy: 85.0%\n",
      "Precision: 85.02663099197319%\n",
      "Recall: 85.04065040650406%\n",
      "Logistic Regression trained Model Saved\n"
     ]
    }
   ],
   "source": [
    "classifier = LogisticRegression()\n",
    "LRmodel = Pipeline([(\"cleaner\", predictors()), ('vectorizer', vectorizer), ('classifier', classifier)])\n",
    "\n",
    "# Train the Model\n",
    "LRmodel.fit(X_train,y_train)   \n",
    "LRpred = LRmodel.predict(X_test)\n",
    "print(f'Confusion Matrix:\\n{confusion_matrix(y_test,LRpred)}')\n",
    "print(f'\\nClassification Report:\\n{classification_report(y_test,LRpred)}')\n",
    "print(f'Accuracy: {accuracy_score(y_test,LRpred)*100}%')\n",
    "prec = precision_score(y_test, LRpred, average='macro') * 100\n",
    "print(f'Precision: {prec}%')\n",
    "rec = recall_score(y_test, LRpred, average='macro') * 100\n",
    "print(f'Recall: {rec}%')\n",
    "pickle.dump(LRmodel, open('LinearRegression_model.sav', 'wb'))\n",
    "print('Logistic Regression trained Model Saved')"
   ]
  },
  {
   "cell_type": "code",
   "execution_count": 190,
   "id": "organic-things",
   "metadata": {
    "colab": {
     "base_uri": "https://localhost:8080/"
    },
    "id": "organic-things",
    "outputId": "bbe5c525-6475-4c24-f2d0-da3df84f2c94"
   },
   "outputs": [
    {
     "name": "stdout",
     "output_type": "stream",
     "text": [
      "Prediction: POS\n"
     ]
    }
   ],
   "source": [
    "# Another random review\n",
    "pre = LRmodel.predict([\"Production has an incredibly important place to shoot a series or film. Sometimes even a very minimalist story can reach an incredibly successful point after the right production stages. The Witcher series is far from minimalist. The Witcher is one of the best Middle-earth works in the world. Production quality is essential if you want to handle such a topic successfully.\"])\n",
    "print(f'Prediction: {pre[0]}')"
   ]
  },
  {
   "cell_type": "markdown",
   "id": "artificial-destiny",
   "metadata": {
    "id": "artificial-destiny"
   },
   "source": [
    "## **Decision Tree (DE)**"
   ]
  },
  {
   "cell_type": "code",
   "execution_count": 191,
   "id": "greater-values",
   "metadata": {
    "id": "greater-values"
   },
   "outputs": [],
   "source": [
    "from sklearn.tree import DecisionTreeClassifier\n",
    "from sklearn.model_selection import cross_val_score"
   ]
  },
  {
   "cell_type": "code",
   "execution_count": 192,
   "id": "uzOBzCpFcaIG",
   "metadata": {
    "id": "uzOBzCpFcaIG"
   },
   "outputs": [],
   "source": [
    "dt_clf = DecisionTreeClassifier()\n",
    "dt_model = Pipeline([(\"cleaner\", predictors()), ('vectorizer', vectorizer), ('classifier', dt_clf)])\n",
    "\n",
    "# Train the Model\n",
    "dt_model.fit(X_train,y_train)   \n",
    "dt_pred = dt_model.predict(X_test)"
   ]
  },
  {
   "cell_type": "code",
   "execution_count": 193,
   "id": "6XCwrtVgcqrb",
   "metadata": {
    "colab": {
     "base_uri": "https://localhost:8080/"
    },
    "id": "6XCwrtVgcqrb",
    "outputId": "e4e6f067-ad34-42b9-f329-21c209308fc9"
   },
   "outputs": [
    {
     "name": "stdout",
     "output_type": "stream",
     "text": [
      "Confusion Matrix:\n",
      "[[167  28]\n",
      " [ 35 170]]\n",
      "\n",
      "Classification Report:\n",
      "              precision    recall  f1-score   support\n",
      "\n",
      "         NEG       0.83      0.86      0.84       195\n",
      "         POS       0.86      0.83      0.84       205\n",
      "\n",
      "    accuracy                           0.84       400\n",
      "   macro avg       0.84      0.84      0.84       400\n",
      "weighted avg       0.84      0.84      0.84       400\n",
      "\n",
      "Accuracy: 84.25%\n",
      "Precision: 84.26592659265926%\n",
      "Recall: 84.28392745465916%\n",
      "Decision Tree trained Model Saved\n"
     ]
    }
   ],
   "source": [
    "print(f'Confusion Matrix:\\n{confusion_matrix(y_test,dt_pred)}')\n",
    "print(f'\\nClassification Report:\\n{classification_report(y_test,dt_pred)}')\n",
    "print(f'Accuracy: {accuracy_score(y_test,dt_pred)*100}%')\n",
    "prec = precision_score(y_test, dt_pred, average='macro') * 100\n",
    "print(f'Precision: {prec}%')\n",
    "rec = recall_score(y_test, dt_pred, average='macro') * 100\n",
    "print(f'Recall: {rec}%')\n",
    "pickle.dump(dt_model, open('DecisionTree_model.sav', 'wb'))\n",
    "print('Decision Tree trained Model Saved')"
   ]
  },
  {
   "cell_type": "markdown",
   "id": "caroline-cedar",
   "metadata": {
    "id": "caroline-cedar"
   },
   "source": [
    "## **Support Vector Machine (SVM)**"
   ]
  },
  {
   "cell_type": "code",
   "execution_count": 194,
   "id": "silent-barrier",
   "metadata": {
    "id": "silent-barrier"
   },
   "outputs": [],
   "source": [
    "from sklearn.svm import SVC\n",
    "from sklearn import svm\n",
    "from sklearn.metrics import classification_report\n",
    "# pipeline and standard scalar are already imported"
   ]
  },
  {
   "cell_type": "code",
   "execution_count": 195,
   "id": "pretty-warren",
   "metadata": {
    "colab": {
     "base_uri": "https://localhost:8080/"
    },
    "id": "pretty-warren",
    "outputId": "09b1bf49-cbd7-4449-de26-dfaa184d62de"
   },
   "outputs": [
    {
     "name": "stdout",
     "output_type": "stream",
     "text": [
      "CPU times: user 9.99 s, sys: 23.1 ms, total: 10 s\n",
      "Wall time: 10.1 s\n"
     ]
    }
   ],
   "source": [
    "%%time\n",
    "#Train the model\n",
    "# Perform classification with SVM, kernel=linear\n",
    "SVMclassifier = svm.SVC(kernel='linear')\n",
    "SVMmodel = Pipeline([(\"cleaner\", predictors()), ('vectorizer', vectorizer), ('classifier', SVMclassifier)])\n",
    "SVMmodel.fit(X_train,y_train)\n",
    "SVMpred = SVMmodel.predict(X_test)"
   ]
  },
  {
   "cell_type": "code",
   "execution_count": 196,
   "id": "K6Py2_DujiS3",
   "metadata": {
    "colab": {
     "base_uri": "https://localhost:8080/"
    },
    "id": "K6Py2_DujiS3",
    "outputId": "6f6476a8-9ed9-4255-dfa9-57f8c79c14a6"
   },
   "outputs": [
    {
     "name": "stdout",
     "output_type": "stream",
     "text": [
      "Confusion Matrix:\n",
      "[[168  27]\n",
      " [ 33 172]]\n",
      "\n",
      "Classification Report:\n",
      "              precision    recall  f1-score   support\n",
      "\n",
      "         NEG       0.84      0.86      0.85       195\n",
      "         POS       0.86      0.84      0.85       205\n",
      "\n",
      "    accuracy                           0.85       400\n",
      "   macro avg       0.85      0.85      0.85       400\n",
      "weighted avg       0.85      0.85      0.85       400\n",
      "\n",
      "Accuracy: 85.0%\n",
      "Precision: 85.00712517812946%\n",
      "Recall: 85.02814258911819%\n",
      "SVM trained Model Saved\n"
     ]
    }
   ],
   "source": [
    "# report= classification_report(y_test, SVMpred, output_dict=True) \n",
    "# print(report['NEG'])\n",
    "# print(report['POS'])\n",
    "# print(SVMpred)\n",
    "# np.unique(SVMpred)\n",
    "print(f'Confusion Matrix:\\n{confusion_matrix(y_test,SVMpred)}')\n",
    "print(f'\\nClassification Report:\\n{classification_report(y_test,SVMpred)}')\n",
    "print(f'Accuracy: {accuracy_score(y_test,SVMpred)*100}%')\n",
    "prec = precision_score(y_test, SVMpred, average='macro') * 100\n",
    "print(f'Precision: {prec}%')\n",
    "rec = recall_score(y_test, SVMpred, average='macro') * 100\n",
    "print(f'Recall: {rec}%')\n",
    "pickle.dump(SVMmodel, open('SVM_model.sav', 'wb'))\n",
    "print('SVM trained Model Saved')"
   ]
  },
  {
   "cell_type": "code",
   "execution_count": 197,
   "id": "cvvGq-_ojnjq",
   "metadata": {
    "colab": {
     "base_uri": "https://localhost:8080/"
    },
    "id": "cvvGq-_ojnjq",
    "outputId": "c43c5e75-6734-4ebe-a31f-e3c90f2e7acb"
   },
   "outputs": [
    {
     "name": "stdout",
     "output_type": "stream",
     "text": [
      "Prediction: POS\n"
     ]
    }
   ],
   "source": [
    "# Another random review\n",
    "pre = SVMmodel.predict([\"Production has an incredibly important place to shoot a series or film. Sometimes even a very minimalist story can reach an incredibly successful point after the right production stages. The Witcher series is far from minimalist. The Witcher is one of the best Middle-earth works in the world. Production quality is essential if you want to handle such a topic successfully.\"])\n",
    "print(f'Prediction: {pre[0]}')"
   ]
  },
  {
   "cell_type": "markdown",
   "id": "after-vaccine",
   "metadata": {
    "id": "after-vaccine"
   },
   "source": [
    "## **Results comparision plots and tables**"
   ]
  },
  {
   "cell_type": "code",
   "execution_count": 199,
   "id": "corrected-importance",
   "metadata": {
    "colab": {
     "base_uri": "https://localhost:8080/",
     "height": 346
    },
    "id": "corrected-importance",
    "outputId": "8825c7f7-1768-45e4-ff07-6306c34e37cc"
   },
   "outputs": [
    {
     "data": {
      "image/png": "[encoded data removed]",
      "text/plain": [
       "<Figure size 432x288 with 1 Axes>"
      ]
     },
     "metadata": {
      "needs_background": "light",
      "tags": []
     },
     "output_type": "display_data"
    }
   ],
   "source": [
    "import numpy as np\n",
    "import matplotlib.pyplot as plt\n",
    "  \n",
    "N = 5\n",
    "ind = np.arange(N) \n",
    "width = 0.25\n",
    "  \n",
    "acc = [86.5, 86.5, 85, 85, 84.25]\n",
    "bar1 = plt.bar(ind, acc, width, color = 'r')\n",
    "  \n",
    "prec = [86.5, 86.5, 85, 85, 84.28]\n",
    "bar2 = plt.bar(ind+width, prec, width, color='g')\n",
    "  \n",
    "recall = [86.5, 86.5, 85, 85, 84.26]\n",
    "bar3 = plt.bar(ind+width*2, recall, width, color = 'b')\n",
    "  \n",
    "# plt.xlabel(\"Dates\")\n",
    "plt.ylabel(\"Percentage\")\n",
    "plt.title(\"Comparison\")\n",
    "  \n",
    "plt.xticks(ind+width,['Multinomial NB','Bernoulli NB','SVM','Logistic Regression', 'Decision Tree'])\n",
    "plt.xticks(rotation = 45)\n",
    "plt.legend( (bar1, bar2, bar3), ('Accuracy', 'Precision', 'Recall'), bbox_to_anchor = (1.05, 0.6))\n",
    "plt.show()"
   ]
  },
  {
   "cell_type": "markdown",
   "id": "q4w1s6SEz4v3",
   "metadata": {
    "id": "q4w1s6SEz4v3"
   },
   "source": [
    "U = true positive \\\\\n",
    "V = false positive \\\\\n",
    "X = true negative \\\\\n",
    "Y = false positive \\\\\n",
    "\n",
    "<table>\n",
    "   <thead>\n",
    "      <tr>\n",
    "         <th>Method</th>\n",
    "         <th>U</th>\n",
    "         <th>V</th>\n",
    "         <th>X</th>\n",
    "         <th>Y</th>\n",
    "      </tr>\n",
    "   </thead>\n",
    "   <tbody>\n",
    "      <tr>\n",
    "         <th>Multinomial NB</th>\n",
    "         <td>173</td>\n",
    "         <td>32</td>\n",
    "         <td>173</td>\n",
    "         <td>22</td>\n",
    "      </tr>\n",
    "      <tr>\n",
    "         <th>Bernoulli NB</th>\n",
    "         <td>173</td>\n",
    "         <td>32</td>\n",
    "         <td>173</td>\n",
    "         <td>22</td>\n",
    "      </tr>\n",
    "      <tr>\n",
    "         <th>SVM</th>\n",
    "         <td>172</td>\n",
    "         <td>33</td>\n",
    "         <td>168</td>\n",
    "         <td>27</td>\n",
    "      </tr>\n",
    "      <tr>\n",
    "         <th>Maximum Entropy</th>\n",
    "         <td>171</td>\n",
    "         <td>34</td>\n",
    "         <td>169</td>\n",
    "         <td>26</td>\n",
    "      </tr>\n",
    "      <tr>\n",
    "         <th>Decision Tree</th>\n",
    "         <td>170</td>\n",
    "         <td>35</td>\n",
    "         <td>167</td>\n",
    "         <td>28</td>\n",
    "      </tr>\n",
    "   </tbody>\n",
    "</table>"
   ]
  },
  {
   "cell_type": "code",
   "execution_count": 214,
   "id": "5SY3S0Sx30HW",
   "metadata": {
    "colab": {
     "base_uri": "https://localhost:8080/",
     "height": 346
    },
    "id": "5SY3S0Sx30HW",
    "outputId": "58797f59-1e6f-4949-ac99-3f81d72f6d1e"
   },
   "outputs": [
    {
     "data": {
      "image/png": "[encoded data removed]",
      "text/plain": [
       "<Figure size 432x288 with 1 Axes>"
      ]
     },
     "metadata": {
      "needs_background": "light",
      "tags": []
     },
     "output_type": "display_data"
    }
   ],
   "source": [
    "import matplotlib.pyplot as plt\n",
    "models = ['Multinomial NB','Bernoulli NB','SVM','Logistic Regression', 'Decision Tree']\n",
    "recall = [86.5, 86.5, 85, 85, 84.26]\n",
    "precision = [88, 86.5, 85, 85, 84.28]\n",
    "line_chart1 = plt.plot(models, recall, 'o-g')\n",
    "line_chart2 = plt.plot(models, precision, 'o-y')\n",
    "plt.title('Recall vs Precision')\n",
    "plt.ylabel('Score')\n",
    "plt.xticks(rotation = 45)\n",
    "plt.legend(['Recall', 'Precision'], bbox_to_anchor = (1.3, 0.6))\n",
    "plt.show()"
   ]
  }
 ],
 "metadata": {
  "colab": {
   "collapsed_sections": [],
   "name": "project.ipynb",
   "provenance": [],
   "toc_visible": true
  },
  "kernelspec": {
   "display_name": "Python 3",
   "language": "python",
   "name": "python3"
  },
  "language_info": {
   "codemirror_mode": {
    "name": "ipython",
    "version": 3
   },
   "file_extension": ".py",
   "mimetype": "text/x-python",
   "name": "python",
   "nbconvert_exporter": "python",
   "pygments_lexer": "ipython3",
   "version": "3.8.5"
  }
 },
 "nbformat": 4,
 "nbformat_minor": 5
}
