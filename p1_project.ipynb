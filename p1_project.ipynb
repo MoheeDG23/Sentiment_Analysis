{
  "nbformat": 4,
  "nbformat_minor": 5,
  "metadata": {
    "colab": {
      "name": "p1_project.ipynb",
      "provenance": [],
      "collapsed_sections": [
        "saved-battlefield",
        "finite-regard"
      ],
      "toc_visible": true
    },
    "kernelspec": {
      "display_name": "Python 3",
      "language": "python",
      "name": "python3"
    },
    "language_info": {
      "codemirror_mode": {
        "name": "ipython",
        "version": 3
      },
      "file_extension": ".py",
      "mimetype": "text/x-python",
      "name": "python",
      "nbconvert_exporter": "python",
      "pygments_lexer": "ipython3",
      "version": "3.9.2"
    }
  },
  "cells": [
    {
      "cell_type": "markdown",
      "metadata": {
        "id": "saved-battlefield"
      },
      "source": [
        "## **Libraries to be installed beforehand**"
      ],
      "id": "saved-battlefield"
    },
    {
      "cell_type": "code",
      "metadata": {
        "id": "beneficial-dublin"
      },
      "source": [
        "# !pip3 install openpyxl\n",
        "# !pip3 install xlrd"
      ],
      "id": "beneficial-dublin",
      "execution_count": 1,
      "outputs": []
    },
    {
      "cell_type": "code",
      "metadata": {
        "id": "fifteen-mexican"
      },
      "source": [
        "\n",
        "import numpy as np\n",
        "import pandas as pd\n",
        "import matplotlib.pyplot as plt\n",
        "import spacy\n",
        "import string\n",
        "import pickle\n",
        "import xlrd\n",
        "\n",
        "from spacy.lang.en.stop_words import STOP_WORDS\n",
        "from spacy.lang.en import English\n",
        "\n",
        "from sklearn.feature_extraction.text import CountVectorizer,TfidfVectorizer\n",
        "from sklearn.metrics import accuracy_score, confusion_matrix, classification_report\n",
        "from sklearn.base import TransformerMixin \n",
        "from sklearn.pipeline import Pipeline\n",
        "from sklearn.model_selection import train_test_split\n",
        "from sklearn.preprocessing import StandardScaler\n",
        "\n",
        "from sklearn.metrics import precision_score\n",
        "from sklearn.metrics import recall_score\n",
        "from sklearn.metrics import accuracy_score\n",
        "\n",
        "# from sklearn.svm import LinearSVC\n",
        "# from sklearn.ensemble import RandomForestClassifier\n"
      ],
      "id": "fifteen-mexican",
      "execution_count": 2,
      "outputs": []
    },
    {
      "cell_type": "markdown",
      "metadata": {
        "id": "finite-regard"
      },
      "source": [
        "## **Importing dataset**\n",
        "\n",
        "Reading dataset using openpyxl engine since xlrd is now discontinued"
      ],
      "id": "finite-regard"
    },
    {
      "cell_type": "code",
      "metadata": {
        "colab": {
          "base_uri": "https://localhost:8080/"
        },
        "id": "UFsrStuC1TM8",
        "outputId": "fd599ec9-1e23-4e79-e119-029d9fffe76a"
      },
      "source": [
        "from google.colab import drive\n",
        "drive.mount(\"/content/drive\")"
      ],
      "id": "UFsrStuC1TM8",
      "execution_count": 3,
      "outputs": [
        {
          "output_type": "stream",
          "text": [
            "Mounted at /content/drive\n"
          ],
          "name": "stdout"
        }
      ]
    },
    {
      "cell_type": "code",
      "metadata": {
        "id": "determined-livestock"
      },
      "source": [
        "dataset = pd.read_excel('/content/drive/My Drive/dataset/dataset.xlsx', engine='openpyxl')\n",
        "# dataset = pd.read_excel('dataset.xlsx')"
      ],
      "id": "determined-livestock",
      "execution_count": 4,
      "outputs": []
    },
    {
      "cell_type": "code",
      "metadata": {
        "id": "special-terminal",
        "colab": {
          "base_uri": "https://localhost:8080/",
          "height": 204
        },
        "outputId": "df6f48d0-a581-4e8f-df00-573195880e0a"
      },
      "source": [
        "dataset.head()"
      ],
      "id": "special-terminal",
      "execution_count": 5,
      "outputs": [
        {
          "output_type": "execute_result",
          "data": {
            "text/html": [
              "<div>\n",
              "<style scoped>\n",
              "    .dataframe tbody tr th:only-of-type {\n",
              "        vertical-align: middle;\n",
              "    }\n",
              "\n",
              "    .dataframe tbody tr th {\n",
              "        vertical-align: top;\n",
              "    }\n",
              "\n",
              "    .dataframe thead th {\n",
              "        text-align: right;\n",
              "    }\n",
              "</style>\n",
              "<table border=\"1\" class=\"dataframe\">\n",
              "  <thead>\n",
              "    <tr style=\"text-align: right;\">\n",
              "      <th></th>\n",
              "      <th>URL</th>\n",
              "      <th>Text</th>\n",
              "      <th>Sentiment</th>\n",
              "    </tr>\n",
              "  </thead>\n",
              "  <tbody>\n",
              "    <tr>\n",
              "      <th>0</th>\n",
              "      <td>http://www.imdb.com/title/tt0210075/usercomments</td>\n",
              "      <td>Girlfight follows a project dwelling New York ...</td>\n",
              "      <td>POS</td>\n",
              "    </tr>\n",
              "    <tr>\n",
              "      <th>1</th>\n",
              "      <td>http://www.imdb.com/title/tt0337640/usercomments</td>\n",
              "      <td>Hollywood North is an euphemism from the movie...</td>\n",
              "      <td>POS</td>\n",
              "    </tr>\n",
              "    <tr>\n",
              "      <th>2</th>\n",
              "      <td>http://www.imdb.com/title/tt0303549/usercomments</td>\n",
              "      <td>That '70s Show is definitely the funniest show...</td>\n",
              "      <td>POS</td>\n",
              "    </tr>\n",
              "    <tr>\n",
              "      <th>3</th>\n",
              "      <td>http://www.imdb.com/title/tt0716825/usercomments</td>\n",
              "      <td>9/10- 30 minutes of pure holiday terror. Okay,...</td>\n",
              "      <td>POS</td>\n",
              "    </tr>\n",
              "    <tr>\n",
              "      <th>4</th>\n",
              "      <td>http://www.imdb.com/title/tt0182225/usercomments</td>\n",
              "      <td>A series of random, seemingly insignificant th...</td>\n",
              "      <td>POS</td>\n",
              "    </tr>\n",
              "  </tbody>\n",
              "</table>\n",
              "</div>"
            ],
            "text/plain": [
              "                                                URL  ... Sentiment\n",
              "0  http://www.imdb.com/title/tt0210075/usercomments  ...       POS\n",
              "1  http://www.imdb.com/title/tt0337640/usercomments  ...       POS\n",
              "2  http://www.imdb.com/title/tt0303549/usercomments  ...       POS\n",
              "3  http://www.imdb.com/title/tt0716825/usercomments  ...       POS\n",
              "4  http://www.imdb.com/title/tt0182225/usercomments  ...       POS\n",
              "\n",
              "[5 rows x 3 columns]"
            ]
          },
          "metadata": {
            "tags": []
          },
          "execution_count": 5
        }
      ]
    },
    {
      "cell_type": "markdown",
      "metadata": {
        "id": "aggregate-channel"
      },
      "source": [
        "### **Cleaning and analysing dataset and its sturcture**"
      ],
      "id": "aggregate-channel"
    },
    {
      "cell_type": "code",
      "metadata": {
        "id": "opponent-convenience",
        "colab": {
          "base_uri": "https://localhost:8080/"
        },
        "outputId": "31d702f8-7143-46b1-8bb0-8bd884ebdd43"
      },
      "source": [
        "dataset.isnull().sum()"
      ],
      "id": "opponent-convenience",
      "execution_count": 6,
      "outputs": [
        {
          "output_type": "execute_result",
          "data": {
            "text/plain": [
              "URL          0\n",
              "Text         0\n",
              "Sentiment    0\n",
              "dtype: int64"
            ]
          },
          "metadata": {
            "tags": []
          },
          "execution_count": 6
        }
      ]
    },
    {
      "cell_type": "code",
      "metadata": {
        "id": "organic-vinyl"
      },
      "source": [
        "dataset.drop('URL', axis='columns', inplace=True)"
      ],
      "id": "organic-vinyl",
      "execution_count": 7,
      "outputs": []
    },
    {
      "cell_type": "code",
      "metadata": {
        "id": "criminal-guess",
        "colab": {
          "base_uri": "https://localhost:8080/",
          "height": 204
        },
        "outputId": "13fa7940-a7b4-47c3-c6e6-794f184e9751"
      },
      "source": [
        "dataset.head()"
      ],
      "id": "criminal-guess",
      "execution_count": 8,
      "outputs": [
        {
          "output_type": "execute_result",
          "data": {
            "text/html": [
              "<div>\n",
              "<style scoped>\n",
              "    .dataframe tbody tr th:only-of-type {\n",
              "        vertical-align: middle;\n",
              "    }\n",
              "\n",
              "    .dataframe tbody tr th {\n",
              "        vertical-align: top;\n",
              "    }\n",
              "\n",
              "    .dataframe thead th {\n",
              "        text-align: right;\n",
              "    }\n",
              "</style>\n",
              "<table border=\"1\" class=\"dataframe\">\n",
              "  <thead>\n",
              "    <tr style=\"text-align: right;\">\n",
              "      <th></th>\n",
              "      <th>Text</th>\n",
              "      <th>Sentiment</th>\n",
              "    </tr>\n",
              "  </thead>\n",
              "  <tbody>\n",
              "    <tr>\n",
              "      <th>0</th>\n",
              "      <td>Girlfight follows a project dwelling New York ...</td>\n",
              "      <td>POS</td>\n",
              "    </tr>\n",
              "    <tr>\n",
              "      <th>1</th>\n",
              "      <td>Hollywood North is an euphemism from the movie...</td>\n",
              "      <td>POS</td>\n",
              "    </tr>\n",
              "    <tr>\n",
              "      <th>2</th>\n",
              "      <td>That '70s Show is definitely the funniest show...</td>\n",
              "      <td>POS</td>\n",
              "    </tr>\n",
              "    <tr>\n",
              "      <th>3</th>\n",
              "      <td>9/10- 30 minutes of pure holiday terror. Okay,...</td>\n",
              "      <td>POS</td>\n",
              "    </tr>\n",
              "    <tr>\n",
              "      <th>4</th>\n",
              "      <td>A series of random, seemingly insignificant th...</td>\n",
              "      <td>POS</td>\n",
              "    </tr>\n",
              "  </tbody>\n",
              "</table>\n",
              "</div>"
            ],
            "text/plain": [
              "                                                Text Sentiment\n",
              "0  Girlfight follows a project dwelling New York ...       POS\n",
              "1  Hollywood North is an euphemism from the movie...       POS\n",
              "2  That '70s Show is definitely the funniest show...       POS\n",
              "3  9/10- 30 minutes of pure holiday terror. Okay,...       POS\n",
              "4  A series of random, seemingly insignificant th...       POS"
            ]
          },
          "metadata": {
            "tags": []
          },
          "execution_count": 8
        }
      ]
    },
    {
      "cell_type": "code",
      "metadata": {
        "id": "transsexual-developer",
        "colab": {
          "base_uri": "https://localhost:8080/"
        },
        "outputId": "d5e4c175-b41d-415d-a7df-27ee4d6bb2c0"
      },
      "source": [
        "print(f'Rows: {dataset.shape[0]}\\nColumns: {dataset.shape[1]}')\n",
        "print(f'Columns Names: {list(dataset.columns)}')"
      ],
      "id": "transsexual-developer",
      "execution_count": 9,
      "outputs": [
        {
          "output_type": "stream",
          "text": [
            "Rows: 1999\n",
            "Columns: 2\n",
            "Columns Names: ['Text', 'Sentiment']\n"
          ],
          "name": "stdout"
        }
      ]
    },
    {
      "cell_type": "code",
      "metadata": {
        "id": "incorrect-domain"
      },
      "source": [
        ""
      ],
      "id": "incorrect-domain",
      "execution_count": 9,
      "outputs": []
    },
    {
      "cell_type": "markdown",
      "metadata": {
        "id": "acoustic-pharmacology"
      },
      "source": [
        "### **Tokenization of sentences**\n"
      ],
      "id": "acoustic-pharmacology"
    },
    {
      "cell_type": "code",
      "metadata": {
        "id": "informative-covering"
      },
      "source": [
        "nlp = English()\n",
        "stopwords = list(STOP_WORDS)\n",
        "punctuations = string.punctuation"
      ],
      "id": "informative-covering",
      "execution_count": 10,
      "outputs": []
    },
    {
      "cell_type": "code",
      "metadata": {
        "id": "intended-construction"
      },
      "source": [
        "def tokenizer(sentence):\n",
        "    mytokens = nlp(sentence)\n",
        "    mytokens = [ word.lemma_.lower().strip() if word.lemma_ != \"-PRON-\" else word.lower_ for word in mytokens ]\n",
        "    mytokens = [ word for word in mytokens if word not in stopwords and word not in punctuations ]\n",
        "    return mytokens"
      ],
      "id": "intended-construction",
      "execution_count": 11,
      "outputs": []
    },
    {
      "cell_type": "markdown",
      "metadata": {
        "id": "northern-straight"
      },
      "source": [
        "### **Transform and vectorization**"
      ],
      "id": "northern-straight"
    },
    {
      "cell_type": "code",
      "metadata": {
        "id": "familiar-orange"
      },
      "source": [
        "class predictors(TransformerMixin):\n",
        "    def transform(self, X, **transform_params):\n",
        "        return [clean_text(text) for text in X]\n",
        "    def fit(self, X, y, **fit_params):\n",
        "        return self\n",
        "    def get_params(self, deep=True):\n",
        "        return {}\n",
        "\n",
        "# Basic function to clean the text \n",
        "def clean_text(text):     \n",
        "    return text.strip().lower()"
      ],
      "id": "familiar-orange",
      "execution_count": 12,
      "outputs": []
    },
    {
      "cell_type": "code",
      "metadata": {
        "id": "current-rwanda"
      },
      "source": [
        "vectorizer = CountVectorizer(tokenizer = tokenizer, ngram_range=(1,1)) \n",
        "tfvectorizer = TfidfVectorizer(tokenizer = tokenizer)"
      ],
      "id": "current-rwanda",
      "execution_count": 13,
      "outputs": []
    },
    {
      "cell_type": "markdown",
      "metadata": {
        "id": "atlantic-complexity"
      },
      "source": [
        "### **Dataset splitting**"
      ],
      "id": "atlantic-complexity"
    },
    {
      "cell_type": "code",
      "metadata": {
        "id": "underlying-holly"
      },
      "source": [
        "X = dataset['Text']\n",
        "y = dataset['Sentiment']\n",
        "X_train, X_test, y_train, y_test = train_test_split(X, y, test_size=0.2, random_state=77)"
      ],
      "id": "underlying-holly",
      "execution_count": 14,
      "outputs": []
    },
    {
      "cell_type": "code",
      "metadata": {
        "id": "cYzJNS_HNQyJ"
      },
      "source": [
        "def generate_report(pred_list, custom_model, model_name):\n",
        "  print(f'Confusion Matrix:\\n{confusion_matrix(y_test,pred_list)}')\n",
        "  print(f'\\nClassification Report:\\n{classification_report(y_test,pred_list)}')\n",
        "  acc = accuracy_score(y_test, pred_list) * 100\n",
        "  print(f'Accuracy: {acc}%')\n",
        "  prec = precision_score(y_test, pred_list, average='macro') * 100\n",
        "  print(f'Precision: {prec}%')\n",
        "  rec = recall_score(y_test, pred_list, average='macro') * 100\n",
        "  print(f'Recall: {rec}%')\n",
        "  pickle.dump(custom_model, open(model_name + '.sav', 'wb'))\n",
        "  print(model_name + ' trained Model Saved')\n",
        "  return acc, prec, rec"
      ],
      "id": "cYzJNS_HNQyJ",
      "execution_count": 15,
      "outputs": []
    },
    {
      "cell_type": "markdown",
      "metadata": {
        "id": "special-purpose"
      },
      "source": [
        "## **Bernoulli Naïve Bayes (BNB)**"
      ],
      "id": "special-purpose"
    },
    {
      "cell_type": "code",
      "metadata": {
        "id": "above-niger"
      },
      "source": [
        "from sklearn.naive_bayes import BernoulliNB"
      ],
      "id": "above-niger",
      "execution_count": 16,
      "outputs": []
    },
    {
      "cell_type": "code",
      "metadata": {
        "id": "VMPbwsHOS0-8"
      },
      "source": [
        "classifier = BernoulliNB()\n",
        "BNBmodel = Pipeline([(\"cleaner\", predictors()), ('vectorizer', vectorizer), ('classifier', classifier)])\n",
        "\n",
        "BNBmodel.fit(X_train,y_train)\n",
        "BNBpred=BNBmodel.predict(X_test)"
      ],
      "id": "VMPbwsHOS0-8",
      "execution_count": 17,
      "outputs": []
    },
    {
      "cell_type": "code",
      "metadata": {
        "colab": {
          "base_uri": "https://localhost:8080/"
        },
        "id": "23SuosnMdXmA",
        "outputId": "c9e93848-8e3e-4b4a-e5d1-e6ea71ab9b92"
      },
      "source": [
        "bnb_metrics = [None, None, None]\n",
        "bnb_metrics[0], bnb_metrics[1], bnb_metrics[2] = generate_report(BNBpred, BNBmodel, 'BernoulliNB_model')"
      ],
      "id": "23SuosnMdXmA",
      "execution_count": 18,
      "outputs": [
        {
          "output_type": "stream",
          "text": [
            "Confusion Matrix:\n",
            "[[173  22]\n",
            " [ 32 173]]\n",
            "\n",
            "Classification Report:\n",
            "              precision    recall  f1-score   support\n",
            "\n",
            "         NEG       0.84      0.89      0.87       195\n",
            "         POS       0.89      0.84      0.87       205\n",
            "\n",
            "    accuracy                           0.86       400\n",
            "   macro avg       0.87      0.87      0.87       400\n",
            "weighted avg       0.87      0.86      0.86       400\n",
            "\n",
            "Accuracy: 86.5%\n",
            "Precision: 86.55409631019386%\n",
            "Recall: 86.55409631019386%\n",
            "BernoulliNB_model trained Model Saved\n"
          ],
          "name": "stdout"
        }
      ]
    },
    {
      "cell_type": "markdown",
      "metadata": {
        "id": "stylish-observer"
      },
      "source": [
        "## **Multinomial Naïve Bayes (MNB)**"
      ],
      "id": "stylish-observer"
    },
    {
      "cell_type": "code",
      "metadata": {
        "id": "rubber-galaxy"
      },
      "source": [
        "from sklearn.naive_bayes import MultinomialNB"
      ],
      "id": "rubber-galaxy",
      "execution_count": 19,
      "outputs": []
    },
    {
      "cell_type": "code",
      "metadata": {
        "id": "FcGl7yu3TquB"
      },
      "source": [
        "classifier = MultinomialNB()\n",
        "MNBmodel = Pipeline([(\"cleaner\", predictors()), ('vectorizer', vectorizer), ('classifier', classifier)])\n",
        "\n",
        "#train the model\n",
        "MNBmodel.fit(X_train,y_train)\n",
        "MNBpred=MNBmodel.predict(X_test)"
      ],
      "id": "FcGl7yu3TquB",
      "execution_count": 20,
      "outputs": []
    },
    {
      "cell_type": "code",
      "metadata": {
        "colab": {
          "base_uri": "https://localhost:8080/"
        },
        "id": "_9vVl9IQi6FN",
        "outputId": "70a4614d-7359-4e71-88f3-4503a6c20eaf"
      },
      "source": [
        "mnb_metrics = [None, None, None]\n",
        "mnb_metrics[0], mnb_metrics[1], mnb_metrics[2] = generate_report(MNBpred, MNBmodel, 'MultinomialNB_model')"
      ],
      "id": "_9vVl9IQi6FN",
      "execution_count": 21,
      "outputs": [
        {
          "output_type": "stream",
          "text": [
            "Confusion Matrix:\n",
            "[[171  24]\n",
            " [ 34 171]]\n",
            "\n",
            "Classification Report:\n",
            "              precision    recall  f1-score   support\n",
            "\n",
            "         NEG       0.83      0.88      0.85       195\n",
            "         POS       0.88      0.83      0.85       205\n",
            "\n",
            "    accuracy                           0.85       400\n",
            "   macro avg       0.86      0.86      0.85       400\n",
            "weighted avg       0.86      0.85      0.85       400\n",
            "\n",
            "Accuracy: 85.5%\n",
            "Precision: 85.55347091932457%\n",
            "Recall: 85.55347091932457%\n",
            "MultinomialNB_model trained Model Saved\n"
          ],
          "name": "stdout"
        }
      ]
    },
    {
      "cell_type": "code",
      "metadata": {
        "id": "sqmiLkut_vbE",
        "colab": {
          "base_uri": "https://localhost:8080/"
        },
        "outputId": "2bd48354-f6c8-4876-e8e3-9224bd5ea706"
      },
      "source": [
        "# Another random review\n",
        "pre = BNBmodel.predict([\"Production has an incredibly important place to shoot a series or film. Sometimes even a very minimalist story can reach an incredibly successful point after the right production stages. The Witcher series is far from minimalist. The Witcher is one of the best Middle-earth works in the world. Production quality is essential if you want to handle such a topic successfully.\"])\n",
        "print(f'Prediction: {pre[0]}')"
      ],
      "id": "sqmiLkut_vbE",
      "execution_count": 22,
      "outputs": [
        {
          "output_type": "stream",
          "text": [
            "Prediction: POS\n"
          ],
          "name": "stdout"
        }
      ]
    },
    {
      "cell_type": "markdown",
      "metadata": {
        "id": "fantastic-electron"
      },
      "source": [
        "## **Maximum Entropy (ME)**"
      ],
      "id": "fantastic-electron"
    },
    {
      "cell_type": "code",
      "metadata": {
        "id": "exceptional-cylinder"
      },
      "source": [
        "from sklearn.linear_model import LogisticRegression"
      ],
      "id": "exceptional-cylinder",
      "execution_count": 23,
      "outputs": []
    },
    {
      "cell_type": "code",
      "metadata": {
        "id": "victorian-caution"
      },
      "source": [
        "classifier = LogisticRegression()\n",
        "LRmodel = Pipeline([(\"cleaner\", predictors()), ('vectorizer', vectorizer), ('classifier', classifier)])\n",
        "\n",
        "# Train the Model\n",
        "LRmodel.fit(X_train,y_train)   \n",
        "LRpred = LRmodel.predict(X_test)"
      ],
      "id": "victorian-caution",
      "execution_count": 24,
      "outputs": []
    },
    {
      "cell_type": "code",
      "metadata": {
        "colab": {
          "base_uri": "https://localhost:8080/"
        },
        "id": "CU4kFV_djVcg",
        "outputId": "42c9a728-95ea-4234-9daf-01fe063f1fb8"
      },
      "source": [
        "lr_metrics = [None, None, None]\n",
        "lr_metrics[0], lr_metrics[1], lr_metrics[2] = generate_report(LRpred, LRmodel, 'LinearRegression_model')"
      ],
      "id": "CU4kFV_djVcg",
      "execution_count": 25,
      "outputs": [
        {
          "output_type": "stream",
          "text": [
            "Confusion Matrix:\n",
            "[[169  26]\n",
            " [ 34 171]]\n",
            "\n",
            "Classification Report:\n",
            "              precision    recall  f1-score   support\n",
            "\n",
            "         NEG       0.83      0.87      0.85       195\n",
            "         POS       0.87      0.83      0.85       205\n",
            "\n",
            "    accuracy                           0.85       400\n",
            "   macro avg       0.85      0.85      0.85       400\n",
            "weighted avg       0.85      0.85      0.85       400\n",
            "\n",
            "Accuracy: 85.0%\n",
            "Precision: 85.02663099197319%\n",
            "Recall: 85.04065040650406%\n",
            "LinearRegression_model trained Model Saved\n"
          ],
          "name": "stdout"
        }
      ]
    },
    {
      "cell_type": "code",
      "metadata": {
        "id": "organic-things",
        "colab": {
          "base_uri": "https://localhost:8080/"
        },
        "outputId": "563afaf1-bac2-4d1f-968a-1979214e1276"
      },
      "source": [
        "# Another random review\n",
        "pre = LRmodel.predict([\"Production has an incredibly important place to shoot a series or film. Sometimes even a very minimalist story can reach an incredibly successful point after the right production stages. The Witcher series is far from minimalist. The Witcher is one of the best Middle-earth works in the world. Production quality is essential if you want to handle such a topic successfully.\"])\n",
        "print(f'Prediction: {pre[0]}')"
      ],
      "id": "organic-things",
      "execution_count": 26,
      "outputs": [
        {
          "output_type": "stream",
          "text": [
            "Prediction: POS\n"
          ],
          "name": "stdout"
        }
      ]
    },
    {
      "cell_type": "markdown",
      "metadata": {
        "id": "artificial-destiny"
      },
      "source": [
        "## **Decision Tree (DE)**"
      ],
      "id": "artificial-destiny"
    },
    {
      "cell_type": "code",
      "metadata": {
        "id": "greater-values"
      },
      "source": [
        "from sklearn.tree import DecisionTreeClassifier\n",
        "from sklearn.model_selection import cross_val_score"
      ],
      "id": "greater-values",
      "execution_count": 27,
      "outputs": []
    },
    {
      "cell_type": "code",
      "metadata": {
        "id": "uzOBzCpFcaIG"
      },
      "source": [
        "dt_clf = DecisionTreeClassifier()\n",
        "dt_model = Pipeline([(\"cleaner\", predictors()), ('vectorizer', vectorizer), ('classifier', dt_clf)])\n",
        "\n",
        "# Train the Model\n",
        "dt_model.fit(X_train,y_train)   \n",
        "dt_pred = dt_model.predict(X_test)"
      ],
      "id": "uzOBzCpFcaIG",
      "execution_count": 28,
      "outputs": []
    },
    {
      "cell_type": "code",
      "metadata": {
        "colab": {
          "base_uri": "https://localhost:8080/"
        },
        "id": "Ktc_zheyj0RL",
        "outputId": "1c48c219-bc69-44c4-d617-356da579779a"
      },
      "source": [
        "dt_metrics = [None, None, None]\n",
        "dt_metrics[0], dt_metrics[1], dt_metrics[2] = generate_report(dt_pred, dt_model, 'DecisionTree_model')"
      ],
      "id": "Ktc_zheyj0RL",
      "execution_count": 29,
      "outputs": [
        {
          "output_type": "stream",
          "text": [
            "Confusion Matrix:\n",
            "[[172  23]\n",
            " [ 50 155]]\n",
            "\n",
            "Classification Report:\n",
            "              precision    recall  f1-score   support\n",
            "\n",
            "         NEG       0.77      0.88      0.82       195\n",
            "         POS       0.87      0.76      0.81       205\n",
            "\n",
            "    accuracy                           0.82       400\n",
            "   macro avg       0.82      0.82      0.82       400\n",
            "weighted avg       0.82      0.82      0.82       400\n",
            "\n",
            "Accuracy: 81.75%\n",
            "Precision: 82.27806458143536%\n",
            "Recall: 81.90744215134458%\n",
            "DecisionTree_model trained Model Saved\n"
          ],
          "name": "stdout"
        }
      ]
    },
    {
      "cell_type": "code",
      "metadata": {
        "id": "ffGejiSpAKbX",
        "colab": {
          "base_uri": "https://localhost:8080/"
        },
        "outputId": "fa9cf88d-bcfb-4135-d6b5-f7c0e4083228"
      },
      "source": [
        "# Another random review\n",
        "pre = dt_model.predict([\"Production has an incredibly important place to shoot a series or film. Sometimes even a very minimalist story can reach an incredibly successful point after the right production stages. The Witcher series is far from minimalist. The Witcher is one of the best Middle-earth works in the world. Production quality is essential if you want to handle such a topic successfully.\"])\n",
        "print(f'Prediction: {pre[0]}')"
      ],
      "id": "ffGejiSpAKbX",
      "execution_count": 30,
      "outputs": [
        {
          "output_type": "stream",
          "text": [
            "Prediction: POS\n"
          ],
          "name": "stdout"
        }
      ]
    },
    {
      "cell_type": "markdown",
      "metadata": {
        "id": "caroline-cedar"
      },
      "source": [
        "## **Support Vector Machine (SVM)**"
      ],
      "id": "caroline-cedar"
    },
    {
      "cell_type": "code",
      "metadata": {
        "id": "silent-barrier"
      },
      "source": [
        "from sklearn.svm import SVC\n",
        "from sklearn import svm\n",
        "from sklearn.metrics import classification_report\n",
        "# pipeline and standard scalar are already imported"
      ],
      "id": "silent-barrier",
      "execution_count": 31,
      "outputs": []
    },
    {
      "cell_type": "code",
      "metadata": {
        "id": "pretty-warren",
        "colab": {
          "base_uri": "https://localhost:8080/"
        },
        "outputId": "ce0dd4dc-d8f5-4fa0-8399-c4bd6dc0bfa2"
      },
      "source": [
        "%%time\n",
        "#Train the model\n",
        "# Perform classification with SVM, kernel=linear\n",
        "SVMclassifier = svm.SVC(kernel='linear')\n",
        "SVMmodel = Pipeline([(\"cleaner\", predictors()), ('vectorizer', vectorizer), ('classifier', SVMclassifier)])\n",
        "SVMmodel.fit(X_train,y_train)\n",
        "SVMpred = SVMmodel.predict(X_test)"
      ],
      "id": "pretty-warren",
      "execution_count": 32,
      "outputs": [
        {
          "output_type": "stream",
          "text": [
            "CPU times: user 2min 11s, sys: 2.01 s, total: 2min 13s\n",
            "Wall time: 2min 13s\n"
          ],
          "name": "stdout"
        }
      ]
    },
    {
      "cell_type": "code",
      "metadata": {
        "colab": {
          "base_uri": "https://localhost:8080/"
        },
        "id": "hxKaWip5n-Be",
        "outputId": "69551c19-eb25-4508-9076-e8874974165e"
      },
      "source": [
        "svm_metrics = [None, None, None]\n",
        "svm_metrics[0], svm_metrics[1], svm_metrics[2] = generate_report(SVMpred, SVMmodel, 'SVM_model')"
      ],
      "id": "hxKaWip5n-Be",
      "execution_count": 33,
      "outputs": [
        {
          "output_type": "stream",
          "text": [
            "Confusion Matrix:\n",
            "[[168  27]\n",
            " [ 33 172]]\n",
            "\n",
            "Classification Report:\n",
            "              precision    recall  f1-score   support\n",
            "\n",
            "         NEG       0.84      0.86      0.85       195\n",
            "         POS       0.86      0.84      0.85       205\n",
            "\n",
            "    accuracy                           0.85       400\n",
            "   macro avg       0.85      0.85      0.85       400\n",
            "weighted avg       0.85      0.85      0.85       400\n",
            "\n",
            "Accuracy: 85.0%\n",
            "Precision: 85.00712517812946%\n",
            "Recall: 85.02814258911819%\n",
            "SVM_model trained Model Saved\n"
          ],
          "name": "stdout"
        }
      ]
    },
    {
      "cell_type": "code",
      "metadata": {
        "id": "wUhdSO5zAhdm",
        "colab": {
          "base_uri": "https://localhost:8080/"
        },
        "outputId": "4f756f15-bc89-4481-b366-23a4759fedb3"
      },
      "source": [
        "# Another random review\n",
        "pre = SVMmodel.predict([\"Production has an incredibly important place to shoot a series or film. Sometimes even a very minimalist story can reach an incredibly successful point after the right production stages. The Witcher series is far from minimalist. The Witcher is one of the best Middle-earth works in the world. Production quality is essential if you want to handle such a topic successfully.\"])\n",
        "print(f'Prediction: {pre[0]}')"
      ],
      "id": "wUhdSO5zAhdm",
      "execution_count": 34,
      "outputs": [
        {
          "output_type": "stream",
          "text": [
            "Prediction: POS\n"
          ],
          "name": "stdout"
        }
      ]
    },
    {
      "cell_type": "markdown",
      "metadata": {
        "id": "after-vaccine"
      },
      "source": [
        "## **Results comparision plots and tables**"
      ],
      "id": "after-vaccine"
    },
    {
      "cell_type": "code",
      "metadata": {
        "id": "-X7Kp_7ECaAf",
        "colab": {
          "base_uri": "https://localhost:8080/"
        },
        "outputId": "7442239a-fe0b-4a14-9664-a9be305787b7"
      },
      "source": [
        "!pip3 install tabulate\n",
        "from tabulate import tabulate\n",
        "table = [['Model Name', 'Accuracy', 'Precision', 'Recall'], \n",
        "         ['Multinomial Naïve Bayes', mnb_metrics[0], mnb_metrics[1], mnb_metrics[2]], \n",
        "         ['Bernoulli Naïve Bayes', bnb_metrics[0], bnb_metrics[1], bnb_metrics[2]],\n",
        "         ['Support Vector Machine', svm_metrics[0], svm_metrics[1], svm_metrics[2]],\n",
        "         ['Maximum Entropy', lr_metrics[0], lr_metrics[1], lr_metrics[2]],\n",
        "         ['Decision Tree', dt_metrics[0], dt_metrics[1], dt_metrics[2]]]\n",
        "\n",
        "print(tabulate(table, headers='firstrow', tablefmt='fancy_grid'))"
      ],
      "id": "-X7Kp_7ECaAf",
      "execution_count": 35,
      "outputs": [
        {
          "output_type": "stream",
          "text": [
            "Requirement already satisfied: tabulate in /usr/local/lib/python3.7/dist-packages (0.8.9)\n",
            "╒═════════════════════════╤════════════╤═════════════╤══════════╕\n",
            "│ Model Name              │   Accuracy │   Precision │   Recall │\n",
            "╞═════════════════════════╪════════════╪═════════════╪══════════╡\n",
            "│ Multinomial Naïve Bayes │      85.5  │     85.5535 │  85.5535 │\n",
            "├─────────────────────────┼────────────┼─────────────┼──────────┤\n",
            "│ Bernoulli Naïve Bayes   │      86.5  │     86.5541 │  86.5541 │\n",
            "├─────────────────────────┼────────────┼─────────────┼──────────┤\n",
            "│ Support Vector Machine  │      85    │     85.0071 │  85.0281 │\n",
            "├─────────────────────────┼────────────┼─────────────┼──────────┤\n",
            "│ Maximum Entropy         │      85    │     85.0266 │  85.0407 │\n",
            "├─────────────────────────┼────────────┼─────────────┼──────────┤\n",
            "│ Decision Tree           │      81.75 │     82.2781 │  81.9074 │\n",
            "╘═════════════════════════╧════════════╧═════════════╧══════════╛\n"
          ],
          "name": "stdout"
        }
      ]
    },
    {
      "cell_type": "code",
      "metadata": {
        "id": "corrected-importance",
        "colab": {
          "base_uri": "https://localhost:8080/",
          "height": 346
        },
        "outputId": "565c5da9-2fa1-491e-c02c-53c33fb1adf9"
      },
      "source": [
        "import numpy as np\n",
        "import matplotlib.pyplot as plt\n",
        "  \n",
        "N = 5\n",
        "ind = np.arange(N) \n",
        "width = 0.25\n",
        "  \n",
        "acc = [mnb_metrics[0], bnb_metrics[0], svm_metrics[0], lr_metrics[0], dt_metrics[0]]\n",
        "bar1 = plt.bar(ind, acc, width)\n",
        "  \n",
        "prec = [mnb_metrics[1], bnb_metrics[1], svm_metrics[1], lr_metrics[1], dt_metrics[1]]\n",
        "bar2 = plt.bar(ind+width, prec, width)\n",
        "  \n",
        "recall = [mnb_metrics[2], bnb_metrics[2], svm_metrics[2], lr_metrics[2], dt_metrics[2]]\n",
        "bar3 = plt.bar(ind+width*2, recall, width)\n",
        "  \n",
        "# plt.xlabel(\"Dates\")\n",
        "plt.ylabel(\"Percentage\")\n",
        "plt.title(\"Comparison\")\n",
        "  \n",
        "plt.xticks(ind+width,['Multinomial NB','Bernoulli NB','SVM','Logistic Regression', 'Decision Tree'])\n",
        "plt.xticks(rotation = 45)\n",
        "plt.legend( (bar1, bar2, bar3), ('Accuracy', 'Precision', 'Recall'), bbox_to_anchor = (1.05, 0.6))\n",
        "plt.show()"
      ],
      "id": "corrected-importance",
      "execution_count": 36,
      "outputs": [
        {
          "output_type": "display_data",
          "data": {
            "image/png": "[encoded data removed]",
            "text/plain": [
              "<Figure size 432x288 with 1 Axes>"
            ]
          },
          "metadata": {
            "tags": [],
            "needs_background": "light"
          }
        }
      ]
    },
    {
      "cell_type": "code",
      "metadata": {
        "id": "5SY3S0Sx30HW",
        "colab": {
          "base_uri": "https://localhost:8080/",
          "height": 346
        },
        "outputId": "b5d130f7-ec54-4d91-8b3e-84b0aea852b7"
      },
      "source": [
        "import matplotlib.pyplot as plt\n",
        "models = ['Multinomial NB','Bernoulli NB','SVM','Logistic Regression', 'Decision Tree']\n",
        "recall = [mnb_metrics[2], bnb_metrics[2], svm_metrics[2], lr_metrics[2], dt_metrics[2]]\n",
        "precision = [mnb_metrics[1], bnb_metrics[1], svm_metrics[1], lr_metrics[1], dt_metrics[1]]\n",
        "line_chart1 = plt.plot(models, recall, 'o-g')\n",
        "line_chart2 = plt.plot(models, precision, 'o-y')\n",
        "plt.title('Recall vs Precision')\n",
        "plt.ylabel('Score')\n",
        "plt.xticks(rotation = 45)\n",
        "plt.legend(['Recall', 'Precision'], bbox_to_anchor = (1.3, 0.6))\n",
        "plt.show()"
      ],
      "id": "5SY3S0Sx30HW",
      "execution_count": 37,
      "outputs": [
        {
          "output_type": "display_data",
          "data": {
            "image/png": "[encoded data removed]",
            "text/plain": [
              "<Figure size 432x288 with 1 Axes>"
            ]
          },
          "metadata": {
            "tags": [],
            "needs_background": "light"
          }
        }
      ]
    }
  ]
}