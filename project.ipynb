{
  "nbformat": 4,
  "nbformat_minor": 5,
  "metadata": {
    "colab": {
      "name": "project.ipynb",
      "provenance": [],
      "collapsed_sections": []
    },
    "kernelspec": {
      "display_name": "Python 3",
      "language": "python",
      "name": "python3"
    },
    "language_info": {
      "codemirror_mode": {
        "name": "ipython",
        "version": 3
      },
      "file_extension": ".py",
      "mimetype": "text/x-python",
      "name": "python",
      "nbconvert_exporter": "python",
      "pygments_lexer": "ipython3",
      "version": "3.8.5"
    }
  },
  "cells": [
    {
      "cell_type": "markdown",
      "metadata": {
        "id": "50UsDjkThQDM"
      },
      "source": [
        "## **Libraries to be installed beforehand**"
      ],
      "id": "50UsDjkThQDM"
    },
    {
      "cell_type": "code",
      "metadata": {
        "id": "requested-relations"
      },
      "source": [
        "# pip install openpyxl\n",
        "# pip3 install xlrd"
      ],
      "id": "requested-relations",
      "execution_count": 71,
      "outputs": []
    },
    {
      "cell_type": "code",
      "metadata": {
        "id": "horizontal-footwear"
      },
      "source": [
        "import numpy as np\n",
        "import pandas as pd\n",
        "import matplotlib.pyplot as plt\n",
        "import spacy\n",
        "import string\n",
        "import pickle\n",
        "import xlrd\n",
        "\n",
        "from spacy.lang.en.stop_words import STOP_WORDS\n",
        "from spacy.lang.en import English\n",
        "\n",
        "from sklearn.feature_extraction.text import CountVectorizer,TfidfVectorizer\n",
        "from sklearn.metrics import accuracy_score, confusion_matrix, classification_report\n",
        "from sklearn.base import TransformerMixin \n",
        "from sklearn.pipeline import Pipeline\n",
        "from sklearn.model_selection import train_test_split\n",
        "from sklearn.preprocessing import StandardScaler\n",
        "\n",
        "# from sklearn.svm import LinearSVC\n",
        "# from sklearn.ensemble import RandomForestClassifier\n"
      ],
      "id": "horizontal-footwear",
      "execution_count": 72,
      "outputs": []
    },
    {
      "cell_type": "markdown",
      "metadata": {
        "id": "kCmkZ9MShZSv"
      },
      "source": [
        "## **Reading dataset using openpyxl engine since xlrd is now discontinued**"
      ],
      "id": "kCmkZ9MShZSv"
    },
    {
      "cell_type": "code",
      "metadata": {
        "id": "wrong-result"
      },
      "source": [
        "dataset = pd.read_excel('dataset.xlsx', engine='openpyxl')\n",
        "# dataset = pd.read_excel('dataset.xlsx')"
      ],
      "id": "wrong-result",
      "execution_count": 73,
      "outputs": []
    },
    {
      "cell_type": "code",
      "metadata": {
        "id": "concerned-entertainment",
        "colab": {
          "base_uri": "https://localhost:8080/",
          "height": 204
        },
        "outputId": "a53c0eed-d1aa-413e-a291-bff83df4c683"
      },
      "source": [
        "dataset.head()"
      ],
      "id": "concerned-entertainment",
      "execution_count": 74,
      "outputs": [
        {
          "output_type": "execute_result",
          "data": {
            "text/html": [
              "<div>\n",
              "<style scoped>\n",
              "    .dataframe tbody tr th:only-of-type {\n",
              "        vertical-align: middle;\n",
              "    }\n",
              "\n",
              "    .dataframe tbody tr th {\n",
              "        vertical-align: top;\n",
              "    }\n",
              "\n",
              "    .dataframe thead th {\n",
              "        text-align: right;\n",
              "    }\n",
              "</style>\n",
              "<table border=\"1\" class=\"dataframe\">\n",
              "  <thead>\n",
              "    <tr style=\"text-align: right;\">\n",
              "      <th></th>\n",
              "      <th>URL</th>\n",
              "      <th>Text</th>\n",
              "      <th>Sentiment</th>\n",
              "    </tr>\n",
              "  </thead>\n",
              "  <tbody>\n",
              "    <tr>\n",
              "      <th>0</th>\n",
              "      <td>http://www.imdb.com/title/tt0210075/usercomments</td>\n",
              "      <td>Girlfight follows a project dwelling New York ...</td>\n",
              "      <td>POS</td>\n",
              "    </tr>\n",
              "    <tr>\n",
              "      <th>1</th>\n",
              "      <td>http://www.imdb.com/title/tt0337640/usercomments</td>\n",
              "      <td>Hollywood North is an euphemism from the movie...</td>\n",
              "      <td>POS</td>\n",
              "    </tr>\n",
              "    <tr>\n",
              "      <th>2</th>\n",
              "      <td>http://www.imdb.com/title/tt0303549/usercomments</td>\n",
              "      <td>That '70s Show is definitely the funniest show...</td>\n",
              "      <td>POS</td>\n",
              "    </tr>\n",
              "    <tr>\n",
              "      <th>3</th>\n",
              "      <td>http://www.imdb.com/title/tt0716825/usercomments</td>\n",
              "      <td>9/10- 30 minutes of pure holiday terror. Okay,...</td>\n",
              "      <td>POS</td>\n",
              "    </tr>\n",
              "    <tr>\n",
              "      <th>4</th>\n",
              "      <td>http://www.imdb.com/title/tt0182225/usercomments</td>\n",
              "      <td>A series of random, seemingly insignificant th...</td>\n",
              "      <td>POS</td>\n",
              "    </tr>\n",
              "  </tbody>\n",
              "</table>\n",
              "</div>"
            ],
            "text/plain": [
              "                                                URL  ... Sentiment\n",
              "0  http://www.imdb.com/title/tt0210075/usercomments  ...       POS\n",
              "1  http://www.imdb.com/title/tt0337640/usercomments  ...       POS\n",
              "2  http://www.imdb.com/title/tt0303549/usercomments  ...       POS\n",
              "3  http://www.imdb.com/title/tt0716825/usercomments  ...       POS\n",
              "4  http://www.imdb.com/title/tt0182225/usercomments  ...       POS\n",
              "\n",
              "[5 rows x 3 columns]"
            ]
          },
          "metadata": {
            "tags": []
          },
          "execution_count": 74
        }
      ]
    },
    {
      "cell_type": "markdown",
      "metadata": {
        "id": "b5J4v7EKh2cX"
      },
      "source": [
        "**Cleaning and analysing dataset and its sturcture**"
      ],
      "id": "b5J4v7EKh2cX"
    },
    {
      "cell_type": "code",
      "metadata": {
        "id": "difficult-firmware",
        "colab": {
          "base_uri": "https://localhost:8080/"
        },
        "outputId": "424c9b25-3096-4846-a9d1-0c1db155b868"
      },
      "source": [
        "dataset.isnull().sum()"
      ],
      "id": "difficult-firmware",
      "execution_count": 75,
      "outputs": [
        {
          "output_type": "execute_result",
          "data": {
            "text/plain": [
              "URL          0\n",
              "Text         0\n",
              "Sentiment    0\n",
              "dtype: int64"
            ]
          },
          "metadata": {
            "tags": []
          },
          "execution_count": 75
        }
      ]
    },
    {
      "cell_type": "code",
      "metadata": {
        "id": "wrapped-matthew"
      },
      "source": [
        "dataset.drop('URL', axis='columns', inplace=True)"
      ],
      "id": "wrapped-matthew",
      "execution_count": 76,
      "outputs": []
    },
    {
      "cell_type": "code",
      "metadata": {
        "id": "premier-catholic",
        "colab": {
          "base_uri": "https://localhost:8080/",
          "height": 204
        },
        "outputId": "ee575e7d-b208-43bc-d518-171069416a76"
      },
      "source": [
        "dataset.head()"
      ],
      "id": "premier-catholic",
      "execution_count": 77,
      "outputs": [
        {
          "output_type": "execute_result",
          "data": {
            "text/html": [
              "<div>\n",
              "<style scoped>\n",
              "    .dataframe tbody tr th:only-of-type {\n",
              "        vertical-align: middle;\n",
              "    }\n",
              "\n",
              "    .dataframe tbody tr th {\n",
              "        vertical-align: top;\n",
              "    }\n",
              "\n",
              "    .dataframe thead th {\n",
              "        text-align: right;\n",
              "    }\n",
              "</style>\n",
              "<table border=\"1\" class=\"dataframe\">\n",
              "  <thead>\n",
              "    <tr style=\"text-align: right;\">\n",
              "      <th></th>\n",
              "      <th>Text</th>\n",
              "      <th>Sentiment</th>\n",
              "    </tr>\n",
              "  </thead>\n",
              "  <tbody>\n",
              "    <tr>\n",
              "      <th>0</th>\n",
              "      <td>Girlfight follows a project dwelling New York ...</td>\n",
              "      <td>POS</td>\n",
              "    </tr>\n",
              "    <tr>\n",
              "      <th>1</th>\n",
              "      <td>Hollywood North is an euphemism from the movie...</td>\n",
              "      <td>POS</td>\n",
              "    </tr>\n",
              "    <tr>\n",
              "      <th>2</th>\n",
              "      <td>That '70s Show is definitely the funniest show...</td>\n",
              "      <td>POS</td>\n",
              "    </tr>\n",
              "    <tr>\n",
              "      <th>3</th>\n",
              "      <td>9/10- 30 minutes of pure holiday terror. Okay,...</td>\n",
              "      <td>POS</td>\n",
              "    </tr>\n",
              "    <tr>\n",
              "      <th>4</th>\n",
              "      <td>A series of random, seemingly insignificant th...</td>\n",
              "      <td>POS</td>\n",
              "    </tr>\n",
              "  </tbody>\n",
              "</table>\n",
              "</div>"
            ],
            "text/plain": [
              "                                                Text Sentiment\n",
              "0  Girlfight follows a project dwelling New York ...       POS\n",
              "1  Hollywood North is an euphemism from the movie...       POS\n",
              "2  That '70s Show is definitely the funniest show...       POS\n",
              "3  9/10- 30 minutes of pure holiday terror. Okay,...       POS\n",
              "4  A series of random, seemingly insignificant th...       POS"
            ]
          },
          "metadata": {
            "tags": []
          },
          "execution_count": 77
        }
      ]
    },
    {
      "cell_type": "code",
      "metadata": {
        "id": "traditional-energy",
        "colab": {
          "base_uri": "https://localhost:8080/"
        },
        "outputId": "b7ac397d-e51d-42fa-8ebb-e459a10878d4"
      },
      "source": [
        "print(f'Rows: {dataset.shape[0]}\\nColumns: {dataset.shape[1]}')"
      ],
      "id": "traditional-energy",
      "execution_count": 78,
      "outputs": [
        {
          "output_type": "stream",
          "text": [
            "Rows: 1999\n",
            "Columns: 2\n"
          ],
          "name": "stdout"
        }
      ]
    },
    {
      "cell_type": "code",
      "metadata": {
        "id": "invisible-webcam",
        "colab": {
          "base_uri": "https://localhost:8080/"
        },
        "outputId": "9167b29c-d12f-4b23-f8f0-66038340a0b8"
      },
      "source": [
        "print(f'Columns Names: {list(dataset.columns)}')"
      ],
      "id": "invisible-webcam",
      "execution_count": 79,
      "outputs": [
        {
          "output_type": "stream",
          "text": [
            "Columns Names: ['Text', 'Sentiment']\n"
          ],
          "name": "stdout"
        }
      ]
    },
    {
      "cell_type": "markdown",
      "metadata": {
        "id": "uQJkNpR0h-aG"
      },
      "source": [
        "### **Tokenization of sentences**"
      ],
      "id": "uQJkNpR0h-aG"
    },
    {
      "cell_type": "code",
      "metadata": {
        "id": "promotional-newman"
      },
      "source": [
        "nlp = English()\n",
        "stopwords = list(STOP_WORDS)\n",
        "punctuations = string.punctuation"
      ],
      "id": "promotional-newman",
      "execution_count": 80,
      "outputs": []
    },
    {
      "cell_type": "code",
      "metadata": {
        "id": "found-drill"
      },
      "source": [
        "def tokenizer(sentence):\n",
        "    mytokens = nlp(sentence)\n",
        "    mytokens = [ word.lemma_.lower().strip() if word.lemma_ != \"-PRON-\" else word.lower_ for word in mytokens ]\n",
        "    mytokens = [ word for word in mytokens if word not in stopwords and word not in punctuations ]\n",
        "    return mytokens"
      ],
      "id": "found-drill",
      "execution_count": 81,
      "outputs": []
    },
    {
      "cell_type": "markdown",
      "metadata": {
        "id": "EeeNb5g7iKmW"
      },
      "source": [
        "### **Transform and vectorization**"
      ],
      "id": "EeeNb5g7iKmW"
    },
    {
      "cell_type": "code",
      "metadata": {
        "id": "younger-symbol"
      },
      "source": [
        "class predictors(TransformerMixin):\n",
        "    def transform(self, X, **transform_params):\n",
        "        return [clean_text(text) for text in X]\n",
        "    def fit(self, X, y, **fit_params):\n",
        "        return self\n",
        "    def get_params(self, deep=True):\n",
        "        return {}\n",
        "\n",
        "# Basic function to clean the text \n",
        "def clean_text(text):     \n",
        "    return text.strip().lower()"
      ],
      "id": "younger-symbol",
      "execution_count": 82,
      "outputs": []
    },
    {
      "cell_type": "code",
      "metadata": {
        "id": "center-circus"
      },
      "source": [
        "vectorizer = CountVectorizer(tokenizer = tokenizer, ngram_range=(1,1)) \n",
        "tfvectorizer = TfidfVectorizer(tokenizer = tokenizer)"
      ],
      "id": "center-circus",
      "execution_count": 83,
      "outputs": []
    },
    {
      "cell_type": "markdown",
      "metadata": {
        "id": "RiahZE9ViUV6"
      },
      "source": [
        "### **Dataset splitting**"
      ],
      "id": "RiahZE9ViUV6"
    },
    {
      "cell_type": "code",
      "metadata": {
        "id": "simplified-lawyer"
      },
      "source": [
        "X = dataset['Text']\n",
        "y = dataset['Sentiment']\n",
        "X_train, X_test, y_train, y_test = train_test_split(X, y, test_size=0.2, random_state=77)"
      ],
      "id": "simplified-lawyer",
      "execution_count": 84,
      "outputs": []
    },
    {
      "cell_type": "markdown",
      "metadata": {
        "id": "4tj1WG6PiYRh"
      },
      "source": [
        "## **Bernoulli Naïve Bayes (BNB)**"
      ],
      "id": "4tj1WG6PiYRh"
    },
    {
      "cell_type": "code",
      "metadata": {
        "id": "synthetic-million"
      },
      "source": [
        "from sklearn.naive_bayes import BernoulliNB"
      ],
      "id": "synthetic-million",
      "execution_count": 85,
      "outputs": []
    },
    {
      "cell_type": "code",
      "metadata": {
        "id": "zV40FLnBe8PE"
      },
      "source": [
        "classifier = BernoulliNB()\n",
        "BNBmodel = Pipeline([(\"cleaner\", predictors()), ('vectorizer', vectorizer), ('classifier', classifier)])\n",
        "\n",
        "BNBmodel.fit(X_train,y_train)\n",
        "BNBpred=BNBmodel.predict(X_test)"
      ],
      "id": "zV40FLnBe8PE",
      "execution_count": 86,
      "outputs": []
    },
    {
      "cell_type": "code",
      "metadata": {
        "colab": {
          "base_uri": "https://localhost:8080/"
        },
        "id": "d1NJgxqdfMRQ",
        "outputId": "87fe3012-e4df-4946-d7f0-35d4035ee124"
      },
      "source": [
        "print(f'Confusion Matrix:\\n{confusion_matrix(y_test,BNBpred)}')\n",
        "print(f'\\nClassification Report:\\n{classification_report(y_test,BNBpred)}')\n",
        "print(f'Accuracy: {accuracy_score(y_test,BNBpred)*100}%')\n",
        "pickle.dump(BNBmodel, open('BernoulliNB_model.sav', 'wb'))\n",
        "print('Bernoulli NB trained Model Saved')"
      ],
      "id": "d1NJgxqdfMRQ",
      "execution_count": 87,
      "outputs": [
        {
          "output_type": "stream",
          "text": [
            "Confusion Matrix:\n",
            "[[173  22]\n",
            " [ 32 173]]\n",
            "\n",
            "Classification Report:\n",
            "              precision    recall  f1-score   support\n",
            "\n",
            "         NEG       0.84      0.89      0.87       195\n",
            "         POS       0.89      0.84      0.87       205\n",
            "\n",
            "    accuracy                           0.86       400\n",
            "   macro avg       0.87      0.87      0.87       400\n",
            "weighted avg       0.87      0.86      0.86       400\n",
            "\n",
            "Accuracy: 86.5%\n",
            "Bernoulli NB trained Model Saved\n"
          ],
          "name": "stdout"
        }
      ]
    },
    {
      "cell_type": "code",
      "metadata": {
        "colab": {
          "base_uri": "https://localhost:8080/"
        },
        "id": "7lFMPW4-f4Ym",
        "outputId": "40b99f2f-0082-4caa-e3c6-88a62fe17413"
      },
      "source": [
        "# Another random review\n",
        "pre = BNBmodel.predict([\"Production has an incredibly important place to shoot a series or film. Sometimes even a very minimalist story can reach an incredibly successful point after the right production stages. The Witcher series is far from minimalist. The Witcher is one of the best Middle-earth works in the world. Production quality is essential if you want to handle such a topic successfully.\"])\n",
        "print(f'Prediction: {pre[0]}')"
      ],
      "id": "7lFMPW4-f4Ym",
      "execution_count": 88,
      "outputs": [
        {
          "output_type": "stream",
          "text": [
            "Prediction: POS\n"
          ],
          "name": "stdout"
        }
      ]
    },
    {
      "cell_type": "markdown",
      "metadata": {
        "id": "NAm2tmbri4nG"
      },
      "source": [
        "## **Multinomial Naïve Bayes (MNB)**"
      ],
      "id": "NAm2tmbri4nG"
    },
    {
      "cell_type": "code",
      "metadata": {
        "id": "9cFkxOFgi3qh"
      },
      "source": [
        "from sklearn.naive_bayes import MultinomialNB"
      ],
      "id": "9cFkxOFgi3qh",
      "execution_count": 89,
      "outputs": []
    },
    {
      "cell_type": "code",
      "metadata": {
        "id": "bGYHCtkke_aK"
      },
      "source": [
        "classifier = MultinomialNB()\n",
        "MNBmodel = Pipeline([(\"cleaner\", predictors()), ('vectorizer', vectorizer), ('classifier', classifier)])\n",
        "\n",
        "MNBmodel.fit(X_train,y_train)\n",
        "MNBpred=BNBmodel.predict(X_test)"
      ],
      "id": "bGYHCtkke_aK",
      "execution_count": 90,
      "outputs": []
    },
    {
      "cell_type": "code",
      "metadata": {
        "colab": {
          "base_uri": "https://localhost:8080/"
        },
        "id": "BczkrS1RfKeo",
        "outputId": "67b9e14b-d02f-4a70-aa67-9494deaf651b"
      },
      "source": [
        "print(f'Confusion Matrix:\\n{confusion_matrix(y_test,MNBpred)}')\n",
        "print(f'\\nClassification Report:\\n{classification_report(y_test,MNBpred)}')\n",
        "print(f'Accuracy: {accuracy_score(y_test,MNBpred)*100}%')\n",
        "pickle.dump(MNBmodel, open('MultinomialNB_model.sav', 'wb'))\n",
        "print('Multinomial NB trained Model Saved')"
      ],
      "id": "BczkrS1RfKeo",
      "execution_count": 91,
      "outputs": [
        {
          "output_type": "stream",
          "text": [
            "Confusion Matrix:\n",
            "[[173  22]\n",
            " [ 32 173]]\n",
            "\n",
            "Classification Report:\n",
            "              precision    recall  f1-score   support\n",
            "\n",
            "         NEG       0.84      0.89      0.87       195\n",
            "         POS       0.89      0.84      0.87       205\n",
            "\n",
            "    accuracy                           0.86       400\n",
            "   macro avg       0.87      0.87      0.87       400\n",
            "weighted avg       0.87      0.86      0.86       400\n",
            "\n",
            "Accuracy: 86.5%\n",
            "Multinomial NB trained Model Saved\n"
          ],
          "name": "stdout"
        }
      ]
    },
    {
      "cell_type": "code",
      "metadata": {
        "colab": {
          "base_uri": "https://localhost:8080/"
        },
        "id": "YmXefeuEf2ln",
        "outputId": "4470ba0f-4a60-4e44-80d6-2273fefb6b3f"
      },
      "source": [
        "# Another random review\n",
        "pre = MNBmodel.predict([\"Production has an incredibly important place to shoot a series or film. Sometimes even a very minimalist story can reach an incredibly successful point after the right production stages. The Witcher series is far from minimalist. The Witcher is one of the best Middle-earth works in the world. Production quality is essential if you want to handle such a topic successfully.\"])\n",
        "print(f'Prediction: {pre[0]}')"
      ],
      "id": "YmXefeuEf2ln",
      "execution_count": 92,
      "outputs": [
        {
          "output_type": "stream",
          "text": [
            "Prediction: POS\n"
          ],
          "name": "stdout"
        }
      ]
    },
    {
      "cell_type": "markdown",
      "metadata": {
        "id": "Rh3SQRqmi3gv"
      },
      "source": [
        "## **Maximum Entropy (ME)**"
      ],
      "id": "Rh3SQRqmi3gv"
    },
    {
      "cell_type": "code",
      "metadata": {
        "id": "4OEv22wVi3ZG"
      },
      "source": [
        "from sklearn.linear_model import LogisticRegression"
      ],
      "id": "4OEv22wVi3ZG",
      "execution_count": 93,
      "outputs": []
    },
    {
      "cell_type": "code",
      "metadata": {
        "id": "xjlxwtOLVf9b"
      },
      "source": [
        "classifier = LogisticRegression()\n",
        "LRmodel = Pipeline([(\"cleaner\", predictors()), ('vectorizer', vectorizer), ('classifier', classifier)])\n",
        "\n",
        "# Train the Model\n",
        "LRmodel.fit(X_train,y_train)   \n",
        "LRpred = LRmodel.predict(X_test)"
      ],
      "id": "xjlxwtOLVf9b",
      "execution_count": 94,
      "outputs": []
    },
    {
      "cell_type": "code",
      "metadata": {
        "colab": {
          "base_uri": "https://localhost:8080/"
        },
        "id": "OD1D2CkTfxgF",
        "outputId": "af5e08cd-9593-46c3-dc5b-fa814a01e15e"
      },
      "source": [
        "print(f'Confusion Matrix:\\n{confusion_matrix(y_test,LRpred)}')\n",
        "print(f'\\nClassification Report:\\n{classification_report(y_test,LRpred)}')\n",
        "print(f'Accuracy: {accuracy_score(y_test,LRpred)*100}%')\n",
        "pickle.dump(LRmodel, open('LinearRegression_model.sav', 'wb'))\n",
        "print('Logistic Regression trained Model Saved')"
      ],
      "id": "OD1D2CkTfxgF",
      "execution_count": 95,
      "outputs": [
        {
          "output_type": "stream",
          "text": [
            "Confusion Matrix:\n",
            "[[169  26]\n",
            " [ 34 171]]\n",
            "\n",
            "Classification Report:\n",
            "              precision    recall  f1-score   support\n",
            "\n",
            "         NEG       0.83      0.87      0.85       195\n",
            "         POS       0.87      0.83      0.85       205\n",
            "\n",
            "    accuracy                           0.85       400\n",
            "   macro avg       0.85      0.85      0.85       400\n",
            "weighted avg       0.85      0.85      0.85       400\n",
            "\n",
            "Accuracy: 85.0%\n",
            "Logistic Regression trained Model Saved\n"
          ],
          "name": "stdout"
        }
      ]
    },
    {
      "cell_type": "code",
      "metadata": {
        "id": "Ya905-WZVqzP",
        "colab": {
          "base_uri": "https://localhost:8080/"
        },
        "outputId": "2cfbe64a-6232-4c4f-8561-e0b4818cd690"
      },
      "source": [
        "# Another random review\n",
        "pre = LRmodel.predict([\"Production has an incredibly important place to shoot a series or film. Sometimes even a very minimalist story can reach an incredibly successful point after the right production stages. The Witcher series is far from minimalist. The Witcher is one of the best Middle-earth works in the world. Production quality is essential if you want to handle such a topic successfully.\"])\n",
        "print(f'Prediction: {pre[0]}')"
      ],
      "id": "Ya905-WZVqzP",
      "execution_count": 96,
      "outputs": [
        {
          "output_type": "stream",
          "text": [
            "Prediction: POS\n"
          ],
          "name": "stdout"
        }
      ]
    },
    {
      "cell_type": "markdown",
      "metadata": {
        "id": "oVE0aEdQi3Po"
      },
      "source": [
        "## **Decision Tree (DE)**"
      ],
      "id": "oVE0aEdQi3Po"
    },
    {
      "cell_type": "code",
      "metadata": {
        "id": "E86Cu-zRi3GJ"
      },
      "source": [
        "from sklearn.tree import DecisionTreeClassifier\n",
        "from sklearn.model_selection import cross_val_score"
      ],
      "id": "E86Cu-zRi3GJ",
      "execution_count": 97,
      "outputs": []
    },
    {
      "cell_type": "code",
      "metadata": {
        "id": "iiDzRvJlfXFl"
      },
      "source": [
        "dt_clf = DecisionTreeClassifier()\n",
        "dt_model = Pipeline([(\"cleaner\", predictors()), ('vectorizer', vectorizer), ('classifier', dt_clf)])\n",
        "\n",
        "# Train the Model\n",
        "dt_model.fit(X_train,y_train)   \n",
        "dt_pred = dt_model.predict(X_test)"
      ],
      "id": "iiDzRvJlfXFl",
      "execution_count": 98,
      "outputs": []
    },
    {
      "cell_type": "code",
      "metadata": {
        "colab": {
          "base_uri": "https://localhost:8080/"
        },
        "id": "DNn3mdMJfZBp",
        "outputId": "5ad4464b-3c2d-4e69-eb75-7d1b5ef4086b"
      },
      "source": [
        "print(f'Confusion Matrix:\\n{confusion_matrix(y_test,dt_pred)}')\n",
        "print(f'\\nClassification Report:\\n{classification_report(y_test,dt_pred)}')\n",
        "print(f'Accuracy: {accuracy_score(y_test,dt_pred)*100}%')\n",
        "pickle.dump(dt_model, open('DecisionTree_model.sav', 'wb'))\n",
        "print('Decision Tree trained Model Saved')"
      ],
      "id": "DNn3mdMJfZBp",
      "execution_count": 99,
      "outputs": [
        {
          "output_type": "stream",
          "text": [
            "Confusion Matrix:\n",
            "[[170  25]\n",
            " [ 41 164]]\n",
            "\n",
            "Classification Report:\n",
            "              precision    recall  f1-score   support\n",
            "\n",
            "         NEG       0.81      0.87      0.84       195\n",
            "         POS       0.87      0.80      0.83       205\n",
            "\n",
            "    accuracy                           0.83       400\n",
            "   macro avg       0.84      0.84      0.83       400\n",
            "weighted avg       0.84      0.83      0.83       400\n",
            "\n",
            "Accuracy: 83.5%\n",
            "Decision Tree trained Model Saved\n"
          ],
          "name": "stdout"
        }
      ]
    },
    {
      "cell_type": "code",
      "metadata": {
        "colab": {
          "base_uri": "https://localhost:8080/"
        },
        "id": "d_1l8RCpgATG",
        "outputId": "20407147-19bf-4f89-e678-b1f8ebe09db8"
      },
      "source": [
        "# Another random review\n",
        "pre = dt_model.predict([\"Production has an incredibly important place to shoot a series or film. Sometimes even a very minimalist story can reach an incredibly successful point after the right production stages. The Witcher series is far from minimalist. The Witcher is one of the best Middle-earth works in the world. Production quality is essential if you want to handle such a topic successfully.\"])\n",
        "print(f'Prediction: {pre[0]}')"
      ],
      "id": "d_1l8RCpgATG",
      "execution_count": 100,
      "outputs": [
        {
          "output_type": "stream",
          "text": [
            "Prediction: POS\n"
          ],
          "name": "stdout"
        }
      ]
    },
    {
      "cell_type": "markdown",
      "metadata": {
        "id": "agevMzqoi1-z"
      },
      "source": [
        "## **Support Vector Machine (SVM)**"
      ],
      "id": "agevMzqoi1-z"
    },
    {
      "cell_type": "code",
      "metadata": {
        "id": "_MrwiyeSjam8"
      },
      "source": [
        "from sklearn.svm import SVC\n",
        "from sklearn import svm\n",
        "from sklearn.metrics import classification_report\n",
        "# pipeline and standard scalar are already imported"
      ],
      "id": "_MrwiyeSjam8",
      "execution_count": 101,
      "outputs": []
    },
    {
      "cell_type": "code",
      "metadata": {
        "colab": {
          "base_uri": "https://localhost:8080/"
        },
        "id": "aQze4dQ8N56X",
        "outputId": "fe81b327-d2d5-4460-9fde-f90ad775acfb"
      },
      "source": [
        "%%time\n",
        "#Train the model\n",
        "# Perform classification with SVM, kernel=linear\n",
        "SVMclassifier = svm.SVC(kernel='linear')\n",
        "SVMmodel = Pipeline([(\"cleaner\", predictors()), ('vectorizer', vectorizer), ('classifier', SVMclassifier)])\n",
        "SVMmodel.fit(X_train,y_train)\n",
        "SVMpred = SVMmodel.predict(X_test)"
      ],
      "id": "aQze4dQ8N56X",
      "execution_count": 102,
      "outputs": [
        {
          "output_type": "stream",
          "text": [
            "CPU times: user 9.26 s, sys: 21.9 ms, total: 9.28 s\n",
            "Wall time: 9.33 s\n"
          ],
          "name": "stdout"
        }
      ]
    },
    {
      "cell_type": "code",
      "metadata": {
        "colab": {
          "base_uri": "https://localhost:8080/"
        },
        "id": "nyxoA7OeWhMj",
        "outputId": "aa4cec76-7cca-4188-a3f9-48a16a99a173"
      },
      "source": [
        "# report= classification_report(y_test, SVMpred, output_dict=True) \n",
        "# print(report['NEG'])\n",
        "# print(report['POS'])\n",
        "# print(SVMpred)\n",
        "# np.unique(SVMpred)\n",
        "print(f'Confusion Matrix:\\n{confusion_matrix(y_test,SVMpred)}')\n",
        "print(f'\\nClassification Report:\\n{classification_report(y_test,SVMpred)}')\n",
        "print(f'Accuracy: {accuracy_score(y_test,SVMpred)*100}%')\n",
        "pickle.dump(SVMmodel, open('MultinomialNB_model.sav', 'wb'))\n",
        "print('SVM trained Model Saved')"
      ],
      "id": "nyxoA7OeWhMj",
      "execution_count": 103,
      "outputs": [
        {
          "output_type": "stream",
          "text": [
            "Confusion Matrix:\n",
            "[[168  27]\n",
            " [ 33 172]]\n",
            "\n",
            "Classification Report:\n",
            "              precision    recall  f1-score   support\n",
            "\n",
            "         NEG       0.84      0.86      0.85       195\n",
            "         POS       0.86      0.84      0.85       205\n",
            "\n",
            "    accuracy                           0.85       400\n",
            "   macro avg       0.85      0.85      0.85       400\n",
            "weighted avg       0.85      0.85      0.85       400\n",
            "\n",
            "Accuracy: 85.0%\n",
            "SVM trained Model Saved\n"
          ],
          "name": "stdout"
        }
      ]
    },
    {
      "cell_type": "code",
      "metadata": {
        "colab": {
          "base_uri": "https://localhost:8080/"
        },
        "id": "ajrsNyRtgFCG",
        "outputId": "69e64122-359a-4b5b-b441-cf57efd7a93f"
      },
      "source": [
        "# Another random review\n",
        "pre = SVMmodel.predict([\"Production has an incredibly important place to shoot a series or film. Sometimes even a very minimalist story can reach an incredibly successful point after the right production stages. The Witcher series is far from minimalist. The Witcher is one of the best Middle-earth works in the world. Production quality is essential if you want to handle such a topic successfully.\"])\n",
        "print(f'Prediction: {pre[0]}')"
      ],
      "id": "ajrsNyRtgFCG",
      "execution_count": 104,
      "outputs": [
        {
          "output_type": "stream",
          "text": [
            "Prediction: POS\n"
          ],
          "name": "stdout"
        }
      ]
    },
    {
      "cell_type": "markdown",
      "metadata": {
        "id": "NJFI6I2Mi0PF"
      },
      "source": [
        "## **Results comparision plots and tables**"
      ],
      "id": "NJFI6I2Mi0PF"
    },
    {
      "cell_type": "code",
      "metadata": {
        "id": "bgHqE_JGjliG"
      },
      "source": [
        ""
      ],
      "id": "bgHqE_JGjliG",
      "execution_count": 104,
      "outputs": []
    }
  ]
}