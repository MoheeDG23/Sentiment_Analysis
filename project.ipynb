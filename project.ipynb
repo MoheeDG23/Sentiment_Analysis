{
  "nbformat": 4,
  "nbformat_minor": 5,
  "metadata": {
    "colab": {
      "name": "project.ipynb",
      "provenance": [],
      "collapsed_sections": [],
      "toc_visible": true
    },
    "kernelspec": {
      "display_name": "Python 3",
      "language": "python",
      "name": "python3"
    },
    "language_info": {
      "codemirror_mode": {
        "name": "ipython",
        "version": 3
      },
      "file_extension": ".py",
      "mimetype": "text/x-python",
      "name": "python",
      "nbconvert_exporter": "python",
      "pygments_lexer": "ipython3",
      "version": "3.9.2"
    }
  },
  "cells": [
    {
      "cell_type": "markdown",
      "metadata": {
        "id": "saved-battlefield"
      },
      "source": [
        "## **Libraries to be installed beforehand**"
      ],
      "id": "saved-battlefield"
    },
    {
      "cell_type": "code",
      "metadata": {
        "id": "beneficial-dublin"
      },
      "source": [
        "# !pip3 install openpyxl\n",
        "# !pip3 install xlrd"
      ],
      "id": "beneficial-dublin",
      "execution_count": 10,
      "outputs": []
    },
    {
      "cell_type": "code",
      "metadata": {
        "id": "fifteen-mexican"
      },
      "source": [
        "\n",
        "import numpy as np\n",
        "import pandas as pd\n",
        "import matplotlib.pyplot as plt\n",
        "import spacy\n",
        "import string\n",
        "import pickle\n",
        "import xlrd\n",
        "\n",
        "from spacy.lang.en.stop_words import STOP_WORDS\n",
        "from spacy.lang.en import English\n",
        "\n",
        "from sklearn.feature_extraction.text import CountVectorizer,TfidfVectorizer\n",
        "from sklearn.metrics import accuracy_score, confusion_matrix, classification_report\n",
        "from sklearn.base import TransformerMixin \n",
        "from sklearn.pipeline import Pipeline\n",
        "from sklearn.model_selection import train_test_split\n",
        "from sklearn.preprocessing import StandardScaler\n",
        "\n",
        "# from sklearn.svm import LinearSVC\n",
        "# from sklearn.ensemble import RandomForestClassifier\n"
      ],
      "id": "fifteen-mexican",
      "execution_count": 11,
      "outputs": []
    },
    {
      "cell_type": "markdown",
      "metadata": {
        "id": "finite-regard"
      },
      "source": [
        "## **Reading dataset using openpyxl engine since xlrd is now discontinued**"
      ],
      "id": "finite-regard"
    },
    {
      "cell_type": "code",
      "metadata": {
        "id": "determined-livestock"
      },
      "source": [
        "dataset = pd.read_excel('dataset.xlsx', engine='openpyxl')\n",
        "# dataset = pd.read_excel('dataset.xlsx')"
      ],
      "id": "determined-livestock",
      "execution_count": 12,
      "outputs": []
    },
    {
      "cell_type": "code",
      "metadata": {
        "colab": {
          "base_uri": "https://localhost:8080/",
          "height": 206
        },
        "id": "special-terminal",
        "outputId": "8ea795be-a122-4037-d0db-c211ad50bb13"
      },
      "source": [
        "dataset.head()"
      ],
      "id": "special-terminal",
      "execution_count": 13,
      "outputs": [
        {
          "output_type": "execute_result",
          "data": {
            "text/html": [
              "<div>\n",
              "<style scoped>\n",
              "    .dataframe tbody tr th:only-of-type {\n",
              "        vertical-align: middle;\n",
              "    }\n",
              "\n",
              "    .dataframe tbody tr th {\n",
              "        vertical-align: top;\n",
              "    }\n",
              "\n",
              "    .dataframe thead th {\n",
              "        text-align: right;\n",
              "    }\n",
              "</style>\n",
              "<table border=\"1\" class=\"dataframe\">\n",
              "  <thead>\n",
              "    <tr style=\"text-align: right;\">\n",
              "      <th></th>\n",
              "      <th>URL</th>\n",
              "      <th>Text</th>\n",
              "      <th>Sentiment</th>\n",
              "    </tr>\n",
              "  </thead>\n",
              "  <tbody>\n",
              "    <tr>\n",
              "      <th>0</th>\n",
              "      <td>http://www.imdb.com/title/tt0210075/usercomments</td>\n",
              "      <td>Girlfight follows a project dwelling New York ...</td>\n",
              "      <td>POS</td>\n",
              "    </tr>\n",
              "    <tr>\n",
              "      <th>1</th>\n",
              "      <td>http://www.imdb.com/title/tt0337640/usercomments</td>\n",
              "      <td>Hollywood North is an euphemism from the movie...</td>\n",
              "      <td>POS</td>\n",
              "    </tr>\n",
              "    <tr>\n",
              "      <th>2</th>\n",
              "      <td>http://www.imdb.com/title/tt0303549/usercomments</td>\n",
              "      <td>That '70s Show is definitely the funniest show...</td>\n",
              "      <td>POS</td>\n",
              "    </tr>\n",
              "    <tr>\n",
              "      <th>3</th>\n",
              "      <td>http://www.imdb.com/title/tt0716825/usercomments</td>\n",
              "      <td>9/10- 30 minutes of pure holiday terror. Okay,...</td>\n",
              "      <td>POS</td>\n",
              "    </tr>\n",
              "    <tr>\n",
              "      <th>4</th>\n",
              "      <td>http://www.imdb.com/title/tt0182225/usercomments</td>\n",
              "      <td>A series of random, seemingly insignificant th...</td>\n",
              "      <td>POS</td>\n",
              "    </tr>\n",
              "  </tbody>\n",
              "</table>\n",
              "</div>"
            ],
            "text/plain": [
              "                                                URL  ... Sentiment\n",
              "0  http://www.imdb.com/title/tt0210075/usercomments  ...       POS\n",
              "1  http://www.imdb.com/title/tt0337640/usercomments  ...       POS\n",
              "2  http://www.imdb.com/title/tt0303549/usercomments  ...       POS\n",
              "3  http://www.imdb.com/title/tt0716825/usercomments  ...       POS\n",
              "4  http://www.imdb.com/title/tt0182225/usercomments  ...       POS\n",
              "\n",
              "[5 rows x 3 columns]"
            ]
          },
          "metadata": {
            "tags": []
          },
          "execution_count": 13
        }
      ]
    },
    {
      "cell_type": "markdown",
      "metadata": {
        "id": "aggregate-channel"
      },
      "source": [
        "**Cleaning and analysing dataset and its sturcture**"
      ],
      "id": "aggregate-channel"
    },
    {
      "cell_type": "code",
      "metadata": {
        "colab": {
          "base_uri": "https://localhost:8080/"
        },
        "id": "opponent-convenience",
        "outputId": "a5ad402f-1c21-46f4-914f-b6a981ce73d1"
      },
      "source": [
        "dataset.isnull().sum()"
      ],
      "id": "opponent-convenience",
      "execution_count": 14,
      "outputs": [
        {
          "output_type": "execute_result",
          "data": {
            "text/plain": [
              "URL          0\n",
              "Text         0\n",
              "Sentiment    0\n",
              "dtype: int64"
            ]
          },
          "metadata": {
            "tags": []
          },
          "execution_count": 14
        }
      ]
    },
    {
      "cell_type": "code",
      "metadata": {
        "id": "organic-vinyl"
      },
      "source": [
        "dataset.drop('URL', axis='columns', inplace=True)"
      ],
      "id": "organic-vinyl",
      "execution_count": 15,
      "outputs": []
    },
    {
      "cell_type": "code",
      "metadata": {
        "colab": {
          "base_uri": "https://localhost:8080/",
          "height": 206
        },
        "id": "criminal-guess",
        "outputId": "210432ce-3984-4044-f2fd-b6a3515b2198"
      },
      "source": [
        "dataset.head()"
      ],
      "id": "criminal-guess",
      "execution_count": 16,
      "outputs": [
        {
          "output_type": "execute_result",
          "data": {
            "text/html": [
              "<div>\n",
              "<style scoped>\n",
              "    .dataframe tbody tr th:only-of-type {\n",
              "        vertical-align: middle;\n",
              "    }\n",
              "\n",
              "    .dataframe tbody tr th {\n",
              "        vertical-align: top;\n",
              "    }\n",
              "\n",
              "    .dataframe thead th {\n",
              "        text-align: right;\n",
              "    }\n",
              "</style>\n",
              "<table border=\"1\" class=\"dataframe\">\n",
              "  <thead>\n",
              "    <tr style=\"text-align: right;\">\n",
              "      <th></th>\n",
              "      <th>Text</th>\n",
              "      <th>Sentiment</th>\n",
              "    </tr>\n",
              "  </thead>\n",
              "  <tbody>\n",
              "    <tr>\n",
              "      <th>0</th>\n",
              "      <td>Girlfight follows a project dwelling New York ...</td>\n",
              "      <td>POS</td>\n",
              "    </tr>\n",
              "    <tr>\n",
              "      <th>1</th>\n",
              "      <td>Hollywood North is an euphemism from the movie...</td>\n",
              "      <td>POS</td>\n",
              "    </tr>\n",
              "    <tr>\n",
              "      <th>2</th>\n",
              "      <td>That '70s Show is definitely the funniest show...</td>\n",
              "      <td>POS</td>\n",
              "    </tr>\n",
              "    <tr>\n",
              "      <th>3</th>\n",
              "      <td>9/10- 30 minutes of pure holiday terror. Okay,...</td>\n",
              "      <td>POS</td>\n",
              "    </tr>\n",
              "    <tr>\n",
              "      <th>4</th>\n",
              "      <td>A series of random, seemingly insignificant th...</td>\n",
              "      <td>POS</td>\n",
              "    </tr>\n",
              "  </tbody>\n",
              "</table>\n",
              "</div>"
            ],
            "text/plain": [
              "                                                Text Sentiment\n",
              "0  Girlfight follows a project dwelling New York ...       POS\n",
              "1  Hollywood North is an euphemism from the movie...       POS\n",
              "2  That '70s Show is definitely the funniest show...       POS\n",
              "3  9/10- 30 minutes of pure holiday terror. Okay,...       POS\n",
              "4  A series of random, seemingly insignificant th...       POS"
            ]
          },
          "metadata": {
            "tags": []
          },
          "execution_count": 16
        }
      ]
    },
    {
      "cell_type": "code",
      "metadata": {
        "colab": {
          "base_uri": "https://localhost:8080/"
        },
        "id": "transsexual-developer",
        "outputId": "a3fb75d1-2c44-4cbc-ad20-81dc791abca1"
      },
      "source": [
        "print(f'Rows: {dataset.shape[0]}\\nColumns: {dataset.shape[1]}')"
      ],
      "id": "transsexual-developer",
      "execution_count": 17,
      "outputs": [
        {
          "output_type": "stream",
          "text": [
            "Rows: 1999\n",
            "Columns: 2\n"
          ],
          "name": "stdout"
        }
      ]
    },
    {
      "cell_type": "code",
      "metadata": {
        "colab": {
          "base_uri": "https://localhost:8080/"
        },
        "id": "incorrect-domain",
        "outputId": "0a096e42-79a8-415b-934c-2c873fec1799"
      },
      "source": [
        "print(f'Columns Names: {list(dataset.columns)}')"
      ],
      "id": "incorrect-domain",
      "execution_count": 18,
      "outputs": [
        {
          "output_type": "stream",
          "text": [
            "Columns Names: ['Text', 'Sentiment']\n"
          ],
          "name": "stdout"
        }
      ]
    },
    {
      "cell_type": "markdown",
      "metadata": {
        "id": "acoustic-pharmacology"
      },
      "source": [
        "### **Tokenization of sentences**"
      ],
      "id": "acoustic-pharmacology"
    },
    {
      "cell_type": "code",
      "metadata": {
        "id": "informative-covering"
      },
      "source": [
        "nlp = English()\n",
        "stopwords = list(STOP_WORDS)\n",
        "punctuations = string.punctuation"
      ],
      "id": "informative-covering",
      "execution_count": 19,
      "outputs": []
    },
    {
      "cell_type": "code",
      "metadata": {
        "id": "intended-construction"
      },
      "source": [
        "def tokenizer(sentence):\n",
        "    mytokens = nlp(sentence)\n",
        "    mytokens = [ word.lemma_.lower().strip() if word.lemma_ != \"-PRON-\" else word.lower_ for word in mytokens ]\n",
        "    mytokens = [ word for word in mytokens if word not in stopwords and word not in punctuations ]\n",
        "    return mytokens"
      ],
      "id": "intended-construction",
      "execution_count": 20,
      "outputs": []
    },
    {
      "cell_type": "markdown",
      "metadata": {
        "id": "northern-straight"
      },
      "source": [
        "### **Transform and vectorization**"
      ],
      "id": "northern-straight"
    },
    {
      "cell_type": "code",
      "metadata": {
        "id": "familiar-orange"
      },
      "source": [
        "class predictors(TransformerMixin):\n",
        "    def transform(self, X, **transform_params):\n",
        "        return [clean_text(text) for text in X]\n",
        "    def fit(self, X, y, **fit_params):\n",
        "        return self\n",
        "    def get_params(self, deep=True):\n",
        "        return {}\n",
        "\n",
        "# Basic function to clean the text \n",
        "def clean_text(text):     \n",
        "    return text.strip().lower()"
      ],
      "id": "familiar-orange",
      "execution_count": 21,
      "outputs": []
    },
    {
      "cell_type": "code",
      "metadata": {
        "id": "current-rwanda"
      },
      "source": [
        "vectorizer = CountVectorizer(tokenizer = tokenizer, ngram_range=(1,1)) \n",
        "tfvectorizer = TfidfVectorizer(tokenizer = tokenizer)"
      ],
      "id": "current-rwanda",
      "execution_count": 22,
      "outputs": []
    },
    {
      "cell_type": "markdown",
      "metadata": {
        "id": "atlantic-complexity"
      },
      "source": [
        "### **Dataset splitting**"
      ],
      "id": "atlantic-complexity"
    },
    {
      "cell_type": "code",
      "metadata": {
        "id": "underlying-holly"
      },
      "source": [
        "X = dataset['Text']\n",
        "y = dataset['Sentiment']\n",
        "X_train, X_test, y_train, y_test = train_test_split(X, y, test_size=0.2, random_state=77)"
      ],
      "id": "underlying-holly",
      "execution_count": 23,
      "outputs": []
    },
    {
      "cell_type": "markdown",
      "metadata": {
        "id": "special-purpose"
      },
      "source": [
        "## **Bernoulli Naïve Bayes (BNB)**"
      ],
      "id": "special-purpose"
    },
    {
      "cell_type": "code",
      "metadata": {
        "id": "above-niger"
      },
      "source": [
        "from sklearn.naive_bayes import BernoulliNB\n"
      ],
      "id": "above-niger",
      "execution_count": 24,
      "outputs": []
    },
    {
      "cell_type": "code",
      "metadata": {
        "colab": {
          "base_uri": "https://localhost:8080/"
        },
        "id": "VMPbwsHOS0-8",
        "outputId": "d60ba430-dc39-4548-c97b-023e00799797"
      },
      "source": [
        "classifier = BernoulliNB()\n",
        "BNBmodel = Pipeline([(\"cleaner\", predictors()), ('vectorizer', vectorizer), ('classifier', classifier)])\n",
        "\n",
        "BNBmodel.fit(X_train,y_train)\n",
        "BNBpred=BNBmodel.predict(X_test)\n",
        "print(f'Confusion Matrix:\\n{confusion_matrix(y_test,BNBpred)}')\n",
        "print(f'\\nClassification Report:\\n{classification_report(y_test,BNBpred)}')\n",
        "print(f'Accuracy: {accuracy_score(y_test,BNBpred)*100}%')\n",
        "pickle.dump(BNBmodel, open('BernoulliNB_model.sav', 'wb'))\n",
        "print('Bernoulli NB trained Model Saved')"
      ],
      "id": "VMPbwsHOS0-8",
      "execution_count": 26,
      "outputs": [
        {
          "output_type": "stream",
          "text": [
            "Confusion Matrix:\n",
            "[[173  22]\n",
            " [ 32 173]]\n",
            "\n",
            "Classification Report:\n",
            "              precision    recall  f1-score   support\n",
            "\n",
            "         NEG       0.84      0.89      0.87       195\n",
            "         POS       0.89      0.84      0.87       205\n",
            "\n",
            "    accuracy                           0.86       400\n",
            "   macro avg       0.87      0.87      0.87       400\n",
            "weighted avg       0.87      0.86      0.86       400\n",
            "\n",
            "Accuracy: 86.5%\n",
            "Bernoulli NB trained Model Saved\n"
          ],
          "name": "stdout"
        }
      ]
    },
    {
      "cell_type": "markdown",
      "metadata": {
        "id": "stylish-observer"
      },
      "source": [
        "## **Multinomial Naïve Bayes (MNB)**"
      ],
      "id": "stylish-observer"
    },
    {
      "cell_type": "code",
      "metadata": {
        "id": "rubber-galaxy"
      },
      "source": [
        "from sklearn.naive_bayes import MultinomialNB\n",
        "\n"
      ],
      "id": "rubber-galaxy",
      "execution_count": 27,
      "outputs": []
    },
    {
      "cell_type": "code",
      "metadata": {
        "colab": {
          "base_uri": "https://localhost:8080/"
        },
        "id": "FcGl7yu3TquB",
        "outputId": "dd2c20b8-1206-4048-a80f-b04f49644f60"
      },
      "source": [
        "classifier = MultinomialNB()\n",
        "MNBmodel = Pipeline([(\"cleaner\", predictors()), ('vectorizer', vectorizer), ('classifier', classifier)])\n",
        "\n",
        "MNBmodel.fit(X_train,y_train)\n",
        "MNBpred=BNBmodel.predict(X_test)\n",
        "print(f'Confusion Matrix:\\n{confusion_matrix(y_test,MNBpred)}')\n",
        "print(f'\\nClassification Report:\\n{classification_report(y_test,MNBpred)}')\n",
        "print(f'Accuracy: {accuracy_score(y_test,MNBpred)*100}%')\n",
        "pickle.dump(MNBmodel, open('MultinomialNB_model.sav', 'wb'))\n",
        "print('Multinomial NB trained Model Saved')"
      ],
      "id": "FcGl7yu3TquB",
      "execution_count": 28,
      "outputs": [
        {
          "output_type": "stream",
          "text": [
            "Confusion Matrix:\n",
            "[[173  22]\n",
            " [ 32 173]]\n",
            "\n",
            "Classification Report:\n",
            "              precision    recall  f1-score   support\n",
            "\n",
            "         NEG       0.84      0.89      0.87       195\n",
            "         POS       0.89      0.84      0.87       205\n",
            "\n",
            "    accuracy                           0.86       400\n",
            "   macro avg       0.87      0.87      0.87       400\n",
            "weighted avg       0.87      0.86      0.86       400\n",
            "\n",
            "Accuracy: 86.5%\n",
            "Multinomial NB trained Model Saved\n"
          ],
          "name": "stdout"
        }
      ]
    },
    {
      "cell_type": "markdown",
      "metadata": {
        "id": "fantastic-electron"
      },
      "source": [
        "## **Maximum Entropy (ME)**"
      ],
      "id": "fantastic-electron"
    },
    {
      "cell_type": "code",
      "metadata": {
        "id": "exceptional-cylinder"
      },
      "source": [
        "from sklearn.linear_model import LogisticRegression\n"
      ],
      "id": "exceptional-cylinder",
      "execution_count": 29,
      "outputs": []
    },
    {
      "cell_type": "code",
      "metadata": {
        "colab": {
          "base_uri": "https://localhost:8080/"
        },
        "id": "victorian-caution",
        "outputId": "1003b973-2ab5-4d21-bf7d-4e1a9fa0cfa9"
      },
      "source": [
        "classifier = LogisticRegression()\n",
        "LRmodel = Pipeline([(\"cleaner\", predictors()), ('vectorizer', vectorizer), ('classifier', classifier)])\n",
        "\n",
        "# Train the Model\n",
        "LRmodel.fit(X_train,y_train)   \n",
        "LRpred = LRmodel.predict(X_test)\n",
        "print(f'Confusion Matrix:\\n{confusion_matrix(y_test,LRpred)}')\n",
        "print(f'\\nClassification Report:\\n{classification_report(y_test,LRpred)}')\n",
        "print(f'Accuracy: {accuracy_score(y_test,LRpred)*100}%')\n",
        "pickle.dump(LRmodel, open('LinearRegression_model.sav', 'wb'))\n",
        "print('Logistic Regression trained Model Saved')"
      ],
      "id": "victorian-caution",
      "execution_count": 30,
      "outputs": [
        {
          "output_type": "stream",
          "text": [
            "Confusion Matrix:\n",
            "[[169  26]\n",
            " [ 34 171]]\n",
            "\n",
            "Classification Report:\n",
            "              precision    recall  f1-score   support\n",
            "\n",
            "         NEG       0.83      0.87      0.85       195\n",
            "         POS       0.87      0.83      0.85       205\n",
            "\n",
            "    accuracy                           0.85       400\n",
            "   macro avg       0.85      0.85      0.85       400\n",
            "weighted avg       0.85      0.85      0.85       400\n",
            "\n",
            "Accuracy: 85.0%\n",
            "Logistic Regression trained Model Saved\n"
          ],
          "name": "stdout"
        }
      ]
    },
    {
      "cell_type": "code",
      "metadata": {
        "colab": {
          "base_uri": "https://localhost:8080/"
        },
        "id": "organic-things",
        "outputId": "7950f617-858c-4825-c2f6-3b2acf8c8dd9"
      },
      "source": [
        "# Another random review\n",
        "pre = LRmodel.predict([\"Production has an incredibly important place to shoot a series or film. Sometimes even a very minimalist story can reach an incredibly successful point after the right production stages. The Witcher series is far from minimalist. The Witcher is one of the best Middle-earth works in the world. Production quality is essential if you want to handle such a topic successfully.\"])\n",
        "print(f'Prediction: {pre[0]}')"
      ],
      "id": "organic-things",
      "execution_count": 31,
      "outputs": [
        {
          "output_type": "stream",
          "text": [
            "Prediction: POS\n"
          ],
          "name": "stdout"
        }
      ]
    },
    {
      "cell_type": "markdown",
      "metadata": {
        "id": "artificial-destiny"
      },
      "source": [
        "## **Decision Tree (DE)**"
      ],
      "id": "artificial-destiny"
    },
    {
      "cell_type": "code",
      "metadata": {
        "id": "greater-values"
      },
      "source": [
        "from sklearn.tree import DecisionTreeClassifier\n",
        "from sklearn.model_selection import cross_val_score"
      ],
      "id": "greater-values",
      "execution_count": 32,
      "outputs": []
    },
    {
      "cell_type": "code",
      "metadata": {
        "id": "uzOBzCpFcaIG"
      },
      "source": [
        "dt_clf = DecisionTreeClassifier()\n",
        "dt_model = Pipeline([(\"cleaner\", predictors()), ('vectorizer', vectorizer), ('classifier', dt_clf)])\n",
        "\n",
        "# Train the Model\n",
        "dt_model.fit(X_train,y_train)   \n",
        "dt_pred = dt_model.predict(X_test)"
      ],
      "id": "uzOBzCpFcaIG",
      "execution_count": 33,
      "outputs": []
    },
    {
      "cell_type": "code",
      "metadata": {
        "colab": {
          "base_uri": "https://localhost:8080/"
        },
        "id": "6XCwrtVgcqrb",
        "outputId": "c8a0d1a4-da61-40f2-b5e3-6b0450b5d149"
      },
      "source": [
        "print(f'Confusion Matrix:\\n{confusion_matrix(y_test,dt_pred)}')\n",
        "print(f'\\nClassification Report:\\n{classification_report(y_test,dt_pred)}')\n",
        "print(f'Accuracy: {accuracy_score(y_test,dt_pred)*100}%')\n",
        "pickle.dump(dt_model, open('DecisionTree_model.sav', 'wb'))\n",
        "print('Decision Tree trained Model Saved')"
      ],
      "id": "6XCwrtVgcqrb",
      "execution_count": 34,
      "outputs": [
        {
          "output_type": "stream",
          "text": [
            "Confusion Matrix:\n",
            "[[167  28]\n",
            " [ 34 171]]\n",
            "\n",
            "Classification Report:\n",
            "              precision    recall  f1-score   support\n",
            "\n",
            "         NEG       0.83      0.86      0.84       195\n",
            "         POS       0.86      0.83      0.85       205\n",
            "\n",
            "    accuracy                           0.84       400\n",
            "   macro avg       0.85      0.85      0.84       400\n",
            "weighted avg       0.85      0.84      0.85       400\n",
            "\n",
            "Accuracy: 84.5%\n",
            "Decision Tree trained Model Saved\n"
          ],
          "name": "stdout"
        }
      ]
    },
    {
      "cell_type": "markdown",
      "metadata": {
        "id": "caroline-cedar"
      },
      "source": [
        "## **Support Vector Machine (SVM)**"
      ],
      "id": "caroline-cedar"
    },
    {
      "cell_type": "code",
      "metadata": {
        "id": "fixed-utilization"
      },
      "source": [
        "from sklearn.svm import SVC\n",
        "# pipeline and standard scalar are already imported"
      ],
      "id": "fixed-utilization",
      "execution_count": null,
      "outputs": []
    },
    {
      "cell_type": "code",
      "metadata": {
        "id": "silent-barrier"
      },
      "source": [
        ""
      ],
      "id": "silent-barrier",
      "execution_count": null,
      "outputs": []
    },
    {
      "cell_type": "code",
      "metadata": {
        "id": "pretty-warren"
      },
      "source": [
        ""
      ],
      "id": "pretty-warren",
      "execution_count": null,
      "outputs": []
    },
    {
      "cell_type": "markdown",
      "metadata": {
        "id": "after-vaccine"
      },
      "source": [
        "## **Results comparision plots and tables**"
      ],
      "id": "after-vaccine"
    },
    {
      "cell_type": "code",
      "metadata": {
        "id": "corrected-importance"
      },
      "source": [
        ""
      ],
      "id": "corrected-importance",
      "execution_count": null,
      "outputs": []
    }
  ]
}