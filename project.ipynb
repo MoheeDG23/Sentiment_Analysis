{
  "nbformat": 4,
  "nbformat_minor": 5,
  "metadata": {
    "colab": {
      "name": "project.ipynb",
      "provenance": [],
      "collapsed_sections": []
    },
    "kernelspec": {
      "display_name": "Python 3",
      "language": "python",
      "name": "python3"
    },
    "language_info": {
      "codemirror_mode": {
        "name": "ipython",
        "version": 3
      },
      "file_extension": ".py",
      "mimetype": "text/x-python",
      "name": "python",
      "nbconvert_exporter": "python",
      "pygments_lexer": "ipython3",
      "version": "3.8.5"
    }
  },
  "cells": [
    {
      "cell_type": "markdown",
      "metadata": {
        "id": "50UsDjkThQDM"
      },
      "source": [
        "## **Libraries to be installed beforehand**"
      ],
      "id": "50UsDjkThQDM"
    },
    {
      "cell_type": "code",
      "metadata": {
        "id": "requested-relations"
      },
      "source": [
        "# pip install openpyxl\n",
        "# pip3 install xlrd"
      ],
      "id": "requested-relations",
      "execution_count": 4,
      "outputs": []
    },
    {
      "cell_type": "code",
      "metadata": {
        "id": "horizontal-footwear"
      },
      "source": [
        "\n",
        "import numpy as np\n",
        "import pandas as pd\n",
        "import matplotlib.pyplot as plt\n",
        "import spacy\n",
        "import string\n",
        "import pickle\n",
        "import xlrd\n",
        "\n",
        "from spacy.lang.en.stop_words import STOP_WORDS\n",
        "from spacy.lang.en import English\n",
        "\n",
        "from sklearn.feature_extraction.text import CountVectorizer,TfidfVectorizer\n",
        "from sklearn.metrics import accuracy_score, confusion_matrix, classification_report\n",
        "from sklearn.base import TransformerMixin \n",
        "from sklearn.pipeline import Pipeline\n",
        "from sklearn.model_selection import train_test_split\n",
        "from sklearn.preprocessing import StandardScaler\n",
        "\n",
        "# from sklearn.svm import LinearSVC\n",
        "# from sklearn.ensemble import RandomForestClassifier\n"
      ],
      "id": "horizontal-footwear",
      "execution_count": 5,
      "outputs": []
    },
    {
      "cell_type": "markdown",
      "metadata": {
        "id": "kCmkZ9MShZSv"
      },
      "source": [
        "## **Reading dataset using openpyxl engine since xlrd is now discontinued**"
      ],
      "id": "kCmkZ9MShZSv"
    },
    {
      "cell_type": "code",
      "metadata": {
        "id": "wrong-result"
      },
      "source": [
        "dataset = pd.read_excel('dataset.xlsx', engine='openpyxl')\n",
        "# dataset = pd.read_excel('dataset.xlsx')"
      ],
      "id": "wrong-result",
      "execution_count": 6,
      "outputs": []
    },
    {
      "cell_type": "code",
      "metadata": {
        "id": "concerned-entertainment",
        "colab": {
          "base_uri": "https://localhost:8080/",
          "height": 197
        },
        "outputId": "e022c3e3-427b-4997-f8de-e6af931bd5fb"
      },
      "source": [
        "dataset.head()"
      ],
      "id": "concerned-entertainment",
      "execution_count": 7,
      "outputs": [
        {
          "output_type": "execute_result",
          "data": {
            "text/html": [
              "<div>\n",
              "<style scoped>\n",
              "    .dataframe tbody tr th:only-of-type {\n",
              "        vertical-align: middle;\n",
              "    }\n",
              "\n",
              "    .dataframe tbody tr th {\n",
              "        vertical-align: top;\n",
              "    }\n",
              "\n",
              "    .dataframe thead th {\n",
              "        text-align: right;\n",
              "    }\n",
              "</style>\n",
              "<table border=\"1\" class=\"dataframe\">\n",
              "  <thead>\n",
              "    <tr style=\"text-align: right;\">\n",
              "      <th></th>\n",
              "      <th>URL</th>\n",
              "      <th>Text</th>\n",
              "      <th>Sentiment</th>\n",
              "    </tr>\n",
              "  </thead>\n",
              "  <tbody>\n",
              "    <tr>\n",
              "      <th>0</th>\n",
              "      <td>http://www.imdb.com/title/tt0210075/usercomments</td>\n",
              "      <td>Girlfight follows a project dwelling New York ...</td>\n",
              "      <td>POS</td>\n",
              "    </tr>\n",
              "    <tr>\n",
              "      <th>1</th>\n",
              "      <td>http://www.imdb.com/title/tt0337640/usercomments</td>\n",
              "      <td>Hollywood North is an euphemism from the movie...</td>\n",
              "      <td>POS</td>\n",
              "    </tr>\n",
              "    <tr>\n",
              "      <th>2</th>\n",
              "      <td>http://www.imdb.com/title/tt0303549/usercomments</td>\n",
              "      <td>That '70s Show is definitely the funniest show...</td>\n",
              "      <td>POS</td>\n",
              "    </tr>\n",
              "    <tr>\n",
              "      <th>3</th>\n",
              "      <td>http://www.imdb.com/title/tt0716825/usercomments</td>\n",
              "      <td>9/10- 30 minutes of pure holiday terror. Okay,...</td>\n",
              "      <td>POS</td>\n",
              "    </tr>\n",
              "    <tr>\n",
              "      <th>4</th>\n",
              "      <td>http://www.imdb.com/title/tt0182225/usercomments</td>\n",
              "      <td>A series of random, seemingly insignificant th...</td>\n",
              "      <td>POS</td>\n",
              "    </tr>\n",
              "  </tbody>\n",
              "</table>\n",
              "</div>"
            ],
            "text/plain": [
              "                                                URL  ... Sentiment\n",
              "0  http://www.imdb.com/title/tt0210075/usercomments  ...       POS\n",
              "1  http://www.imdb.com/title/tt0337640/usercomments  ...       POS\n",
              "2  http://www.imdb.com/title/tt0303549/usercomments  ...       POS\n",
              "3  http://www.imdb.com/title/tt0716825/usercomments  ...       POS\n",
              "4  http://www.imdb.com/title/tt0182225/usercomments  ...       POS\n",
              "\n",
              "[5 rows x 3 columns]"
            ]
          },
          "metadata": {
            "tags": []
          },
          "execution_count": 7
        }
      ]
    },
    {
      "cell_type": "markdown",
      "metadata": {
        "id": "b5J4v7EKh2cX"
      },
      "source": [
        "**Cleaning and analysing dataset and its sturcture**"
      ],
      "id": "b5J4v7EKh2cX"
    },
    {
      "cell_type": "code",
      "metadata": {
        "id": "difficult-firmware",
        "colab": {
          "base_uri": "https://localhost:8080/"
        },
        "outputId": "7a19ed05-7bfc-4b89-d171-fbc3f09256a9"
      },
      "source": [
        "dataset.isnull().sum()"
      ],
      "id": "difficult-firmware",
      "execution_count": 8,
      "outputs": [
        {
          "output_type": "execute_result",
          "data": {
            "text/plain": [
              "URL          0\n",
              "Text         0\n",
              "Sentiment    0\n",
              "dtype: int64"
            ]
          },
          "metadata": {
            "tags": []
          },
          "execution_count": 8
        }
      ]
    },
    {
      "cell_type": "code",
      "metadata": {
        "id": "wrapped-matthew"
      },
      "source": [
        "dataset.drop('URL', axis='columns', inplace=True)"
      ],
      "id": "wrapped-matthew",
      "execution_count": 9,
      "outputs": []
    },
    {
      "cell_type": "code",
      "metadata": {
        "id": "premier-catholic",
        "colab": {
          "base_uri": "https://localhost:8080/",
          "height": 197
        },
        "outputId": "11b58f73-a7cd-41c6-eadd-a1f81675e4f2"
      },
      "source": [
        "dataset.head()"
      ],
      "id": "premier-catholic",
      "execution_count": 10,
      "outputs": [
        {
          "output_type": "execute_result",
          "data": {
            "text/html": [
              "<div>\n",
              "<style scoped>\n",
              "    .dataframe tbody tr th:only-of-type {\n",
              "        vertical-align: middle;\n",
              "    }\n",
              "\n",
              "    .dataframe tbody tr th {\n",
              "        vertical-align: top;\n",
              "    }\n",
              "\n",
              "    .dataframe thead th {\n",
              "        text-align: right;\n",
              "    }\n",
              "</style>\n",
              "<table border=\"1\" class=\"dataframe\">\n",
              "  <thead>\n",
              "    <tr style=\"text-align: right;\">\n",
              "      <th></th>\n",
              "      <th>Text</th>\n",
              "      <th>Sentiment</th>\n",
              "    </tr>\n",
              "  </thead>\n",
              "  <tbody>\n",
              "    <tr>\n",
              "      <th>0</th>\n",
              "      <td>Girlfight follows a project dwelling New York ...</td>\n",
              "      <td>POS</td>\n",
              "    </tr>\n",
              "    <tr>\n",
              "      <th>1</th>\n",
              "      <td>Hollywood North is an euphemism from the movie...</td>\n",
              "      <td>POS</td>\n",
              "    </tr>\n",
              "    <tr>\n",
              "      <th>2</th>\n",
              "      <td>That '70s Show is definitely the funniest show...</td>\n",
              "      <td>POS</td>\n",
              "    </tr>\n",
              "    <tr>\n",
              "      <th>3</th>\n",
              "      <td>9/10- 30 minutes of pure holiday terror. Okay,...</td>\n",
              "      <td>POS</td>\n",
              "    </tr>\n",
              "    <tr>\n",
              "      <th>4</th>\n",
              "      <td>A series of random, seemingly insignificant th...</td>\n",
              "      <td>POS</td>\n",
              "    </tr>\n",
              "  </tbody>\n",
              "</table>\n",
              "</div>"
            ],
            "text/plain": [
              "                                                Text Sentiment\n",
              "0  Girlfight follows a project dwelling New York ...       POS\n",
              "1  Hollywood North is an euphemism from the movie...       POS\n",
              "2  That '70s Show is definitely the funniest show...       POS\n",
              "3  9/10- 30 minutes of pure holiday terror. Okay,...       POS\n",
              "4  A series of random, seemingly insignificant th...       POS"
            ]
          },
          "metadata": {
            "tags": []
          },
          "execution_count": 10
        }
      ]
    },
    {
      "cell_type": "code",
      "metadata": {
        "id": "traditional-energy",
        "colab": {
          "base_uri": "https://localhost:8080/"
        },
        "outputId": "18542f75-1e72-4f58-b942-4e57c54a1a11"
      },
      "source": [
        "print(f'Rows: {dataset.shape[0]}\\nColumns: {dataset.shape[1]}')"
      ],
      "id": "traditional-energy",
      "execution_count": 11,
      "outputs": [
        {
          "output_type": "stream",
          "text": [
            "Rows: 1999\n",
            "Columns: 2\n"
          ],
          "name": "stdout"
        }
      ]
    },
    {
      "cell_type": "code",
      "metadata": {
        "id": "invisible-webcam",
        "colab": {
          "base_uri": "https://localhost:8080/"
        },
        "outputId": "7e2d27c0-89ef-4e45-bd99-c05b3842a0ca"
      },
      "source": [
        "print(f'Columns Names: {list(dataset.columns)}')"
      ],
      "id": "invisible-webcam",
      "execution_count": 12,
      "outputs": [
        {
          "output_type": "stream",
          "text": [
            "Columns Names: ['Text', 'Sentiment']\n"
          ],
          "name": "stdout"
        }
      ]
    },
    {
      "cell_type": "markdown",
      "metadata": {
        "id": "uQJkNpR0h-aG"
      },
      "source": [
        "### **Tokenization of sentences**"
      ],
      "id": "uQJkNpR0h-aG"
    },
    {
      "cell_type": "code",
      "metadata": {
        "id": "promotional-newman"
      },
      "source": [
        "nlp = English()\n",
        "stopwords = list(STOP_WORDS)\n",
        "punctuations = string.punctuation"
      ],
      "id": "promotional-newman",
      "execution_count": 13,
      "outputs": []
    },
    {
      "cell_type": "code",
      "metadata": {
        "id": "found-drill"
      },
      "source": [
        "def tokenizer(sentence):\n",
        "    mytokens = nlp(sentence)\n",
        "    mytokens = [ word.lemma_.lower().strip() if word.lemma_ != \"-PRON-\" else word.lower_ for word in mytokens ]\n",
        "    mytokens = [ word for word in mytokens if word not in stopwords and word not in punctuations ]\n",
        "    return mytokens"
      ],
      "id": "found-drill",
      "execution_count": 14,
      "outputs": []
    },
    {
      "cell_type": "markdown",
      "metadata": {
        "id": "EeeNb5g7iKmW"
      },
      "source": [
        "### **Transform and vectorization**"
      ],
      "id": "EeeNb5g7iKmW"
    },
    {
      "cell_type": "code",
      "metadata": {
        "id": "younger-symbol"
      },
      "source": [
        "class predictors(TransformerMixin):\n",
        "    def transform(self, X, **transform_params):\n",
        "        return [clean_text(text) for text in X]\n",
        "    def fit(self, X, y, **fit_params):\n",
        "        return self\n",
        "    def get_params(self, deep=True):\n",
        "        return {}\n",
        "\n",
        "# Basic function to clean the text \n",
        "def clean_text(text):     \n",
        "    return text.strip().lower()"
      ],
      "id": "younger-symbol",
      "execution_count": 15,
      "outputs": []
    },
    {
      "cell_type": "code",
      "metadata": {
        "id": "center-circus"
      },
      "source": [
        "vectorizer = CountVectorizer(tokenizer = tokenizer, ngram_range=(1,1)) \n",
        "tfvectorizer = TfidfVectorizer(tokenizer = tokenizer)"
      ],
      "id": "center-circus",
      "execution_count": 16,
      "outputs": []
    },
    {
      "cell_type": "markdown",
      "metadata": {
        "id": "RiahZE9ViUV6"
      },
      "source": [
        "### **Dataset splitting**"
      ],
      "id": "RiahZE9ViUV6"
    },
    {
      "cell_type": "code",
      "metadata": {
        "id": "simplified-lawyer"
      },
      "source": [
        "X = dataset['Text']\n",
        "y = dataset['Sentiment']\n",
        "X_train, X_test, y_train, y_test = train_test_split(X, y, test_size=0.2, random_state=77)"
      ],
      "id": "simplified-lawyer",
      "execution_count": 17,
      "outputs": []
    },
    {
      "cell_type": "markdown",
      "metadata": {
        "id": "4tj1WG6PiYRh"
      },
      "source": [
        "## **Bernoulli Naïve Bayes (BNB)**"
      ],
      "id": "4tj1WG6PiYRh"
    },
    {
      "cell_type": "code",
      "metadata": {
        "id": "synthetic-million"
      },
      "source": [
        "from sklearn.naive_bayes import BernoulliNB"
      ],
      "id": "synthetic-million",
      "execution_count": 18,
      "outputs": []
    },
    {
      "cell_type": "markdown",
      "metadata": {
        "id": "NAm2tmbri4nG"
      },
      "source": [
        "## **Multinomial Naïve Bayes (MNB)**"
      ],
      "id": "NAm2tmbri4nG"
    },
    {
      "cell_type": "code",
      "metadata": {
        "id": "9cFkxOFgi3qh"
      },
      "source": [
        "from sklearn.naive_bayes import MultinomialNB"
      ],
      "id": "9cFkxOFgi3qh",
      "execution_count": 19,
      "outputs": []
    },
    {
      "cell_type": "markdown",
      "metadata": {
        "id": "Rh3SQRqmi3gv"
      },
      "source": [
        "## **Maximum Entropy (ME)**"
      ],
      "id": "Rh3SQRqmi3gv"
    },
    {
      "cell_type": "code",
      "metadata": {
        "id": "4OEv22wVi3ZG"
      },
      "source": [
        "from sklearn.linear_model import LogisticRegression\n"
      ],
      "id": "4OEv22wVi3ZG",
      "execution_count": 20,
      "outputs": []
    },
    {
      "cell_type": "code",
      "metadata": {
        "id": "xjlxwtOLVf9b",
        "colab": {
          "base_uri": "https://localhost:8080/"
        },
        "outputId": "16fdeaaa-5cbe-4e46-96a3-2600f4ba7ef0"
      },
      "source": [
        "classifier = LogisticRegression()\n",
        "LRmodel = Pipeline([(\"cleaner\", predictors()), ('vectorizer', vectorizer), ('classifier', classifier)])\n",
        "\n",
        "# Train the Model\n",
        "LRmodel.fit(X_train,y_train)   \n",
        "LRpred = LRmodel.predict(X_test)\n",
        "print(f'Confusion Matrix:\\n{confusion_matrix(y_test,LRpred)}')\n",
        "print(f'\\nClassification Report:\\n{classification_report(y_test,LRpred)}')\n",
        "print(f'Accuracy: {accuracy_score(y_test,LRpred)*100}%')\n",
        "pickle.dump(LRmodel, open('LinearRegression_model.sav', 'wb'))\n",
        "print('Logistic Regression trained Model Saved')"
      ],
      "id": "xjlxwtOLVf9b",
      "execution_count": 24,
      "outputs": [
        {
          "output_type": "stream",
          "text": [
            "Confusion Matrix:\n",
            "[[169  26]\n",
            " [ 34 171]]\n",
            "\n",
            "Classification Report:\n",
            "              precision    recall  f1-score   support\n",
            "\n",
            "         NEG       0.83      0.87      0.85       195\n",
            "         POS       0.87      0.83      0.85       205\n",
            "\n",
            "    accuracy                           0.85       400\n",
            "   macro avg       0.85      0.85      0.85       400\n",
            "weighted avg       0.85      0.85      0.85       400\n",
            "\n",
            "Accuracy: 85.0%\n",
            "Logistic Regression trained Model Saved\n"
          ],
          "name": "stdout"
        }
      ]
    },
    {
      "cell_type": "code",
      "metadata": {
        "id": "Ya905-WZVqzP",
        "colab": {
          "base_uri": "https://localhost:8080/"
        },
        "outputId": "20523ae5-be22-41a0-e9f5-52cf3e0d8976"
      },
      "source": [
        "# Another random review\n",
        "pre = LRmodel.predict([\"Production has an incredibly important place to shoot a series or film. Sometimes even a very minimalist story can reach an incredibly successful point after the right production stages. The Witcher series is far from minimalist. The Witcher is one of the best Middle-earth works in the world. Production quality is essential if you want to handle such a topic successfully.\"])\n",
        "print(f'Prediction: {pre[0]}')"
      ],
      "id": "Ya905-WZVqzP",
      "execution_count": 25,
      "outputs": [
        {
          "output_type": "stream",
          "text": [
            "Prediction: POS\n"
          ],
          "name": "stdout"
        }
      ]
    },
    {
      "cell_type": "markdown",
      "metadata": {
        "id": "oVE0aEdQi3Po"
      },
      "source": [
        "## **Decision Tree (DE)**"
      ],
      "id": "oVE0aEdQi3Po"
    },
    {
      "cell_type": "code",
      "metadata": {
        "id": "E86Cu-zRi3GJ"
      },
      "source": [
        "from sklearn.tree import DecisionTreeClassifier\n",
        "from sklearn.model_selection import cross_val_score"
      ],
      "id": "E86Cu-zRi3GJ",
      "execution_count": 21,
      "outputs": []
    },
    {
      "cell_type": "markdown",
      "metadata": {
        "id": "agevMzqoi1-z"
      },
      "source": [
        "## **Support Vector Machine (SVM)**"
      ],
      "id": "agevMzqoi1-z"
    },
    {
      "cell_type": "code",
      "metadata": {
        "id": "_MrwiyeSjam8"
      },
      "source": [
        "from sklearn.svm import SVC\n",
        "# pipeline and standard scalar are already imported"
      ],
      "id": "_MrwiyeSjam8",
      "execution_count": 22,
      "outputs": []
    },
    {
      "cell_type": "code",
      "metadata": {
        "id": "BFMV1fPtN6MD"
      },
      "source": [
        ""
      ],
      "id": "BFMV1fPtN6MD",
      "execution_count": null,
      "outputs": []
    },
    {
      "cell_type": "code",
      "metadata": {
        "id": "aQze4dQ8N56X"
      },
      "source": [
        ""
      ],
      "id": "aQze4dQ8N56X",
      "execution_count": null,
      "outputs": []
    },
    {
      "cell_type": "markdown",
      "metadata": {
        "id": "NJFI6I2Mi0PF"
      },
      "source": [
        "## **Results comparision plots and tables**"
      ],
      "id": "NJFI6I2Mi0PF"
    },
    {
      "cell_type": "code",
      "metadata": {
        "id": "bgHqE_JGjliG"
      },
      "source": [
        ""
      ],
      "id": "bgHqE_JGjliG",
      "execution_count": 22,
      "outputs": []
    }
  ]
}